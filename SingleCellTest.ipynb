{
 "cells": [
  {
   "cell_type": "code",
   "execution_count": null,
   "id": "caae1395-bb34-46e7-b75e-62d5e6a3be07",
   "metadata": {},
   "outputs": [],
   "source": [
    "import numpy as np\n",
    "from neuron import h\n",
    "import os\n",
    "import matplotlib.pyplot as plt\n",
    "import pandas as pd\n",
    "from scipy.optimize import curve_fit\n",
    "from scipy.signal import find_peaks"
   ]
  },
  {
   "cell_type": "code",
   "execution_count": null,
   "id": "9e9f2524-f345-47f5-a267-dac9c79937d3",
   "metadata": {},
   "outputs": [],
   "source": [
    "h.load_file('stdrun.hoc')\n",
    "#h.nrn_load_dll(os.path.join(\"biophys_components\",\"mechanisms\",\"modfiles\",\"nrnmech.dll\"))\n",
    "h.nrn_load_dll(os.path.join(\"biophys_components\",\"mechanisms\",\"modfiles\",\"x86_64\",\".libs\",\"libnrnmech.so\"))"
   ]
  },
  {
   "cell_type": "code",
   "execution_count": null,
   "id": "7978f97e-b71f-428d-8545-45b1392c29c1",
   "metadata": {},
   "outputs": [],
   "source": [
    "fileList = os.listdir(\"biophys_components/templates\")\n",
    "fileList.remove('.DS_Store')\n",
    "fileList"
   ]
  },
  {
   "cell_type": "code",
   "execution_count": null,
   "id": "a18bd840-a3e0-4178-84ac-800b36603c77",
   "metadata": {},
   "outputs": [],
   "source": [
    "\n",
    "#for each file, load it into the hoc interpreter so it can be accessed\n",
    "for item in fileList:\n",
    "    h.load_file(os.path.join(\"biophys_components/templates/\",item))"
   ]
  },
  {
   "cell_type": "code",
   "execution_count": null,
   "id": "a9836d99-0a53-4ce2-ae46-e8d7d8a2c1d7",
   "metadata": {},
   "outputs": [],
   "source": [
    "#make a list of all the cells being called, i.e., h.axoaxoniccell()\n",
    "callNames = [\"h.\" + fileList[i].split('_')[1].split('.')[0] + \"()\" for i in range(len(fileList))]\n"
   ]
  },
  {
   "cell_type": "code",
   "execution_count": null,
   "id": "ddac02a7-9043-4256-8978-7ab737c3a8ef",
   "metadata": {},
   "outputs": [],
   "source": [
    "callNames.sort()"
   ]
  },
  {
   "cell_type": "code",
   "execution_count": null,
   "id": "9e11421b-c2c0-411d-a563-0d31fcd88651",
   "metadata": {},
   "outputs": [],
   "source": [
    "callNames"
   ]
  },
  {
   "cell_type": "code",
   "execution_count": null,
   "id": "c93b962c-8b2e-4243-820a-334b53dfcff0",
   "metadata": {},
   "outputs": [],
   "source": [
    "#have to do this first, or you won't\n",
    "for i in range(len(callNames)):\n",
    "    myCell = eval(callNames[i])\n",
    "    for sec in h.allsec(myCell):\n",
    "        print(sec)"
   ]
  },
  {
   "cell_type": "code",
   "execution_count": null,
   "id": "832bc594-e5be-484a-a960-08adc4af7f57",
   "metadata": {},
   "outputs": [],
   "source": [
    "#Injection values are taken from table 4 for the 4 middle ones,aac and pyr are from appendix 1 table 2\n",
    "#make sure it is the same order as the callNames"
   ]
  },
  {
   "cell_type": "code",
   "execution_count": null,
   "id": "39dcc751-8085-4295-aed6-698dd393d40c",
   "metadata": {},
   "outputs": [],
   "source": [
    "InjList = [np.arange(-200,500,50),#aac\n",
    " #np.arange(-100,80,20),#cck\n",
    " #np.arange(-100,190,20),#ngf\n",
    " np.arange(-100,250,30),#olm\n",
    " np.arange(-300,500,50),#pv\n",
    " np.arange(-400,550,50)]#pyr"
   ]
  },
  {
   "cell_type": "code",
   "execution_count": null,
   "id": "c78accfc-8a90-4f91-895a-1a4911159f5c",
   "metadata": {},
   "outputs": [],
   "source": [
    "allTrials = []\n",
    "for i in range(len(callNames)):\n",
    "    myCell = eval(callNames[i])#make the cell\n",
    "    Ia = InjList[i] /1000# nA ->pA# the current sweep for this particular cell\n",
    "    allVs = []\n",
    "    for j in range(len(Ia)):#test it at each current injection and save        \n",
    "        iclamp = h.IClamp(myCell.soma[0](0.5))\n",
    "        iclamp.delay = 150\n",
    "        iclamp.dur = 1000\n",
    "        iclamp.amp = Ia[j]\n",
    "        v = h.Vector().record(myCell.soma[0](0.5)._ref_v)\n",
    "        h.dt=0.2\n",
    "        h.finitialize(-65)\n",
    "        h.continuerun(1500)\n",
    "        V = np.array(v)\n",
    "        allVs.append(V)\n",
    "    allTrials.append([allVs])#list of lists; each sublist has the current sweeps for the given cell"
   ]
  },
  {
   "cell_type": "code",
   "execution_count": null,
   "id": "ac4640ef-d94e-4a8a-89a2-78d460166810",
   "metadata": {},
   "outputs": [],
   "source": [
    "res = np.concatenate(allTrials,axis=1)[0].T#how I plotted it the first time.\n",
    "time = np.arange(0,res.shape[0]*h.dt/1000,h.dt/1000)#time in seconds"
   ]
  },
  {
   "cell_type": "code",
   "execution_count": null,
   "id": "767aeb8d-0b7b-4e86-b5bd-879141ea8de6",
   "metadata": {},
   "outputs": [],
   "source": [
    "fig,axs = plt.subplots(2,2,figsize=(15,8))\n",
    "plt.subplots_adjust(hspace=0.5)\n",
    "\n",
    "start,k = 0,0\n",
    "for i in range(2):\n",
    "    for j in range(2):\n",
    "        axs[i][j].plot(time[:5850],res[:5850,start:start+len(InjList[k])])\n",
    "        axs[i][j].set_title(callNames[k].split('.')[1].split('()')[0])\n",
    "        axs[i][j].set_xlabel('Time (s)')\n",
    "        axs[i][j].set_ylabel('Potential (mV)')\n",
    "        start += len(InjList[k])\n",
    "        \n",
    "        k+=1\n",
    "#plt.savefig('current sweeps.png',dpi=500)"
   ]
  },
  {
   "cell_type": "code",
   "execution_count": null,
   "id": "948a9330-bf5b-4141-8433-13eab284d9ff",
   "metadata": {},
   "outputs": [],
   "source": [
    "#convention: the first current clamp is the lowest"
   ]
  },
  {
   "cell_type": "code",
   "execution_count": null,
   "id": "3b7ce2b9-abdd-4f0a-9f4e-c45f0e669836",
   "metadata": {},
   "outputs": [],
   "source": [
    "def restCalc(array,injL):#vrest\n",
    "    if 0 not in injL:\n",
    "        return  np.mean(array[int(iclamp.delay - 10):int(iclamp.delay-5),0])\n",
    "    else:\n",
    "        return  np.mean(array[:,np.where(injL ==0)[0]])\n",
    "    "
   ]
  },
  {
   "cell_type": "code",
   "execution_count": null,
   "id": "3bdc50a2-b152-4cc2-a88c-60f1fe478181",
   "metadata": {},
   "outputs": [],
   "source": [
    "def rinCalc(array,injL):\n",
    "    lhc = injL[np.where(injL<0)[0][-1]]#least hyperpolarized current, as per description following app1 table1\n",
    "    Vinf  = np.mean(array[int(iclamp.delay + iclamp.dur - 100):int(iclamp.dur+iclamp.delay - 50),np.where(injL<0)[0][-1]])\n",
    "    Vrest = restCalc(array,injL)\n",
    "    Rin = (Vinf - Vrest) / (lhc/1000)#mv/pA ->Mohms\n",
    "    return Rin\n",
    "    "
   ]
  },
  {
   "cell_type": "code",
   "execution_count": null,
   "id": "7afc28e6-009a-4525-bdf2-ac2c8a8586da",
   "metadata": {},
   "outputs": [],
   "source": [
    "def curve(t,A,taum):\n",
    "    return -65-A + A*np.e**((-t)/taum)"
   ]
  },
  {
   "cell_type": "code",
   "execution_count": null,
   "id": "ba51bb3f-98fc-43f5-8d69-1b097e209228",
   "metadata": {},
   "outputs": [],
   "source": [
    "def findLDS(array):#find the least depolarized current which still gives spiking\n",
    "    injIndex = None\n",
    "    for i in range(0,array.shape[1]):\n",
    "        peaks = find_peaks(array[int(iclamp.delay/h.dt):int(iclamp.delay/h.dt + iclamp.dur/h.dt),i],threshold = -20,prominence=10)[0]\n",
    "        if(len(peaks) > 3):\n",
    "            injIndex = i\n",
    "            break\n",
    "    return injIndex"
   ]
  },
  {
   "cell_type": "code",
   "execution_count": null,
   "id": "9cfdf4ea-c9ef-4131-8628-a032b9e60492",
   "metadata": {},
   "outputs": [],
   "source": [
    "def calcThresholds(array,injIndex):\n",
    "    threshes = []\n",
    "    for i in range(3):\n",
    "        testArray = array[int(iclamp.delay/h.dt):int(iclamp.delay/h.dt + iclamp.dur/h.dt),injIndex].reshape(-1,1)\n",
    "        peaks = find_peaks(testArray[:,0],threshold = -20,prominence=10)[0]\n",
    "        avgISI = np.mean(np.diff(peaks))\n",
    "        window = [int((peaks[i]) -avgISI/2),int((peaks[i] ) + avgISI/2 )]#isolate each peak\n",
    "        testArray = testArray[window[0]:window[1],0].reshape(-1,1)\n",
    "        \n",
    "        if len(np.diff(testArray[:,0] > 28) ==0):#if the peak does not increase enough, find the first index at which the voltage is > 2 stdeviations from the mean\n",
    "            IDX = np.where(np.diff(testArray[:,0]) > np.mean(np.diff(testArray[:,0])) + 2 * np.std(np.diff(testArray[:,0])))[0][0] \n",
    "        else:\n",
    "            IDX = np.where(np.diff(testArray[:,0])> 28)[0][0]\n",
    "        threshes.append(testArray[IDX,0])\n",
    "    return threshes,peaks"
   ]
  },
  {
   "cell_type": "code",
   "execution_count": null,
   "id": "ec54e255-1a7b-439c-aea3-1f26865607a1",
   "metadata": {},
   "outputs": [],
   "source": [
    "def taumCalc(func,array,injL):#time array, followed by subarray\n",
    "    window = [int(iclamp.delay/0.2),np.where(injL<0)[0][-1]]\n",
    "    subArray = array[window[0]:int(iclamp.delay/0.2 + iclamp.dur/0.2 - 50),window[1]]\n",
    "    t = np.arange(0,len(subArray))\n",
    "    popt, _ = curve_fit(func,t,subArray)\n",
    "    return popt[1]"
   ]
  },
  {
   "cell_type": "code",
   "execution_count": null,
   "id": "89005a62-6b1d-4883-bc86-6289f3b45a01",
   "metadata": {},
   "outputs": [],
   "source": [
    "def taumCalc2(func,array,injL):\n",
    "    window = [int(iclamp.delay/0.2),np.where(injL<0)[0][-1]]\n",
    "    subArray = array[window[0]:int(iclamp.delay/0.2 + iclamp.dur/0.2 - 50),window[1]]\n",
    "    t = np.arange(0,len(subArray))\n",
    "    initVal = np.abs(subArray[0])\n",
    "    finalVal = np.abs(subArray[len(subArray)-1])\n",
    "    dist = finalVal - initVal\n",
    "    taum = t[np.where(np.abs(subArray) > finalVal - 1/np.e *dist)[0][0]]*0.2\n",
    "    return taum"
   ]
  },
  {
   "cell_type": "code",
   "execution_count": null,
   "id": "918e94b1-72ca-4d86-a067-87a663cf249d",
   "metadata": {},
   "outputs": [],
   "source": [
    "def sagAmpCalc(array,injL):\n",
    "    #most hyperpolarized current injection level recording\n",
    "    rec = array[:,0].reshape(-1,1)\n",
    "    # steady state @ end of injection - max hyperpolarized potential\n",
    "    ss = np.mean(rec[int(iclamp.delay/0.2 + iclamp.dur/0.2 - 50):int(iclamp.delay/0.2 + iclamp.dur/0.2),0] )\n",
    "    mhc = np.min(rec)\n",
    "    return ss - mhc"
   ]
  },
  {
   "cell_type": "code",
   "execution_count": null,
   "id": "38e0ae73-a04f-4cc9-99ce-ee2ded0aeb1a",
   "metadata": {},
   "outputs": [],
   "source": [
    "def tauSCalc(t,A,taus):\n",
    "    return A * (1- np.e*(-t/taus))**4\n"
   ]
  },
  {
   "cell_type": "code",
   "execution_count": null,
   "id": "22fdf813-76ab-43ea-89b5-a1dc5bc3e202",
   "metadata": {},
   "outputs": [],
   "source": [
    "def sagTauCalc(array,injL):\n",
    "    minVal = array[np.where(array == np.min(array))[0][0]][0]\n",
    "    ssVal = np.mean(array[int(iclamp.dur/h.dt + iclamp.delay/h.dt - 50)])\n",
    "    return (minVal - ssVal )/ injL[0]"
   ]
  },
  {
   "cell_type": "code",
   "execution_count": null,
   "id": "76c9f36a-fcbd-4d79-8d85-b0d4f61ee784",
   "metadata": {},
   "outputs": [],
   "source": [
    "def rheobaseCalc(array,injL):\n",
    "    for i in range(0,array.shape[1]):\n",
    "        if(len(find_peaks(array[int(iclamp.delay/h.dt):int(iclamp.delay/h.dt + iclamp.dur/h.dt),i],threshold = -20,prominence=50)[0]) > 1):\n",
    "            return injL[i]\n",
    "            "
   ]
  },
  {
   "cell_type": "code",
   "execution_count": null,
   "id": "923587eb-0d14-4660-a1d2-476db050aeb9",
   "metadata": {},
   "outputs": [],
   "source": [
    "def ISICalc(array,injL):\n",
    "    meanISI = 0\n",
    "    for i in range(0,array.shape[1]):\n",
    "        peaks = find_peaks(array[int(iclamp.delay/h.dt):int(iclamp.delay/h.dt + iclamp.dur/h.dt),i],threshold = -20,prominence=50)[0]\n",
    "        if(len(peaks) > 3):\n",
    "            for i in range(len(peaks)-1):\n",
    "                meanISI += peaks[i+1] - peaks[i]\n",
    "            return meanISI/len(peaks) * h.dt\n",
    "            "
   ]
  },
  {
   "cell_type": "code",
   "execution_count": null,
   "id": "b1f3847d-30fc-419c-af43-0684e2126d4a",
   "metadata": {},
   "outputs": [],
   "source": [
    "def thresholdCalc(array,injL):\n",
    "    injIndex = findLDS(array)\n",
    "    \n",
    "    threshes,peaks = calcThresholds(array,injIndex)\n",
    "\n",
    "    return np.mean(threshes)\n",
    "    "
   ]
  },
  {
   "cell_type": "code",
   "execution_count": null,
   "id": "87346e84-4749-458b-b198-2a38a338c32a",
   "metadata": {},
   "outputs": [],
   "source": [
    "def spikeAmpCalc(array,injL):\n",
    "    injIndex = findLDS(array)\n",
    "    threshdiffs = []\n",
    "    for i in range(3):\n",
    "        testArray = array[int(iclamp.delay/h.dt):int(iclamp.delay/h.dt + iclamp.dur/h.dt),injIndex].reshape(-1,1)\n",
    "        peaks = find_peaks(testArray[:,0],threshold = -20,prominence=10)[0]\n",
    "        avgISI = np.mean(np.diff(peaks))\n",
    "        window = [int((peaks[i]) -avgISI/2),int((peaks[i] ) + avgISI/2 )]\n",
    "        testArray = testArray[window[0]:window[1],0].reshape(-1,1)\n",
    "        peaks = find_peaks(testArray[:,0],threshold = -20,prominence=10)[0]\n",
    "        if len(np.diff(testArray[:,0] > 28) ==0):\n",
    "            IDX = np.where(np.diff(testArray[:,0]) > np.mean(np.diff(testArray[:,0])) + 2 * np.std(np.diff(testArray[:,0])))[0][0] \n",
    "        else:\n",
    "            IDX = np.where(np.diff(testArray[:,0])> 28)[0][0]\n",
    "        threshdiffs.append(testArray[peaks[0],0] - testArray[IDX,0])\n",
    "    return np.mean(threshdiffs)"
   ]
  },
  {
   "cell_type": "markdown",
   "id": "d46470de-17e9-4876-9945-9103f1edf71d",
   "metadata": {},
   "source": [
    "Units of mV, also referred to simply as ‘AHP’ in the Appendix, the difference between the membrane potential  \n",
    "at the most hyperpolarized potential following the action potential and the membrane potential at the threshold  \n",
    "of the action potential, averaged for the first three spikes of the least depolarized current injection where the cell spiked regularly."
   ]
  },
  {
   "cell_type": "code",
   "execution_count": null,
   "id": "6fce571c-a6ef-467f-b1e9-92640ef4b96c",
   "metadata": {},
   "outputs": [],
   "source": [
    "def ahpAmpCalc(array,injL):\n",
    "    #find the least depolarized current injection with spiking\n",
    "    injIndex = findLDS(array)\n",
    "    threshes,peaks = calcThresholds(array,injIndex)\n",
    "    avgISI = np.mean(np.diff(peaks))\n",
    "    testArray = array[int(iclamp.delay/h.dt):int(iclamp.delay/h.dt + iclamp.dur/h.dt),injIndex].reshape(-1,1)\n",
    "    diffs = []\n",
    "    for i in range(3):\n",
    "        window = [int((peaks[i]) -avgISI/2),int((peaks[i] ) + avgISI/2 )]\n",
    "        minAHP = np.min(testArray[window[0]:window[1],:])\n",
    "        diffs.append(threshes[i] - minAHP)\n",
    "    \n",
    "    return np.mean(diffs)\n"
   ]
  },
  {
   "cell_type": "code",
   "execution_count": null,
   "id": "6ba564f9-2959-4fb6-9c1e-72f49a564947",
   "metadata": {},
   "outputs": [],
   "source": [
    "def summaryStats(array,injL):\n",
    "    Vrest = restCalc(array,injL)\n",
    "    Rin = rinCalc(array,injL)\n",
    "    Taum = taumCalc2(curve,array,injL)\n",
    "    SagAmp = sagAmpCalc(array,injL)\n",
    "    SagTau = sagTauCalc(array,injL)\n",
    "    rheobase = rheobaseCalc(array,injL)\n",
    "    ISI = ISICalc(array,injL)\n",
    "    Threshold = thresholdCalc(array,injL)\n",
    "    SpikeAmp = spikeAmpCalc(array,injL)\n",
    "    AHPAmp = ahpAmpCalc(array,injL)\n",
    "    statsList = [Vrest,Rin,SagAmp,SagTau,Taum,rheobase,ISI,Threshold,SpikeAmp,AHPAmp]\n",
    "    return statsList"
   ]
  },
  {
   "cell_type": "code",
   "execution_count": null,
   "id": "2f31e29e-cc1c-4287-a719-216cb84695fe",
   "metadata": {},
   "outputs": [],
   "source": [
    "passiveProps = []\n",
    "for i in range(len(InjList)):\n",
    "    subInj = InjList[i]\n",
    "    subArray = np.array(allTrials[i][0]).T\n",
    "    passiveProps.append(summaryStats(subArray,subInj))"
   ]
  },
  {
   "cell_type": "code",
   "execution_count": null,
   "id": "4441078d-4798-439a-b62d-b729dca51ea9",
   "metadata": {},
   "outputs": [],
   "source": [
    "#rowNames = [callNames[i].split('.')[1].split('()')[0] for i in range(len(callNames))]\n",
    "rowNames = [\"AAC\",\"CCK\",\"NGF\",\"OLM\",\"PVBasket\",\"Pyr\"]\n",
    "pd.DataFrame(passiveProps,index = rowNames,columns = [\"Vrest\",\"Rin\",\"Sag Amp\",\"sagTau\",\"Taum\",\"rheobase\",\"ISI\",\"Thresh\",\"Spike Amp\",\"AHP Amp\"]).round(2)"
   ]
  },
  {
   "cell_type": "code",
   "execution_count": null,
   "id": "b7b4759a-ba31-4aa9-9bd3-ba50da283ead",
   "metadata": {},
   "outputs": [],
   "source": [
    "#rowNames = [callNames[i].split('.')[1].split('()')[0] for i in range(len(callNames))]\n",
    "rowNames = [\"AAC\",\"OLM\",\"PVBasket\",\"Pyr\"]\n",
    "pd.DataFrame(passiveProps,index = rowNames,columns = [\"Vrest\",\"Rin\",\"Sag Amp\",\"sagTau\",\"Taum\",\"rheobase\",\"ISI\",\"Thresh\",\"Spike Amp\",\"AHP Amp\"]).round(2)"
   ]
  },
  {
   "cell_type": "code",
   "execution_count": null,
   "id": "92540f83-072f-4bd4-8a8c-f41a9d9e272b",
   "metadata": {},
   "outputs": [],
   "source": [
    "#injCalc = use time it takes for voltage to go to 1/e away from it's final value"
   ]
  },
  {
   "cell_type": "markdown",
   "id": "25e85cdb-692c-48d2-87df-8bcb2f8f9ddf",
   "metadata": {},
   "source": [
    "# FI Curve"
   ]
  },
  {
   "cell_type": "code",
   "execution_count": null,
   "id": "7d4014f9-6142-4a64-8ee7-605568120203",
   "metadata": {},
   "outputs": [],
   "source": [
    "def frequencyCalc(array,InjList):\n",
    "    freq = []\n",
    "    for i in range(array.shape[1]):\n",
    "        peaks = find_peaks(array[int(iclamp.delay/h.dt):int(iclamp.delay/h.dt + iclamp.dur/h.dt),i],threshold = -20,prominence=30)[0]\n",
    "        freq.append((len(peaks) / ( iclamp.dur ))*1000)# ms^-1 -> s^-1\n",
    "    return freq"
   ]
  },
  {
   "cell_type": "code",
   "execution_count": null,
   "id": "7eea7115-a9f2-4e43-aab8-3078be9ff7a8",
   "metadata": {},
   "outputs": [],
   "source": [
    "freqs = []\n",
    "for i in range(len(InjList)):\n",
    "    subInj = InjList[i]\n",
    "    subArray = np.array(allTrials[i][0]).T\n",
    "    freqs.append(frequencyCalc(subArray,subInj))"
   ]
  },
  {
   "cell_type": "code",
   "execution_count": null,
   "id": "d31f0e3f-8e07-4f76-94fb-0e549cb78e63",
   "metadata": {},
   "outputs": [],
   "source": [
    "fig,axs = plt.subplots(2,2,figsize=(15,5))\n",
    "plt.subplots_adjust(hspace=0.5)\n",
    "k=0\n",
    "for i in range(2):\n",
    "    for j in range(2):\n",
    "        axs[i][j].plot(InjList[k],freqs[k])\n",
    "        axs[i][j].set_title(rowNames[k])\n",
    "        axs[i][j].set_xlabel('Current (pA)')\n",
    "        axs[i][j].set_ylabel('Firing Rate (Hz)')\n",
    "        k+=1\n",
    "plt.savefig('FI Curves.png',dpi=300,bbox_inches=\"tight\")"
   ]
  },
  {
   "cell_type": "markdown",
   "id": "e9ec31f0-0a04-418f-82ac-f94cffcadab8",
   "metadata": {},
   "source": [
    "# channel dynamics"
   ]
  },
  {
   "cell_type": "code",
   "execution_count": null,
   "id": "c27d041f-98ea-49cf-b552-4a709c3c4755",
   "metadata": {},
   "outputs": [],
   "source": [
    "myCell = h.pyramidalcell()"
   ]
  },
  {
   "cell_type": "code",
   "execution_count": null,
   "id": "50ef8b56-2b45-4751-9002-5e637ae62743",
   "metadata": {},
   "outputs": [],
   "source": [
    "myCell.soma[0].psection()"
   ]
  },
  {
   "cell_type": "code",
   "execution_count": null,
   "id": "f3b0ab74-9563-4228-880d-2c1e80a6d848",
   "metadata": {},
   "outputs": [],
   "source": [
    "testV = np.arange(-200,100)"
   ]
  },
  {
   "cell_type": "code",
   "execution_count": null,
   "id": "e21252f5-6572-4135-969b-a3e76e1f9348",
   "metadata": {},
   "outputs": [],
   "source": [
    "def HCNp(v):\n",
    "    zetal = 4\n",
    "    vhalfl = -90\n",
    "    alpl = np.e**(0.0378 * zetal*(v - vhalfl))\n",
    "    linf = 1/(1+ alpl)\n",
    "    return linf"
   ]
  },
  {
   "cell_type": "code",
   "execution_count": null,
   "id": "4f699a98-762e-4b41-9ce8-cce31dc17d6e",
   "metadata": {},
   "outputs": [],
   "source": [
    "plt.plot(testV,HCNp(testV))"
   ]
  },
  {
   "cell_type": "code",
   "execution_count": null,
   "id": "5ae238b1-b83e-441e-ba48-4b32603cd91c",
   "metadata": {},
   "outputs": [],
   "source": [
    "#table 3 is what we want to match, using the inputs from table 4"
   ]
  },
  {
   "cell_type": "code",
   "execution_count": null,
   "id": "eecfe810-1762-42cf-b45a-e613395aa4d0",
   "metadata": {},
   "outputs": [],
   "source": [
    "# need to check vrest, tau, soma and dendrite dimensions, capacitance, Rin, reproduce current sweeps of fig 2 then automate output for each cell profile to compare with paper's experimental (and model?)\n",
    "#results also number of compartments and segments\n",
    "#table 4 shows the current sweeps used to test each cell"
   ]
  },
  {
   "cell_type": "code",
   "execution_count": null,
   "id": "fecbe357-0e36-4ed6-8bc1-3de4eeadbed0",
   "metadata": {},
   "outputs": [],
   "source": [
    "#appendix1 figure 5 gives sweep for pyramidal cell\n",
    "# app1 fig 7 is sweep for axoaxonic\n",
    "#, 9 for bistratified, 11 for cck, 13 for ivy, 15 is ngf"
   ]
  },
  {
   "cell_type": "code",
   "execution_count": null,
   "id": "3469966c-0923-4c25-bcdb-e44c8465f414",
   "metadata": {},
   "outputs": [],
   "source": [
    "#appendix1 table 2 shows the current sweeps they got their experimental data from"
   ]
  }
 ],
 "metadata": {
  "kernelspec": {
   "display_name": "Python 3",
   "language": "python",
   "name": "python3"
  },
  "language_info": {
   "codemirror_mode": {
    "name": "ipython",
    "version": 3
   },
   "file_extension": ".py",
   "mimetype": "text/x-python",
   "name": "python",
   "nbconvert_exporter": "python",
   "pygments_lexer": "ipython3",
   "version": "3.6.8"
  }
 },
 "nbformat": 4,
 "nbformat_minor": 5
}
