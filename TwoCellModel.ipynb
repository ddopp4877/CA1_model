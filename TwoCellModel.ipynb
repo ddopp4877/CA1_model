{
 "cells": [
  {
   "cell_type": "code",
   "execution_count": 13,
   "id": "57aee4ef-a16b-4f19-9f63-f56cf4711906",
   "metadata": {},
   "outputs": [],
   "source": [
    "import numpy as np\n",
    "from neuron import h\n",
    "import os\n",
    "import matplotlib.pyplot as plt\n",
    "import pandas as pd\n",
    "import json\n",
    "from scipy.signal import find_peaks\n",
    "import h5py\n",
    "#do not rerun\n",
    "h.load_file('stdrun.hoc')\n",
    "h.nrn_load_dll(os.path.join(\"biophys_components\",\"mechanisms\",\"modfiles\",\"x86_64\",\".libs\",\"libnrnmech.so\"))\n",
    "fileList = ['class_pyramidalcell.hoc','class_axoaxoniccell.hoc', 'class_pvbasketcell.hoc', 'class_olmcell.hoc']\n",
    "for item in fileList:\n",
    "    h.load_file(os.path.join(\"biophys_components\",\"templates\",item))\n",
    "callNames = [\"h.\" + fileList[i].split('_')[1].split('.')[0] + \"()\" for i in range(len(fileList))]\n",
    "callNames.sort()"
   ]
  },
  {
   "cell_type": "code",
   "execution_count": 14,
   "id": "31c52df3-8613-4073-a52e-a99d5be777aa",
   "metadata": {},
   "outputs": [],
   "source": [
    "def getSynName(paramsDict):# so you don't have to track it down in the synapses.py file\n",
    "    '''\n",
    "    assumes file w/ synapses is called 'synapses.py' and is in the root directory\n",
    "    assumes paramsDict has filename of the .json\n",
    "    assumes the synapse is initialized as the variable 'lsyn' for example:\n",
    "    lsyn = h.pyr2int(blablablah) \n",
    "    \n",
    "    '''\n",
    "    if type(paramsDict) == dict:\n",
    "        fileName = paramsDict['filename']\n",
    "    else:\n",
    "        fileName = paramsDict\n",
    "        \n",
    "    fp = open(os.path.join(\"biophys_components\",\"synaptic_models\",fileName))\n",
    "    data =json.load(fp)\n",
    "    \n",
    "    with open('synapses.py') as f:\n",
    "        for i,item in enumerate(f):\n",
    "            if ('add_synapse_model' in item) & (data['level_of_detail'] in item):\n",
    "                funcName = item.split('add_synapse_model')[1].split('(')[1].split(',')[0]#very specific to how synapses.py is organized. not recommended)\n",
    "\n",
    "    with open('synapses.py') as f:\n",
    "        found = 0\n",
    "        decLine = ''\n",
    "        for i, item in enumerate(f):\n",
    "            if 'def '+funcName in item:\n",
    "                found = 1\n",
    "                \n",
    "            if (found == 1) & ('lsyn' in item):\n",
    "                decLine = item\n",
    "                found = 0 #only want the one\n",
    "        synName = decLine.split('h.')[1].split('(')[0]\n",
    "    return synName"
   ]
  },
  {
   "cell_type": "code",
   "execution_count": 15,
   "id": "c823779e-1c46-431a-8301-4a9f91c15cfc",
   "metadata": {},
   "outputs": [],
   "source": [
    "def getSyn_vars(fileName,sectionName,key_str):\n",
    "    '''\n",
    "    takes json name, the mod file section heading name, and the string you want to search in it.\n",
    "    i.e., to get all the synaptic conductances' variable names:\n",
    "    getSyn_vars('PN2CHN.json','RANGE','gbar')\n",
    "    returns\n",
    "    ['gbar_nmda', 'gbar_ampa']\n",
    "    for a mod file with nmda and ampa, for example an E->I synapse\n",
    "    \n",
    "    or to get all the synaptic current variable names:\n",
    "    getSyn_vars('PN2CHN.json','NONSPECIFIC_CURRENT','i')\n",
    "    \n",
    "    '''\n",
    "    \n",
    "    modFile = getSynName(fileName)+'.mod'\n",
    "    with open(os.path.join('biophys_components','mechanisms','modfiles',modFile)) as f:\n",
    "        modDat = f.read()\n",
    "\n",
    "    test_str = modDat\n",
    "    test_sub = sectionName\n",
    "\n",
    "    res = [i for i in range(len(test_str)) if test_str.startswith(test_sub, i)]\n",
    "\n",
    "    varList = []\n",
    "    for i in range(len(res)):\n",
    "        substring = modDat[res[i]:]\n",
    "        substring = substring[:substring.find('\\n')]\n",
    "        for item in substring.split(' '):\n",
    "            if key_str in item:\n",
    "                varList.append(item)\n",
    "    #remove spaces and ',' or really just anything that is not alnum or underscore. so depends on user convention\n",
    "    for i in range(len(varList)):\n",
    "        string = varList[i]\n",
    "        newStr = []\n",
    "        for char in string:\n",
    "            if char.isalnum() or (char == '_'):\n",
    "                newStr.append(char)\n",
    "        varList[i] = \"\".join(newStr)\n",
    "    varList\n",
    "\n",
    "    return varList"
   ]
  },
  {
   "cell_type": "code",
   "execution_count": 16,
   "id": "5269836a-0300-47df-9bb7-85c5f08686c8",
   "metadata": {},
   "outputs": [],
   "source": [
    "def run2cellModel(paramsDict):\n",
    "    #read and close the json\n",
    "    f = open(os.path.join(\"biophys_components\",\"synaptic_models\",paramsDict['filename']))\n",
    "    data =json.load(f) \n",
    "\n",
    "    #make the cells, iclamp, synapse,and netcon and set their attributes\n",
    "    Cell1 = eval(paramsDict['cell1'])# Pyr\n",
    "    Cell2 = eval(paramsDict['cell2']) # AAC    \n",
    "    \n",
    "    iclamp = h.IClamp(Cell1.soma[0](0.5))\n",
    "    [setattr(iclamp,key,float(paramsDict['IclampParams'][key])) for key in paramsDict['IclampParams'].keys() if hasattr(iclamp,key)]\n",
    "\n",
    "    synParams = paramsDict['synTargetParams']\n",
    "    syn = eval(f\"h.{getSynName(paramsDict)}(Cell2.{synParams['secName']}[{synParams['secNo']}]({synParams['segNo']}))\")\n",
    "    [setattr(syn,key,float(data[key])) for key in data.keys() if hasattr(syn,key)]\n",
    "    attList = list(syn.__dict__)\n",
    "    gSynList = []\n",
    "    for item in attList:\n",
    "        if 'gbar' in item:\n",
    "            gSynList.append(eval(f\"syn.{item}\"))\n",
    "\n",
    "    \n",
    "\n",
    "    #pick a param to change\n",
    "    [setattr(syn,key,float(paramsDict['gSyn'][key])) for key in paramsDict['gSyn'].keys() if float(paramsDict['gSyn'][key]) != -1]\n",
    "    #also make into list so it can be easily switched between sims\n",
    "    #syn.gbar_nmda = paramsDict['syn.gbar_nmda']\n",
    "    #syn.gbar_ampa = paramsDict['syn.gbar_ampa']\n",
    "\n",
    "    #assumes netCon is watching the soma of cell1 to decide if there is an event\n",
    "    netcon = h.NetCon(Cell1.soma[0](0.5)._ref_v, syn,-10, 0, 1,sec=Cell1.soma[0])\n",
    " \n",
    "    recVars = [h.Vector().record(Cell1.soma[0](0.5)._ref_v),h.Vector().record(Cell2.soma[0](0.5)._ref_v)]# somas\n",
    "    synCurrentList = getSyn_vars(paramsDict['filename'],'NONSPECIFIC_CURRENT','i')\n",
    "    for current in synCurrentList:\n",
    "        recVars.append(h.Vector().record(eval(f\"syn._ref_{current}\")))\n",
    "        \n",
    "    tstop = paramsDict['simParams']['tstop']\n",
    "    h.dt=paramsDict['simParams']['h.dt']\n",
    "    h.L = paramsDict['simParams']['h.L']\n",
    "    h.finitialize(paramsDict['simParams']['vinit'])\n",
    "    h.continuerun(tstop)\n",
    "\n",
    "    recVars = [np.array(recVar) for recVar in recVars]\n",
    "    time = np.linspace(0,tstop,int(tstop/h.dt )+1)#+1 for some reason\n",
    "    ICLAMP = np.zeros(len(time))\n",
    "    ICLAMP[int(iclamp.delay/h.dt):int(iclamp.delay/h.dt+iclamp.dur)] = iclamp.amp\n",
    "    recVars.append(ICLAMP)\n",
    "    recVars.append(paramsDict['gSyn'])\n",
    "    #recVars.append(retList)\n",
    "    return time,recVars\n"
   ]
  },
  {
   "cell_type": "code",
   "execution_count": 17,
   "id": "31f2ffb1-9ef3-4b45-be13-8d07b48b779b",
   "metadata": {},
   "outputs": [],
   "source": [
    "paramsDict = {'filename'        : 'CHN2PN.json',\n",
    "              'cell1'           : 'h.pyramidalcell()',#cell that is stimulated w/ iclamp\n",
    "              'cell2'           : 'h.axoaxoniccell()',\n",
    "              \n",
    "              'simParams'       : {'tstop': 300,\n",
    "                                   'h.dt' : 0.1,\n",
    "                                   'h.L'  : 20,\n",
    "                                   'vinit': -63,\n",
    "                                  },\n",
    "              \n",
    "              'IclampParams'    : {'delay' : 100,\n",
    "                                   'dur'   : 8,\n",
    "                                   'amp'   : 0.6,\n",
    "                                  },\n",
    "              \n",
    "              'gSyn'            : {'gbar_gaba': 0.008,                                   \n",
    "                                  },\n",
    "\n",
    "              \n",
    "              'synTargetParams' :{'secName' : 'dend',\n",
    "                                  'secNo'   : '6',\n",
    "                                  'segNo'   : '0.5'\n",
    "              \n",
    "             }\n",
    "             }"
   ]
  },
  {
   "cell_type": "code",
   "execution_count": null,
   "id": "26801f88-2c2b-4637-85c6-312e0cba5af6",
   "metadata": {},
   "outputs": [],
   "source": [
    "callNames"
   ]
  },
  {
   "cell_type": "code",
   "execution_count": null,
   "id": "0692b3b3-6b74-4a52-9850-5ce5e7863670",
   "metadata": {},
   "outputs": [],
   "source": [
    "getSyn_vars('CHN2PN.json','RANGE','gbar')"
   ]
  },
  {
   "cell_type": "code",
   "execution_count": null,
   "id": "ba45fc61-4f9c-4bb8-ad26-99d5a84b95a4",
   "metadata": {},
   "outputs": [],
   "source": [
    "getSynName('CHN2PN.json')"
   ]
  },
  {
   "cell_type": "code",
   "execution_count": null,
   "id": "4a6ac7ee-b2d6-4fb8-b119-faa17462bfd6",
   "metadata": {},
   "outputs": [],
   "source": [
    "# conn1 = setEdges(net,'AAC','Pyr',[ 0.072,     400],'CHN2PN.json', [1,            1.1 ],'axon', 6, 0.5)\n",
    "# conn2 = setEdges(net,'Pyr','AAC',[ 0.009635,  400],'PN2CHN.json', [0.0,        400.0],'apical', 6, 0.5)\n",
    "# conn3 = setEdges(net,'PV','Pyr', [ 0.05366,   400],'PV2PN.json',  [0.0,        400.0],'somatic',0, 0.5)\n",
    "# conn4 = setEdges(net,'Pyr','PV', [ 0.0238,    400],'PN2PV.json',  [0.0,        400.0],'apical', 6, 0.5)\n",
    "# conn5 = setEdges(net,'PV','AAC', [ 0.135,     400],'PV2CHN.json', [0.0,        400.0],'somatic',0, 0.5)\n",
    "# conn6 = setEdges(net,'PV','PV',  [ 0.135,     400],'PV2PV.json',  [0.0,        400.0],'somatic',0, 0.5)\n",
    "# conn7 = setEdges(net,'OLM','Pyr',[ 0.08300,   400],'OLM2PN.json', [0.0,        400.0],'apical', 4, 0.5)\n",
    "# conn8 = setEdges(net,'OLM','AAC',[ 0.0800,    400],'OLM2CHN.json',[0.0,        400.0],'apical', 4, 0.5)\n",
    "# conn9 = setEdges(net,'OLM','PV', [ 0.0800,    400],'OLM2PV.json', [0.0,        400.0],'apical', 4, 0.5)\n",
    "# conn10 = setEdges(net,'OLM','OLM',[ 0.0800,    400],'OLM2OLM.json',[0.0,        400.0],'basal',  0, 0.9)\n",
    "# conn11 = setEdges(net,'Pyr','OLM',[  0.1320,   400],'PN2OLM.json',[0.0,        400.0],'basal',  2, 0.5)"
   ]
  },
  {
   "cell_type": "code",
   "execution_count": null,
   "id": "8d93903e-c7c8-4341-b126-3f6840ed8821",
   "metadata": {},
   "outputs": [],
   "source": [
    "keyName = 'CHN2PN_mp'\n",
    "callNamesmapped = ['CHN', 'OLM','PV','PN']\n",
    "Combos = {keyName: {'filename'        : f\"{keyName.split('_')[0]}.json\",\n",
    "              'cell1'           : callNames[callNamesmapped.index(keyName.split('2')[0].split('_')[0])],#cell that is stimulated w/ iclamp\n",
    "              'cell2'           : callNames[callNamesmapped.index(keyName.split('2')[1].split('_')[0])],\n",
    "              \n",
    "              'simParams'       : {'tstop': 300,\n",
    "                                   'h.dt' : 0.1,\n",
    "                                   'h.L'  : 20,\n",
    "                                   'vinit': -63,\n",
    "                                  },\n",
    "              \n",
    "              'IclampParams'    : {'delay' : 100,\n",
    "                                   'dur'   : 8,\n",
    "                                   'amp'   : 0.7,\n",
    "                                  },\n",
    "              \n",
    "              'gSyn'            : {'gbar_gaba': 2,\n",
    "                                  },\n",
    "\n",
    "              \n",
    "              'synTargetParams' :{'secName' : 'axon',\n",
    "                                  'secNo'   : '6',\n",
    "                                  'segNo'   : '0.5'\n",
    "                                 }\n",
    "             }\n",
    "         }"
   ]
  },
  {
   "cell_type": "code",
   "execution_count": null,
   "id": "e8506f07-5321-486c-a655-c061b731e6e8",
   "metadata": {},
   "outputs": [],
   "source": [
    "time,recVars = run2cellModel(Combos[keyName])\n",
    "cell1str = Combos[keyName]['cell1'].split('h.')[1].split('cell')[0]\n",
    "cell2str = Combos[keyName]['cell2'].split('h.')[1].split('cell')[0]\n",
    "plt.plot(time,recVars[0],label = cell1str)\n",
    "plt.plot(time,recVars[1],label = cell2str)\n",
    "plt.xlabel(f\"gSyn = {recVars[-1]}\")\n",
    "plt.title(f\"{cell1str}->{cell2str}\")\n",
    "plt.legend()\n",
    "plt.show()"
   ]
  },
  {
   "cell_type": "code",
   "execution_count": null,
   "id": "a1a08893-2705-4049-a9ea-e7ed86deabd3",
   "metadata": {},
   "outputs": [],
   "source": [
    "res = 0\n",
    "\n",
    "time,recVars = run2cellModel(Combos[keyName])\n",
    "peaks, _ = find_peaks(recVars[1],height=-40)#postsynaptic cell\n",
    "while(len(peaks)<1):\n",
    "    time,recVars = run2cellModel(Combos[keyName])\n",
    "    for key in Combos[keyName]['gSyn']:\n",
    "        Combos[keyName]['gSyn'][key]+=0.1\n",
    "        res = Combos[keyName]['gSyn'][key]\n",
    "        print(res)\n",
    "    peaks, _ = find_peaks(recVars[1],height=-40)#postsynaptic cell\n",
    "    \n"
   ]
  },
  {
   "cell_type": "code",
   "execution_count": null,
   "id": "bb942a65-fda1-4153-860e-6c62293095a3",
   "metadata": {},
   "outputs": [],
   "source": [
    "\n",
    "\n"
   ]
  },
  {
   "cell_type": "code",
   "execution_count": null,
   "id": "ed02eecf-5513-42a8-a41f-3c111d73ca02",
   "metadata": {},
   "outputs": [],
   "source": [
    "\n",
    "peaks1, _ = find_peaks(recVars[0],height=-40)\n",
    "peaks2, _ = find_peaks(recVars[1],height=-40)\n",
    "(peaks2 - peaks1)[0] * Combos[keyName]['simParams']['h.dt']"
   ]
  },
  {
   "cell_type": "code",
   "execution_count": null,
   "id": "de366b09-775c-43cc-9b16-8814c64b2c45",
   "metadata": {},
   "outputs": [],
   "source": [
    "peaks1"
   ]
  },
  {
   "cell_type": "code",
   "execution_count": null,
   "id": "c3835f42-418b-4f69-8c59-2a1683b11352",
   "metadata": {},
   "outputs": [],
   "source": [
    "recVars"
   ]
  },
  {
   "cell_type": "code",
   "execution_count": null,
   "id": "540db0a5-8fa2-49e8-a8c4-d78d42ff6377",
   "metadata": {},
   "outputs": [],
   "source": [
    "with open(os.path.join('twocellmodelParams',f\"{keyName}.json\"), 'w') as outfile:\n",
    "    json.dump(Combos[keyName], outfile)"
   ]
  },
  {
   "cell_type": "markdown",
   "id": "b4c3c52c-a7d5-492e-9de4-03d18097e789",
   "metadata": {},
   "source": [
    "# Basic"
   ]
  },
  {
   "cell_type": "code",
   "execution_count": 31,
   "id": "b4e95488-982a-4a3c-9847-b23393f48b4e",
   "metadata": {},
   "outputs": [
    {
     "data": {
      "text/plain": [
       "<matplotlib.legend.Legend at 0x7faed9f48240>"
      ]
     },
     "execution_count": 31,
     "metadata": {},
     "output_type": "execute_result"
    },
    {
     "data": {
      "image/png": "[encoded data removed]",
      "text/plain": [
       "<Figure size 432x288 with 1 Axes>"
      ]
     },
     "metadata": {
      "needs_background": "light"
     },
     "output_type": "display_data"
    }
   ],
   "source": [
    "AAC = h.axoaxoniccell()\n",
    "Pyr = h.pyramidalcell()\n",
    "\n",
    "#Pyr.soma[0].gmax_ch_HCNp = 0\n",
    "\n",
    "iclamp = h.IClamp(AAC.soma[0](0.5))\n",
    "iclamp.delay = 100\n",
    "iclamp.dur = 8\n",
    "iclamp.amp = 0.6\n",
    "\n",
    "\n",
    "vPyr = h.Vector().record(Pyr.soma[0](0.5)._ref_v)\n",
    "vAAC = h.Vector().record(AAC.soma[0](0.5)._ref_v)\n",
    "\n",
    "\n",
    "\n",
    "syn = h.chn2pyr(Pyr.axon[6](0.5))\n",
    "syn.AlphaTmax_gaba = 1.52\n",
    "syn.Beta_gaba = 0.14\n",
    "syn.Cdur_gaba=0.7254\n",
    "#syn.gbar_gaba=0.001\n",
    "syn.gbar_gaba = 0.006\n",
    "syn.Erev_gaba=-50\n",
    "syn.initW=2\n",
    "syn.Wmax=0\n",
    "syn.Wmin=0\n",
    "syn.on_gaba  = 1\n",
    "syn.r_gaba  = 1\n",
    "syn.lambda1=1\n",
    "syn.lambda2=0.01\n",
    "syn.threshold1=0.5\n",
    "syn.threshold2=0.6\n",
    "syn.tauD1=40\n",
    "syn.d1=0.95\n",
    "syn.tauD2=70\n",
    "syn.d2=0.9\n",
    "syn.tauF=20\n",
    "syn.f=0\n",
    "\n",
    "iGABA = h.Vector().record(syn._ref_igaba)\n",
    "\n",
    "netcon = h.NetCon(AAC.soma[0](0.5)._ref_v, syn,-10, 0, 1,sec=AAC.soma[0])\n",
    "\n",
    "\n",
    "\n",
    "h.dt=0.1\n",
    "h.L = 20\n",
    "h.finitialize(-63)\n",
    "h.continuerun(300)\n",
    "\n",
    "vPyr = np.array(vPyr)\n",
    "vAAC = np.array(vAAC)\n",
    "plt.plot(vAAC,label='AAC')\n",
    "plt.plot(vPyr ,label='Pyr ')\n",
    "plt.legend()\n",
    "#plt.plot(iGABA)"
   ]
  },
  {
   "cell_type": "code",
   "execution_count": 33,
   "id": "c64d0e1a-7aa5-450b-9a0c-e8592a227784",
   "metadata": {},
   "outputs": [
    {
     "data": {
      "text/plain": [
       "[<matplotlib.lines.Line2D at 0x7faed9ebe4e0>]"
      ]
     },
     "execution_count": 33,
     "metadata": {},
     "output_type": "execute_result"
    },
    {
     "data": {
      "image/png": "[encoded data removed]",
      "text/plain": [
       "<Figure size 432x288 with 1 Axes>"
      ]
     },
     "metadata": {
      "needs_background": "light"
     },
     "output_type": "display_data"
    }
   ],
   "source": [
    "plt.plot(iGABA)"
   ]
  },
  {
   "cell_type": "markdown",
   "id": "a7a0aaa1-e623-4795-9664-cb0b4f08f8f1",
   "metadata": {},
   "source": [
    "# automated"
   ]
  },
  {
   "cell_type": "code",
   "execution_count": null,
   "id": "41207921-1256-4461-b87b-8a176f0172c5",
   "metadata": {},
   "outputs": [],
   "source": [
    "#look at amps of all cells, and 'rheoweight'"
   ]
  },
  {
   "cell_type": "code",
   "execution_count": null,
   "id": "3448c00d-29a4-4385-a2cc-c61492342a9d",
   "metadata": {},
   "outputs": [],
   "source": [
    "fileNames = os.listdir(\"twocellmodelParams\")\n",
    "fileNames = [fileName for fileName in fileNames if fileName.find('json') != -1]\n",
    "resDict = {}\n",
    "for fileName in fileNames:\n",
    "    fp = open(os.path.join(\"twocellmodelParams\",fileName))\n",
    "    dictionary =json.load(fp)\n",
    "    time,recVars = run2cellModel(dictionary)\n",
    "    keyName = fileName.split('_')[0]\n",
    "    resDict.update({keyName: recVars})\n",
    "    "
   ]
  },
  {
   "cell_type": "code",
   "execution_count": null,
   "id": "9e44f7de-cf3c-4315-a3cc-f3887fb562d5",
   "metadata": {
    "tags": []
   },
   "outputs": [],
   "source": [
    "\n",
    "r,c = 3,4\n",
    "fig, axs = plt.subplots(r,c,figsize=(10,8))\n",
    "keyCounter = 0\n",
    "for i in range(r):\n",
    "    for j in range(c):\n",
    "        if (keyCounter) >= len(fileNames):\n",
    "            break\n",
    "        keyName = list(resDict.keys())[keyCounter]\n",
    "        cell1str = keyName.split('2')[0]\n",
    "        cell2str = keyName.split('2')[1]\n",
    "        axs[i][j].plot(time,resDict[keyName][0],label = cell1str)\n",
    "        axs[i][j].plot(time,resDict[keyName][1],label = cell2str)\n",
    "        axs[i][j].set_title(f\"{cell1str}->{cell2str}\")\n",
    "        #axs[i][j].set_xlim([50,200])\n",
    "        #axs[i][j].set_ylim([-70,-50])\n",
    "        #axs[i][j].set_xlabel(f\"gSyn = {resDict[keyName][-1]}\")\n",
    "        axs[i][j].legend(prop = {'size':8})\n",
    "        axs[i][j].set_facecolor(\"white\")\n",
    "        keyCounter+=1\n",
    "plt.subplots_adjust(wspace=0.4,hspace=0.4)\n",
    "plt.savefig('twoCellModel',dpi=300)\n",
    "plt.show()\n"
   ]
  },
  {
   "cell_type": "code",
   "execution_count": null,
   "id": "2a38b7f9-898e-4545-9d63-9c58c055babd",
   "metadata": {},
   "outputs": [],
   "source": [
    "squareDim = int(len(fileNames)**.5)\n",
    "r,c = 3,4\n",
    "fig, axs = plt.subplots(r,c,figsize=(10,8))\n",
    "keyCounter = 0\n",
    "for i in range(r):\n",
    "    for j in range(c):\n",
    "        if (keyCounter) >= len(fileNames):\n",
    "            break\n",
    "        keyName = list(resDict.keys())[keyCounter]\n",
    "        currentNames = getSyn_vars(f\"{keyName}.json\",'NONSPECIFIC_CURRENT','i')\n",
    "        curr1str = currentNames[0]\n",
    "        axs[i][j].plot(time,resDict[keyName][2],label = curr1str)\n",
    "        gSyns = getSyn_vars(f\"{keyName}.json\",'RANGE','gbar')\n",
    "        #print(resDict[keyName][-1])\n",
    "        #xlabel = f\"{gSyns[0]} = {resDict[keyName][-1][0]}\"\n",
    "        if len(currentNames) == 2:#only ever 1 or 2 so not generic here\n",
    "            curr2str = currentNames[1]\n",
    "            axs[i][j].plot(time,resDict[keyName][3],label = curr2str)\n",
    "            #xlabel = f\"{gSyns[0]} = {resDict[keyName][-1][0]}\\n\"+f\"{gSyns[1]} = {resDict[keyName][-1][1]}\"\n",
    "        \n",
    "        cell1str = keyName.split('2')[0]\n",
    "        cell2str = keyName.split('2')[1]\n",
    "        axs[i][j].set_title(f\"{cell1str}->{cell2str}\")\n",
    "        \n",
    "        #axs[i][j].set_xlim([50,200])\n",
    "        axs[i][j].set_ylim([-0.08,0.15])\n",
    "        #axs[i][j].set_xlabel(xlabel)\n",
    "        axs[i][j].legend(prop = {'size':8})\n",
    "        \n",
    "        keyCounter+=1\n",
    "plt.subplots_adjust(wspace=0.4,hspace=0.8)\n",
    "plt.savefig('twoCellModel_currents',dpi=300)\n",
    "plt.show()\n",
    "    "
   ]
  },
  {
   "cell_type": "code",
   "execution_count": null,
   "id": "695706f3-ff8a-481e-b9c4-f07030b6e11d",
   "metadata": {},
   "outputs": [],
   "source": [
    "#print gSyn on each xaxis"
   ]
  },
  {
   "cell_type": "markdown",
   "id": "35e7f199-b52f-4d1d-8a01-806a21264a99",
   "metadata": {},
   "source": [
    "# 'rheoweight'"
   ]
  },
  {
   "cell_type": "code",
   "execution_count": null,
   "id": "b550fc5c-7bd8-46da-b9dd-b057a4a48bdc",
   "metadata": {},
   "outputs": [],
   "source": [
    "from scipy.signal import find_peaks"
   ]
  },
  {
   "cell_type": "code",
   "execution_count": null,
   "id": "22d4e2a5-c7a4-4eb2-9d92-10cfe781982c",
   "metadata": {},
   "outputs": [],
   "source": [
    "fileNames = os.listdir(\"twocellmodelParams\")\n",
    "fileNames = [fileName for fileName in fileNames if fileName.find('json') != -1]\n",
    "#fileNames = [fileName for fileName in fileNames if fileName.split('2')[0] == 'PN' or 'CHN']\n",
    "fileNames = [fileName for fileName in fileNames if fileName.split('2')[0] == 'PN' or  fileName.split('_')[0] =='CHN2PN']\n",
    "resDict = {}\n",
    "for fileName in fileNames:\n",
    "    \n",
    "    fp = open(os.path.join(\"twocellmodelParams\",fileName))\n",
    "    dictionary =json.load(fp)\n",
    "    time,recVars = run2cellModel(dictionary)\n",
    "    _, peaks = find_peaks(recVars[1])\n",
    "    for KEY in dictionary['gSyn']:\n",
    "        \n",
    "        dictionary['gSyn'][KEY] = 0.0005\n",
    "    \n",
    "    while(len(peaks)<1):\n",
    "        time,recVars = run2cellModel(dictionary)\n",
    "        for key in dictionary['gSyn']:\n",
    "            dictionary['gSyn'][key]+=0.0005\n",
    "\n",
    "        peaks, _ = find_peaks(recVars[1],height=-40)#postsynaptic cell\n",
    "\n",
    "            \n",
    "    keyName = fileName.split('_')[0]\n",
    "    myDict = {'recVars':recVars,\n",
    "             'min2spike': dictionary['gSyn']}\n",
    "    resDict.update({keyName: myDict})\n"
   ]
  },
  {
   "cell_type": "code",
   "execution_count": null,
   "id": "fb72fdcf-88bc-430a-9517-01a044dfe85e",
   "metadata": {},
   "outputs": [],
   "source": [
    "for key in resDict:\n",
    "    for KEY in resDict[key]['min2spike']:\n",
    "        resDict[key]['min2spike'][KEY] = round(resDict[key]['min2spike'][KEY],4)"
   ]
  },
  {
   "cell_type": "code",
   "execution_count": null,
   "id": "6a1c202d-684f-4026-9b8e-7fa7e502c3fc",
   "metadata": {},
   "outputs": [],
   "source": [
    "for key in resDict:\n",
    "    print(f\"{key} min gsyn to spike = {resDict[key]['min2spike']}\")"
   ]
  },
  {
   "cell_type": "code",
   "execution_count": null,
   "id": "ffaa1932-c851-47cf-a072-7782bc7e04d3",
   "metadata": {},
   "outputs": [],
   "source": [
    "0.0085*0.006"
   ]
  },
  {
   "cell_type": "code",
   "execution_count": null,
   "id": "51d07996-a9b0-4269-b984-36c1f636fab0",
   "metadata": {},
   "outputs": [],
   "source": [
    "0.0185/0.0005"
   ]
  },
  {
   "cell_type": "code",
   "execution_count": null,
   "id": "2fadf38d-1a7d-4269-bb49-4024f6490d8e",
   "metadata": {},
   "outputs": [],
   "source": [
    "0.0185/0.001"
   ]
  },
  {
   "cell_type": "code",
   "execution_count": null,
   "id": "fac44e56-111e-45d9-bdc3-693e8ca41a1f",
   "metadata": {},
   "outputs": [],
   "source": [
    "355000/20000"
   ]
  },
  {
   "cell_type": "markdown",
   "id": "0e3173f8-4d00-4fa5-9b4b-a09381eecba2",
   "metadata": {},
   "source": [
    "# synaptic distribution"
   ]
  },
  {
   "cell_type": "code",
   "execution_count": 1,
   "id": "fa7048b7-2c31-4e65-8eee-8674582bd914",
   "metadata": {},
   "outputs": [],
   "source": [
    "import numpy as np\n",
    "from neuron import h\n",
    "import os\n",
    "import matplotlib.pyplot as plt\n",
    "import pandas as pd\n",
    "import json\n",
    "from scipy.signal import find_peaks\n",
    "import h5py"
   ]
  },
  {
   "cell_type": "code",
   "execution_count": 2,
   "id": "fab2806d-3e7d-4d4c-859f-197f41936d7d",
   "metadata": {},
   "outputs": [],
   "source": [
    "def SaveDataToDF(f):\n",
    "    myData = []\n",
    "    myDataNames = []\n",
    "    def saveDat(item):\n",
    "        if 'Data' in str(f[item].id):\n",
    "            data2use = f[item][()]\n",
    "            if data2use.ndim == 2:#some groups have multiple columns and this messes up the translation to a df at the end of this function\n",
    "                [a,b] = data2use.shape\n",
    "                for col in np.arange(0,b):\n",
    "                    myData.append(data2use[:,col])\n",
    "                    dataName = (f[item].name).split('/')[-1] + str(col)\n",
    "                    myDataNames.append(dataName)\n",
    "            else:\n",
    "                myData.append(f[item][()])\n",
    "                dataName = (f[item].name).split('/')[-1]\n",
    "                myDataNames.append(dataName)\n",
    "        \n",
    "    f.visit(saveDat)\n",
    "    allData = pd.DataFrame(myData).T\n",
    "    allData.columns = myDataNames\n",
    "    f.close()\n",
    "    return allData"
   ]
  },
  {
   "cell_type": "code",
   "execution_count": 3,
   "id": "d89623a0-9a81-44b1-97da-98a1ddda8a88",
   "metadata": {},
   "outputs": [],
   "source": [
    "f = h5py.File(os.path.join('network','biophysical_biophysical_edges.h5'))\n",
    "firstSynsDF = SaveDataToDF(f)\n",
    "f = h5py.File(os.path.join('network','biophysical_nodes.h5'), 'r')\n",
    "nodesDF = SaveDataToDF(f)\n",
    "cellLocations = pd.read_csv('cell_locations.csv')\n",
    "idNames = np.unique(nodesDF['node_type_id'])\n",
    "cellNames = np.unique(cellLocations['Cell type'])\n",
    "array = cellLocations['Cell type']\n",
    "idxs = np.unique(cellLocations['Cell type'],return_index=True)[1]\n",
    "cellNames = [array[index] for index in sorted(idxs)]#use the names in the order in which the id's appear\n",
    "nodesDF = nodesDF.replace({'node_type_id':idNames},{'node_type_id':cellNames})\n",
    "\n",
    "srcs = nodesDF.iloc[firstSynsDF['source_node_id']]\n",
    "trgts = nodesDF.iloc[firstSynsDF['target_node_id']]\n",
    "\n",
    "newNP = np.concatenate((np.array(srcs['node_type_id']).reshape(-1,1),np.array(trgts['node_type_id']).reshape(-1,1)),axis=1)\n",
    "newNP = np.hstack((newNP,np.array(firstSynsDF['syn_weight']).reshape(-1,1)))\n",
    "newDFFirst = pd.DataFrame(newNP,columns = ['source','target','weight'])"
   ]
  },
  {
   "cell_type": "code",
   "execution_count": 4,
   "id": "419c20e6-d3cf-4d5e-838c-9d2703928dcc",
   "metadata": {},
   "outputs": [],
   "source": [
    "f = h5py.File(os.path.join('updated_conns','biophysical_biophysical_edges.h5'))\n",
    "synapsesDF = SaveDataToDF(f)\n",
    "f = h5py.File(os.path.join('network','biophysical_nodes.h5'), 'r')\n",
    "nodesDF = SaveDataToDF(f)\n",
    "cellLocations = pd.read_csv('cell_locations.csv')\n",
    "idNames = np.unique(nodesDF['node_type_id'])\n",
    "cellNames = np.unique(cellLocations['Cell type'])\n",
    "array = cellLocations['Cell type']\n",
    "idxs = np.unique(cellLocations['Cell type'],return_index=True)[1]\n",
    "cellNames = [array[index] for index in sorted(idxs)]#use the names in the order in which the id's appear\n",
    "nodesDF = nodesDF.replace({'node_type_id':idNames},{'node_type_id':cellNames})\n",
    "\n",
    "df = synapsesDF['syn_weight']\n",
    "df.columns = ['syn_weight','Nans']\n",
    "df = df.drop(['Nans'],axis=1)\n",
    "synweightsDF = df\n",
    "\n",
    "srcs = nodesDF.iloc[synapsesDF['source_node_id']]\n",
    "trgts = nodesDF.iloc[synapsesDF['target_node_id']]\n",
    "\n",
    "newNP = np.concatenate((np.array(srcs['node_type_id']).reshape(-1,1),np.array(trgts['node_type_id']).reshape(-1,1)),axis=1)\n",
    "newNP = np.hstack((newNP,np.array(synweightsDF['syn_weight']).reshape(-1,1)))\n",
    "newDF = pd.DataFrame(newNP,columns = ['source','target','weight'])"
   ]
  },
  {
   "cell_type": "code",
   "execution_count": 9,
   "id": "a1f0fa01-0f02-4643-a479-c15c8e2aa59d",
   "metadata": {},
   "outputs": [],
   "source": [
    "KeyCombos = [('Pyr','AAC'), ('Pyr','OLM'),('Pyr','PV'),('PV','PV'),('AAC','Pyr') ,('PV','AAC'),('OLM','OLM'),('OLM','PV') ]"
   ]
  },
  {
   "cell_type": "code",
   "execution_count": 10,
   "id": "7b64b18e-83ac-4aee-8cc1-1f15906daebd",
   "metadata": {},
   "outputs": [],
   "source": [
    "comboDict = {}\n",
    "DF = newDFFirst\n",
    "#DF = newDF\n",
    "for i in range(len(KeyCombos)):\n",
    "    A2B = DF[DF['source'].str.contains(KeyCombos[i][0]) & DF['target'].str.contains(KeyCombos[i][1])]\n",
    "    #mean,std,Range = np.mean(A2B['weight']), np.std(A2B['weight']), max(A2B['weight']) -  min(A2B['weight'])\n",
    "    comboDict.update({f\"{KeyCombos[i][0]}2{KeyCombos[i][1]}\": A2B['weight']})\n",
    "    comboDict.update({f\"{KeyCombos[i][0]}2{KeyCombos[i][1]}index\": A2B['weight'].index})"
   ]
  },
  {
   "cell_type": "code",
   "execution_count": 11,
   "id": "153402ed-20f5-4f40-9bb9-8f297b11efda",
   "metadata": {},
   "outputs": [
    {
     "data": {
      "image/png": "[encoded data removed]",
      "text/plain": [
       "<Figure size 720x360 with 1 Axes>"
      ]
     },
     "metadata": {
      "needs_background": "light"
     },
     "output_type": "display_data"
    }
   ],
   "source": [
    "plt.figure(figsize=(10,5))\n",
    "for key in comboDict:\n",
    "    if 'index' in key:\n",
    "        pass\n",
    "    else:\n",
    "        plt.hist(comboDict[key],label=key)\n",
    "plt.legend()\n",
    "plt.savefig('allDistributions',dpi=300)\n",
    "plt.xlabel('uS')\n",
    "plt.show()"
   ]
  },
  {
   "cell_type": "code",
   "execution_count": 12,
   "id": "25dabe43-7b9e-446d-a0a7-99ed5ae619a7",
   "metadata": {},
   "outputs": [
    {
     "data": {
      "text/plain": [
       "(array([3.44577e+05, 6.38680e+04, 3.70680e+04, 1.83850e+04, 7.84600e+03,\n",
       "        3.14100e+03, 1.16700e+03, 3.94000e+02, 1.25000e+02, 5.50000e+01]),\n",
       " array([8.404850848187095e-06, 0.6000075643657634, 1.2000067238806786,\n",
       "        1.8000058833955939, 2.400005042910509, 3.0000042024254245,\n",
       "        3.6000033619403395, 4.2000025214552545, 4.80000168097017,\n",
       "        5.400000840485085, 6.0], dtype=object),\n",
       " <BarContainer object of 10 artists>)"
      ]
     },
     "execution_count": 12,
     "metadata": {},
     "output_type": "execute_result"
    },
    {
     "data": {
      "image/png": "[encoded data removed]",
      "text/plain": [
       "<Figure size 432x288 with 1 Axes>"
      ]
     },
     "metadata": {
      "needs_background": "light"
     },
     "output_type": "display_data"
    }
   ],
   "source": [
    "Name = 'AAC2Pyr'\n",
    "plt.hist(comboDict[Name])"
   ]
  },
  {
   "cell_type": "markdown",
   "id": "44d6d368-541c-4509-8bef-2fa78eb2e24f",
   "metadata": {},
   "source": [
    "# find the cells based on a certain weight"
   ]
  },
  {
   "cell_type": "code",
   "execution_count": 8,
   "id": "cf199eca-a361-4102-ab55-8902b6f3a137",
   "metadata": {},
   "outputs": [
    {
     "name": "stdout",
     "output_type": "stream",
     "text": [
      "23309\n",
      "476626\n"
     ]
    },
    {
     "data": {
      "text/plain": [
       "array([     0,     23,     30, ..., 476520, 476548, 476601])"
      ]
     },
     "execution_count": 8,
     "metadata": {},
     "output_type": "execute_result"
    }
   ],
   "source": [
    "print(len(np.where(comboDict['AAC2Pyr'] > 2)[0]))\n",
    "print(len(comboDict['AAC2Pyr']))\n",
    "np.where(comboDict['AAC2Pyr'] > 2)[0]"
   ]
  },
  {
   "cell_type": "code",
   "execution_count": 11,
   "id": "159f5c4e-f47c-41ba-8ccd-0d51b90a5156",
   "metadata": {},
   "outputs": [
    {
     "data": {
      "text/plain": [
       "50.0"
      ]
     },
     "execution_count": 11,
     "metadata": {},
     "output_type": "execute_result"
    }
   ],
   "source": [
    "index = 0\n",
    "oldid = comboDict['AAC2Pyrindex'][index]\n",
    "newDFFirst.iloc[oldid]\n",
    "firstSynsDF.iloc[oldid]['source_node_id']"
   ]
  },
  {
   "cell_type": "code",
   "execution_count": 12,
   "id": "764b1007-1f8a-4f00-be75-fb48fe4b8a45",
   "metadata": {},
   "outputs": [
    {
     "data": {
      "text/plain": [
       "syn_weight                2.007572\n",
       "edge_group_id             0.000000\n",
       "edge_group_index     999099.000000\n",
       "edge_type_id            100.000000\n",
       "node_id_to_range0              NaN\n",
       "node_id_to_range1              NaN\n",
       "range_to_edge_id0    918518.000000\n",
       "range_to_edge_id1    918519.000000\n",
       "node_id_to_range0              NaN\n",
       "node_id_to_range1              NaN\n",
       "range_to_edge_id0              NaN\n",
       "range_to_edge_id1              NaN\n",
       "source_node_id           50.000000\n",
       "target_node_id         1030.000000\n",
       "Name: 999099, dtype: float64"
      ]
     },
     "execution_count": 12,
     "metadata": {},
     "output_type": "execute_result"
    }
   ],
   "source": [
    "firstSynsDF.iloc[oldid]"
   ]
  },
  {
   "cell_type": "code",
   "execution_count": null,
   "id": "dde765ca-e39e-45aa-8e5c-cd548425a797",
   "metadata": {},
   "outputs": [],
   "source": [
    "2/0.006"
   ]
  },
  {
   "cell_type": "code",
   "execution_count": null,
   "id": "9e2acdf0-2d7a-44fe-9781-79ff5ca8e7b2",
   "metadata": {},
   "outputs": [],
   "source": [
    "synapsesDF.iloc[19769]"
   ]
  },
  {
   "cell_type": "code",
   "execution_count": 25,
   "id": "3c0d0999-4931-4dfa-b798-30fc3f5ac522",
   "metadata": {},
   "outputs": [],
   "source": [
    "def lognormal(m,s):    \n",
    "    synaptic_weight = float(np.random.lognormal(m, s, 1)-(0.5*np.mean(np.random.lognormal(m,s,1000))))\n",
    "    if synaptic_weight >= float(m*3):\n",
    "        synaptic_weight = float(m*3)\n",
    "    if synaptic_weight < 0:\n",
    "        synaptic_weight = 0.1*m\n",
    "    return synaptic_weight"
   ]
  },
  {
   "cell_type": "code",
   "execution_count": 27,
   "id": "8867bc4d-226c-4cbc-ab09-290d623d868c",
   "metadata": {},
   "outputs": [
    {
     "data": {
      "text/plain": [
       "8.255038859423621"
      ]
     },
     "execution_count": 27,
     "metadata": {},
     "output_type": "execute_result"
    }
   ],
   "source": [
    "np.mean([lognormal(3,0.1) for i in range(10)])"
   ]
  },
  {
   "cell_type": "code",
   "execution_count": 30,
   "id": "580f5039-9d5c-4a45-a955-1a61f81f7a99",
   "metadata": {},
   "outputs": [
    {
     "data": {
      "text/plain": [
       "(array([ 16.,  73., 159., 235., 234., 152.,  89.,  35.,   5.,   2.]),\n",
       " array([0.63612368, 0.81144451, 0.98676535, 1.16208619, 1.33740703,\n",
       "        1.51272786, 1.6880487 , 1.86336954, 2.03869038, 2.21401121,\n",
       "        2.38933205]),\n",
       " <BarContainer object of 10 artists>)"
      ]
     },
     "execution_count": 30,
     "metadata": {},
     "output_type": "execute_result"
    },
    {
     "data": {
      "image/png": "[encoded data removed]",
      "text/plain": [
       "<Figure size 432x288 with 1 Axes>"
      ]
     },
     "metadata": {
      "needs_background": "light"
     },
     "output_type": "display_data"
    }
   ],
   "source": [
    "test = np.array([lognormal(1,0.1) for i in range(1000)])\n",
    "plt.hist(test)"
   ]
  },
  {
   "cell_type": "code",
   "execution_count": null,
   "id": "9f6b193c-cd84-4fa1-a03a-40a07d8a63ba",
   "metadata": {},
   "outputs": [],
   "source": [
    "np.median(test)"
   ]
  },
  {
   "cell_type": "code",
   "execution_count": null,
   "id": "ed27b7e5-65b9-4c46-9e13-a083dbd8e30f",
   "metadata": {},
   "outputs": [],
   "source": [
    "len(np.where(np.array([lognormal(2,0.15) for i in range(1000)]) > 2)[0])"
   ]
  },
  {
   "cell_type": "code",
   "execution_count": null,
   "id": "ebebf9d7-ad3d-4a99-a79e-30be9ac083ce",
   "metadata": {},
   "outputs": [],
   "source": [
    "np.mean(np.array([lognormal(2,0.15) for i in range(1000)]))"
   ]
  },
  {
   "cell_type": "code",
   "execution_count": null,
   "id": "f101742e-cc36-4ed3-be1b-7a342d592ed1",
   "metadata": {},
   "outputs": [],
   "source": [
    "plt.hist(np.array([lognormal(6,1) for i in range(1000)]))\n",
    "plt.show()"
   ]
  },
  {
   "cell_type": "code",
   "execution_count": null,
   "id": "cc1a6f40-8c62-497a-8024-7f81ba5982d3",
   "metadata": {},
   "outputs": [],
   "source": [
    "plt.hist(np.array([lognormal(11,0.15) for i in range(476626)]))\n",
    "plt.show()\n"
   ]
  },
  {
   "cell_type": "code",
   "execution_count": null,
   "id": "97fd192b-70c8-4f91-ad9b-274d8bb7b0c4",
   "metadata": {},
   "outputs": [],
   "source": [
    "plt.hist(np.random.lognormal(11, 0.15, 1000),bins=50)\n",
    "plt.show()"
   ]
  },
  {
   "cell_type": "code",
   "execution_count": null,
   "id": "863e10ee-05c0-4bcb-9f61-89b46fb1a091",
   "metadata": {},
   "outputs": [],
   "source": [
    "np.median(np.random.lognormal(2, 0.1, 100000))"
   ]
  },
  {
   "cell_type": "code",
   "execution_count": null,
   "id": "d4593861-a84e-4658-86de-8d8286f7a8ce",
   "metadata": {},
   "outputs": [],
   "source": [
    "np.log(np.mean(np.random.lognormal(2, 0.001, 1000)))"
   ]
  },
  {
   "cell_type": "code",
   "execution_count": null,
   "id": "3482bb97-d1c0-4bc7-ba9d-6eb3e00538d1",
   "metadata": {},
   "outputs": [],
   "source": [
    "r,c  = 2,3\n",
    "fig,axs = plt.subplots(r,c,figsize=(10,5))\n",
    "Keys = list(comboDict.keys())\n",
    "keyCounter = 0\n",
    "for i in range(r):\n",
    "    for j in range(c):\n",
    "        n = axs[i][j].hist(comboDict[Keys[keyCounter]],bins=150)\n",
    "        axs[i][j].set_title(Keys[keyCounter])\n",
    "        axs[i][j].set_xlabel('uS')\n",
    "        cell1 = Keys[keyCounter].split('2')[0]\n",
    "        cell2 = Keys[keyCounter].split('2')[1]\n",
    "        if 'Pyr' in cell1:\n",
    "            x = np.arange(0,len(n[0]),5)\n",
    "            if 'AAC' in cell2:\n",
    "                axs[i][j].vlines(resDict['PN2CHN']['min2spike'][list(resDict[\"PN2CHN\"]['min2spike'].keys())[0]],ymin=0,ymax = max(n[0]),color='r')\n",
    "            elif 'OLM' in cell2:\n",
    "                axs[i][j].vlines(resDict[\"PN2OLM\"]['min2spike'][list(resDict[\"PN2OLM\"]['min2spike'].keys())[0]],ymin=0,ymax = max(n[0]),color='r')\n",
    "\n",
    "            elif 'PV' in cell2:\n",
    "                axs[i][j].vlines(resDict[\"PN2PV\"]['min2spike'][list(resDict[\"PN2PV\"]['min2spike'].keys())[0]],ymin=0,ymax = max(n[0]),color='r')\n",
    "        if 'AAC' in cell1:\n",
    "            axs[i][j].vlines(resDict['CHN2PN']['min2spike'][list(resDict[\"CHN2PN\"]['min2spike'].keys())[0]],ymin=0,ymax = max(n[0]),color='r')\n",
    "            \n",
    "        keyCounter+=1\n",
    "plt.subplots_adjust(wspace=0.4,hspace=0.4)\n",
    "plt.savefig('synDistributions',dpi=300)\n",
    "plt.show()"
   ]
  },
  {
   "cell_type": "markdown",
   "id": "e32fa3cc-1f90-43f9-8dec-c019ede9ed07",
   "metadata": {},
   "source": [
    "# Q's"
   ]
  },
  {
   "cell_type": "code",
   "execution_count": null,
   "id": "fa31d0c7-8c15-4154-9049-ad5a97f85d26",
   "metadata": {},
   "outputs": [],
   "source": [
    "#how to check/set the threshold of the netcon object used in bmtk"
   ]
  }
 ],
 "metadata": {
  "kernelspec": {
   "display_name": "Python 3",
   "language": "python",
   "name": "python3"
  },
  "language_info": {
   "codemirror_mode": {
    "name": "ipython",
    "version": 3
   },
   "file_extension": ".py",
   "mimetype": "text/x-python",
   "name": "python",
   "nbconvert_exporter": "python",
   "pygments_lexer": "ipython3",
   "version": "3.6.8"
  }
 },
 "nbformat": 4,
 "nbformat_minor": 5
}
