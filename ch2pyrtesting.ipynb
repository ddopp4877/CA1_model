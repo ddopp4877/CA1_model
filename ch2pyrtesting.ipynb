{
 "cells": [
  {
   "cell_type": "code",
   "execution_count": 1,
   "id": "cc30eeef-3748-42be-8253-47c3337f34de",
   "metadata": {},
   "outputs": [],
   "source": [
    "#Chn2Pyr testing"
   ]
  },
  {
   "cell_type": "code",
   "execution_count": 2,
   "id": "69dbcf7f-9df6-4089-a172-25eb913cb031",
   "metadata": {},
   "outputs": [],
   "source": [
    "import numpy as np\n",
    "from neuron import h\n",
    "import os\n",
    "import matplotlib.pyplot as plt\n",
    "import pandas as pd\n",
    "from scipy.optimize import curve_fit\n",
    "from scipy.signal import find_peaks"
   ]
  },
  {
   "cell_type": "code",
   "execution_count": 3,
   "id": "00107a87-cccc-4d27-be94-fbee589498ce",
   "metadata": {},
   "outputs": [
    {
     "name": "stdout",
     "output_type": "stream",
     "text": [
      "pyramidalcell[0].soma[0]\n",
      "pyramidalcell[0].apical[0]\n",
      "pyramidalcell[0].apical[1]\n",
      "pyramidalcell[0].apical[2]\n",
      "pyramidalcell[0].apical[3]\n",
      "pyramidalcell[0].apical[4]\n",
      "pyramidalcell[0].apical[5]\n",
      "pyramidalcell[0].apical[6]\n",
      "pyramidalcell[0].apical[7]\n",
      "pyramidalcell[0].apical[8]\n",
      "pyramidalcell[0].basal[0]\n",
      "pyramidalcell[0].basal[1]\n",
      "pyramidalcell[0].basal[2]\n",
      "pyramidalcell[0].basal[3]\n",
      "pyramidalcell[0].axon[0]\n",
      "pyramidalcell[0].axon[1]\n",
      "pyramidalcell[0].axon[2]\n",
      "pyramidalcell[0].axon[3]\n",
      "pyramidalcell[0].axon[4]\n",
      "pyramidalcell[0].axon[5]\n",
      "pyramidalcell[0].axon[6]\n",
      "pyramidalcell[0].axon[7]\n",
      "pyramidalcell[0].axon[8]\n",
      "pyramidalcell[0].axon[9]\n",
      "pyramidalcell[0].axon[10]\n",
      "pyramidalcell[0].axon[11]\n"
     ]
    }
   ],
   "source": [
    "#do not rerun\n",
    "h.load_file('stdrun.hoc')\n",
    "#h.nrn_load_dll(os.path.join(\"biophys_components\",\"mechanisms\",\"modfiles\",\"nrnmech.dll\"))\n",
    "h.nrn_load_dll(os.path.join(\"biophys_components\",\"mechanisms\",\"modfiles\",\"x86_64\",\".libs\",\"libnrnmech.so\"))\n",
    "#fileList = ['class_pyramidalcell_original_modified.hoc','class_axoaxoniccell.hoc']\n",
    "#fileList = ['class_pyramidalcell.hoc','class_axoaxoniccell.hoc']\n",
    "fileList = ['class_pyramidalcell.hoc']\n",
    "#for each file, load it into the hoc interpreter so it can be accessed\n",
    "for item in fileList:\n",
    "    h.load_file(os.path.join(\"biophys_components/templates/\",item))\n",
    "callNames = [\"h.\" + fileList[i].split('_')[1].split('.')[0] + \"()\" for i in range(len(fileList))]\n",
    "callNames.sort()\n",
    "for i in range(len(callNames)):\n",
    "    myCell = eval(callNames[i])\n",
    "    for sec in h.allsec(myCell):\n",
    "        print(sec)"
   ]
  },
  {
   "cell_type": "code",
   "execution_count": 31,
   "id": "e04a5475-0d86-4068-af14-7ddffc761889",
   "metadata": {},
   "outputs": [
    {
     "data": {
      "image/png": "[encoded data removed]",
      "text/plain": [
       "<Figure size 1080x288 with 2 Axes>"
      ]
     },
     "metadata": {
      "needs_background": "light"
     },
     "output_type": "display_data"
    },
    {
     "data": {
      "text/plain": [
       "\"\\nfig,axs = plt.subplots(1,2,figsize=(15,4))\\nplt.subplots_adjust(hspace=0.5)\\nstart,k = 0,0\\nfor j in range(2):\\n    axs[j].plot(time[:5850],res[:5850,start:start+len(InjList[k])])\\n    axs[j].set_title(callNames[k].split('.')[1].split('()')[0])\\n    axs[j].set_xlabel('Time (s)')\\n    axs[j].set_ylabel('Potential (mV)')\\n    start += len(InjList[k])\\n\\n    k+=1\\n\""
      ]
     },
     "execution_count": 31,
     "metadata": {},
     "output_type": "execute_result"
    }
   ],
   "source": [
    "\n",
    "AxonNo = 5\n",
    "#InjList = [np.arange(400,500,50),#aac\n",
    "#           np.arange(200,550,50)]#pyr\n",
    "a = 90\n",
    "InjList = [np.array([a]),np.array([a])]\n",
    "allTrials = []\n",
    "allTrialsVas = []\n",
    "allTrialsiNasoma = []\n",
    "for i in range(len(callNames)):\n",
    "    myCell = eval(callNames[i])#make the cell\n",
    "    Ia = InjList[i] /1000# nA ->pA# the current sweep for this particular cell\n",
    "    allVs = []\n",
    "    allVas = []\n",
    "    alliNasoma = []\n",
    "    for j in range(len(Ia)):#test it at each current injection and save       \n",
    "        iclamp = h.IClamp(myCell.axon[AxonNo](0.5))\n",
    "        iclamp.delay = 300\n",
    "        iclamp.dur = 2\n",
    "        iclamp.amp = Ia[j]\n",
    "        \n",
    "        v = h.Vector().record(myCell.soma[0](0.5)._ref_v)\n",
    "        va = h.Vector().record(myCell.axon[0](0.5)._ref_v)\n",
    "        iNasoma = h.Vector().record(myCell.soma[0](0.5)._ref_ina)\n",
    "        \n",
    "        h.dt=0.2\n",
    "        h.finitialize(-63)\n",
    "        h.continuerun(1500)\n",
    "        \n",
    "        iNaSoma = np.array(iNasoma)\n",
    "        V = np.array(v)\n",
    "        Va = np.array(va)\n",
    "        \n",
    "        \n",
    "        allVs.append(V)\n",
    "        allVas.append(Va)\n",
    "        alliNasoma.append(iNasoma)\n",
    "        \n",
    "    allTrials.append([allVs])#list of lists; each sublist has the current sweeps for the given cell\n",
    "    allTrialsVas.append([allVas])\n",
    "    allTrialsiNasoma.append([alliNasoma])\n",
    "    \n",
    "res = np.concatenate(allTrials,axis=1)[0].T#how I plotted it the first time.\n",
    "resVa = np.concatenate(allTrialsVas,axis=1)[0].T#how I plotted it the first time.\n",
    "resIna =  np.concatenate(allTrialsiNasoma,axis=1)[0].T#how I plotted it the first time.\n",
    "\n",
    "time = np.arange(0,res.shape[0]*h.dt/1000,h.dt/1000)#time in seconds\n",
    "\n",
    "start = 0\n",
    "\n",
    "fig,axs = plt.subplots(1,2,figsize=(15,4))\n",
    "axs[0].plot(time[:5850],res[:5850,start:start+len(InjList[1])])\n",
    "axs[0].set_title('pyramidal cell Soma')\n",
    "axs[0].set_xlabel('Time (s)')\n",
    "axs[0].set_ylabel('Potential (mV)')\n",
    "\n",
    "axs[1].plot(time[:5850],resVa[:5850,start:start+len(InjList[1])])\n",
    "axs[1].set_title('pyramidal cell axon')\n",
    "axs[1].set_xlabel('Time (s)')\n",
    "axs[1].set_ylabel('Potential (mV)')\n",
    "\n",
    "\n",
    "plt.show()\n",
    "\n",
    "\n",
    "\"\"\"\n",
    "fig,axs = plt.subplots(1,2,figsize=(15,4))\n",
    "plt.subplots_adjust(hspace=0.5)\n",
    "start,k = 0,0\n",
    "for j in range(2):\n",
    "    axs[j].plot(time[:5850],res[:5850,start:start+len(InjList[k])])\n",
    "    axs[j].set_title(callNames[k].split('.')[1].split('()')[0])\n",
    "    axs[j].set_xlabel('Time (s)')\n",
    "    axs[j].set_ylabel('Potential (mV)')\n",
    "    start += len(InjList[k])\n",
    "\n",
    "    k+=1\n",
    "\"\"\"\n",
    "#plt.savefig('current sweeps.png',dpi=500)"
   ]
  },
  {
   "cell_type": "code",
   "execution_count": 5,
   "id": "55a3e23a-4986-4269-98d7-20cd85110be3",
   "metadata": {},
   "outputs": [
    {
     "data": {
      "text/plain": [
       "Text(0, 0.5, 'current pA')"
      ]
     },
     "execution_count": 5,
     "metadata": {},
     "output_type": "execute_result"
    },
    {
     "data": {
      "image/png": "[encoded data removed]",
      "text/plain": [
       "<Figure size 432x288 with 1 Axes>"
      ]
     },
     "metadata": {
      "needs_background": "light"
     },
     "output_type": "display_data"
    }
   ],
   "source": [
    "plt.plot(time[:5850],((np.array(v) - np.array(va))/myCell.soma[0](1).ri())[:5850])\n",
    "plt.title('current into the soma from axon[0]')\n",
    "plt.xlabel('time (s)')\n",
    "plt.ylabel('current pA')"
   ]
  },
  {
   "cell_type": "code",
   "execution_count": 6,
   "id": "c57bf2ba-f828-4f1c-940d-82fe92f1729e",
   "metadata": {},
   "outputs": [
    {
     "data": {
      "text/plain": [
       "Text(0, 0.5, 'current (pA)')"
      ]
     },
     "execution_count": 6,
     "metadata": {},
     "output_type": "execute_result"
    },
    {
     "data": {
      "image/png": "[encoded data removed]",
      "text/plain": [
       "<Figure size 432x288 with 1 Axes>"
      ]
     },
     "metadata": {
      "needs_background": "light"
     },
     "output_type": "display_data"
    }
   ],
   "source": [
    "plt.plot(time[:5850],resIna[:5850,:0+len(InjList[1])]*1000)\n",
    "plt.title('pyramidal cell soma Na current')\n",
    "plt.xlabel('Time (s)')\n",
    "plt.ylabel('current (pA)')"
   ]
  },
  {
   "cell_type": "code",
   "execution_count": 7,
   "id": "240c5b7d-7465-432e-ac69-603d12e81dab",
   "metadata": {},
   "outputs": [
    {
     "name": "stdout",
     "output_type": "stream",
     "text": [
      "\n",
      "|-|       pyramidalcell[1].soma[0](0-1)\n",
      "   `--|       pyramidalcell[1].apical[0](0-1)\n",
      "       `----|       pyramidalcell[1].apical[1](0-1)\n",
      "             `--------|       pyramidalcell[1].apical[2](0-1)\n",
      "                       `----|       pyramidalcell[1].apical[3](0-1)\n",
      "                             `----|       pyramidalcell[1].apical[4](0-1)\n",
      "                                   `--|       pyramidalcell[1].apical[5](0-1)\n",
      "                       `----|       pyramidalcell[1].apical[6](0-1)\n",
      "                             `----|       pyramidalcell[1].apical[7](0-1)\n",
      "                                   `--|       pyramidalcell[1].apical[8](0-1)\n",
      " `----|       pyramidalcell[1].basal[0](0-1)\n",
      "       `----------|       pyramidalcell[1].basal[1](0-1)\n",
      " `----|       pyramidalcell[1].basal[2](0-1)\n",
      "       `----------|       pyramidalcell[1].basal[3](0-1)\n",
      " `|       pyramidalcell[1].axon[0](0-1)\n",
      "   `|       pyramidalcell[1].axon[1](0-1)\n",
      "     `|       pyramidalcell[1].axon[2](0-1)\n",
      "       `|       pyramidalcell[1].axon[3](0-1)\n",
      "         `|       pyramidalcell[1].axon[4](0-1)\n",
      "           `|       pyramidalcell[1].axon[5](0-1)\n",
      "             `|       pyramidalcell[1].axon[6](0-1)\n",
      "               `|       pyramidalcell[1].axon[7](0-1)\n",
      "                 `|       pyramidalcell[1].axon[8](0-1)\n",
      "                   `|       pyramidalcell[1].axon[9](0-1)\n",
      "                     `|       pyramidalcell[1].axon[10](0-1)\n",
      "                       `|       pyramidalcell[1].axon[11](0-1)\n",
      "\n"
     ]
    },
    {
     "data": {
      "text/plain": [
       "1.0"
      ]
     },
     "execution_count": 7,
     "metadata": {},
     "output_type": "execute_result"
    }
   ],
   "source": [
    "h.topology()"
   ]
  },
  {
   "cell_type": "code",
   "execution_count": 8,
   "id": "85851822-9899-4480-ada5-7e127ecb5dbe",
   "metadata": {},
   "outputs": [
    {
     "data": {
      "text/plain": [
       "[pyramidalcell[1].axon[0],\n",
       " pyramidalcell[1].basal[2],\n",
       " pyramidalcell[1].basal[0],\n",
       " pyramidalcell[1].apical[0]]"
      ]
     },
     "execution_count": 8,
     "metadata": {},
     "output_type": "execute_result"
    }
   ],
   "source": [
    "myCell.soma[0].children()"
   ]
  },
  {
   "cell_type": "code",
   "execution_count": 9,
   "id": "280211b4-c264-4670-8b23-0b21e64263f5",
   "metadata": {},
   "outputs": [
    {
     "data": {
      "text/plain": [
       "{'point_processes': {},\n",
       " 'density_mechs': {'pas': {'g': [3.571428571428572e-05],\n",
       "   'e': [-63.0],\n",
       "   'i': [5.814714448106123e-05]},\n",
       "  'kv': {'gbar': [200.0],\n",
       "   'gk': [0.3395237681096588],\n",
       "   'ninf': [0.0006791091283294877],\n",
       "   'ntau': [0.666490399954209],\n",
       "   'n': [0.0006791091265102143]},\n",
       "  'na16': {'gbar': [2880.0],\n",
       "   'gna': [0.5595830695140698],\n",
       "   'minf': [0.08761591077477392],\n",
       "   'hinf': [0.1155639862945035],\n",
       "   'mtau': [0.03842311534331126],\n",
       "   'htau': [0.27777777777775225],\n",
       "   'm': [0.08761591076344728],\n",
       "   'h': [0.11556398778691394]}},\n",
       " 'ions': {'na': {'ena': [50.0],\n",
       "   'nai': [10.0],\n",
       "   'nao': [140.0],\n",
       "   'ina': [-0.006232181844250856],\n",
       "   'dina_dv_': [5.595830695082765e-05]},\n",
       "  'k': {'ek': [-77.0],\n",
       "   'ki': [54.4],\n",
       "   'ko': [2.5],\n",
       "   'ik': [0.000530611820630797],\n",
       "   'dik_dv_': [3.3952376810855375e-05]}},\n",
       " 'morphology': {'L': 10.000000953674316,\n",
       "  'diam': [3.5300000877380286],\n",
       "  'pts3d': [(0.0, 0.0, 0.0, 6.0),\n",
       "   (-2.0, 0.0, 0.0, 5.0),\n",
       "   (-4.000000953674316, 0.0, 0.0, 4.0),\n",
       "   (-6.000000953674316, 0.0, 0.0, 3.0),\n",
       "   (-8.000000953674316, 0.0, 0.0, 2.0),\n",
       "   (-10.000000953674316, 0.0, 0.0, 1.2999999523162842)],\n",
       "  'parent': pyramidalcell[1].soma[0](0),\n",
       "  'trueparent': None},\n",
       " 'nseg': 1,\n",
       " 'Ra': 50.0,\n",
       " 'cm': [1.0],\n",
       " 'regions': set(),\n",
       " 'species': set(),\n",
       " 'name': 'pyramidalcell[1].axon[0]',\n",
       " 'hoc_internal_name': '__nrnsec_0x45bbc90',\n",
       " 'cell': pyramidalcell[1]}"
      ]
     },
     "execution_count": 9,
     "metadata": {},
     "output_type": "execute_result"
    }
   ],
   "source": [
    "myCell.axon[0].psection()"
   ]
  },
  {
   "cell_type": "code",
   "execution_count": 10,
   "id": "2f5bf799-ad92-4412-8822-c189016f71fe",
   "metadata": {},
   "outputs": [],
   "source": [
    "#AAC = eval(callNames[0])\n",
    "Pyr = h.pyramidalcell()\n"
   ]
  },
  {
   "cell_type": "code",
   "execution_count": 11,
   "id": "e47b800a-2a2d-4d13-82b0-a98200f383f6",
   "metadata": {},
   "outputs": [
    {
     "name": "stdout",
     "output_type": "stream",
     "text": [
      "pyramidalcell[2].axon[0](0)\n",
      "pyramidalcell[2].axon[0](0.5)\n",
      "pyramidalcell[2].axon[0](1)\n"
     ]
    }
   ],
   "source": [
    "for item in Pyr.axon[0].allseg():\n",
    "    print(item)"
   ]
  },
  {
   "cell_type": "code",
   "execution_count": 12,
   "id": "47b0c865-a1b3-4dd1-a08a-14c929b1bf64",
   "metadata": {},
   "outputs": [],
   "source": [
    "channelDict = Pyr.axon[0].psection()"
   ]
  },
  {
   "cell_type": "code",
   "execution_count": 13,
   "id": "b6552a5a-cadc-45e2-bbf8-a8f9396695fa",
   "metadata": {},
   "outputs": [
    {
     "data": {
      "text/plain": [
       "{'ena': [50.0], 'nai': [10.0], 'nao': [140.0], 'ina': [0.0], 'dina_dv_': [0.0]}"
      ]
     },
     "execution_count": 13,
     "metadata": {},
     "output_type": "execute_result"
    }
   ],
   "source": [
    "channelDict['ions']['na']"
   ]
  },
  {
   "cell_type": "code",
   "execution_count": 14,
   "id": "e39a2ca7-74c3-4a1f-9a26-a8cab80e8067",
   "metadata": {},
   "outputs": [
    {
     "data": {
      "text/plain": [
       "{'point_processes': {},\n",
       " 'density_mechs': {'pas': {'g': [3.571428571428572e-05],\n",
       "   'e': [-63.0],\n",
       "   'i': [0.0]},\n",
       "  'kv': {'gbar': [200.0],\n",
       "   'gk': [0.0],\n",
       "   'ninf': [0.0],\n",
       "   'ntau': [0.0],\n",
       "   'n': [0.0]},\n",
       "  'na16': {'gbar': [2880.0],\n",
       "   'gna': [0.0],\n",
       "   'minf': [0.0],\n",
       "   'hinf': [0.0],\n",
       "   'mtau': [0.0],\n",
       "   'htau': [0.0],\n",
       "   'm': [0.0],\n",
       "   'h': [0.0]}},\n",
       " 'ions': {'na': {'ena': [50.0],\n",
       "   'nai': [10.0],\n",
       "   'nao': [140.0],\n",
       "   'ina': [0.0],\n",
       "   'dina_dv_': [0.0]},\n",
       "  'k': {'ek': [-77.0],\n",
       "   'ki': [54.4],\n",
       "   'ko': [2.5],\n",
       "   'ik': [0.0],\n",
       "   'dik_dv_': [0.0]}},\n",
       " 'morphology': {'L': 10.000000953674316,\n",
       "  'diam': [3.5300000877380286],\n",
       "  'pts3d': [(0.0, 0.0, 0.0, 6.0),\n",
       "   (-2.0, 0.0, 0.0, 5.0),\n",
       "   (-4.000000953674316, 0.0, 0.0, 4.0),\n",
       "   (-6.000000953674316, 0.0, 0.0, 3.0),\n",
       "   (-8.000000953674316, 0.0, 0.0, 2.0),\n",
       "   (-10.000000953674316, 0.0, 0.0, 1.2999999523162842)],\n",
       "  'parent': pyramidalcell[2].soma[0](0),\n",
       "  'trueparent': None},\n",
       " 'nseg': 1,\n",
       " 'Ra': 50.0,\n",
       " 'cm': [1.0],\n",
       " 'regions': set(),\n",
       " 'species': set(),\n",
       " 'name': 'pyramidalcell[2].axon[0]',\n",
       " 'hoc_internal_name': '__nrnsec_0x45bc650',\n",
       " 'cell': pyramidalcell[2]}"
      ]
     },
     "execution_count": 14,
     "metadata": {},
     "output_type": "execute_result"
    }
   ],
   "source": [
    "channelDict"
   ]
  },
  {
   "cell_type": "code",
   "execution_count": 15,
   "id": "d95d8fca-1e03-41bf-a821-4a76cb1d12a1",
   "metadata": {},
   "outputs": [
    {
     "name": "stdout",
     "output_type": "stream",
     "text": [
      "pyramidalcell[2].axon[7] { nseg=1  L=5  Ra=50\n",
      "\tpyramidalcell[2].axon[6] connect pyramidalcell[2].axon[7] (0), 1\n",
      "\t/* First segment only */\n",
      "\tinsert morphology { diam=1}\n",
      "\tinsert capacitance { cm=1}\n",
      "\tinsert pas { g_pas=3.57143e-05 e_pas=-63}\n",
      "\tinsert na16 { gbar_na16=1645.71}\n",
      "\tinsert na_ion { ena=50}\n",
      "\tinsert kv { gbar_kv=900}\n",
      "\tinsert k_ion { ek=-77}\n",
      "}\n"
     ]
    },
    {
     "data": {
      "text/plain": [
       "1.0"
      ]
     },
     "execution_count": 15,
     "metadata": {},
     "output_type": "execute_result"
    }
   ],
   "source": [
    "h.psection(sec = Pyr.axon[7])"
   ]
  },
  {
   "cell_type": "code",
   "execution_count": 16,
   "id": "2337b64e-1dc0-4674-b1df-84ee7b379697",
   "metadata": {},
   "outputs": [
    {
     "name": "stdout",
     "output_type": "stream",
     "text": [
      "pyramidalcell[2].soma[0] { nseg=1  L=10  Ra=150\n",
      "\t/*location 0 attached to cell 1*/\n",
      "\t/* First segment only */\n",
      "\tinsert morphology { diam=10}\n",
      "\tinsert capacitance { cm=1}\n",
      "\tinsert ch_HCNp { e_ch_HCNp=-30 gmax_ch_HCNp=0.0006 vhalfl_ch_HCNp=-82}\n",
      "\tinsert ch_Navp { gmax_ch_Navp=0.032 ar2_ch_Navp=1 e_ch_Navp=0}\n",
      "\tinsert na_ion { ena=55}\n",
      "\tinsert ch_Kdrp { e_ch_Kdrp=0 gmax_ch_Kdrp=0.003}\n",
      "\tinsert ch_KvAproxp { gmax_ch_KvAproxp=0.008 e_ch_KvAproxp=0}\n",
      "\tinsert k_ion { ek=-90}\n",
      "\tinsert pas { g_pas=3.57143e-05 e_pas=-63}\n",
      "}\n"
     ]
    },
    {
     "data": {
      "text/plain": [
       "1.0"
      ]
     },
     "execution_count": 16,
     "metadata": {},
     "output_type": "execute_result"
    }
   ],
   "source": [
    "h.psection(sec = Pyr.soma[0])"
   ]
  },
  {
   "cell_type": "code",
   "execution_count": null,
   "id": "1121920a-28fa-40d9-8658-8a8f6528c7fc",
   "metadata": {},
   "outputs": [],
   "source": []
  },
  {
   "cell_type": "code",
   "execution_count": 17,
   "id": "9a9ac58a-effe-47ab-a56c-0b62d866fe43",
   "metadata": {},
   "outputs": [],
   "source": [
    "#using a synapse"
   ]
  },
  {
   "cell_type": "code",
   "execution_count": 18,
   "id": "94d8b73e-3d05-42c0-9a91-07ee471fc9de",
   "metadata": {},
   "outputs": [
    {
     "data": {
      "text/plain": [
       "0.7625446052493192"
      ]
     },
     "execution_count": 18,
     "metadata": {},
     "output_type": "execute_result"
    }
   ],
   "source": [
    "Pyr.axon[0](1).ri()"
   ]
  },
  {
   "cell_type": "code",
   "execution_count": 19,
   "id": "600c1488-e36a-4dce-b0a3-f6dc335b13e8",
   "metadata": {},
   "outputs": [
    {
     "data": {
      "text/plain": [
       "0.09549296585513721"
      ]
     },
     "execution_count": 19,
     "metadata": {},
     "output_type": "execute_result"
    }
   ],
   "source": [
    "Pyr.soma[0](1).ri()"
   ]
  }
 ],
 "metadata": {
  "kernelspec": {
   "display_name": "Python 3",
   "language": "python",
   "name": "python3"
  },
  "language_info": {
   "codemirror_mode": {
    "name": "ipython",
    "version": 3
   },
   "file_extension": ".py",
   "mimetype": "text/x-python",
   "name": "python",
   "nbconvert_exporter": "python",
   "pygments_lexer": "ipython3",
   "version": "3.6.8"
  }
 },
 "nbformat": 4,
 "nbformat_minor": 5
}
