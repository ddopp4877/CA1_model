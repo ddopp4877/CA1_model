{
 "cells": [
  {
   "cell_type": "code",
   "execution_count": null,
   "id": "cc30eeef-3748-42be-8253-47c3337f34de",
   "metadata": {},
   "outputs": [],
   "source": [
    "#Chn2Pyr testing"
   ]
  },
  {
   "cell_type": "code",
   "execution_count": 1,
   "id": "69dbcf7f-9df6-4089-a172-25eb913cb031",
   "metadata": {},
   "outputs": [],
   "source": [
    "import numpy as np\n",
    "from neuron import h\n",
    "import os\n",
    "import matplotlib.pyplot as plt\n",
    "import pandas as pd\n",
    "from scipy.optimize import curve_fit\n",
    "from scipy.signal import find_peaks"
   ]
  },
  {
   "cell_type": "code",
   "execution_count": null,
   "id": "00107a87-cccc-4d27-be94-fbee589498ce",
   "metadata": {},
   "outputs": [],
   "source": [
    "#do not rerun\n",
    "h.load_file('stdrun.hoc')\n",
    "#h.nrn_load_dll(os.path.join(\"biophys_components\",\"mechanisms\",\"modfiles\",\"nrnmech.dll\"))\n",
    "h.nrn_load_dll(os.path.join(\"biophys_components\",\"mechanisms\",\"modfiles\",\"x86_64\",\".libs\",\"libnrnmech.so\"))\n",
    "#fileList = ['class_pyramidalcell_original_modified.hoc','class_axoaxoniccell.hoc']\n",
    "fileList = ['class_pyramidalcell.hoc','class_axoaxoniccell.hoc']\n",
    "#fileList = ['class_pyramidalcell.hoc']\n",
    "#for each file, load it into the hoc interpreter so it can be accessed\n",
    "for item in fileList:\n",
    "    h.load_file(os.path.join(\"biophys_components/templates/\",item))\n",
    "callNames = [\"h.\" + fileList[i].split('_')[1].split('.')[0] + \"()\" for i in range(len(fileList))]\n",
    "callNames.sort()\n",
    "\n",
    "for i in range(len(callNames)):\n",
    "    myCell = eval(callNames[i])\n",
    "#    for sec in h.allsec(myCell):\n",
    "#        print(sec)"
   ]
  },
  {
   "cell_type": "code",
   "execution_count": null,
   "id": "e04a5475-0d86-4068-af14-7ddffc761889",
   "metadata": {},
   "outputs": [],
   "source": [
    "\n",
    "AxonNo = 6\n",
    "#InjList = [np.arange(400,500,50),#aac\n",
    "#          np.arange(200,550,50)]#pyr\n",
    "a = 200\n",
    "InjList = [np.array([200]),np.array([a])]\n",
    "allTrials = []\n",
    "allTrialsVas = []\n",
    "#allTrialsiNasoma = []\n",
    "for i in range(len(callNames)):\n",
    "    myCell = eval(callNames[i])#make the cell\n",
    "    Ia = InjList[i] /1000# nA ->pA# the current sweep for this particular cell\n",
    "    allVs = []\n",
    "    allVas = []\n",
    "    #alliNasoma = []\n",
    "    for j in range(len(Ia)):#test it at each current injection and save       \n",
    "        #iclamp = h.IClamp(myCell.axon[AxonNo](0.5))\n",
    "        iclamp = h.IClamp(myCell.soma[0](0.5))\n",
    "        iclamp.delay = 300\n",
    "        iclamp.dur = 2\n",
    "        iclamp.amp = Ia[j]\n",
    "        \n",
    "        v = h.Vector().record(myCell.soma[0](0.5)._ref_v)\n",
    "        #va = h.Vector().record(myCell.axon[0](0.5)._ref_v)\n",
    "        #iNasoma = h.Vector().record(myCell.soma[0](0.5)._ref_ina)\n",
    "        \n",
    "        h.dt=0.2\n",
    "        h.finitialize(-63)\n",
    "        h.continuerun(1500)\n",
    "        \n",
    "        #iNaSoma = np.array(iNasoma)\n",
    "        V = np.array(v)\n",
    "        #Va = np.array(va)\n",
    "        \n",
    "        \n",
    "        allVs.append(V)\n",
    "        #allVas.append(Va)\n",
    "        #alliNasoma.append(iNasoma)\n",
    "        \n",
    "    allTrials.append([allVs])#list of lists; each sublist has the current sweeps for the given cell\n",
    "    #allTrialsVas.append([allVas])\n",
    "    #allTrialsiNasoma.append([alliNasoma])\n",
    "    \n",
    "res = np.concatenate(allTrials,axis=1)[0].T#how I plotted it the first time.\n",
    "#resVa = np.concatenate(allTrialsVas,axis=1)[0].T#how I plotted it the first time.\n",
    "#resIna =  np.concatenate(allTrialsiNasoma,axis=1)[0].T#how I plotted it the first time.\n",
    "\n",
    "time = np.arange(0,res.shape[0]*h.dt/1000,h.dt/1000)#time in seconds\n",
    "\n",
    "\n",
    "\"\"\"\n",
    "start = 0\n",
    "fig,axs = plt.subplots(1,2,figsize=(15,4))\n",
    "axs[0].plot(time[:5850],res[:5850,start:start+len(InjList[1])])\n",
    "axs[0].set_title('pyramidal cell Soma')\n",
    "axs[0].set_xlim([0.25, 0.35])\n",
    "axs[0].set_xlabel('Time (s)')\n",
    "axs[0].set_ylabel('Potential (mV)')\n",
    "\n",
    "axs[1].plot(time[:5850],resVa[:5850,start:start+len(InjList[1])])\n",
    "axs[1].set_xlim([0.25, 0.35])\n",
    "axs[1].set_title('pyramidal cell axon')\n",
    "axs[1].set_xlabel('Time (s)')\n",
    "axs[1].set_ylabel('Potential (mV)')\n",
    "\n",
    "\n",
    "plt.show()\n",
    "\n",
    "\n",
    "\"\"\"\n",
    "fig,axs = plt.subplots(1,2,figsize=(15,4))\n",
    "plt.subplots_adjust(hspace=0.5)\n",
    "start,k = 0,0\n",
    "for j in range(2):\n",
    "    axs[j].plot(time[:5850],res[:5850,start:start+len(InjList[k])])\n",
    "    axs[j].set_title(callNames[k].split('.')[1].split('()')[0])\n",
    "    axs[j].set_xlabel('Time (s)')\n",
    "    axs[j].set_ylabel('Potential (mV)')\n",
    "    start += len(InjList[k])\n",
    "\n",
    "    k+=1\n",
    "\n",
    "#plt.savefig('current sweeps.png',dpi=500)"
   ]
  },
  {
   "cell_type": "code",
   "execution_count": null,
   "id": "7c093329-09b5-4335-91b8-f88bc88388d2",
   "metadata": {},
   "outputs": [],
   "source": [
    "callNames"
   ]
  },
  {
   "cell_type": "code",
   "execution_count": null,
   "id": "31d43863-4678-4bc8-b9e7-13405e4075f2",
   "metadata": {},
   "outputs": [],
   "source": [
    "dir(syn)"
   ]
  },
  {
   "cell_type": "markdown",
   "id": "6d94f476-2de2-48ec-a74c-2baebb544af3",
   "metadata": {},
   "source": [
    "# The Synapse"
   ]
  },
  {
   "cell_type": "code",
   "execution_count": 2,
   "id": "edce9d06-de52-45e4-8450-6475a3bbf1a5",
   "metadata": {},
   "outputs": [],
   "source": [
    "import numpy as np\n",
    "from neuron import h\n",
    "import os\n",
    "import matplotlib.pyplot as plt\n",
    "import pandas as pd\n",
    "from scipy.optimize import curve_fit\n",
    "from scipy.signal import find_peaks"
   ]
  },
  {
   "cell_type": "code",
   "execution_count": 3,
   "id": "0959d199-d213-49fd-af13-845f78524ceb",
   "metadata": {},
   "outputs": [
    {
     "data": {
      "text/plain": [
       "1.0"
      ]
     },
     "execution_count": 3,
     "metadata": {},
     "output_type": "execute_result"
    }
   ],
   "source": [
    "h.load_file('stdrun.hoc')\n",
    "#h.nrn_load_dll(os.path.join(\"biophys_components\",\"mechanisms\",\"modfiles\",\"nrnmech.dll\"))\n",
    "h.nrn_load_dll(os.path.join(\"biophys_components\",\"mechanisms\",\"modfiles\",\"x86_64\",\".libs\",\"libnrnmech.so\"))\n",
    "h.load_file(os.path.join(\"biophys_components/templates/\",'class_pyramidalcell.hoc'))\n",
    "h.load_file(os.path.join(\"biophys_components/templates/\",'class_axoaxoniccell.hoc'))"
   ]
  },
  {
   "cell_type": "code",
   "execution_count": null,
   "id": "24ed8383-be0f-4850-83c1-d7374f707cda",
   "metadata": {},
   "outputs": [],
   "source": [
    "from neuron import h\n",
    "\n",
    "# setup for three simulations\n",
    "s1 = h.Section(name='s1')\n",
    "s2 = h.Section(name='s2')\n",
    "s3 = h.Section(name='s3')\n",
    "\n",
    "for sec in [s1, s2, s3]:\n",
    "    sec.insert('hh')\n",
    "    sec.L = sec.diam = 3\n",
    "\n",
    "c1 = h.IClamp(s1(0.5))\n",
    "c2 = h.SEClamp(s2(0.5))\n",
    "c3 = h.VClamp(s3(0.5))\n",
    "c1.dur = 0.1\n",
    "c1.amp = 0.3\n",
    "c2.dur1 = 1\n",
    "c2.rs = 0.01\n",
    "c3.dur[0] = 1\n",
    "\n",
    "# record an action potential\n",
    "ap = h.Vector()\n",
    "ap.record(s1(0.5)._ref_v)\n",
    "h.finitialize(-65)\n",
    "while h.t < 1:\n",
    "    h.fadvance()\n",
    "\n",
    "# do the three cases while playing the recorder ap\n",
    "apc = ap.c() # unfortunately, cannot play into two variables, so clone it\n",
    "ap.play_remove()\n",
    "ap.play(c2._ref_amp1, h.dt)\n",
    "apc.play(c3._ref_amp[0], h.dt)\n",
    "h.finitialize(-65)\n"
   ]
  },
  {
   "cell_type": "code",
   "execution_count": null,
   "id": "dbcc79a9-5f50-4b96-a505-977a0ff06d28",
   "metadata": {},
   "outputs": [],
   "source": [
    "Pyr = h.pyramidalcell()\n",
    "AAC = h.axoaxoniccell()\n",
    "\n",
    "iclamp = h.IClamp(AAC.soma[0](0.5))\n",
    "iclamp.delay = 100\n",
    "iclamp.dur = 15\n",
    "iclamp.amp = 0.3\n",
    "\n",
    "vclamp = h.SEClamp(Pyr.soma[0](0.5))\n",
    "vclamp.dur = 1\n",
    "vclamp.rs = 0.01\n",
    "\n",
    "vPyr = h.Vector().record(Pyr.soma[0](0.5)._ref_v)\n",
    "vPyrAxon = h.Vector().record(Pyr.axon[6](0.5)._ref_v)\n",
    "vAAC = h.Vector().record(AAC.soma[0](0.5)._ref_v)\n",
    "\n",
    "syn = h.chn2pyr(Pyr.axon[6](0.5))\n",
    "#syn = h.ExpGABAab(Pyr.axon[6](0.5))\n",
    "syn.AlphaTmax_gaba = 1.52\n",
    "syn.Beta_gaba = 0.14\n",
    "syn.Cdur_gaba = 0.7254\n",
    "syn.gbar_gaba = 0.006\n",
    "syn.Erev_gaba = -50\n",
    "syn.initW =2\n",
    "syn.lambda1 = 1\n",
    "syn.lambda2 = 0.01\n",
    "syn.threshold1 = 0.5\n",
    "syn.threshold2 = 0.6\n",
    "syn.tauD1 = 40\n",
    "syn.d1 = 0.95\n",
    "syn.tauD2 = 70\n",
    "syn.d2 = 0.9\n",
    "syn.tauF = 20\n",
    "syn.f = 0\n",
    "\n",
    "isyn = h.Vector().record(syn._ref_igaba)\n",
    "#isyn= h.Vector().record(syn._ref_i)\n",
    "netcon = h.NetCon(AAC.soma[0](0.5)._ref_v, syn,10, 0.8, 1,sec=AAC.soma[0])\n",
    "\n",
    "h.dt=0.1\n",
    "h.L = 20\n",
    "h.finitialize(-63)\n",
    "h.continuerun(300)\n",
    "\n",
    "vPyr = np.array(vPyr)\n",
    "vAAC = np.array(vAAC)\n",
    "isyn = np.array(isyn)"
   ]
  },
  {
   "cell_type": "code",
   "execution_count": null,
   "id": "83f8aae8-fd4e-4228-af03-0a100c5f7a94",
   "metadata": {},
   "outputs": [],
   "source": [
    "plt.plot(vAAC)"
   ]
  },
  {
   "cell_type": "code",
   "execution_count": null,
   "id": "106f6eac-026e-41b9-acd6-cacfbf99946c",
   "metadata": {},
   "outputs": [],
   "source": [
    "plt.plot(vPyr,label = 'soma')\n",
    "plt.plot(vPyrAxon,label='axon')\n",
    "\n",
    "plt.legend()"
   ]
  },
  {
   "cell_type": "code",
   "execution_count": null,
   "id": "041836c3-a8d8-4347-a6c9-f58ad6025c0a",
   "metadata": {},
   "outputs": [],
   "source": [
    "plt.plot(isyn)\n",
    "plt.xlim([1000,1300])\n",
    "plt.ylim([-0.1,0.1])"
   ]
  },
  {
   "cell_type": "code",
   "execution_count": null,
   "id": "fdf4fdf8-0efb-4cc6-b9de-011acbffced8",
   "metadata": {},
   "outputs": [],
   "source": [
    "secList = []\n",
    "for sec in h.allsec(Pyr):\n",
    "    #print(sec)\n",
    "    for seg in sec.allseg():\n",
    "        secList.append(seg)\n",
    "        print(seg)\n",
    "secList = [str(item) for item in secList]\n"
   ]
  },
  {
   "cell_type": "code",
   "execution_count": null,
   "id": "b071b794-0919-415b-b938-ca4f81c76d05",
   "metadata": {},
   "outputs": [],
   "source": [
    "secList = secList[:secList.index('axoaxoniccell[0].soma[0](0)')]\n",
    "#secList.index('pyramidalcell[1].axon[6](0.5)')"
   ]
  },
  {
   "cell_type": "code",
   "execution_count": null,
   "id": "3e012584-1268-4413-9443-e95751da06bd",
   "metadata": {},
   "outputs": [],
   "source": [
    "secList"
   ]
  },
  {
   "cell_type": "code",
   "execution_count": null,
   "id": "d401b39a-043d-4394-bfb4-790f3caa21c0",
   "metadata": {},
   "outputs": [],
   "source": [
    "count = 0\n",
    "for i in secList:\n",
    "    if '(1)' in i:\n",
    "        if 'axon' not in i:\n",
    "            count+=1\n",
    "count"
   ]
  },
  {
   "cell_type": "code",
   "execution_count": 83,
   "id": "925b5025-6b6c-4c4d-802e-7b041de41da3",
   "metadata": {},
   "outputs": [
    {
     "name": "stdout",
     "output_type": "stream",
     "text": [
      "pyramidalcell[27].soma[0]\n",
      "pyramidalcell[27].axon[0]\n",
      "pyramidalcell[27].axon[1]\n",
      "pyramidalcell[27].axon[2]\n",
      "pyramidalcell[27].axon[3]\n",
      "pyramidalcell[27].axon[4]\n",
      "pyramidalcell[27].axon[5]\n",
      "pyramidalcell[27].axon[6]\n",
      "pyramidalcell[27].axon[7]\n",
      "pyramidalcell[27].axon[8]\n",
      "pyramidalcell[27].axon[9]\n",
      "pyramidalcell[27].axon[10]\n",
      "pyramidalcell[27].axon[11]\n",
      "pyramidalcell[27].apical[0]\n",
      "pyramidalcell[27].apical[1]\n",
      "pyramidalcell[27].apical[2]\n",
      "pyramidalcell[27].apical[3]\n",
      "pyramidalcell[27].apical[4]\n",
      "pyramidalcell[27].apical[5]\n",
      "pyramidalcell[27].apical[6]\n",
      "pyramidalcell[27].apical[7]\n",
      "pyramidalcell[27].apical[8]\n",
      "pyramidalcell[27].basal[0]\n",
      "pyramidalcell[27].basal[1]\n",
      "pyramidalcell[27].basal[2]\n",
      "pyramidalcell[27].basal[3]\n"
     ]
    },
    {
     "data": {
      "text/plain": [
       "1.0"
      ]
     },
     "execution_count": 83,
     "metadata": {},
     "output_type": "execute_result"
    }
   ],
   "source": [
    "Pyr.all.printnames()"
   ]
  },
  {
   "cell_type": "code",
   "execution_count": 91,
   "id": "9f87ae49-b3cd-4de4-bf8b-1101b7df459b",
   "metadata": {},
   "outputs": [
    {
     "data": {
      "text/plain": [
       "{'point_processes': {},\n",
       " 'density_mechs': {'pas': {'g': [3.571428571428572e-05],\n",
       "   'e': [-63.0],\n",
       "   'i': [6.07443267347446e-05]},\n",
       "  'ch_HCNp': {'e': [-30.0],\n",
       "   'gmax': [0.0006],\n",
       "   'vhalfl': [-82.0],\n",
       "   'i': [-0.0007862481362021814],\n",
       "   'myi': [-0.0007862481362021814],\n",
       "   'g': [2.5120423840602053e-05],\n",
       "   'l': [0.041867441643663475]},\n",
       "  'ch_Kdrp': {'e': [0.0],\n",
       "   'gmax': [0.003],\n",
       "   'myi': [1.897284321399818e-05],\n",
       "   'g': [6.610553020304636e-07],\n",
       "   'n': [0.00022035175827553641]},\n",
       "  'ch_KvAproxp': {'gmax': [0.008],\n",
       "   'e': [0.0],\n",
       "   'myi': [0.00016664987295502014],\n",
       "   'g': [5.80644560528174e-06],\n",
       "   'n': [0.0011239228637742284],\n",
       "   'l': [0.6457789761004049]},\n",
       "  'ch_Navp': {'gmax': [0.032],\n",
       "   'ar2': [1.0],\n",
       "   'e': [0.0],\n",
       "   'myi': [-5.142418250244492e-07],\n",
       "   'g': [4.421715772522448e-09],\n",
       "   'm': [0.005172281565960553],\n",
       "   'h': [0.9986068470730196],\n",
       "   's': [1.0]}},\n",
       " 'ions': {'na': {'ena': [55.0],\n",
       "   'nai': [10.0],\n",
       "   'nao': [140.0],\n",
       "   'ina': [-5.142418250244492e-07],\n",
       "   'dina_dv_': [4.421715772535986e-09]},\n",
       "  'k': {'ek': [-90.0],\n",
       "   'ki': [54.4],\n",
       "   'ko': [2.5],\n",
       "   'ik': [0.00018562271616901833],\n",
       "   'dik_dv_': [6.4675009073096265e-06]}},\n",
       " 'morphology': {'L': 20.0,\n",
       "  'diam': [10.0],\n",
       "  'pts3d': [(0.0, 0.0, 0.0, 10.0),\n",
       "   (0.0, 10.0, 0.0, 10.0),\n",
       "   (0.0, 20.0, 0.0, 10.0)],\n",
       "  'parent': None,\n",
       "  'trueparent': None},\n",
       " 'nseg': 1,\n",
       " 'Ra': 150.0,\n",
       " 'cm': [1.0],\n",
       " 'regions': set(),\n",
       " 'species': set(),\n",
       " 'name': 'pyramidalcell[27].soma[0]',\n",
       " 'hoc_internal_name': '__nrnsec_0x2e3b110',\n",
       " 'cell': pyramidalcell[27]}"
      ]
     },
     "execution_count": 91,
     "metadata": {},
     "output_type": "execute_result"
    }
   ],
   "source": [
    "Pyr.soma[0].psection()"
   ]
  },
  {
   "cell_type": "code",
   "execution_count": 92,
   "id": "d32b44ca-c76b-4cd7-a46e-505121206977",
   "metadata": {},
   "outputs": [
    {
     "data": {
      "text/plain": [
       "0.0006"
      ]
     },
     "execution_count": 92,
     "metadata": {},
     "output_type": "execute_result"
    }
   ],
   "source": [
    "Pyr.soma[0].gmax_ch_HCNp"
   ]
  },
  {
   "cell_type": "markdown",
   "id": "b5b7612c-b59a-44b5-98ff-e65484f78df7",
   "metadata": {},
   "source": [
    "# test for facilitation"
   ]
  },
  {
   "cell_type": "code",
   "execution_count": 93,
   "id": "2af97d1e-feef-4c05-93e1-143c43bee79e",
   "metadata": {},
   "outputs": [],
   "source": [
    "Pyr = h.pyramidalcell()\n",
    "AAC = h.axoaxoniccell()\n",
    "\n",
    "Pyr.soma[0].gmax_ch_HCNp = 0\n",
    "\n",
    "iclamp = h.IClamp(Pyr.axon[6](0.5))\n",
    "iclamp.delay = 100\n",
    "iclamp.dur = 15\n",
    "iclamp.amp = 0.3\n",
    "\n",
    "\n",
    "vPyr = h.Vector().record(Pyr.soma[0](0.5)._ref_v)\n",
    "vPyrAxon = h.Vector().record(Pyr.axon[6](0.5)._ref_v)\n",
    "vAAC = h.Vector().record(AAC.soma[0](0.5)._ref_v)\n",
    "vPyrapical = h.Vector().record(Pyr.apical[0](0.5)._ref_v)\n",
    "\n",
    "\n",
    "syn = h.pyr2int(AAC.soma[0](0.5))\n",
    "#syn = h.ExpGABAab(Pyr.axon[6](0.5))\n",
    "syn.AlphaTmax_ampa =  10.157\n",
    "syn.Beta_ampa = 0.4167\n",
    "syn.Cdur_ampa = 0.713\n",
    "syn.gbar_ampa =  0.001\n",
    "syn.Erev_ampa = 0\n",
    "syn.AlphaTmax_nmda = 0.2659\n",
    "syn.Beta_nmda = 0.008\n",
    "syn.Cdur_nmda = 16.7650#some kind of time constant\n",
    "syn.gbar_nmda = 0.0005\n",
    "syn.Erev_nmda = 0\n",
    "syn.initW = 100\n",
    "#syn.initW_lognormal_mean = 5\n",
    "#syn.initW_lognormal_std = 1.2\n",
    "syn.Wmax = 25\n",
    "syn.Wmin = 0.25\n",
    "#syn.delay = 0.8\n",
    "#syn.con_pattern = 1\n",
    "syn.lambda1 = 8\n",
    "syn.lambda2 = 0.01\n",
    "syn.threshold1 = 0.35\n",
    "syn.threshold2 = 0.4\n",
    "syn.tauD1 = 4#40\n",
    "syn.d1 = 0.95\n",
    "syn.tauD2 = 1#70\n",
    "syn.d2 = 0.9\n",
    "syn.tauF = 5#45\n",
    "syn.f = 1\n",
    "syn.bACH = 0\n",
    "syn.aDA = 1\n",
    "syn.bDA = 0\n",
    "syn.wACH = 0\n",
    "#syn.ratio = 0.05\n",
    "#syn.gaussa = 0\n",
    "\n",
    "iAMPA = h.Vector().record(syn._ref_i_ampa)\n",
    "iNMDA = h.Vector().record(syn._ref_i_nmda)\n",
    "#isyn= h.Vector().record(syn._ref_i)\n",
    "netcon = h.NetCon(Pyr.apical[0](0.5)._ref_v, syn,10, 0.8, 10,sec=Pyr.apical[0])\n",
    "\n",
    "h.dt=0.1\n",
    "h.L = 20\n",
    "h.finitialize(-63)\n",
    "h.continuerun(300)\n",
    "\n",
    "vPyr = np.array(vPyr)\n",
    "vAAC = np.array(vAAC)\n",
    "vPyrapical = np.array(vPyrapical)\n",
    "iAMPA = np.array(iAMPA)\n",
    "iNMDA = np.array(iNMDA)"
   ]
  },
  {
   "cell_type": "code",
   "execution_count": 94,
   "id": "0a72278c-3054-4846-8a1d-dd6a8784bd00",
   "metadata": {},
   "outputs": [
    {
     "data": {
      "text/plain": [
       "[<matplotlib.lines.Line2D at 0x2b0782fcb5f8>]"
      ]
     },
     "execution_count": 94,
     "metadata": {},
     "output_type": "execute_result"
    },
    {
     "data": {
      "image/png": "[encoded data removed]",
      "text/plain": [
       "<Figure size 432x288 with 1 Axes>"
      ]
     },
     "metadata": {
      "needs_background": "light"
     },
     "output_type": "display_data"
    }
   ],
   "source": [
    "plt.plot(time,vPyrapical)"
   ]
  },
  {
   "cell_type": "code",
   "execution_count": 95,
   "id": "5e93405a-ae31-4709-81b3-e42cc0e02dfd",
   "metadata": {},
   "outputs": [
    {
     "data": {
      "text/plain": [
       "<matplotlib.legend.Legend at 0x2b07820b1080>"
      ]
     },
     "execution_count": 95,
     "metadata": {},
     "output_type": "execute_result"
    },
    {
     "data": {
      "image/png": "[encoded data removed]",
      "text/plain": [
       "<Figure size 432x288 with 1 Axes>"
      ]
     },
     "metadata": {
      "needs_background": "light"
     },
     "output_type": "display_data"
    }
   ],
   "source": [
    "time = np.arange(0,300.1,0.1)\n",
    "plt.plot(time,vAAC,label = 'AAC')\n",
    "plt.plot(time,vPyr,label='Pyr')\n",
    "plt.legend()\n"
   ]
  },
  {
   "cell_type": "code",
   "execution_count": 96,
   "id": "14261651-9139-444e-b9b9-f42ee28a4196",
   "metadata": {},
   "outputs": [
    {
     "data": {
      "text/plain": [
       "<matplotlib.legend.Legend at 0x2b078234cd30>"
      ]
     },
     "execution_count": 96,
     "metadata": {},
     "output_type": "execute_result"
    },
    {
     "data": {
      "image/png": "[encoded data removed]",
      "text/plain": [
       "<Figure size 432x288 with 1 Axes>"
      ]
     },
     "metadata": {
      "needs_background": "light"
     },
     "output_type": "display_data"
    }
   ],
   "source": [
    "plt.plot(time,iAMPA,label = 'ampa')\n",
    "plt.plot(time,iNMDA,label = 'nmda')\n",
    "plt.legend()"
   ]
  },
  {
   "cell_type": "code",
   "execution_count": null,
   "id": "50a41933-11c1-468a-bc44-645ae18335f4",
   "metadata": {},
   "outputs": [],
   "source": []
  },
  {
   "cell_type": "code",
   "execution_count": 70,
   "id": "767fd59e-2868-4d0b-91ea-4ddda0098cb7",
   "metadata": {},
   "outputs": [
    {
     "data": {
      "text/plain": [
       "[<matplotlib.lines.Line2D at 0x2b078297f278>]"
      ]
     },
     "execution_count": 70,
     "metadata": {},
     "output_type": "execute_result"
    },
    {
     "data": {
      "image/png": "[encoded data removed]",
      "text/plain": [
       "<Figure size 432x288 with 1 Axes>"
      ]
     },
     "metadata": {
      "needs_background": "light"
     },
     "output_type": "display_data"
    }
   ],
   "source": [
    "plt.plot(time,iNMDA)"
   ]
  },
  {
   "cell_type": "code",
   "execution_count": null,
   "id": "86c3d39a-2cc6-4c9d-819b-bb27226c9a06",
   "metadata": {},
   "outputs": [],
   "source": []
  },
  {
   "cell_type": "code",
   "execution_count": null,
   "id": "99df1e6b-68d0-4066-9f14-2e92d2b6d6a3",
   "metadata": {},
   "outputs": [],
   "source": []
  },
  {
   "cell_type": "code",
   "execution_count": null,
   "id": "9c4a9d4e-4706-4e97-945d-9f6e766c1a48",
   "metadata": {},
   "outputs": [],
   "source": []
  },
  {
   "cell_type": "code",
   "execution_count": null,
   "id": "23cb7956-2292-4d11-96ce-c21e52e67e57",
   "metadata": {},
   "outputs": [],
   "source": [
    "    \"AlphaTmax_ampa\": \"10.1571\",\n",
    "    \"Beta_ampa\": \"0.4167\",\n",
    "    \"Cdur_ampa\": \"0.713\",\n",
    "    \"gbar_ampa\": \"0.001\",\n",
    "    \"Erev_ampa\": \"0\",\n",
    "    \"AlphaTmax_nmda\": \"0.2659\",\n",
    "    \"Beta_nmda\": \"0.008\",\n",
    "    \"Cdur_nmda\": \"16.7650\",\n",
    "    \"gbar_nmda\": \"0.0005\",\n",
    "    \"Erev_nmda\": \"0\",\n",
    "    \"initW\": \"1\",\n",
    "    \"initW_lognormal_mean\": 5,\n",
    "    \"initW_lognormal_std\": 1.2,\n",
    "    \"Wmax\": \"25\",\n",
    "    \"Wmin\": \"0.25\",\n",
    "    \"delay\": \"0.8\",\n",
    "    \"con_pattern\": \"1\",\n",
    "    \"lambda1\": \"8\",\n",
    "    \"lambda2\": \"0.01\",\n",
    "    \"threshold1\": \"0.35\",\n",
    "    \"threshold2\": \"0.4\",\n",
    "    \"tauD1\": \"40\",\n",
    "    \"d1\": \"0.95\",\n",
    "    \"tauD2\": \"70\",\n",
    "    \"d2\": \"0.9\",\n",
    "    \"tauF\": \"45\",\n",
    "    \"f\": \"1\",\n",
    "    \"bACH\": \"0\",\n",
    "    \"aDA\": \"1\",\n",
    "    \"bDA\": \"0\",\n",
    "    \"wACH\": \"0\",\n",
    "    \"ratio\": \"0.05\",\n",
    "    \"gaussa\": \"0\""
   ]
  },
  {
   "cell_type": "code",
   "execution_count": null,
   "id": "69c64560-1d7e-4dbf-bb30-ce6dee4d3eb2",
   "metadata": {},
   "outputs": [],
   "source": []
  },
  {
   "cell_type": "code",
   "execution_count": null,
   "id": "958ba7c2-c850-4e66-92a5-d01e02b0d349",
   "metadata": {},
   "outputs": [],
   "source": []
  },
  {
   "cell_type": "markdown",
   "id": "2302441e-7c16-4389-8bf4-7a198a621371",
   "metadata": {},
   "source": [
    "# bmtk's synapse()"
   ]
  },
  {
   "cell_type": "code",
   "execution_count": null,
   "id": "a1a169a7-3891-48fa-a5cb-c35e4f8bca8a",
   "metadata": {},
   "outputs": [],
   "source": [
    "\n",
    "m = 6#syn_params.get('initW_lognormal_mean')\n",
    "s = 0#syn_params.get('initW_lognormal_std')\n",
    "mean = np.log(m) - 0.5 * np.log((s/m)**2+1)\n",
    "std = np.sqrt(np.log((s/m)**2 + 1))\n",
    "log_weight = float(np.random.lognormal(mean,std, 1))\n",
    "if log_weight >= float(5*m):\n",
    "    log_weight = float(5*m)\n",
    "float(log_weight) # par.x(0) * rC.uniform(0.5,1.0)//rand.normal(0.5,1.5) //`rand.repick()"
   ]
  },
  {
   "cell_type": "code",
   "execution_count": null,
   "id": "2bac018d-f959-432a-9182-3bc85a3da6d9",
   "metadata": {},
   "outputs": [],
   "source": [
    "Pyr.NumBasal"
   ]
  },
  {
   "cell_type": "code",
   "execution_count": null,
   "id": "47ea1459-de5a-4be8-9512-c9245974c8b0",
   "metadata": {},
   "outputs": [],
   "source": [
    "Pyr.NumSoma"
   ]
  },
  {
   "cell_type": "code",
   "execution_count": null,
   "id": "92922ec7-429e-418b-b6f4-cbf4c204a9cd",
   "metadata": {},
   "outputs": [],
   "source": [
    "dir(Pyr)"
   ]
  },
  {
   "cell_type": "code",
   "execution_count": null,
   "id": "2d81b719-f68b-4169-86b4-e5d5b2ed631d",
   "metadata": {},
   "outputs": [],
   "source": [
    "secList.index('pyramidalcell[0].axon[6](0.5)')"
   ]
  },
  {
   "cell_type": "code",
   "execution_count": null,
   "id": "7f5ff346-0931-4341-bbf3-695a5f4c97ac",
   "metadata": {},
   "outputs": [],
   "source": [
    "Pyr.axon[6].psection()"
   ]
  },
  {
   "cell_type": "code",
   "execution_count": null,
   "id": "4107c676-3ec4-43b2-a8aa-af3c8056d58d",
   "metadata": {},
   "outputs": [],
   "source": [
    "len(secList)"
   ]
  },
  {
   "cell_type": "code",
   "execution_count": null,
   "id": "e36329af-2950-4dee-a43a-dbdd674898f0",
   "metadata": {},
   "outputs": [],
   "source": [
    "secList.index('pyramidalcell[1].axon[6](0.5)')"
   ]
  },
  {
   "cell_type": "code",
   "execution_count": null,
   "id": "7403b34c-df77-4139-a26f-f154db596fc6",
   "metadata": {},
   "outputs": [],
   "source": [
    "mt = h.MechanismType(0)\n",
    "mt1 = h.MechanismType(1)"
   ]
  },
  {
   "cell_type": "code",
   "execution_count": null,
   "id": "65c0a753-03f7-4c49-b066-a67863cd0af9",
   "metadata": {},
   "outputs": [],
   "source": [
    "mname  = h.ref('')\n",
    "for i in range(mt1.count()):\n",
    "    mt1.select(i)\n",
    "    mt1.selected(mname)\n",
    "    print(mname[0])"
   ]
  },
  {
   "cell_type": "code",
   "execution_count": null,
   "id": "7e28ee0d-52f2-463f-9c2b-2a880d90b957",
   "metadata": {},
   "outputs": [],
   "source": [
    "mname  = h.ref('')\n",
    "for i in range(mt.count()):\n",
    "    mt.select(i)\n",
    "    mt.selected(mname)\n",
    "    print(mname[0])"
   ]
  },
  {
   "cell_type": "code",
   "execution_count": null,
   "id": "ba6bcb70-6acf-4a5d-a735-ce14c13f7881",
   "metadata": {},
   "outputs": [],
   "source": [
    "dir(mt)"
   ]
  },
  {
   "cell_type": "markdown",
   "id": "db5828f8-7589-4cb8-879f-98e9d2318853",
   "metadata": {},
   "source": [
    "# testing"
   ]
  },
  {
   "cell_type": "code",
   "execution_count": null,
   "id": "240c5b7d-7465-432e-ac69-603d12e81dab",
   "metadata": {},
   "outputs": [],
   "source": [
    "h.topology()"
   ]
  },
  {
   "cell_type": "code",
   "execution_count": null,
   "id": "859c2584-7f45-4d04-a0e0-dbbeb761e66c",
   "metadata": {},
   "outputs": [],
   "source": []
  },
  {
   "cell_type": "code",
   "execution_count": null,
   "id": "85851822-9899-4480-ada5-7e127ecb5dbe",
   "metadata": {},
   "outputs": [],
   "source": [
    "myCell.soma[0].children()"
   ]
  },
  {
   "cell_type": "code",
   "execution_count": null,
   "id": "280211b4-c264-4670-8b23-0b21e64263f5",
   "metadata": {},
   "outputs": [],
   "source": [
    "myCell.axon[0].psection()"
   ]
  },
  {
   "cell_type": "code",
   "execution_count": null,
   "id": "2f5bf799-ad92-4412-8822-c189016f71fe",
   "metadata": {},
   "outputs": [],
   "source": [
    "#AAC = eval(callNames[0])\n",
    "Pyr = h.pyramidalcell()\n"
   ]
  },
  {
   "cell_type": "code",
   "execution_count": null,
   "id": "e47b800a-2a2d-4d13-82b0-a98200f383f6",
   "metadata": {},
   "outputs": [],
   "source": [
    "for item in Pyr.axon[0].allseg():\n",
    "    print(item)"
   ]
  },
  {
   "cell_type": "code",
   "execution_count": null,
   "id": "47b0c865-a1b3-4dd1-a08a-14c929b1bf64",
   "metadata": {},
   "outputs": [],
   "source": [
    "channelDict = Pyr.axon[0].psection()"
   ]
  },
  {
   "cell_type": "code",
   "execution_count": null,
   "id": "b6552a5a-cadc-45e2-bbf8-a8f9396695fa",
   "metadata": {},
   "outputs": [],
   "source": [
    "channelDict['ions']['na']"
   ]
  },
  {
   "cell_type": "code",
   "execution_count": null,
   "id": "e39a2ca7-74c3-4a1f-9a26-a8cab80e8067",
   "metadata": {},
   "outputs": [],
   "source": [
    "channelDict"
   ]
  },
  {
   "cell_type": "code",
   "execution_count": null,
   "id": "d95d8fca-1e03-41bf-a821-4a76cb1d12a1",
   "metadata": {},
   "outputs": [],
   "source": [
    "h.psection(sec = Pyr.axon[5])"
   ]
  },
  {
   "cell_type": "code",
   "execution_count": null,
   "id": "2337b64e-1dc0-4674-b1df-84ee7b379697",
   "metadata": {},
   "outputs": [],
   "source": [
    "h.psection(sec = Pyr.soma[0])"
   ]
  },
  {
   "cell_type": "code",
   "execution_count": null,
   "id": "1121920a-28fa-40d9-8658-8a8f6528c7fc",
   "metadata": {},
   "outputs": [],
   "source": [
    "static int _ode_spec1 () {_reset=0;\n",
    " {\n",
    "   DW = 1e-12 * limitW * eta ( _threadargscomma_ capoolcon ) * ( lambda1 * omega ( _threadargscomma_ capoolcon , threshold1 , threshold2 ) - lambda2 * GAP1 ( _threadargscomma_ GAPstart1 , GAPstop1 ) * W ) ;\n",
    "   Dr_gaba = AlphaTmax_gaba * on_gaba * ( 1.0 - r_gaba ) - Beta_gaba * r_gaba ;\n",
    "   Dcapoolcon = - fCag * Afactor * Icatotal + ( Cainf - capoolcon ) / tauCa ;\n",
    "   }\n",
    " return _reset;\n",
    "}\n",
    " static int _ode_matsol1 () {\n",
    " DW = DW  / (1. - dt*( ( 1e-12 * limitW * eta ( _threadargscomma_ capoolcon ) )*( ( ( - ( lambda2 * GAP1 ( _threadargscomma_ GAPstart1 , GAPstop1 ) )*( 1.0 ) ) ) ) )) ;\n",
    " Dr_gaba = Dr_gaba  / (1. - dt*( ( AlphaTmax_gaba * on_gaba )*( ( ( - 1.0 ) ) ) - ( Beta_gaba )*( 1.0 ) )) ;\n",
    " Dcapoolcon = Dcapoolcon  / (1. - dt*( ( ( ( - 1.0 ) ) ) / tauCa )) ;\n",
    "  return 0;\n",
    "}\n",
    " /*END CVODE*/\n",
    " static int release () {_reset=0;\n",
    " {\n",
    "    W = W + (1. - exp(dt*(( 1e-12 * limitW * eta ( _threadargscomma_ capoolcon ) )*( ( ( - ( lambda2 * GAP1 ( _threadargscomma_ GAPstart1 , GAPstop1 ) )*( 1.0 ) ) ) ))))*(- ( ( ( ( 1e-12 )*( limitW ) )*( eta ( _threadargscomma_ capoolcon ) ) )*( ( ( lambda1 )*( omega ( _threadargscomma_ capoolcon , threshold1 , threshold2 ) ) ) ) ) / ( ( ( ( 1e-12 )*( limitW ) )*( eta ( _threadargscomma_ capoolcon ) ) )*( ( ( - ( ( lambda2 )*( GAP1 ( _threadargscomma_ GAPstart1 , GAPstop1 ) ) )*( 1.0 ) ) ) ) ) - W) ;\n",
    "    r_gaba = r_gaba + (1. - exp(dt*(( AlphaTmax_gaba * on_gaba )*( ( ( - 1.0 ) ) ) - ( Beta_gaba )*( 1.0 ))))*(- ( ( ( AlphaTmax_gaba )*( on_gaba ) )*( ( 1.0 ) ) ) / ( ( ( AlphaTmax_gaba )*( on_gaba ) )*( ( ( - 1.0 ) ) ) - ( Beta_gaba )*( 1.0 ) ) - r_gaba) ;\n",
    "    capoolcon = capoolcon + (1. - exp(dt*(( ( ( - 1.0 ) ) ) / tauCa)))*(- ( ( ( - fCag )*( Afactor ) )*( Icatotal ) + ( ( Cainf ) ) / tauCa ) / ( ( ( ( - 1.0 ) ) ) / tauCa ) - capoolcon) ;\n",
    "   }\n",
    "  return 0;\n",
    "}"
   ]
  },
  {
   "cell_type": "code",
   "execution_count": null,
   "id": "9a9ac58a-effe-47ab-a56c-0b62d866fe43",
   "metadata": {},
   "outputs": [],
   "source": [
    "#using a synapse"
   ]
  },
  {
   "cell_type": "code",
   "execution_count": null,
   "id": "94d8b73e-3d05-42c0-9a91-07ee471fc9de",
   "metadata": {},
   "outputs": [],
   "source": [
    "Pyr.axon[0](1).ri()"
   ]
  },
  {
   "cell_type": "code",
   "execution_count": null,
   "id": "600c1488-e36a-4dce-b0a3-f6dc335b13e8",
   "metadata": {},
   "outputs": [],
   "source": [
    "Pyr.soma[0](1).ri()"
   ]
  }
 ],
 "metadata": {
  "kernelspec": {
   "display_name": "Python 3",
   "language": "python",
   "name": "python3"
  },
  "language_info": {
   "codemirror_mode": {
    "name": "ipython",
    "version": 3
   },
   "file_extension": ".py",
   "mimetype": "text/x-python",
   "name": "python",
   "nbconvert_exporter": "python",
   "pygments_lexer": "ipython3",
   "version": "3.6.8"
  }
 },
 "nbformat": 4,
 "nbformat_minor": 5
}
