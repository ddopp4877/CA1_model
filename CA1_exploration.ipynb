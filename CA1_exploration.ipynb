{
 "cells": [
  {
   "cell_type": "code",
   "execution_count": 2,
   "id": "79215a13-4816-4dda-8292-da71d74543c2",
   "metadata": {},
   "outputs": [],
   "source": [
    "import h5py\n",
    "import os\n",
    "import matplotlib.pyplot as plt\n",
    "import numpy as np\n",
    "import pandas as pd\n"
   ]
  },
  {
   "cell_type": "markdown",
   "id": "11e28390-c2f3-4cef-a6f8-ef56f67c7b1e",
   "metadata": {},
   "source": [
    "# Read all data from the nodes and edges file saved by build_network.py"
   ]
  },
  {
   "cell_type": "code",
   "execution_count": 3,
   "id": "e1bd492c-e2c9-4118-8572-d20bf6092a04",
   "metadata": {},
   "outputs": [],
   "source": [
    "def SaveDataToDF(f):\n",
    "    myData = []\n",
    "    myDataNames = []\n",
    "    def saveDat(item):\n",
    "        if 'Data' in str(f[item].id):\n",
    "            data2use = f[item][()]\n",
    "            if data2use.ndim == 2:#some groups have multiple columns and this messes up the translation to a df at the end of this function\n",
    "                [a,b] = data2use.shape\n",
    "                for col in np.arange(0,b):\n",
    "                    myData.append(data2use[:,col])\n",
    "                    dataName = (f[item].name).split('/')[-1] + str(col)\n",
    "                    myDataNames.append(dataName)\n",
    "            else:\n",
    "                myData.append(f[item][()])\n",
    "                dataName = (f[item].name).split('/')[-1]\n",
    "                myDataNames.append(dataName)\n",
    "        \n",
    "    f.visit(saveDat)\n",
    "    allData = pd.DataFrame(myData).T\n",
    "    allData.columns = myDataNames\n",
    "    f.close()\n",
    "    return allData"
   ]
  },
  {
   "cell_type": "code",
   "execution_count": 4,
   "id": "99bef7d7-8999-4078-afdc-bc2ed07fd2c7",
   "metadata": {},
   "outputs": [],
   "source": [
    "pathname = 'network'"
   ]
  },
  {
   "cell_type": "code",
   "execution_count": 5,
   "id": "a666d5a1-d652-4d67-b0c5-45bf97923ff8",
   "metadata": {},
   "outputs": [],
   "source": [
    "f = h5py.File(os.path.join(pathname,'biophysical_biophysical_edges.h5'), 'r')\n",
    "edgesDF = SaveDataToDF(f) \n",
    "f = h5py.File(os.path.join(pathname,'biophysical_nodes.h5'), 'r')\n",
    "nodesDF = SaveDataToDF(f)"
   ]
  },
  {
   "cell_type": "markdown",
   "id": "07845175-5621-4a36-8358-34c553e8fa86",
   "metadata": {},
   "source": [
    "# using bmtools"
   ]
  },
  {
   "cell_type": "code",
   "execution_count": 9,
   "id": "ec991a0e-03d9-4f9a-b888-40b1dec969a9",
   "metadata": {},
   "outputs": [],
   "source": [
    "cmd = 'bmtools plot --config simulation_configLFP.json positions'"
   ]
  },
  {
   "cell_type": "code",
   "execution_count": 17,
   "id": "1118dc5e-5f58-430b-a8bb-8d1f2b9a84ad",
   "metadata": {},
   "outputs": [],
   "source": [
    "cmd = 'bmtools plot --config simulation_configLFP.json  connection total'"
   ]
  },
  {
   "cell_type": "code",
   "execution_count": 18,
   "id": "ec7f3fbe-0f7d-4d5b-8158-0a557df57e70",
   "metadata": {},
   "outputs": [],
   "source": [
    "cmd = 'bmtools plot --config simulation_configLFP.json  connection --sids pop_name --tids pop_name total'"
   ]
  },
  {
   "cell_type": "code",
   "execution_count": 22,
   "id": "6d29c398-568b-4187-8a0d-dd4ac79c2dd9",
   "metadata": {},
   "outputs": [],
   "source": [
    "node_types = pd.read_csv(os.path.join('network','biophysical_node_types.csv'))"
   ]
  },
  {
   "cell_type": "code",
   "execution_count": 21,
   "id": "1e7639bd-7b69-4631-89e9-7e2143b90726",
   "metadata": {},
   "outputs": [],
   "source": [
    "nodeNames = ['AAC_SO','OLM_SO','PV_SO','Pyr_SP','AAC_SP','PV_SP','AAC_SR','PV_SR']"
   ]
  },
  {
   "cell_type": "code",
   "execution_count": 31,
   "id": "0f3e8e20-b561-4feb-ae4d-7fe42c23913d",
   "metadata": {},
   "outputs": [
    {
     "data": {
      "text/plain": [
       "node_type_id model_template pop_name model_type rotation_angle_zaxis morphology mem_potential    101 hoc:olmcell OLM biophysical 1.570796326794...\n",
       "Name: 1, dtype: object"
      ]
     },
     "execution_count": 31,
     "metadata": {},
     "output_type": "execute_result"
    }
   ],
   "source": [
    "node_types.iloc[1]"
   ]
  },
  {
   "cell_type": "markdown",
   "id": "75f15141-82fe-4c9b-964f-9d5d8481fbe6",
   "metadata": {},
   "source": [
    "# change the node ids to node names"
   ]
  },
  {
   "cell_type": "code",
   "execution_count": 25,
   "id": "3864a7d0-7fca-4867-91aa-66b69c58d2ef",
   "metadata": {},
   "outputs": [],
   "source": [
    "cellLocations = pd.read_csv('cell_locations.csv')\n",
    "idNames = np.unique(nodesDF['node_type_id'])\n",
    "cellNames = np.unique(cellLocations['Cell type'])\n",
    "array = cellLocations['Cell type']\n",
    "idxs = np.unique(cellLocations['Cell type'],return_index=True)[1]\n",
    "cellNames = [array[index] for index in sorted(idxs)]#use the names in the order in which the id's appear\n",
    "nodesDF = nodesDF.replace({'node_type_id':idNames},{'node_type_id':cellNames})"
   ]
  },
  {
   "cell_type": "code",
   "execution_count": null,
   "id": "0b9aafb4-d2ce-4cc8-bbec-a9cfed85cd43",
   "metadata": {},
   "outputs": [],
   "source": [
    "import plotly.express as px\n",
    "fig = px.scatter_3d(nodesDF,x ='positions0', y='positions1', z='positions2',\n",
    "                    color = 'node_type_id',\n",
    "                    opacity = 0.7)\n",
    "fig.update_traces(marker_size = 6)\n",
    "fig.write_html('networkNodes2.html',auto_open=True)"
   ]
  },
  {
   "cell_type": "markdown",
   "id": "8ca9b518-f9f2-4ea6-bc8b-6ba6ac34d88b",
   "metadata": {},
   "source": [
    "# plot nodes edges - wip"
   ]
  },
  {
   "cell_type": "code",
   "execution_count": null,
   "id": "07089378-f71b-4d33-96c4-67b6021ace92",
   "metadata": {},
   "outputs": [],
   "source": [
    "#find the node source id and get its position, then find the destination node id, and get its position\n",
    "#there will be a -1 x 6 array of the source to target connections"
   ]
  },
  {
   "cell_type": "code",
   "execution_count": 315,
   "id": "fa576865-dfa1-4af1-81b4-e7447842020d",
   "metadata": {},
   "outputs": [],
   "source": [
    "xlocofEdgeSource = nodesDF['positions0'][np.array(edgesDF['source_node_id'])]\n",
    "YlocofEdgeSource = nodesDF['positions1'][np.array(edgesDF['source_node_id'])]\n",
    "ZlocofEdgeSource = nodesDF['positions2'][np.array(edgesDF['source_node_id'])]\n",
    "xlocofEdgedest = nodesDF['positions0'][np.array(edgesDF['target_node_id'])]\n",
    "YlocofEdgedest = nodesDF['positions1'][np.array(edgesDF['target_node_id'])]\n",
    "ZlocofEdgedest = nodesDF['positions2'][np.array(edgesDF['target_node_id'])]\n",
    "locsList = [xlocofEdgeSource,YlocofEdgeSource,ZlocofEdgeSource,xlocofEdgedest,YlocofEdgedest,ZlocofEdgedest]\n",
    "locsList = [np.array(item).reshape(1,-1) for item in locsList]\n",
    "df = pd.DataFrame(np.concatenate(locsList)).T\n",
    "fig = px.line_3d(df, x=0, y=1,z=2)\n",
    "fig.write_html('testfig.html',auto_open=True)\n"
   ]
  },
  {
   "cell_type": "code",
   "execution_count": 316,
   "id": "21f1a014-e050-473b-8716-8f37fff0ea1b",
   "metadata": {},
   "outputs": [],
   "source": [
    "source,dest = np.array(edgesDF['source_node_id']),np.array(edgesDF['target_node_id'])\n",
    "pairs = np.vstack((source,dest)).T\n",
    "pairs = pairs.astype(int)\n",
    "X,Y,Z = np.array(nodesDF['positions0']),np.array(nodesDF['positions1']),np.array(nodesDF['positions2'])"
   ]
  },
  {
   "cell_type": "code",
   "execution_count": 317,
   "id": "6ab0eaa4-d8e1-4f1d-8a5f-36ebdcd5bca1",
   "metadata": {},
   "outputs": [],
   "source": [
    "import plotly.graph_objects as go\n",
    "x_lines = []\n",
    "y_lines = []\n",
    "z_lines = []\n",
    "nameList = list(set(nodesDF['node_type_id']))\n",
    "\n",
    "#create the coordinate list for the lines\n",
    "for p in pairs:\n",
    "    for i in range(2):\n",
    "        x_lines.append(X[p[i]])\n",
    "        y_lines.append(Y[p[i]])\n",
    "        z_lines.append(Z[p[i]])\n",
    "    x_lines.append(None)\n",
    "    y_lines.append(None)\n",
    "    z_lines.append(None)\n",
    "\n",
    "trace2 = go.Scatter3d(\n",
    "    x=x_lines,\n",
    "    y=y_lines,\n",
    "    z=z_lines,\n",
    "    mode='lines',\n",
    "    name='lines'\n",
    ")\n",
    "\n",
    "Name2Use = nameList[0]\n",
    "trace1 = go.Scatter3d(\n",
    "    x = np.array(nodesDF[nodesDF['node_type_id'] == Name2Use]['positions0']),\n",
    "    y=np.array(nodesDF[nodesDF['node_type_id'] == Name2Use]['positions1']),\n",
    "    z=np.array(nodesDF[nodesDF['node_type_id'] == Name2Use]['positions2']),\n",
    "    mode='markers',\n",
    "    name = Name2Use\n",
    "    \n",
    ")\n",
    "Name2Use = nameList[1]\n",
    "trace3 = go.Scatter3d(\n",
    "    x = np.array(nodesDF[nodesDF['node_type_id'] == Name2Use]['positions0']),\n",
    "    y=np.array(nodesDF[nodesDF['node_type_id'] == Name2Use]['positions1']),\n",
    "    z=np.array(nodesDF[nodesDF['node_type_id'] == Name2Use]['positions2']),\n",
    "    mode='markers',\n",
    "    name = Name2Use\n",
    "    \n",
    ")\n",
    "Name2Use = nameList[2]\n",
    "trace4 = go.Scatter3d(\n",
    "    x = np.array(nodesDF[nodesDF['node_type_id'] == Name2Use]['positions0']),\n",
    "    y=np.array(nodesDF[nodesDF['node_type_id'] == Name2Use]['positions1']),\n",
    "    z=np.array(nodesDF[nodesDF['node_type_id'] == Name2Use]['positions2']),\n",
    "    mode='markers',\n",
    "    name = Name2Use\n",
    "    \n",
    ")\n",
    "\n",
    "Name2Use = nameList[3]\n",
    "trace5 = go.Scatter3d(\n",
    "    x = np.array(nodesDF[nodesDF['node_type_id'] == Name2Use]['positions0']),\n",
    "    y=np.array(nodesDF[nodesDF['node_type_id'] == Name2Use]['positions1']),\n",
    "    z=np.array(nodesDF[nodesDF['node_type_id'] == Name2Use]['positions2']),\n",
    "    mode='markers',\n",
    "    name = Name2Use\n",
    "    \n",
    ")\n",
    "\n",
    "Name2Use = nameList[4]\n",
    "trace6 = go.Scatter3d(\n",
    "    x = np.array(nodesDF[nodesDF['node_type_id'] == Name2Use]['positions0']),\n",
    "    y=np.array(nodesDF[nodesDF['node_type_id'] == Name2Use]['positions1']),\n",
    "    z=np.array(nodesDF[nodesDF['node_type_id'] == Name2Use]['positions2']),\n",
    "    mode='markers',\n",
    "    name = Name2Use\n",
    "    \n",
    ")\n",
    "\n",
    "Name2Use = nameList[5]\n",
    "trace7 = go.Scatter3d(\n",
    "    x = np.array(nodesDF[nodesDF['node_type_id'] == Name2Use]['positions0']),\n",
    "    y=np.array(nodesDF[nodesDF['node_type_id'] == Name2Use]['positions1']),\n",
    "    z=np.array(nodesDF[nodesDF['node_type_id'] == Name2Use]['positions2']),\n",
    "    mode='markers',\n",
    "    name = Name2Use\n",
    "    \n",
    ")\n",
    "\n",
    "Name2Use = nameList[6]\n",
    "trace8 = go.Scatter3d(\n",
    "    x = np.array(nodesDF[nodesDF['node_type_id'] == Name2Use]['positions0']),\n",
    "    y=np.array(nodesDF[nodesDF['node_type_id'] == Name2Use]['positions1']),\n",
    "    z=np.array(nodesDF[nodesDF['node_type_id'] == Name2Use]['positions2']),\n",
    "    mode='markers',\n",
    "    name = Name2Use\n",
    "    \n",
    ")\n",
    "\n",
    "Name2Use = nameList[7]\n",
    "trace9 = go.Scatter3d(\n",
    "    x = np.array(nodesDF[nodesDF['node_type_id'] == Name2Use]['positions0']),\n",
    "    y=np.array(nodesDF[nodesDF['node_type_id'] == Name2Use]['positions1']),\n",
    "    z=np.array(nodesDF[nodesDF['node_type_id'] == Name2Use]['positions2']),\n",
    "    mode='markers',\n",
    "    name = Name2Use\n",
    "    \n",
    ")\n",
    "\n",
    "\n",
    "\n",
    "figlines = go.Figure(data=[trace1, trace2,trace3,trace4,trace5,trace6,trace7,trace8,trace9])\n"
   ]
  },
  {
   "cell_type": "code",
   "execution_count": 372,
   "id": "a9f89686-fcb3-49e5-9ba6-1ed34ea63060",
   "metadata": {},
   "outputs": [],
   "source": [
    "figlines.write_html('testfig.html',auto_open=True)"
   ]
  },
  {
   "cell_type": "markdown",
   "id": "19d19244-cffe-44d3-ae28-937fd2bdf5fd",
   "metadata": {},
   "source": [
    "### construct adjacency matrix of the directed graph"
   ]
  },
  {
   "cell_type": "code",
   "execution_count": null,
   "id": "706b71d8-b7a6-4580-8a84-04c6f2eeb6a3",
   "metadata": {},
   "outputs": [],
   "source": [
    "# nxn nodeids\n",
    "#each row is the number of outgoing connections to nodeids in the columns"
   ]
  },
  {
   "cell_type": "code",
   "execution_count": 15,
   "id": "11559fc6-e36c-449d-8b7b-f73c5e91036c",
   "metadata": {},
   "outputs": [],
   "source": [
    "targetIDs = np.array(edgesDF['target_node_id'])\n",
    "sourceIDs = np.array(edgesDF['source_node_id'])\n",
    "source2targetIDs = pd.DataFrame(np.vstack((sourceIDs,targetIDs))).T\n",
    "source2targetIDs.columns = ['source','target']\n",
    "df = source2targetIDs\n",
    "nodeArray = np.array(df)# nice to have a df for viewing and array for computing"
   ]
  },
  {
   "cell_type": "code",
   "execution_count": 16,
   "id": "fcca4915-76e6-4b04-bb82-339467406692",
   "metadata": {},
   "outputs": [],
   "source": [
    "#get the counts of source to target"
   ]
  },
  {
   "cell_type": "code",
   "execution_count": 17,
   "id": "55524a81-a230-4e21-b0d9-d1b125a15dc9",
   "metadata": {},
   "outputs": [],
   "source": [
    "IDS = np.arange(0,len(np.unique(df['source'])))\n",
    "adj = np.zeros((len(IDS),len(IDS)))#nxn matrix\n"
   ]
  },
  {
   "cell_type": "code",
   "execution_count": 18,
   "id": "86ff2480-02ab-46f8-8a28-5fb9a355fd0b",
   "metadata": {},
   "outputs": [],
   "source": [
    "for i in range(0,len(IDS)):\n",
    "    idxs = nodeArray[nodeArray[:,0]==i][:,1]#grab the targets for which the source id is i...\n",
    "    #add something for checking unique, or rate of messages, or something to add as the values instead of just 1 for a connection.\n",
    "    adj[i][idxs.astype(int)] = 1#... and place a 1 in that location. ideally this is the count of connections to this target, but for now it is only 1 connection in the model"
   ]
  },
  {
   "cell_type": "code",
   "execution_count": 23,
   "id": "32a80ea6-5d59-4e78-86c7-1fa46c3d79a7",
   "metadata": {},
   "outputs": [],
   "source": [
    "np.save('adjacencyMatrix',adj)"
   ]
  },
  {
   "cell_type": "markdown",
   "id": "4ac56656-9a17-4c83-bcf2-6bd1bd084507",
   "metadata": {},
   "source": [
    "# use the adjacency matrix to calculate summary statistics about the network"
   ]
  },
  {
   "cell_type": "code",
   "execution_count": 7,
   "id": "fe3ab3d1-e9b6-476c-9022-073383b079b6",
   "metadata": {},
   "outputs": [],
   "source": [
    "import networkx as nx"
   ]
  },
  {
   "cell_type": "code",
   "execution_count": 6,
   "id": "468b0e3c-2b04-4e17-becf-72e6a8ad8b93",
   "metadata": {},
   "outputs": [],
   "source": [
    "adj = np.load('adjacencyMatrix.npy')\n",
    "cellLocations = pd.read_csv('cell_locations.csv')\n"
   ]
  },
  {
   "cell_type": "code",
   "execution_count": 131,
   "id": "89415401-b016-41fa-b3e3-4a1c4ab3ad11",
   "metadata": {},
   "outputs": [],
   "source": [
    "#get a list of the layer names in order of \n",
    "layerList = cellLocations['Cell type']\n",
    "idxs = np.unique(cellLocations['Cell type'],return_index=True)[1]\n",
    "layerNames = [array[index] for index in sorted(idxs)]#use the names in the order in which the id's appear\n"
   ]
  },
  {
   "cell_type": "code",
   "execution_count": 68,
   "id": "80b7a71e-de92-4362-b09c-5710e1fcb36e",
   "metadata": {},
   "outputs": [],
   "source": [
    "# first get a df of the cell layers and their index boundaries"
   ]
  },
  {
   "cell_type": "code",
   "execution_count": 41,
   "id": "d080ebfa-d257-435e-8fd2-42abf33baab8",
   "metadata": {},
   "outputs": [],
   "source": [
    "def getSectionBeginEnd(layerNames,name):\n",
    "    group = np.where(layerNames == name)[0]\n",
    "    begin = group[0]\n",
    "    end = group[len(group)-1]\n",
    "    return begin,end"
   ]
  },
  {
   "cell_type": "code",
   "execution_count": 141,
   "id": "7fb645bc-f9a3-4c39-bb6f-82039eeb06a5",
   "metadata": {},
   "outputs": [],
   "source": [
    "starts,ends = [], []\n",
    "\n",
    "nameSet = list(set(layerNames))\n",
    "for name in layerNames:\n",
    "    begin, end = getSectionBeginEnd(layerList,name)\n",
    "    starts.append(begin)\n",
    "    ends.append(end)\n"
   ]
  },
  {
   "cell_type": "code",
   "execution_count": 142,
   "id": "1a06b647-b82d-4e23-a2d3-45dc7169d3f7",
   "metadata": {},
   "outputs": [
    {
     "data": {
      "text/html": [
       "<div>\n",
       "<style scoped>\n",
       "    .dataframe tbody tr th:only-of-type {\n",
       "        vertical-align: middle;\n",
       "    }\n",
       "\n",
       "    .dataframe tbody tr th {\n",
       "        vertical-align: top;\n",
       "    }\n",
       "\n",
       "    .dataframe thead th {\n",
       "        text-align: right;\n",
       "    }\n",
       "</style>\n",
       "<table border=\"1\" class=\"dataframe\">\n",
       "  <thead>\n",
       "    <tr style=\"text-align: right;\">\n",
       "      <th></th>\n",
       "      <th>start</th>\n",
       "      <th>end</th>\n",
       "    </tr>\n",
       "  </thead>\n",
       "  <tbody>\n",
       "    <tr>\n",
       "      <th>AAC in SP layer</th>\n",
       "      <td>0</td>\n",
       "      <td>34</td>\n",
       "    </tr>\n",
       "    <tr>\n",
       "      <th>Pyr in SP layer</th>\n",
       "      <td>35</td>\n",
       "      <td>198</td>\n",
       "    </tr>\n",
       "    <tr>\n",
       "      <th>AAC in SO layer</th>\n",
       "      <td>199</td>\n",
       "      <td>330</td>\n",
       "    </tr>\n",
       "    <tr>\n",
       "      <th>PV in SO layer</th>\n",
       "      <td>331</td>\n",
       "      <td>31480</td>\n",
       "    </tr>\n",
       "    <tr>\n",
       "      <th>OLM in SO layer</th>\n",
       "      <td>31481</td>\n",
       "      <td>31583</td>\n",
       "    </tr>\n",
       "    <tr>\n",
       "      <th>PV in SR layer</th>\n",
       "      <td>31584</td>\n",
       "      <td>31971</td>\n",
       "    </tr>\n",
       "    <tr>\n",
       "      <th>PV in SP layer</th>\n",
       "      <td>31972</td>\n",
       "      <td>31980</td>\n",
       "    </tr>\n",
       "    <tr>\n",
       "      <th>AAC in SR layer</th>\n",
       "      <td>31981</td>\n",
       "      <td>32013</td>\n",
       "    </tr>\n",
       "  </tbody>\n",
       "</table>\n",
       "</div>"
      ],
      "text/plain": [
       "                 start    end\n",
       "AAC in SP layer      0     34\n",
       "Pyr in SP layer     35    198\n",
       "AAC in SO layer    199    330\n",
       "PV in SO layer     331  31480\n",
       "OLM in SO layer  31481  31583\n",
       "PV in SR layer   31584  31971\n",
       "PV in SP layer   31972  31980\n",
       "AAC in SR layer  31981  32013"
      ]
     },
     "execution_count": 142,
     "metadata": {},
     "output_type": "execute_result"
    }
   ],
   "source": [
    "df1 = pd.DataFrame(starts,index = nameSet, columns = ['start'])\n",
    "df2 = pd.DataFrame(ends,index = nameSet, columns = ['end'])\n",
    "layerIdxsDF = pd.concat([df1,df2],axis=1)\n",
    "layerIdxsDF"
   ]
  },
  {
   "cell_type": "code",
   "execution_count": 78,
   "id": "dc819f25-5c8d-43ce-ab69-fe74c9bfcec7",
   "metadata": {},
   "outputs": [],
   "source": [
    "G = nx.from_numpy_array(adj,create_using=nx.DiGraph)#directed graph of the network, recall rows are senders, columns are recievers"
   ]
  },
  {
   "cell_type": "code",
   "execution_count": 237,
   "id": "886fed84-7364-4d4d-b075-07b4dabd2012",
   "metadata": {},
   "outputs": [],
   "source": [
    "def groupSumStats(G,IDS):\n",
    "    out_degree_centrality = nx.group_out_degree_centrality(G,IDS)\n",
    "    in_degree_centrality = nx.group_in_degree_centrality(G,IDS)\n",
    "    clusterDict = nx.clustering(G, IDS)\n",
    "    avgClustering = np.mean([clusterDict[key] for key in clusterDict])\n",
    "    return [in_degree_centrality,out_degree_centrality,avgClustering]"
   ]
  },
  {
   "cell_type": "code",
   "execution_count": 209,
   "id": "78a6d74f-3997-46fa-9c9c-86d6c8e32a59",
   "metadata": {},
   "outputs": [],
   "source": [
    "def calcNetStats(G,layerList,layerNames):\n",
    "    AllStats = []\n",
    "    for name in layerNames:\n",
    "        IDS = np.where(layerList == name)[0]\n",
    "        AllStats.append(groupSumStats(G,IDS))\n",
    "    return AllStats"
   ]
  },
  {
   "cell_type": "code",
   "execution_count": 238,
   "id": "8a649546-0dd7-4331-b792-21a8c568e781",
   "metadata": {},
   "outputs": [],
   "source": [
    "netStats = calcNetStats(G,layerList,layerNames)"
   ]
  },
  {
   "cell_type": "code",
   "execution_count": 221,
   "id": "b7efb770-2f67-4a80-9e29-8cd54a947be0",
   "metadata": {},
   "outputs": [
    {
     "name": "stdout",
     "output_type": "stream",
     "text": [
      "[0, 13732, 4]\n"
     ]
    }
   ],
   "source": []
  },
  {
   "cell_type": "code",
   "execution_count": 242,
   "id": "4097e9b4-1a3e-4adb-8f29-b7a95195b93a",
   "metadata": {},
   "outputs": [],
   "source": [
    "results.to_csv('networkStats.csv')"
   ]
  },
  {
   "cell_type": "code",
   "execution_count": 175,
   "id": "a301421e-9dcd-467e-a0aa-c9702a505b45",
   "metadata": {},
   "outputs": [],
   "source": [
    "# make a dataframe with rows are layer names, and columns with the given metric's summary stats"
   ]
  },
  {
   "cell_type": "code",
   "execution_count": 241,
   "id": "27f83811-c0fa-42b0-a187-b0308d290cd4",
   "metadata": {},
   "outputs": [
    {
     "data": {
      "text/html": [
       "<div>\n",
       "<style scoped>\n",
       "    .dataframe tbody tr th:only-of-type {\n",
       "        vertical-align: middle;\n",
       "    }\n",
       "\n",
       "    .dataframe tbody tr th {\n",
       "        vertical-align: top;\n",
       "    }\n",
       "\n",
       "    .dataframe thead th {\n",
       "        text-align: right;\n",
       "    }\n",
       "</style>\n",
       "<table border=\"1\" class=\"dataframe\">\n",
       "  <thead>\n",
       "    <tr style=\"text-align: right;\">\n",
       "      <th></th>\n",
       "      <th>inDeg_cent</th>\n",
       "      <th>outDeg_cent</th>\n",
       "      <th>avgClustering</th>\n",
       "    </tr>\n",
       "  </thead>\n",
       "  <tbody>\n",
       "    <tr>\n",
       "      <th>AAC in SO layer</th>\n",
       "      <td>0.176178</td>\n",
       "      <td>0.712812</td>\n",
       "      <td>0.002812</td>\n",
       "    </tr>\n",
       "    <tr>\n",
       "      <th>OLM in SO layer</th>\n",
       "      <td>0.977991</td>\n",
       "      <td>0.998619</td>\n",
       "      <td>0.001232</td>\n",
       "    </tr>\n",
       "    <tr>\n",
       "      <th>PV in SO layer</th>\n",
       "      <td>0.817013</td>\n",
       "      <td>0.969418</td>\n",
       "      <td>0.005264</td>\n",
       "    </tr>\n",
       "    <tr>\n",
       "      <th>Pyr in SP layer</th>\n",
       "      <td>1.000000</td>\n",
       "      <td>1.000000</td>\n",
       "      <td>0.057975</td>\n",
       "    </tr>\n",
       "    <tr>\n",
       "      <th>AAC in SP layer</th>\n",
       "      <td>0.450158</td>\n",
       "      <td>0.960014</td>\n",
       "      <td>0.002537</td>\n",
       "    </tr>\n",
       "    <tr>\n",
       "      <th>PV in SP layer</th>\n",
       "      <td>0.986688</td>\n",
       "      <td>0.994720</td>\n",
       "      <td>0.005061</td>\n",
       "    </tr>\n",
       "    <tr>\n",
       "      <th>AAC in SR layer</th>\n",
       "      <td>0.054460</td>\n",
       "      <td>0.290267</td>\n",
       "      <td>0.002830</td>\n",
       "    </tr>\n",
       "    <tr>\n",
       "      <th>PV in SR layer</th>\n",
       "      <td>0.353960</td>\n",
       "      <td>0.608955</td>\n",
       "      <td>0.005015</td>\n",
       "    </tr>\n",
       "  </tbody>\n",
       "</table>\n",
       "</div>"
      ],
      "text/plain": [
       "                 inDeg_cent  outDeg_cent  avgClustering\n",
       "AAC in SO layer    0.176178     0.712812       0.002812\n",
       "OLM in SO layer    0.977991     0.998619       0.001232\n",
       "PV in SO layer     0.817013     0.969418       0.005264\n",
       "Pyr in SP layer    1.000000     1.000000       0.057975\n",
       "AAC in SP layer    0.450158     0.960014       0.002537\n",
       "PV in SP layer     0.986688     0.994720       0.005061\n",
       "AAC in SR layer    0.054460     0.290267       0.002830\n",
       "PV in SR layer     0.353960     0.608955       0.005015"
      ]
     },
     "execution_count": 241,
     "metadata": {},
     "output_type": "execute_result"
    }
   ],
   "source": [
    "\n",
    "netStatNames = [\"inDeg_cent\",\"outDeg_cent\",\"avgClustering\"]\n",
    "results = pd.DataFrame(netStats,columns = netStatNames,index = layerNames)\n",
    "results"
   ]
  },
  {
   "cell_type": "code",
   "execution_count": 240,
   "id": "376ef401-107c-4012-8611-3eb34659bacb",
   "metadata": {},
   "outputs": [
    {
     "name": "stdout",
     "output_type": "stream",
     "text": [
      "[0, 13732, 4]\n"
     ]
    }
   ],
   "source": [
    "#other metrics to explore:\n",
    "print(nx.shortest_path(G, source=0, target=4))"
   ]
  },
  {
   "cell_type": "code",
   "execution_count": 114,
   "id": "986c85a8-0971-417d-a276-8e4a9897f2d6",
   "metadata": {},
   "outputs": [
    {
     "data": {
      "text/plain": [
       "RangeIndex(start=0, stop=1, step=1)"
      ]
     },
     "execution_count": 114,
     "metadata": {},
     "output_type": "execute_result"
    }
   ],
   "source": [
    "test.index"
   ]
  },
  {
   "cell_type": "code",
   "execution_count": null,
   "id": "f60f8eeb-c0b4-4aa5-a618-032bba02bc74",
   "metadata": {},
   "outputs": [],
   "source": [
    "#just get the indices of the layer ranges, and comput the sum stats over that in the adj matrix"
   ]
  },
  {
   "cell_type": "code",
   "execution_count": 42,
   "id": "8cccd2ea-eaac-4c16-98f4-69d4f3902341",
   "metadata": {},
   "outputs": [
    {
     "data": {
      "text/plain": [
       "(array([93], dtype=int64),)"
      ]
     },
     "execution_count": 42,
     "metadata": {},
     "output_type": "execute_result"
    }
   ],
   "source": [
    "np.where(cent==max(cent))"
   ]
  },
  {
   "cell_type": "code",
   "execution_count": 46,
   "id": "60e4b3d6-9fd0-421a-bc3c-52f6f31703c7",
   "metadata": {},
   "outputs": [
    {
     "data": {
      "text/plain": [
       "93    OLM in SO layer\n",
       "Name: node_type_id, dtype: object"
      ]
     },
     "execution_count": 46,
     "metadata": {},
     "output_type": "execute_result"
    }
   ],
   "source": [
    "layerNames[np.where(cent==max(cent))[0]]"
   ]
  },
  {
   "cell_type": "code",
   "execution_count": 43,
   "id": "e1032faf-beed-436f-a65d-14a3f1786448",
   "metadata": {},
   "outputs": [],
   "source": []
  },
  {
   "cell_type": "code",
   "execution_count": 29,
   "id": "66d6f160-4cf1-4cf0-9d0b-92c74361b19b",
   "metadata": {},
   "outputs": [
    {
     "data": {
      "text/plain": [
       "32014"
      ]
     },
     "execution_count": 29,
     "metadata": {},
     "output_type": "execute_result"
    }
   ],
   "source": [
    "adjacencyDF = pd.DataFrame(adj,columns = IDS,index=IDS)"
   ]
  },
  {
   "cell_type": "markdown",
   "id": "e53555f7-12e9-4f8c-bbe6-8c69fcea0515",
   "metadata": {},
   "source": [
    "import h5py\n",
    "import os\n",
    "import matplotlib.pyplot as plt\n",
    "import numpy as np\n",
    "import pandas as pd# model output results"
   ]
  },
  {
   "cell_type": "code",
   "execution_count": 125,
   "id": "ef4ceb3c-c141-4c8d-8388-ae1704bbb3af",
   "metadata": {},
   "outputs": [],
   "source": [
    "f = h5py.File(os.path.join('output','spikes.h5'), 'r')\n",
    "spikesDF = SaveDataToDF(f) "
   ]
  },
  {
   "cell_type": "code",
   "execution_count": 126,
   "id": "df4a1653-aaab-4a8e-b5d0-c5ef768bfe6b",
   "metadata": {},
   "outputs": [],
   "source": [
    "f = h5py.File(os.path.join('output','v_report.h5'), 'r')\n",
    "traces = f['report/biophysical/data'][()]\n",
    "f.close()"
   ]
  },
  {
   "cell_type": "code",
   "execution_count": 134,
   "id": "9728bc78-0a11-42c2-8aa5-18882bd1f035",
   "metadata": {},
   "outputs": [
    {
     "data": {
      "text/plain": [
       "array([   1, 1519, 2918])"
      ]
     },
     "execution_count": 134,
     "metadata": {},
     "output_type": "execute_result"
    }
   ],
   "source": [
    "spikingCellIDs"
   ]
  },
  {
   "cell_type": "code",
   "execution_count": 141,
   "id": "081e212a-a30c-476b-bcd9-3f91d4eebfe3",
   "metadata": {},
   "outputs": [
    {
     "data": {
      "text/html": [
       "<div>\n",
       "<style scoped>\n",
       "    .dataframe tbody tr th:only-of-type {\n",
       "        vertical-align: middle;\n",
       "    }\n",
       "\n",
       "    .dataframe tbody tr th {\n",
       "        vertical-align: top;\n",
       "    }\n",
       "\n",
       "    .dataframe thead th {\n",
       "        text-align: right;\n",
       "    }\n",
       "</style>\n",
       "<table border=\"1\" class=\"dataframe\">\n",
       "  <thead>\n",
       "    <tr style=\"text-align: right;\">\n",
       "      <th></th>\n",
       "      <th>node_ids</th>\n",
       "      <th>timestamps</th>\n",
       "    </tr>\n",
       "  </thead>\n",
       "  <tbody>\n",
       "    <tr>\n",
       "      <th>0</th>\n",
       "      <td>1.0</td>\n",
       "      <td>115.3</td>\n",
       "    </tr>\n",
       "    <tr>\n",
       "      <th>1</th>\n",
       "      <td>1519.0</td>\n",
       "      <td>122.3</td>\n",
       "    </tr>\n",
       "    <tr>\n",
       "      <th>2</th>\n",
       "      <td>1519.0</td>\n",
       "      <td>160.6</td>\n",
       "    </tr>\n",
       "    <tr>\n",
       "      <th>3</th>\n",
       "      <td>2918.0</td>\n",
       "      <td>122.5</td>\n",
       "    </tr>\n",
       "    <tr>\n",
       "      <th>4</th>\n",
       "      <td>2918.0</td>\n",
       "      <td>160.8</td>\n",
       "    </tr>\n",
       "  </tbody>\n",
       "</table>\n",
       "</div>"
      ],
      "text/plain": [
       "   node_ids  timestamps\n",
       "0       1.0       115.3\n",
       "1    1519.0       122.3\n",
       "2    1519.0       160.6\n",
       "3    2918.0       122.5\n",
       "4    2918.0       160.8"
      ]
     },
     "execution_count": 141,
     "metadata": {},
     "output_type": "execute_result"
    }
   ],
   "source": [
    "spikesDF"
   ]
  },
  {
   "cell_type": "code",
   "execution_count": 138,
   "id": "acab7c7a-dce4-4e19-a59b-ec15fd2b1af2",
   "metadata": {},
   "outputs": [
    {
     "data": {
      "text/plain": [
       "[<matplotlib.lines.Line2D at 0x2b5b2f6e4a90>]"
      ]
     },
     "execution_count": 138,
     "metadata": {},
     "output_type": "execute_result"
    },
    {
     "data": {
      "image/png": "[encoded data removed]",
      "text/plain": [
       "<Figure size 432x288 with 1 Axes>"
      ]
     },
     "metadata": {
      "needs_background": "light"
     },
     "output_type": "display_data"
    }
   ],
   "source": [
    "plt.plot(traces[:,1519])"
   ]
  },
  {
   "cell_type": "code",
   "execution_count": 135,
   "id": "515c4f78-6235-4326-8390-fe5729d0b813",
   "metadata": {},
   "outputs": [
    {
     "data": {
      "text/plain": [
       "0"
      ]
     },
     "execution_count": 135,
     "metadata": {},
     "output_type": "execute_result"
    }
   ],
   "source": [
    "spikesDF['node_ids'][spikesDF['node_ids'] == 1].keys()[0]"
   ]
  },
  {
   "cell_type": "code",
   "execution_count": 144,
   "id": "e35eb0ed-5a97-4d3f-9a42-a6e3b6490f30",
   "metadata": {},
   "outputs": [
    {
     "data": {
      "text/plain": [
       "array([   1, 1519, 2918])"
      ]
     },
     "execution_count": 144,
     "metadata": {},
     "output_type": "execute_result"
    }
   ],
   "source": [
    "spikingCellIDs = np.unique(np.array(spikesDF['node_ids'],dtype=int))\n",
    "spikingCellIDs"
   ]
  },
  {
   "cell_type": "code",
   "execution_count": 128,
   "id": "f3db7356-d098-4d54-96cc-a78421f6c24d",
   "metadata": {},
   "outputs": [
    {
     "name": "stdout",
     "output_type": "stream",
     "text": [
      "[   1 1519 2918]\n"
     ]
    },
    {
     "data": {
      "image/png": "[encoded data removed]",
      "text/plain": [
       "<Figure size 360x360 with 3 Axes>"
      ]
     },
     "metadata": {
      "needs_background": "light"
     },
     "output_type": "display_data"
    }
   ],
   "source": [
    "spikingCellIDs = np.unique(np.array(spikesDF['node_ids'],dtype=int))\n",
    "if len(spikingCellIDs) <=1:\n",
    "    print('only 1 spiking cell')\n",
    "    plt.plot(traces)\n",
    "else:\n",
    "    \n",
    "    fig,ax = plt.subplots(len(spikingCellIDs),figsize=(5,5))\n",
    "    i = 0\n",
    "    for cell in spikingCellIDs:\n",
    "        ax[i].plot(traces[:,cell])\n",
    "        i+=1\n",
    "    print(spikingCellIDs)\n"
   ]
  },
  {
   "cell_type": "markdown",
   "id": "db543e61-52ae-49d7-ae37-75640e8ffc4f",
   "metadata": {},
   "source": [
    "# ECP plotting"
   ]
  },
  {
   "cell_type": "code",
   "execution_count": null,
   "id": "2b8ce6e2-fb1c-4127-bbac-eceedd15ff49",
   "metadata": {},
   "outputs": [],
   "source": []
  },
  {
   "cell_type": "code",
   "execution_count": 109,
   "id": "2dc88d0e-23de-42a1-b30f-9bd6e84ccaae",
   "metadata": {},
   "outputs": [],
   "source": [
    "f = h5py.File('output/ecp.h5', 'r')\n",
    "#f = h5py.File('/home/dpd4k4/CA1_Results/output_10s/ecp.h5', 'r')\n",
    "data = f['ecp/data'][()]\n",
    "time = f['ecp/time'][()]\n",
    "f.close()"
   ]
  },
  {
   "cell_type": "code",
   "execution_count": 110,
   "id": "7e4c202a-f9cf-47c8-951e-da4707ec819e",
   "metadata": {},
   "outputs": [
    {
     "data": {
      "image/png": "[encoded data removed]",
      "text/plain": [
       "<Figure size 1440x360 with 1 Axes>"
      ]
     },
     "metadata": {
      "needs_background": "light"
     },
     "output_type": "display_data"
    }
   ],
   "source": [
    "start,end = 0, 12000\n",
    "plt.figure(figsize=(20,5))\n",
    "plt.plot(np.arange(time[0],time[1],time[2])[start:end],data[start:end,0])\n",
    "#plt.xlim([175,200])\n",
    "plt.xlabel('ms')\n",
    "#plt.ylim([0,0.1])\n",
    "plt.ylabel('voltage(?)')\n",
    "#plt.savefig('ecp.png',dpi=400)\n",
    "plt.show()"
   ]
  },
  {
   "cell_type": "code",
   "execution_count": 112,
   "id": "959a4a3c-13ae-4856-888c-c1231ba79c7b",
   "metadata": {},
   "outputs": [],
   "source": [
    "from scipy import signal\n",
    "from scipy.signal import hilbert\n",
    "import numpy as np"
   ]
  },
  {
   "cell_type": "code",
   "execution_count": 21,
   "id": "93b1a139-55eb-4cba-8954-5200067a3041",
   "metadata": {},
   "outputs": [],
   "source": [
    "#300 samples/ 300 ms  = 10000 samples/second"
   ]
  },
  {
   "cell_type": "code",
   "execution_count": 130,
   "id": "2c3f8ab1-17bf-42fc-851a-2c39ebddc74c",
   "metadata": {},
   "outputs": [
    {
     "data": {
      "text/plain": [
       "array([0.e+00, 3.e+02, 1.e-01])"
      ]
     },
     "execution_count": 130,
     "metadata": {},
     "output_type": "execute_result"
    }
   ],
   "source": []
  },
  {
   "cell_type": "code",
   "execution_count": 131,
   "id": "1af41310-de58-4871-b583-2a4e6c2d9931",
   "metadata": {},
   "outputs": [
    {
     "data": {
      "text/plain": [
       "[<matplotlib.lines.Line2D at 0x7fca8f6a85f8>]"
      ]
     },
     "execution_count": 131,
     "metadata": {},
     "output_type": "execute_result"
    },
    {
     "data": {
      "image/png": "[encoded data removed]",
      "text/plain": [
       "<Figure size 1440x360 with 1 Axes>"
      ]
     },
     "metadata": {
      "needs_background": "light"
     },
     "output_type": "display_data"
    }
   ],
   "source": [
    "start,end = 0, 10000\n",
    "Fs = 1000\n",
    "sos = signal.butter(4, [int(120/(1000/Fs)),int(220/(1000/Fs))], btype='bandpass', fs=1000, output='sos',analog=False)\n",
    "\n",
    "filtered = signal.sosfilt(sos, data[start:end,0])\n",
    "plt.figure(figsize=(20,5))\n",
    "plt.plot(np.arange(time[0],time[1],time[2])[start:end],filtered)\n",
    "analytical_signal = hilbert(filtered)\n",
    "amplitude_envelope = np.abs(analytical_signal)\n",
    "plt.plot(np.arange(time[0],time[1],time[2])[start:end],amplitude_envelope)"
   ]
  },
  {
   "cell_type": "code",
   "execution_count": 256,
   "id": "1e55922c-c63d-4356-9d06-df013f90c998",
   "metadata": {},
   "outputs": [],
   "source": [
    "np.savetxt('output/filteredLFP.txt',filtered)"
   ]
  },
  {
   "cell_type": "code",
   "execution_count": 11,
   "id": "96f669f5-47a4-40b6-b415-29c3b0f172d5",
   "metadata": {},
   "outputs": [
    {
     "ename": "NameError",
     "evalue": "name 'signal' is not defined",
     "output_type": "error",
     "traceback": [
      "\u001b[0;31m---------------------------------------------------------------------------\u001b[0m",
      "\u001b[0;31mNameError\u001b[0m                                 Traceback (most recent call last)",
      "\u001b[0;32m<ipython-input-11-25886c5d05cd>\u001b[0m in \u001b[0;36m<module>\u001b[0;34m\u001b[0m\n\u001b[1;32m      1\u001b[0m \u001b[0mstart\u001b[0m\u001b[0;34m,\u001b[0m\u001b[0mend\u001b[0m \u001b[0;34m=\u001b[0m \u001b[0;36m0\u001b[0m\u001b[0;34m,\u001b[0m \u001b[0;36m10000\u001b[0m\u001b[0;34m\u001b[0m\u001b[0;34m\u001b[0m\u001b[0m\n\u001b[0;32m----> 2\u001b[0;31m \u001b[0msos\u001b[0m \u001b[0;34m=\u001b[0m \u001b[0msignal\u001b[0m\u001b[0;34m.\u001b[0m\u001b[0mbutter\u001b[0m\u001b[0;34m(\u001b[0m\u001b[0;36m4\u001b[0m\u001b[0;34m,\u001b[0m \u001b[0;34m[\u001b[0m\u001b[0;36m1\u001b[0m\u001b[0;34m,\u001b[0m\u001b[0;36m20\u001b[0m\u001b[0;34m]\u001b[0m\u001b[0;34m,\u001b[0m \u001b[0mbtype\u001b[0m\u001b[0;34m=\u001b[0m\u001b[0;34m'bandpass'\u001b[0m\u001b[0;34m,\u001b[0m \u001b[0mfs\u001b[0m\u001b[0;34m=\u001b[0m\u001b[0;36m10000\u001b[0m\u001b[0;34m,\u001b[0m \u001b[0moutput\u001b[0m\u001b[0;34m=\u001b[0m\u001b[0;34m'sos'\u001b[0m\u001b[0;34m,\u001b[0m\u001b[0manalog\u001b[0m\u001b[0;34m=\u001b[0m\u001b[0;32mFalse\u001b[0m\u001b[0;34m)\u001b[0m\u001b[0;34m\u001b[0m\u001b[0;34m\u001b[0m\u001b[0m\n\u001b[0m\u001b[1;32m      3\u001b[0m \u001b[0mfiltered\u001b[0m \u001b[0;34m=\u001b[0m \u001b[0msignal\u001b[0m\u001b[0;34m.\u001b[0m\u001b[0msosfilt\u001b[0m\u001b[0;34m(\u001b[0m\u001b[0msos\u001b[0m\u001b[0;34m,\u001b[0m \u001b[0mdata\u001b[0m\u001b[0;34m[\u001b[0m\u001b[0mstart\u001b[0m\u001b[0;34m:\u001b[0m\u001b[0mend\u001b[0m\u001b[0;34m,\u001b[0m\u001b[0;34m:\u001b[0m\u001b[0;34m]\u001b[0m\u001b[0;34m)\u001b[0m\u001b[0;34m\u001b[0m\u001b[0;34m\u001b[0m\u001b[0m\n\u001b[1;32m      4\u001b[0m \u001b[0mplt\u001b[0m\u001b[0;34m.\u001b[0m\u001b[0mplot\u001b[0m\u001b[0;34m(\u001b[0m\u001b[0mfiltered\u001b[0m\u001b[0;34m)\u001b[0m\u001b[0;34m\u001b[0m\u001b[0;34m\u001b[0m\u001b[0m\n\u001b[1;32m      5\u001b[0m \u001b[0;34m\u001b[0m\u001b[0m\n",
      "\u001b[0;31mNameError\u001b[0m: name 'signal' is not defined"
     ]
    }
   ],
   "source": [
    "start,end = 0, 10000\n",
    "sos = signal.butter(4, [1,20], btype='bandpass', fs=10000, output='sos',analog=False)\n",
    "filtered = signal.sosfilt(sos, data[start:end,:])\n",
    "plt.plot(filtered)\n",
    "\n",
    "plt.show()"
   ]
  },
  {
   "cell_type": "code",
   "execution_count": 288,
   "id": "28067cd4-fe9a-4b03-9b29-9e58ed07cf83",
   "metadata": {},
   "outputs": [
    {
     "data": {
      "image/png": "[encoded data removed]",
      "text/plain": [
       "<Figure size 432x288 with 1 Axes>"
      ]
     },
     "metadata": {
      "needs_background": "light"
     },
     "output_type": "display_data"
    }
   ],
   "source": [
    "start,end = 1000,1300\n",
    "sos = signal.butter(1, 50, btype='hp', fs=3000, output='sos',analog=False)\n",
    "filtered = signal.sosfilt(sos, data[start:end,8])\n",
    "plt.plot(filtered)\n",
    "\n",
    "plt.show()"
   ]
  },
  {
   "cell_type": "code",
   "execution_count": null,
   "id": "d2f1b914-2ea5-4b1b-a3ba-9a61557e36b8",
   "metadata": {},
   "outputs": [],
   "source": [
    "b, a = signal.butter(4, 100, 'low', analog=True)\n",
    "w, h = signal.freqs(b, a)\n",
    "plt.semilogx(w, 20 * np.log10(abs(h)))\n",
    "plt.title('Butterworth filter frequency response')\n",
    "plt.xlabel('Frequency [radians / second]')\n",
    "plt.ylabel('Amplitude [dB]')\n",
    "plt.margins(0, 0.1)\n",
    "plt.grid(which='both', axis='both')\n",
    "plt.axvline(100, color='green') # cutoff frequency\n",
    "plt.show()"
   ]
  },
  {
   "cell_type": "code",
   "execution_count": 14,
   "id": "7f4623eb-7778-4bf9-942c-2165c8ced689",
   "metadata": {},
   "outputs": [],
   "source": [
    "vclampfile = np.ones((3000))*-63\n",
    "#np.save(\"vclamp_input_file.csv\",vclampfile)"
   ]
  },
  {
   "cell_type": "code",
   "execution_count": 15,
   "id": "052732e3-342e-4008-bcb4-cc139ec223fd",
   "metadata": {},
   "outputs": [],
   "source": [
    "from scipy import signal"
   ]
  },
  {
   "cell_type": "code",
   "execution_count": 289,
   "id": "383ae5b1-fa98-49f4-826c-7c5d4b72f454",
   "metadata": {},
   "outputs": [
    {
     "data": {
      "image/png": "[encoded data removed]",
      "text/plain": [
       "<Figure size 1080x360 with 1 Axes>"
      ]
     },
     "metadata": {
      "needs_background": "light"
     },
     "output_type": "display_data"
    }
   ],
   "source": [
    "fs = 10000 \n",
    "f, Pxx_den = signal.periodogram(data[:,8], fs)\n",
    "plt.figure(figsize=(15,5))\n",
    "plt.semilogy(f, Pxx_den)\n",
    "plt.xlim([0,500])\n",
    "#plt.ylim([10e-10,10-4])\n",
    "plt.show()"
   ]
  },
  {
   "cell_type": "code",
   "execution_count": 290,
   "id": "e3de6f6b-01b5-4d90-af3d-fc9fb98792ca",
   "metadata": {},
   "outputs": [
    {
     "ename": "ValueError",
     "evalue": "only 1-dimensional arrays can be used",
     "output_type": "error",
     "traceback": [
      "\u001b[0;31m---------------------------------------------------------------------------\u001b[0m",
      "\u001b[0;31mValueError\u001b[0m                                Traceback (most recent call last)",
      "\u001b[0;32m<ipython-input-290-e9c0c8ec08d8>\u001b[0m in \u001b[0;36m<module>\u001b[0;34m\u001b[0m\n\u001b[1;32m      1\u001b[0m \u001b[0mplt\u001b[0m\u001b[0;34m.\u001b[0m\u001b[0mfigure\u001b[0m\u001b[0;34m(\u001b[0m\u001b[0mfigsize\u001b[0m\u001b[0;34m=\u001b[0m\u001b[0;34m(\u001b[0m\u001b[0;36m15\u001b[0m\u001b[0;34m,\u001b[0m\u001b[0;36m5\u001b[0m\u001b[0;34m)\u001b[0m\u001b[0;34m)\u001b[0m\u001b[0;34m\u001b[0m\u001b[0;34m\u001b[0m\u001b[0m\n\u001b[0;32m----> 2\u001b[0;31m \u001b[0mPxx\u001b[0m\u001b[0;34m,\u001b[0m\u001b[0mfreqs\u001b[0m \u001b[0;34m=\u001b[0m \u001b[0mplt\u001b[0m\u001b[0;34m.\u001b[0m\u001b[0mpsd\u001b[0m\u001b[0;34m(\u001b[0m\u001b[0mdata\u001b[0m\u001b[0;34m,\u001b[0m\u001b[0mNFFT\u001b[0m \u001b[0;34m=\u001b[0m \u001b[0mfs\u001b[0m\u001b[0;34m,\u001b[0m\u001b[0mnoverlap\u001b[0m\u001b[0;34m=\u001b[0m\u001b[0;32mTrue\u001b[0m\u001b[0;34m)\u001b[0m\u001b[0;34m\u001b[0m\u001b[0;34m\u001b[0m\u001b[0m\n\u001b[0m",
      "\u001b[0;32m~/CA1_model/CA1_model_env/lib64/python3.6/site-packages/matplotlib/pyplot.py\u001b[0m in \u001b[0;36mpsd\u001b[0;34m(x, NFFT, Fs, Fc, detrend, window, noverlap, pad_to, sides, scale_by_freq, return_line, data, **kwargs)\u001b[0m\n\u001b[1;32m   2863\u001b[0m         \u001b[0mnoverlap\u001b[0m\u001b[0;34m=\u001b[0m\u001b[0mnoverlap\u001b[0m\u001b[0;34m,\u001b[0m \u001b[0mpad_to\u001b[0m\u001b[0;34m=\u001b[0m\u001b[0mpad_to\u001b[0m\u001b[0;34m,\u001b[0m \u001b[0msides\u001b[0m\u001b[0;34m=\u001b[0m\u001b[0msides\u001b[0m\u001b[0;34m,\u001b[0m\u001b[0;34m\u001b[0m\u001b[0;34m\u001b[0m\u001b[0m\n\u001b[1;32m   2864\u001b[0m         \u001b[0mscale_by_freq\u001b[0m\u001b[0;34m=\u001b[0m\u001b[0mscale_by_freq\u001b[0m\u001b[0;34m,\u001b[0m \u001b[0mreturn_line\u001b[0m\u001b[0;34m=\u001b[0m\u001b[0mreturn_line\u001b[0m\u001b[0;34m,\u001b[0m\u001b[0;34m\u001b[0m\u001b[0;34m\u001b[0m\u001b[0m\n\u001b[0;32m-> 2865\u001b[0;31m         **({\"data\": data} if data is not None else {}), **kwargs)\n\u001b[0m\u001b[1;32m   2866\u001b[0m \u001b[0;34m\u001b[0m\u001b[0m\n\u001b[1;32m   2867\u001b[0m \u001b[0;34m\u001b[0m\u001b[0m\n",
      "\u001b[0;32m~/CA1_model/CA1_model_env/lib64/python3.6/site-packages/matplotlib/__init__.py\u001b[0m in \u001b[0;36minner\u001b[0;34m(ax, data, *args, **kwargs)\u001b[0m\n\u001b[1;32m   1445\u001b[0m     \u001b[0;32mdef\u001b[0m \u001b[0minner\u001b[0m\u001b[0;34m(\u001b[0m\u001b[0max\u001b[0m\u001b[0;34m,\u001b[0m \u001b[0;34m*\u001b[0m\u001b[0margs\u001b[0m\u001b[0;34m,\u001b[0m \u001b[0mdata\u001b[0m\u001b[0;34m=\u001b[0m\u001b[0;32mNone\u001b[0m\u001b[0;34m,\u001b[0m \u001b[0;34m**\u001b[0m\u001b[0mkwargs\u001b[0m\u001b[0;34m)\u001b[0m\u001b[0;34m:\u001b[0m\u001b[0;34m\u001b[0m\u001b[0;34m\u001b[0m\u001b[0m\n\u001b[1;32m   1446\u001b[0m         \u001b[0;32mif\u001b[0m \u001b[0mdata\u001b[0m \u001b[0;32mis\u001b[0m \u001b[0;32mNone\u001b[0m\u001b[0;34m:\u001b[0m\u001b[0;34m\u001b[0m\u001b[0;34m\u001b[0m\u001b[0m\n\u001b[0;32m-> 1447\u001b[0;31m             \u001b[0;32mreturn\u001b[0m \u001b[0mfunc\u001b[0m\u001b[0;34m(\u001b[0m\u001b[0max\u001b[0m\u001b[0;34m,\u001b[0m \u001b[0;34m*\u001b[0m\u001b[0mmap\u001b[0m\u001b[0;34m(\u001b[0m\u001b[0msanitize_sequence\u001b[0m\u001b[0;34m,\u001b[0m \u001b[0margs\u001b[0m\u001b[0;34m)\u001b[0m\u001b[0;34m,\u001b[0m \u001b[0;34m**\u001b[0m\u001b[0mkwargs\u001b[0m\u001b[0;34m)\u001b[0m\u001b[0;34m\u001b[0m\u001b[0;34m\u001b[0m\u001b[0m\n\u001b[0m\u001b[1;32m   1448\u001b[0m \u001b[0;34m\u001b[0m\u001b[0m\n\u001b[1;32m   1449\u001b[0m         \u001b[0mbound\u001b[0m \u001b[0;34m=\u001b[0m \u001b[0mnew_sig\u001b[0m\u001b[0;34m.\u001b[0m\u001b[0mbind\u001b[0m\u001b[0;34m(\u001b[0m\u001b[0max\u001b[0m\u001b[0;34m,\u001b[0m \u001b[0;34m*\u001b[0m\u001b[0margs\u001b[0m\u001b[0;34m,\u001b[0m \u001b[0;34m**\u001b[0m\u001b[0mkwargs\u001b[0m\u001b[0;34m)\u001b[0m\u001b[0;34m\u001b[0m\u001b[0;34m\u001b[0m\u001b[0m\n",
      "\u001b[0;32m~/CA1_model/CA1_model_env/lib64/python3.6/site-packages/matplotlib/axes/_axes.py\u001b[0m in \u001b[0;36mpsd\u001b[0;34m(self, x, NFFT, Fs, Fc, detrend, window, noverlap, pad_to, sides, scale_by_freq, return_line, **kwargs)\u001b[0m\n\u001b[1;32m   7020\u001b[0m         pxx, freqs = mlab.psd(x=x, NFFT=NFFT, Fs=Fs, detrend=detrend,\n\u001b[1;32m   7021\u001b[0m                               \u001b[0mwindow\u001b[0m\u001b[0;34m=\u001b[0m\u001b[0mwindow\u001b[0m\u001b[0;34m,\u001b[0m \u001b[0mnoverlap\u001b[0m\u001b[0;34m=\u001b[0m\u001b[0mnoverlap\u001b[0m\u001b[0;34m,\u001b[0m \u001b[0mpad_to\u001b[0m\u001b[0;34m=\u001b[0m\u001b[0mpad_to\u001b[0m\u001b[0;34m,\u001b[0m\u001b[0;34m\u001b[0m\u001b[0;34m\u001b[0m\u001b[0m\n\u001b[0;32m-> 7022\u001b[0;31m                               sides=sides, scale_by_freq=scale_by_freq)\n\u001b[0m\u001b[1;32m   7023\u001b[0m         \u001b[0mfreqs\u001b[0m \u001b[0;34m+=\u001b[0m \u001b[0mFc\u001b[0m\u001b[0;34m\u001b[0m\u001b[0;34m\u001b[0m\u001b[0m\n\u001b[1;32m   7024\u001b[0m \u001b[0;34m\u001b[0m\u001b[0m\n",
      "\u001b[0;32m~/CA1_model/CA1_model_env/lib64/python3.6/site-packages/matplotlib/mlab.py\u001b[0m in \u001b[0;36mpsd\u001b[0;34m(x, NFFT, Fs, detrend, window, noverlap, pad_to, sides, scale_by_freq)\u001b[0m\n\u001b[1;32m    699\u001b[0m     Pxx, freqs = csd(x=x, y=None, NFFT=NFFT, Fs=Fs, detrend=detrend,\n\u001b[1;32m    700\u001b[0m                      \u001b[0mwindow\u001b[0m\u001b[0;34m=\u001b[0m\u001b[0mwindow\u001b[0m\u001b[0;34m,\u001b[0m \u001b[0mnoverlap\u001b[0m\u001b[0;34m=\u001b[0m\u001b[0mnoverlap\u001b[0m\u001b[0;34m,\u001b[0m \u001b[0mpad_to\u001b[0m\u001b[0;34m=\u001b[0m\u001b[0mpad_to\u001b[0m\u001b[0;34m,\u001b[0m\u001b[0;34m\u001b[0m\u001b[0;34m\u001b[0m\u001b[0m\n\u001b[0;32m--> 701\u001b[0;31m                      sides=sides, scale_by_freq=scale_by_freq)\n\u001b[0m\u001b[1;32m    702\u001b[0m     \u001b[0;32mreturn\u001b[0m \u001b[0mPxx\u001b[0m\u001b[0;34m.\u001b[0m\u001b[0mreal\u001b[0m\u001b[0;34m,\u001b[0m \u001b[0mfreqs\u001b[0m\u001b[0;34m\u001b[0m\u001b[0;34m\u001b[0m\u001b[0m\n\u001b[1;32m    703\u001b[0m \u001b[0;34m\u001b[0m\u001b[0m\n",
      "\u001b[0;32m~/CA1_model/CA1_model_env/lib64/python3.6/site-packages/matplotlib/mlab.py\u001b[0m in \u001b[0;36mcsd\u001b[0;34m(x, y, NFFT, Fs, detrend, window, noverlap, pad_to, sides, scale_by_freq)\u001b[0m\n\u001b[1;32m    758\u001b[0m                                      \u001b[0mnoverlap\u001b[0m\u001b[0;34m=\u001b[0m\u001b[0mnoverlap\u001b[0m\u001b[0;34m,\u001b[0m \u001b[0mpad_to\u001b[0m\u001b[0;34m=\u001b[0m\u001b[0mpad_to\u001b[0m\u001b[0;34m,\u001b[0m\u001b[0;34m\u001b[0m\u001b[0;34m\u001b[0m\u001b[0m\n\u001b[1;32m    759\u001b[0m                                      \u001b[0msides\u001b[0m\u001b[0;34m=\u001b[0m\u001b[0msides\u001b[0m\u001b[0;34m,\u001b[0m \u001b[0mscale_by_freq\u001b[0m\u001b[0;34m=\u001b[0m\u001b[0mscale_by_freq\u001b[0m\u001b[0;34m,\u001b[0m\u001b[0;34m\u001b[0m\u001b[0;34m\u001b[0m\u001b[0m\n\u001b[0;32m--> 760\u001b[0;31m                                      mode='psd')\n\u001b[0m\u001b[1;32m    761\u001b[0m \u001b[0;34m\u001b[0m\u001b[0m\n\u001b[1;32m    762\u001b[0m     \u001b[0;32mif\u001b[0m \u001b[0mPxy\u001b[0m\u001b[0;34m.\u001b[0m\u001b[0mndim\u001b[0m \u001b[0;34m==\u001b[0m \u001b[0;36m2\u001b[0m\u001b[0;34m:\u001b[0m\u001b[0;34m\u001b[0m\u001b[0;34m\u001b[0m\u001b[0m\n",
      "\u001b[0;32m~/CA1_model/CA1_model_env/lib64/python3.6/site-packages/matplotlib/mlab.py\u001b[0m in \u001b[0;36m_spectral_helper\u001b[0;34m(x, y, NFFT, Fs, detrend_func, window, noverlap, pad_to, sides, scale_by_freq, mode)\u001b[0m\n\u001b[1;32m    494\u001b[0m             \"The window length must match the data's first dimension\")\n\u001b[1;32m    495\u001b[0m \u001b[0;34m\u001b[0m\u001b[0m\n\u001b[0;32m--> 496\u001b[0;31m     \u001b[0mresult\u001b[0m \u001b[0;34m=\u001b[0m \u001b[0mstride_windows\u001b[0m\u001b[0;34m(\u001b[0m\u001b[0mx\u001b[0m\u001b[0;34m,\u001b[0m \u001b[0mNFFT\u001b[0m\u001b[0;34m,\u001b[0m \u001b[0mnoverlap\u001b[0m\u001b[0;34m,\u001b[0m \u001b[0maxis\u001b[0m\u001b[0;34m=\u001b[0m\u001b[0;36m0\u001b[0m\u001b[0;34m)\u001b[0m\u001b[0;34m\u001b[0m\u001b[0;34m\u001b[0m\u001b[0m\n\u001b[0m\u001b[1;32m    497\u001b[0m     \u001b[0mresult\u001b[0m \u001b[0;34m=\u001b[0m \u001b[0mdetrend\u001b[0m\u001b[0;34m(\u001b[0m\u001b[0mresult\u001b[0m\u001b[0;34m,\u001b[0m \u001b[0mdetrend_func\u001b[0m\u001b[0;34m,\u001b[0m \u001b[0maxis\u001b[0m\u001b[0;34m=\u001b[0m\u001b[0;36m0\u001b[0m\u001b[0;34m)\u001b[0m\u001b[0;34m\u001b[0m\u001b[0;34m\u001b[0m\u001b[0m\n\u001b[1;32m    498\u001b[0m     \u001b[0mresult\u001b[0m \u001b[0;34m=\u001b[0m \u001b[0mresult\u001b[0m \u001b[0;34m*\u001b[0m \u001b[0mwindow\u001b[0m\u001b[0;34m.\u001b[0m\u001b[0mreshape\u001b[0m\u001b[0;34m(\u001b[0m\u001b[0;34m(\u001b[0m\u001b[0;34m-\u001b[0m\u001b[0;36m1\u001b[0m\u001b[0;34m,\u001b[0m \u001b[0;36m1\u001b[0m\u001b[0;34m)\u001b[0m\u001b[0;34m)\u001b[0m\u001b[0;34m\u001b[0m\u001b[0;34m\u001b[0m\u001b[0m\n",
      "\u001b[0;32m~/CA1_model/CA1_model_env/lib64/python3.6/site-packages/matplotlib/mlab.py\u001b[0m in \u001b[0;36mstride_windows\u001b[0;34m(x, n, noverlap, axis)\u001b[0m\n\u001b[1;32m    323\u001b[0m \u001b[0;34m\u001b[0m\u001b[0m\n\u001b[1;32m    324\u001b[0m     \u001b[0;32mif\u001b[0m \u001b[0mx\u001b[0m\u001b[0;34m.\u001b[0m\u001b[0mndim\u001b[0m \u001b[0;34m!=\u001b[0m \u001b[0;36m1\u001b[0m\u001b[0;34m:\u001b[0m\u001b[0;34m\u001b[0m\u001b[0;34m\u001b[0m\u001b[0m\n\u001b[0;32m--> 325\u001b[0;31m         \u001b[0;32mraise\u001b[0m \u001b[0mValueError\u001b[0m\u001b[0;34m(\u001b[0m\u001b[0;34m'only 1-dimensional arrays can be used'\u001b[0m\u001b[0;34m)\u001b[0m\u001b[0;34m\u001b[0m\u001b[0;34m\u001b[0m\u001b[0m\n\u001b[0m\u001b[1;32m    326\u001b[0m     \u001b[0;32mif\u001b[0m \u001b[0mn\u001b[0m \u001b[0;34m==\u001b[0m \u001b[0;36m1\u001b[0m \u001b[0;32mand\u001b[0m \u001b[0mnoverlap\u001b[0m \u001b[0;34m==\u001b[0m \u001b[0;36m0\u001b[0m\u001b[0;34m:\u001b[0m\u001b[0;34m\u001b[0m\u001b[0;34m\u001b[0m\u001b[0m\n\u001b[1;32m    327\u001b[0m         \u001b[0;32mif\u001b[0m \u001b[0maxis\u001b[0m \u001b[0;34m==\u001b[0m \u001b[0;36m0\u001b[0m\u001b[0;34m:\u001b[0m\u001b[0;34m\u001b[0m\u001b[0;34m\u001b[0m\u001b[0m\n",
      "\u001b[0;31mValueError\u001b[0m: only 1-dimensional arrays can be used"
     ]
    },
    {
     "data": {
      "image/png": "[encoded data removed]",
      "text/plain": [
       "<Figure size 1080x360 with 1 Axes>"
      ]
     },
     "metadata": {
      "needs_background": "light"
     },
     "output_type": "display_data"
    }
   ],
   "source": [
    "plt.figure(figsize=(15,5))\n",
    "Pxx,freqs = plt.psd(data,NFFT = fs,noverlap=True)"
   ]
  },
  {
   "cell_type": "code",
   "execution_count": 28,
   "id": "f6a62a6b-be92-4007-ad9a-131fdb95a340",
   "metadata": {},
   "outputs": [],
   "source": [
    "f = h5py.File(os.path.join('output','spikes.h5'), 'r')\n",
    "spikesDF = SaveDataToDF(f) "
   ]
  },
  {
   "cell_type": "code",
   "execution_count": 29,
   "id": "bb4cc7cd-b26d-44be-84ea-f1e56cba00ee",
   "metadata": {},
   "outputs": [
    {
     "ename": "NameError",
     "evalue": "name 'spikingCellIDs' is not defined",
     "output_type": "error",
     "traceback": [
      "\u001b[0;31m---------------------------------------------------------------------------\u001b[0m",
      "\u001b[0;31mNameError\u001b[0m                                 Traceback (most recent call last)",
      "\u001b[0;32m<ipython-input-29-36da9f387ba3>\u001b[0m in \u001b[0;36m<module>\u001b[0;34m\u001b[0m\n\u001b[0;32m----> 1\u001b[0;31m \u001b[0mnp\u001b[0m\u001b[0;34m.\u001b[0m\u001b[0munique\u001b[0m\u001b[0;34m(\u001b[0m\u001b[0mnodesDF\u001b[0m\u001b[0;34m[\u001b[0m\u001b[0;34m'node_type_id'\u001b[0m\u001b[0;34m]\u001b[0m\u001b[0;34m[\u001b[0m\u001b[0mspikingCellIDs\u001b[0m\u001b[0;34m]\u001b[0m\u001b[0;34m)\u001b[0m\u001b[0;34m\u001b[0m\u001b[0;34m\u001b[0m\u001b[0m\n\u001b[0m",
      "\u001b[0;31mNameError\u001b[0m: name 'spikingCellIDs' is not defined"
     ]
    }
   ],
   "source": [
    "np.unique(nodesDF['node_type_id'][spikingCellIDs])"
   ]
  },
  {
   "cell_type": "code",
   "execution_count": 338,
   "id": "c4b6dc42-6083-4896-ab5f-f02475933442",
   "metadata": {},
   "outputs": [],
   "source": [
    "f = h5py.File(os.path.join('output','spikes.h5'), 'r')"
   ]
  },
  {
   "cell_type": "code",
   "execution_count": 10,
   "id": "0572b90d-c4b6-4baf-94ed-1c9e2d9c6140",
   "metadata": {},
   "outputs": [],
   "source": [
    "f = h5py.File(os.path.join('output','voltage_clamp.h5'), 'r')\n",
    "vclampDat = SaveDataToDF(f)"
   ]
  },
  {
   "cell_type": "code",
   "execution_count": 30,
   "id": "4ff142f7-2afb-432a-8e7c-b163bfeb3a86",
   "metadata": {},
   "outputs": [
    {
     "data": {
      "image/png": "[encoded data removed]",
      "text/plain": [
       "<Figure size 432x288 with 1 Axes>"
      ]
     },
     "metadata": {
      "needs_background": "light"
     },
     "output_type": "display_data"
    }
   ],
   "source": [
    "f = h5py.File(os.path.join('output','voltage_clamp.h5'), 'r')\n",
    "vclampDat = SaveDataToDF(f)\n",
    "plt.plot(vclampDat['data0'])\n",
    "np.savetxt('vclamp_AAC_4',vclampDat['data0'])\n",
    "#plt.savefig('AAC_vclamp.png')"
   ]
  },
  {
   "cell_type": "code",
   "execution_count": 164,
   "id": "b266b142-0574-4356-9839-c76dd326a444",
   "metadata": {},
   "outputs": [],
   "source": [
    "f = h5py.File(os.path.join('output','i_report_syn.h5'), 'r')\n",
    "iSynnmda = SaveDataToDF(f)\n",
    "\n",
    "f = h5py.File(os.path.join('output','i_report_syn2.h5'), 'r')\n",
    "iSynampa = SaveDataToDF(f)"
   ]
  },
  {
   "cell_type": "code",
   "execution_count": 31,
   "id": "749130eb-5355-464e-b66a-d7b06739ba3c",
   "metadata": {},
   "outputs": [
    {
     "ename": "NameError",
     "evalue": "name 'vreports' is not defined",
     "output_type": "error",
     "traceback": [
      "\u001b[0;31m---------------------------------------------------------------------------\u001b[0m",
      "\u001b[0;31mNameError\u001b[0m                                 Traceback (most recent call last)",
      "\u001b[0;32m<ipython-input-31-85494b046c7f>\u001b[0m in \u001b[0;36m<module>\u001b[0;34m\u001b[0m\n\u001b[1;32m      6\u001b[0m \u001b[0msimTime\u001b[0m \u001b[0;34m=\u001b[0m \u001b[0mnp\u001b[0m\u001b[0;34m.\u001b[0m\u001b[0marange\u001b[0m\u001b[0;34m(\u001b[0m\u001b[0;36m0\u001b[0m\u001b[0;34m,\u001b[0m\u001b[0;36m300\u001b[0m\u001b[0;34m,\u001b[0m\u001b[0;36m0.1\u001b[0m\u001b[0;34m)\u001b[0m\u001b[0;34m\u001b[0m\u001b[0;34m\u001b[0m\u001b[0m\n\u001b[1;32m      7\u001b[0m \u001b[0;32mfor\u001b[0m \u001b[0mgid\u001b[0m \u001b[0;32min\u001b[0m \u001b[0mgids\u001b[0m\u001b[0;34m:\u001b[0m\u001b[0;34m\u001b[0m\u001b[0;34m\u001b[0m\u001b[0m\n\u001b[0;32m----> 8\u001b[0;31m     \u001b[0mcellNo\u001b[0m \u001b[0;34m=\u001b[0m \u001b[0mvreports\u001b[0m\u001b[0;34m[\u001b[0m\u001b[0;34m'node_ids'\u001b[0m\u001b[0;34m]\u001b[0m\u001b[0;34m[\u001b[0m\u001b[0mvreports\u001b[0m\u001b[0;34m[\u001b[0m\u001b[0;34m'node_ids'\u001b[0m\u001b[0;34m]\u001b[0m \u001b[0;34m==\u001b[0m \u001b[0mgid\u001b[0m\u001b[0;34m]\u001b[0m\u001b[0;34m.\u001b[0m\u001b[0mkeys\u001b[0m\u001b[0;34m(\u001b[0m\u001b[0;34m)\u001b[0m\u001b[0;34m[\u001b[0m\u001b[0;36m0\u001b[0m\u001b[0;34m]\u001b[0m\u001b[0;34m\u001b[0m\u001b[0;34m\u001b[0m\u001b[0m\n\u001b[0m\u001b[1;32m      9\u001b[0m     \u001b[0mname\u001b[0m \u001b[0;34m=\u001b[0m \u001b[0mnodesDF\u001b[0m\u001b[0;34m[\u001b[0m\u001b[0;34m'node_type_id'\u001b[0m\u001b[0;34m]\u001b[0m\u001b[0;34m[\u001b[0m\u001b[0mvreports\u001b[0m\u001b[0;34m[\u001b[0m\u001b[0;34m'node_ids'\u001b[0m\u001b[0;34m]\u001b[0m\u001b[0;34m[\u001b[0m\u001b[0mcellNo\u001b[0m\u001b[0;34m]\u001b[0m\u001b[0;34m]\u001b[0m\u001b[0;34m\u001b[0m\u001b[0;34m\u001b[0m\u001b[0m\n\u001b[1;32m     10\u001b[0m     \u001b[0mplt\u001b[0m\u001b[0;34m.\u001b[0m\u001b[0mplot\u001b[0m\u001b[0;34m(\u001b[0m\u001b[0msimTime\u001b[0m\u001b[0;34m[\u001b[0m\u001b[0mstart\u001b[0m\u001b[0;34m:\u001b[0m\u001b[0mend\u001b[0m\u001b[0;34m]\u001b[0m\u001b[0;34m,\u001b[0m\u001b[0mvreports\u001b[0m\u001b[0;34m[\u001b[0m\u001b[0;34m'data'\u001b[0m\u001b[0;34m+\u001b[0m\u001b[0mstr\u001b[0m\u001b[0;34m(\u001b[0m\u001b[0mcellNo\u001b[0m\u001b[0;34m)\u001b[0m\u001b[0;34m]\u001b[0m\u001b[0;34m[\u001b[0m\u001b[0mvreports\u001b[0m\u001b[0;34m[\u001b[0m\u001b[0;34m'data'\u001b[0m\u001b[0;34m+\u001b[0m\u001b[0mstr\u001b[0m\u001b[0;34m(\u001b[0m\u001b[0mcellNo\u001b[0m\u001b[0;34m)\u001b[0m\u001b[0;34m]\u001b[0m\u001b[0;34m.\u001b[0m\u001b[0misna\u001b[0m\u001b[0;34m(\u001b[0m\u001b[0;34m)\u001b[0m\u001b[0;34m==\u001b[0m\u001b[0;32mFalse\u001b[0m\u001b[0;34m]\u001b[0m\u001b[0;34m[\u001b[0m\u001b[0mstart\u001b[0m\u001b[0;34m:\u001b[0m\u001b[0mend\u001b[0m\u001b[0;34m]\u001b[0m\u001b[0;34m,\u001b[0m\u001b[0mlabel\u001b[0m \u001b[0;34m=\u001b[0m \u001b[0mname\u001b[0m\u001b[0;34m+\u001b[0m\u001b[0;34m'_'\u001b[0m\u001b[0;34m+\u001b[0m\u001b[0mstr\u001b[0m\u001b[0;34m(\u001b[0m\u001b[0mgid\u001b[0m\u001b[0;34m)\u001b[0m\u001b[0;34m)\u001b[0m\u001b[0;34m\u001b[0m\u001b[0;34m\u001b[0m\u001b[0m\n",
      "\u001b[0;31mNameError\u001b[0m: name 'vreports' is not defined"
     ]
    },
    {
     "data": {
      "text/plain": [
       "<Figure size 1080x720 with 0 Axes>"
      ]
     },
     "metadata": {},
     "output_type": "display_data"
    }
   ],
   "source": [
    "#gids = [27] + srcList[:4]\n",
    "gids = [1]\n",
    "#start,end = 1400,1900\n",
    "start,end = 0,5000\n",
    "plt.figure(figsize=(15,10))\n",
    "simTime = np.arange(0,300,0.1)\n",
    "for gid in gids:\n",
    "    cellNo = vreports['node_ids'][vreports['node_ids'] == gid].keys()[0]\n",
    "    name = nodesDF['node_type_id'][vreports['node_ids'][cellNo]]\n",
    "    plt.plot(simTime[start:end],vreports['data'+str(cellNo)][vreports['data'+str(cellNo)].isna()==False][start:end],label = name+'_'+str(gid))\n",
    "    plt.plot(simTime[start:end],iSynampa['data8'][start:end]*1000,label='ampa')\n",
    "    plt.plot(simTime[start:end],iSynnmda['data8'][start:end]*1000,label='nmda')\n",
    "\n",
    "#plt.ylim([-70,-50])\n",
    "plt.legend(loc='upper left')"
   ]
  },
  {
   "cell_type": "code",
   "execution_count": 197,
   "id": "017e7fc7-154c-40b9-99ec-d0681e69435c",
   "metadata": {},
   "outputs": [
    {
     "data": {
      "text/plain": [
       "[<matplotlib.lines.Line2D at 0x2b0d38b83ba8>]"
      ]
     },
     "execution_count": 197,
     "metadata": {},
     "output_type": "execute_result"
    },
    {
     "data": {
      "image/png": "[encoded data removed]",
      "text/plain": [
       "<Figure size 432x288 with 1 Axes>"
      ]
     },
     "metadata": {
      "needs_background": "light"
     },
     "output_type": "display_data"
    }
   ],
   "source": [
    "plt.plot(simTime[start:end],iSynampa['data8'],label='ampa')\n",
    "plt.plot(simTime[start:end],iSynnmda['data8'],label='nmda')"
   ]
  },
  {
   "cell_type": "code",
   "execution_count": 217,
   "id": "c81d145c-f470-41c9-8605-f804959eb792",
   "metadata": {},
   "outputs": [],
   "source": [
    "saveVolts = []\n",
    "for i in range(1084):\n",
    "    if sum(iSynnmda['data'+str(i)]) != 0:\n",
    "        saveVolts.append(iSynnmda['data'+str(i)])"
   ]
  },
  {
   "cell_type": "code",
   "execution_count": 212,
   "id": "e4b1603d-d1fd-4f1e-be07-f71e108c2ef9",
   "metadata": {},
   "outputs": [
    {
     "data": {
      "image/png": "[encoded data removed]",
      "text/plain": [
       "<Figure size 432x288 with 1 Axes>"
      ]
     },
     "metadata": {
      "needs_background": "light"
     },
     "output_type": "display_data"
    }
   ],
   "source": [
    "plt.plot(saveVolts)\n",
    "plt.show()"
   ]
  },
  {
   "cell_type": "code",
   "execution_count": 220,
   "id": "2a047338-b00f-45f8-a99e-51c239e973f6",
   "metadata": {},
   "outputs": [
    {
     "data": {
      "text/plain": [
       "[<matplotlib.lines.Line2D at 0x2b0d3e39fd30>]"
      ]
     },
     "execution_count": 220,
     "metadata": {},
     "output_type": "execute_result"
    },
    {
     "data": {
      "image/png": "[encoded data removed]",
      "text/plain": [
       "<Figure size 432x288 with 1 Axes>"
      ]
     },
     "metadata": {
      "needs_background": "light"
     },
     "output_type": "display_data"
    }
   ],
   "source": [
    "plt.plot(np.sum(np.array(saveVolts),axis=0))"
   ]
  },
  {
   "cell_type": "code",
   "execution_count": 173,
   "id": "bb9546af-e6ac-4911-b090-b6b0d4d97850",
   "metadata": {},
   "outputs": [],
   "source": [
    "f.close()"
   ]
  },
  {
   "cell_type": "markdown",
   "id": "a500d445-6833-48cd-ad1a-55dba01d8b47",
   "metadata": {},
   "source": [
    "# plot individual voltage responses"
   ]
  },
  {
   "cell_type": "code",
   "execution_count": 36,
   "id": "a46dc5b8-77d4-4d43-8f26-884e5737a0e5",
   "metadata": {},
   "outputs": [
    {
     "data": {
      "text/plain": [
       "[<matplotlib.lines.Line2D at 0x2b3e61101668>]"
      ]
     },
     "execution_count": 36,
     "metadata": {},
     "output_type": "execute_result"
    },
    {
     "data": {
      "image/png": "[encoded data removed]",
      "text/plain": [
       "<Figure size 432x288 with 1 Axes>"
      ]
     },
     "metadata": {
      "needs_background": "light"
     },
     "output_type": "display_data"
    }
   ],
   "source": [
    "plt.plot(vreports['data110'])"
   ]
  },
  {
   "cell_type": "code",
   "execution_count": 8,
   "id": "159a3f4b-994a-422b-90bf-e66f6ccf99e2",
   "metadata": {},
   "outputs": [
    {
     "name": "stdout",
     "output_type": "stream",
     "text": [
      "[    0     1     2 ... 19999 20000 20001]\n",
      "8477\n"
     ]
    }
   ],
   "source": [
    "f = h5py.File(os.path.join(\"output\",'v_report.h5'), 'r')\n",
    "vreports = SaveDataToDF(f)\n",
    "\n",
    "f = h5py.File(os.path.join('network','biophysical_nodes.h5'), 'r')\n",
    "nodesDF = SaveDataToDF(f)\n",
    "\n",
    "\n",
    "#f = h5py.File(os.path.join(\"output\",'v_report_axon.h5'), 'r')\n",
    "#axonsDF = SaveDataToDF(f)\n",
    "\n",
    "f = h5py.File(os.path.join('output','spikes.h5'), 'r')\n",
    "spikesDF = SaveDataToDF(f) \n",
    "\n",
    "spikingCellIDs = np.unique(np.array(spikesDF['node_ids'],dtype=int))\n",
    "print(spikingCellIDs)\n",
    "print(len(spikingCellIDs))\n",
    "\n",
    "\n",
    "cellLocations = pd.read_csv('cell_locations.csv')#this was for the old build, i'm just reading it instead of writing the list coz lazy\n",
    "idNames = np.unique(nodesDF['node_type_id'])\n",
    "cellNames = np.unique(cellLocations['Cell type'])\n",
    "array = cellLocations['Cell type']\n",
    "idxs = np.unique(cellLocations['Cell type'],return_index=True)[1]\n",
    "cellNames = [array[index] for index in sorted(idxs)]#use the names in the order in which the id's appear\n",
    "\n",
    "nodesDF = nodesDF.replace({'node_type_id':idNames},{'node_type_id':cellNames})"
   ]
  },
  {
   "cell_type": "code",
   "execution_count": 412,
   "id": "8beb3df5-618e-4083-b820-ce54c8f8d288",
   "metadata": {},
   "outputs": [],
   "source": [
    "nodesDF.to_csv('nodePositions.csv')"
   ]
  },
  {
   "cell_type": "markdown",
   "id": "77ed3b2d-6e6d-4698-8655-7e1c0ed3d227",
   "metadata": {},
   "source": [
    "# find how many cells of each type spike in the simulation"
   ]
  },
  {
   "cell_type": "code",
   "execution_count": 43,
   "id": "d1262664-e3aa-45bb-8b25-b5df1f113dec",
   "metadata": {},
   "outputs": [],
   "source": []
  },
  {
   "cell_type": "code",
   "execution_count": 72,
   "id": "a8fbe622-48b7-4a5e-b647-9927d7bd0495",
   "metadata": {},
   "outputs": [
    {
     "name": "stdout",
     "output_type": "stream",
     "text": [
      "Index(['node_ids', 'timestamps', 'node_type_id'], dtype='object')\n"
     ]
    },
    {
     "data": {
      "text/plain": [
       "node_type_id\n",
       "AAC in SO layer      47\n",
       "AAC in SP layer     151\n",
       "AAC in SR layer       8\n",
       "OLM in SO layer     423\n",
       "PV in SO layer      112\n",
       "PV in SP layer      354\n",
       "PV in SR layer       34\n",
       "Pyr in SP layer    5200\n",
       "dtype: int64"
      ]
     },
     "execution_count": 72,
     "metadata": {},
     "output_type": "execute_result"
    }
   ],
   "source": [
    "f = h5py.File(os.path.join('output','spikes.h5'), 'r')\n",
    "spikesDF = SaveDataToDF(f) \n",
    "idTypes = pd.DataFrame(nodesDF['node_type_id'][spikesDF['node_ids']])\n",
    "idTypes.columns = ['node_type_id']\n",
    "idTypes.index = range(0,len(spikesDF))#concat does not handle different indices, even if ignore_index=True for some reason\n",
    "\n",
    "spikesDFM = pd.concat([spikesDF,idTypes],axis=1)\n",
    "print(spikesDFM.keys())\n",
    "spikesDFM.groupby('node_type_id').apply(len)"
   ]
  },
  {
   "cell_type": "code",
   "execution_count": 88,
   "id": "d5abbea1-e132-4051-9b43-953b85b505f6",
   "metadata": {},
   "outputs": [
    {
     "name": "stdout",
     "output_type": "stream",
     "text": [
      "4042 spiking Pyrs\n"
     ]
    }
   ],
   "source": [
    "cellName = 'Pyr'\n",
    "# ids which spike in the simulation\n",
    "un = spikesDFM[spikesDFM['node_type_id'].str.contains(cellName)]['node_ids']\n",
    "unIDs = np.unique(un)\n",
    "#print(unIDs)\n",
    "print(str(len(unIDs))+' spiking '+ cellName+'s')\n",
    "# get a DF with the unique ids, the number of times each unique id fires:\n",
    "allCells = spikesDFM.loc[un.index].groupby('node_ids').apply(len).to_frame()\n",
    "allCells.columns = ['counts']"
   ]
  },
  {
   "cell_type": "code",
   "execution_count": 395,
   "id": "cbed67fd-d70c-47ba-9cea-d07828722c9f",
   "metadata": {},
   "outputs": [
    {
     "data": {
      "image/png": "[encoded data removed]",
      "text/plain": [
       "<Figure size 1440x360 with 1 Axes>"
      ]
     },
     "metadata": {
      "needs_background": "light"
     },
     "output_type": "display_data"
    }
   ],
   "source": [
    "plt.figure(figsize=(20,5))\n",
    "#plt.bar(allCells.index,allCells['counts'].values,width=0.2,align='center')\n",
    "plt.scatter(allCells.index,allCells['counts'].values)\n",
    "plt.title(' # spikes for each '+cellName)\n",
    "plt.xlabel('ID')\n",
    "plt.ylabel('# spikes')\n",
    "plt.xticks(allCells.index,rotation=45,fontsize=10)\n",
    "\n",
    "plt.show()"
   ]
  },
  {
   "cell_type": "code",
   "execution_count": 128,
   "id": "6dbfcc61-62ad-4fcc-ba89-93b6d52b88dd",
   "metadata": {},
   "outputs": [
    {
     "name": "stdout",
     "output_type": "stream",
     "text": [
      "3\n"
     ]
    },
    {
     "data": {
      "text/plain": [
       "3"
      ]
     },
     "execution_count": 128,
     "metadata": {},
     "output_type": "execute_result"
    }
   ],
   "source": [
    "starttime, endtime = 195, 205\n",
    "typeDF  = spikesDFM[spikesDFM['node_type_id'].str.contains('Pyr')]\n",
    "res = typeDF[(typeDF['timestamps'] < endtime) & (typeDF['timestamps'] > starttime)]\n",
    "print(len(res))\n",
    "len(np.unique(res['node_ids']))"
   ]
  },
  {
   "cell_type": "code",
   "execution_count": 129,
   "id": "2abd588b-d46c-4b49-b4dd-d123333a5f86",
   "metadata": {},
   "outputs": [
    {
     "data": {
      "text/html": [
       "<div>\n",
       "<style scoped>\n",
       "    .dataframe tbody tr th:only-of-type {\n",
       "        vertical-align: middle;\n",
       "    }\n",
       "\n",
       "    .dataframe tbody tr th {\n",
       "        vertical-align: top;\n",
       "    }\n",
       "\n",
       "    .dataframe thead th {\n",
       "        text-align: right;\n",
       "    }\n",
       "</style>\n",
       "<table border=\"1\" class=\"dataframe\">\n",
       "  <thead>\n",
       "    <tr style=\"text-align: right;\">\n",
       "      <th></th>\n",
       "      <th>node_ids</th>\n",
       "      <th>timestamps</th>\n",
       "      <th>node_type_id</th>\n",
       "    </tr>\n",
       "  </thead>\n",
       "  <tbody>\n",
       "    <tr>\n",
       "      <th>255</th>\n",
       "      <td>3651.0</td>\n",
       "      <td>197.1</td>\n",
       "      <td>Pyr in SP layer</td>\n",
       "    </tr>\n",
       "    <tr>\n",
       "      <th>5030</th>\n",
       "      <td>8224.0</td>\n",
       "      <td>196.7</td>\n",
       "      <td>Pyr in SP layer</td>\n",
       "    </tr>\n",
       "    <tr>\n",
       "      <th>9374</th>\n",
       "      <td>4195.0</td>\n",
       "      <td>197.9</td>\n",
       "      <td>Pyr in SP layer</td>\n",
       "    </tr>\n",
       "  </tbody>\n",
       "</table>\n",
       "</div>"
      ],
      "text/plain": [
       "      node_ids  timestamps     node_type_id\n",
       "255     3651.0       197.1  Pyr in SP layer\n",
       "5030    8224.0       196.7  Pyr in SP layer\n",
       "9374    4195.0       197.9  Pyr in SP layer"
      ]
     },
     "execution_count": 129,
     "metadata": {},
     "output_type": "execute_result"
    }
   ],
   "source": [
    "res"
   ]
  },
  {
   "cell_type": "code",
   "execution_count": 57,
   "id": "d5edeb92-dbad-4018-96fd-b72b23449725",
   "metadata": {},
   "outputs": [],
   "source": [
    "f = h5py.File(os.path.join(\"output\",'i_report_syn.h5'), 'r')\n",
    "f.visit(print)\n",
    "f.close()"
   ]
  },
  {
   "cell_type": "markdown",
   "id": "b2ada13a-e8e1-4c84-9d5f-7f2be601a32d",
   "metadata": {},
   "source": [
    "# plot voltage of 1 cell"
   ]
  },
  {
   "cell_type": "code",
   "execution_count": 31,
   "id": "0a840433-ba9e-4e33-9d22-2642fea4c878",
   "metadata": {},
   "outputs": [],
   "source": [
    "f = h5py.File(os.path.join(\"output\",'v_report.h5'), 'r')\n",
    "vreports = SaveDataToDF(f)"
   ]
  },
  {
   "cell_type": "code",
   "execution_count": 32,
   "id": "ea3d620b-36fe-424f-935a-d1cacca7e631",
   "metadata": {},
   "outputs": [
    {
     "data": {
      "image/png": "[encoded data removed]",
      "text/plain": [
       "<Figure size 1080x720 with 1 Axes>"
      ]
     },
     "metadata": {
      "needs_background": "light"
     },
     "output_type": "display_data"
    }
   ],
   "source": [
    "#get vreports first\n",
    "gids = [13774]\n",
    "#gids = [18012]\n",
    "start,end = 0,30000\n",
    "#start,end = 0,3000\n",
    "plt.figure(figsize=(15,10))\n",
    "simTime = np.arange(0,300,0.1)\n",
    "for gid in gids:\n",
    "    cellNo = vreports['node_ids'][vreports['node_ids'] == gid].keys()[0]\n",
    "    name = nodesDF['node_type_id'][vreports['node_ids'][cellNo]]\n",
    "    plt.plot(simTime[start:end],vreports['data'+str(cellNo)][vreports['data'+str(cellNo)].isna()==False][start:end],label = name+'_'+str(gid))\n",
    "\n",
    "#plt.ylim([-70,-50])\n",
    "plt.legend(loc='upper left')\n",
    "#plt.savefig('OLM.png')\n",
    "plt.show()"
   ]
  },
  {
   "cell_type": "code",
   "execution_count": 12,
   "id": "ff04cc62-1a89-4ed7-909f-a70c411d0f62",
   "metadata": {},
   "outputs": [
    {
     "data": {
      "image/png": "[encoded data removed]",
      "text/plain": [
       "<Figure size 432x288 with 1 Axes>"
      ]
     },
     "metadata": {
      "needs_background": "light"
     },
     "output_type": "display_data"
    }
   ],
   "source": [
    "f = h5py.File(os.path.join('output','voltage_clamp.h5'), 'r')\n",
    "vclampDat = SaveDataToDF(f)\n",
    "plt.plot(vclampDat['data0'])\n",
    "np.savetxt('output/vclamp_AAC_15.txt',vclampDat['data0'])\n",
    "#plt.savefig('AAC_vclamp.png')"
   ]
  },
  {
   "cell_type": "markdown",
   "id": "dc41de09-f365-48e5-8ef2-4222a495b5c3",
   "metadata": {},
   "source": [
    "# find the spiking cell connected to a given cell id"
   ]
  },
  {
   "cell_type": "markdown",
   "id": "a77b2817-5736-4ade-a661-e611d1a71486",
   "metadata": {},
   "source": [
    "### cell of a certain type which fires earliest in a given window:"
   ]
  },
  {
   "cell_type": "code",
   "execution_count": 27,
   "id": "0244a689-8cf5-4f42-ba05-c464d9ac69e8",
   "metadata": {},
   "outputs": [],
   "source": [
    "f = h5py.File(os.path.join('updated_conns','biophysical_biophysical_edges.h5'))\n",
    "synapsesDF = SaveDataToDF(f)"
   ]
  },
  {
   "cell_type": "code",
   "execution_count": 23,
   "id": "779cf14d-6dff-486c-b3d7-7d78d6779806",
   "metadata": {},
   "outputs": [],
   "source": [
    "f = h5py.File(os.path.join('network','biophysical_biophysical_edges.h5'), 'r')\n",
    "edgesDF = SaveDataToDF(f)\n",
    "\n",
    "f = h5py.File(os.path.join('output','spikes.h5'), 'r')\n",
    "spikesDF = SaveDataToDF(f) \n",
    "\n",
    "namesList = []\n",
    "for i in range(len(spikesDF['node_ids'])):\n",
    "    namesList.append(nodesDF['node_type_id'][spikesDF['node_ids'][i]])\n",
    "spikesDFM = pd.concat([spikesDF,pd.Series(namesList)],axis=1)\n",
    "spikesDFM.columns = ['node_ids','timestamps','node_type_id']"
   ]
  },
  {
   "cell_type": "markdown",
   "id": "39f3202d-47a3-4916-98df-1a53e1c14fb9",
   "metadata": {},
   "source": [
    "### find the target ID of interest"
   ]
  },
  {
   "cell_type": "code",
   "execution_count": 20,
   "id": "6e40df0b-5c4b-4530-a375-bcb447a0a5e8",
   "metadata": {},
   "outputs": [],
   "source": [
    "startwindow =  120\n",
    "cellType = 'Pyr in SP layer'"
   ]
  },
  {
   "cell_type": "code",
   "execution_count": 21,
   "id": "b439086d-e4f3-4d56-a39c-9951a2f96782",
   "metadata": {},
   "outputs": [
    {
     "name": "stdout",
     "output_type": "stream",
     "text": [
      "node_ids                  13774\n",
      "timestamps                120.4\n",
      "node_type_id    Pyr in SP layer\n",
      "Name: 829, dtype: object\n"
     ]
    }
   ],
   "source": [
    "cellTypeTimes = spikesDFM[spikesDFM['node_type_id'] == cellType]['timestamps'].values\n",
    "IDX = np.where(cellTypeTimes == np.min(cellTypeTimes[cellTypeTimes > startwindow]))[0][0]#earliest time this cell type spikes after the startwindow\n",
    "print(spikesDFM[spikesDFM['node_type_id'] == cellType].iloc[IDX])\n",
    "nodeID = (spikesDFM[spikesDFM['node_type_id'] == cellType].iloc[IDX])['node_ids']#node id of the cell which spikes, better be of the cell type given above"
   ]
  },
  {
   "cell_type": "markdown",
   "id": "77c08a66-9e45-4af5-bb87-1b3ed202879b",
   "metadata": {},
   "source": [
    "### get the spiking sources to this target"
   ]
  },
  {
   "cell_type": "code",
   "execution_count": 24,
   "id": "4cd6403e-9f7d-4801-a862-2dc07bfbd0a6",
   "metadata": {},
   "outputs": [],
   "source": [
    "Sids = edgesDF[edgesDF['target_node_id'] == nodeID]['source_node_id']#source ids of the cells that synapse onto this one \n",
    "srcList = []\n",
    "srcTypeList = []\n",
    "for i in range(len(Sids)):\n",
    "    if len(spikesDFM[spikesDFM['node_ids']==Sids.iloc[i]]) > 0:# AND spike\n",
    "        srcList.append(Sids.iloc[i])\n",
    "        #srcTypeList.append(spikesDFM['node_type_id'].iloc[Sids.iloci])\n",
    "        srcTypeList.append(spikesDFM[spikesDFM['node_ids']==Sids.iloc[i]]['node_type_id'].values[0])"
   ]
  },
  {
   "cell_type": "markdown",
   "id": "bf17c9a1-ff30-4540-8d0b-c367c6ee84a8",
   "metadata": {},
   "source": [
    "### get the properties of the synapses from the source and save"
   ]
  },
  {
   "cell_type": "code",
   "execution_count": 28,
   "id": "aaca33af-52ae-4ef6-864e-b09e418bdf6a",
   "metadata": {},
   "outputs": [],
   "source": [
    "targetDF = synapsesDF[synapsesDF['target_node_id'] == nodeID]\n",
    "allsIDs,allSecs,allweights = [],[],[]\n",
    "for i in range(0,len( targetDF['source_node_id'])):\n",
    "    if targetDF['source_node_id'].iloc[i] in srcList:\n",
    "        allsIDs.append(targetDF['sec_id'].values[i])\n",
    "        allSecs.append(targetDF['sec_x'].values[i])\n",
    "        allweights.append(targetDF['syn_weight'].values[i][0])\n",
    "        \n",
    "        \n",
    "        "
   ]
  },
  {
   "cell_type": "code",
   "execution_count": 29,
   "id": "3de48075-d3ad-4a66-983b-026af4469266",
   "metadata": {},
   "outputs": [],
   "source": [
    "TargetPropsDF = pd.DataFrame({'sec_id':allsIDs,'sec_x':allSecs,'syn_weight':allweights,'source_type':srcTypeList},index = srcList)\n",
    "TargetPropsDF.index.name = 'source_IDs'\n",
    "TargetPropsDF.to_csv('TargetPropsDF.csv')"
   ]
  },
  {
   "cell_type": "code",
   "execution_count": 30,
   "id": "b8647427-87e2-458b-9dc3-0000349404a9",
   "metadata": {},
   "outputs": [
    {
     "data": {
      "text/html": [
       "<div>\n",
       "<style scoped>\n",
       "    .dataframe tbody tr th:only-of-type {\n",
       "        vertical-align: middle;\n",
       "    }\n",
       "\n",
       "    .dataframe tbody tr th {\n",
       "        vertical-align: top;\n",
       "    }\n",
       "\n",
       "    .dataframe thead th {\n",
       "        text-align: right;\n",
       "    }\n",
       "</style>\n",
       "<table border=\"1\" class=\"dataframe\">\n",
       "  <thead>\n",
       "    <tr style=\"text-align: right;\">\n",
       "      <th></th>\n",
       "      <th>sec_id</th>\n",
       "      <th>sec_x</th>\n",
       "      <th>syn_weight</th>\n",
       "      <th>source_type</th>\n",
       "    </tr>\n",
       "    <tr>\n",
       "      <th>source_IDs</th>\n",
       "      <th></th>\n",
       "      <th></th>\n",
       "      <th></th>\n",
       "      <th></th>\n",
       "    </tr>\n",
       "  </thead>\n",
       "  <tbody>\n",
       "    <tr>\n",
       "      <th>27.0</th>\n",
       "      <td>6.0</td>\n",
       "      <td>0.5</td>\n",
       "      <td>0.208340</td>\n",
       "      <td>AAC in SO layer</td>\n",
       "    </tr>\n",
       "    <tr>\n",
       "      <th>39.0</th>\n",
       "      <td>6.0</td>\n",
       "      <td>0.5</td>\n",
       "      <td>0.641454</td>\n",
       "      <td>AAC in SO layer</td>\n",
       "    </tr>\n",
       "    <tr>\n",
       "      <th>41.0</th>\n",
       "      <td>6.0</td>\n",
       "      <td>0.5</td>\n",
       "      <td>0.409431</td>\n",
       "      <td>AAC in SO layer</td>\n",
       "    </tr>\n",
       "    <tr>\n",
       "      <th>100.0</th>\n",
       "      <td>6.0</td>\n",
       "      <td>0.5</td>\n",
       "      <td>0.200000</td>\n",
       "      <td>AAC in SO layer</td>\n",
       "    </tr>\n",
       "    <tr>\n",
       "      <th>114.0</th>\n",
       "      <td>6.0</td>\n",
       "      <td>0.5</td>\n",
       "      <td>0.200000</td>\n",
       "      <td>AAC in SO layer</td>\n",
       "    </tr>\n",
       "    <tr>\n",
       "      <th>133.0</th>\n",
       "      <td>6.0</td>\n",
       "      <td>0.5</td>\n",
       "      <td>0.112749</td>\n",
       "      <td>AAC in SO layer</td>\n",
       "    </tr>\n",
       "    <tr>\n",
       "      <th>148.0</th>\n",
       "      <td>6.0</td>\n",
       "      <td>0.5</td>\n",
       "      <td>0.200000</td>\n",
       "      <td>AAC in SO layer</td>\n",
       "    </tr>\n",
       "    <tr>\n",
       "      <th>18877.0</th>\n",
       "      <td>6.0</td>\n",
       "      <td>0.5</td>\n",
       "      <td>0.200000</td>\n",
       "      <td>AAC in SP layer</td>\n",
       "    </tr>\n",
       "    <tr>\n",
       "      <th>18878.0</th>\n",
       "      <td>6.0</td>\n",
       "      <td>0.5</td>\n",
       "      <td>0.200000</td>\n",
       "      <td>AAC in SP layer</td>\n",
       "    </tr>\n",
       "    <tr>\n",
       "      <th>18882.0</th>\n",
       "      <td>6.0</td>\n",
       "      <td>0.5</td>\n",
       "      <td>0.200000</td>\n",
       "      <td>AAC in SP layer</td>\n",
       "    </tr>\n",
       "    <tr>\n",
       "      <th>18905.0</th>\n",
       "      <td>6.0</td>\n",
       "      <td>0.5</td>\n",
       "      <td>1.939041</td>\n",
       "      <td>AAC in SP layer</td>\n",
       "    </tr>\n",
       "    <tr>\n",
       "      <th>18911.0</th>\n",
       "      <td>6.0</td>\n",
       "      <td>0.5</td>\n",
       "      <td>0.200000</td>\n",
       "      <td>AAC in SP layer</td>\n",
       "    </tr>\n",
       "    <tr>\n",
       "      <th>18950.0</th>\n",
       "      <td>6.0</td>\n",
       "      <td>0.5</td>\n",
       "      <td>0.200000</td>\n",
       "      <td>AAC in SP layer</td>\n",
       "    </tr>\n",
       "    <tr>\n",
       "      <th>18997.0</th>\n",
       "      <td>6.0</td>\n",
       "      <td>0.5</td>\n",
       "      <td>0.200000</td>\n",
       "      <td>AAC in SP layer</td>\n",
       "    </tr>\n",
       "    <tr>\n",
       "      <th>18998.0</th>\n",
       "      <td>6.0</td>\n",
       "      <td>0.5</td>\n",
       "      <td>0.672389</td>\n",
       "      <td>AAC in SP layer</td>\n",
       "    </tr>\n",
       "    <tr>\n",
       "      <th>19041.0</th>\n",
       "      <td>6.0</td>\n",
       "      <td>0.5</td>\n",
       "      <td>1.429056</td>\n",
       "      <td>AAC in SP layer</td>\n",
       "    </tr>\n",
       "    <tr>\n",
       "      <th>19210.0</th>\n",
       "      <td>6.0</td>\n",
       "      <td>0.5</td>\n",
       "      <td>0.479932</td>\n",
       "      <td>AAC in SP layer</td>\n",
       "    </tr>\n",
       "    <tr>\n",
       "      <th>19220.0</th>\n",
       "      <td>6.0</td>\n",
       "      <td>0.5</td>\n",
       "      <td>0.666126</td>\n",
       "      <td>AAC in SP layer</td>\n",
       "    </tr>\n",
       "    <tr>\n",
       "      <th>19261.0</th>\n",
       "      <td>6.0</td>\n",
       "      <td>0.5</td>\n",
       "      <td>0.200000</td>\n",
       "      <td>AAC in SP layer</td>\n",
       "    </tr>\n",
       "    <tr>\n",
       "      <th>19932.0</th>\n",
       "      <td>6.0</td>\n",
       "      <td>0.5</td>\n",
       "      <td>0.056598</td>\n",
       "      <td>AAC in SR layer</td>\n",
       "    </tr>\n",
       "    <tr>\n",
       "      <th>855.0</th>\n",
       "      <td>0.0</td>\n",
       "      <td>0.5</td>\n",
       "      <td>2.261896</td>\n",
       "      <td>PV in SO layer</td>\n",
       "    </tr>\n",
       "    <tr>\n",
       "      <th>870.0</th>\n",
       "      <td>0.0</td>\n",
       "      <td>0.5</td>\n",
       "      <td>1.719376</td>\n",
       "      <td>PV in SO layer</td>\n",
       "    </tr>\n",
       "    <tr>\n",
       "      <th>896.0</th>\n",
       "      <td>0.0</td>\n",
       "      <td>0.5</td>\n",
       "      <td>2.825939</td>\n",
       "      <td>PV in SO layer</td>\n",
       "    </tr>\n",
       "    <tr>\n",
       "      <th>19381.0</th>\n",
       "      <td>0.0</td>\n",
       "      <td>0.5</td>\n",
       "      <td>1.926807</td>\n",
       "      <td>PV in SP layer</td>\n",
       "    </tr>\n",
       "    <tr>\n",
       "      <th>19511.0</th>\n",
       "      <td>0.0</td>\n",
       "      <td>0.5</td>\n",
       "      <td>1.431034</td>\n",
       "      <td>PV in SP layer</td>\n",
       "    </tr>\n",
       "    <tr>\n",
       "      <th>19723.0</th>\n",
       "      <td>0.0</td>\n",
       "      <td>0.5</td>\n",
       "      <td>2.101202</td>\n",
       "      <td>PV in SP layer</td>\n",
       "    </tr>\n",
       "    <tr>\n",
       "      <th>19896.0</th>\n",
       "      <td>0.0</td>\n",
       "      <td>0.5</td>\n",
       "      <td>1.620852</td>\n",
       "      <td>PV in SP layer</td>\n",
       "    </tr>\n",
       "    <tr>\n",
       "      <th>19903.0</th>\n",
       "      <td>0.0</td>\n",
       "      <td>0.5</td>\n",
       "      <td>2.087376</td>\n",
       "      <td>PV in SP layer</td>\n",
       "    </tr>\n",
       "    <tr>\n",
       "      <th>19968.0</th>\n",
       "      <td>0.0</td>\n",
       "      <td>0.5</td>\n",
       "      <td>2.819632</td>\n",
       "      <td>PV in SR layer</td>\n",
       "    </tr>\n",
       "    <tr>\n",
       "      <th>270.0</th>\n",
       "      <td>4.0</td>\n",
       "      <td>0.5</td>\n",
       "      <td>0.698668</td>\n",
       "      <td>OLM in SO layer</td>\n",
       "    </tr>\n",
       "    <tr>\n",
       "      <th>283.0</th>\n",
       "      <td>4.0</td>\n",
       "      <td>0.5</td>\n",
       "      <td>1.041509</td>\n",
       "      <td>OLM in SO layer</td>\n",
       "    </tr>\n",
       "    <tr>\n",
       "      <th>320.0</th>\n",
       "      <td>4.0</td>\n",
       "      <td>0.5</td>\n",
       "      <td>0.232621</td>\n",
       "      <td>OLM in SO layer</td>\n",
       "    </tr>\n",
       "    <tr>\n",
       "      <th>456.0</th>\n",
       "      <td>4.0</td>\n",
       "      <td>0.5</td>\n",
       "      <td>0.574402</td>\n",
       "      <td>OLM in SO layer</td>\n",
       "    </tr>\n",
       "    <tr>\n",
       "      <th>511.0</th>\n",
       "      <td>4.0</td>\n",
       "      <td>0.5</td>\n",
       "      <td>0.737191</td>\n",
       "      <td>OLM in SO layer</td>\n",
       "    </tr>\n",
       "    <tr>\n",
       "      <th>515.0</th>\n",
       "      <td>4.0</td>\n",
       "      <td>0.5</td>\n",
       "      <td>0.374454</td>\n",
       "      <td>OLM in SO layer</td>\n",
       "    </tr>\n",
       "    <tr>\n",
       "      <th>559.0</th>\n",
       "      <td>4.0</td>\n",
       "      <td>0.5</td>\n",
       "      <td>0.327357</td>\n",
       "      <td>OLM in SO layer</td>\n",
       "    </tr>\n",
       "    <tr>\n",
       "      <th>572.0</th>\n",
       "      <td>4.0</td>\n",
       "      <td>0.5</td>\n",
       "      <td>0.576832</td>\n",
       "      <td>OLM in SO layer</td>\n",
       "    </tr>\n",
       "    <tr>\n",
       "      <th>652.0</th>\n",
       "      <td>4.0</td>\n",
       "      <td>0.5</td>\n",
       "      <td>0.261170</td>\n",
       "      <td>OLM in SO layer</td>\n",
       "    </tr>\n",
       "    <tr>\n",
       "      <th>756.0</th>\n",
       "      <td>4.0</td>\n",
       "      <td>0.5</td>\n",
       "      <td>0.407679</td>\n",
       "      <td>OLM in SO layer</td>\n",
       "    </tr>\n",
       "  </tbody>\n",
       "</table>\n",
       "</div>"
      ],
      "text/plain": [
       "            sec_id  sec_x  syn_weight      source_type\n",
       "source_IDs                                            \n",
       "27.0           6.0    0.5    0.208340  AAC in SO layer\n",
       "39.0           6.0    0.5    0.641454  AAC in SO layer\n",
       "41.0           6.0    0.5    0.409431  AAC in SO layer\n",
       "100.0          6.0    0.5    0.200000  AAC in SO layer\n",
       "114.0          6.0    0.5    0.200000  AAC in SO layer\n",
       "133.0          6.0    0.5    0.112749  AAC in SO layer\n",
       "148.0          6.0    0.5    0.200000  AAC in SO layer\n",
       "18877.0        6.0    0.5    0.200000  AAC in SP layer\n",
       "18878.0        6.0    0.5    0.200000  AAC in SP layer\n",
       "18882.0        6.0    0.5    0.200000  AAC in SP layer\n",
       "18905.0        6.0    0.5    1.939041  AAC in SP layer\n",
       "18911.0        6.0    0.5    0.200000  AAC in SP layer\n",
       "18950.0        6.0    0.5    0.200000  AAC in SP layer\n",
       "18997.0        6.0    0.5    0.200000  AAC in SP layer\n",
       "18998.0        6.0    0.5    0.672389  AAC in SP layer\n",
       "19041.0        6.0    0.5    1.429056  AAC in SP layer\n",
       "19210.0        6.0    0.5    0.479932  AAC in SP layer\n",
       "19220.0        6.0    0.5    0.666126  AAC in SP layer\n",
       "19261.0        6.0    0.5    0.200000  AAC in SP layer\n",
       "19932.0        6.0    0.5    0.056598  AAC in SR layer\n",
       "855.0          0.0    0.5    2.261896   PV in SO layer\n",
       "870.0          0.0    0.5    1.719376   PV in SO layer\n",
       "896.0          0.0    0.5    2.825939   PV in SO layer\n",
       "19381.0        0.0    0.5    1.926807   PV in SP layer\n",
       "19511.0        0.0    0.5    1.431034   PV in SP layer\n",
       "19723.0        0.0    0.5    2.101202   PV in SP layer\n",
       "19896.0        0.0    0.5    1.620852   PV in SP layer\n",
       "19903.0        0.0    0.5    2.087376   PV in SP layer\n",
       "19968.0        0.0    0.5    2.819632   PV in SR layer\n",
       "270.0          4.0    0.5    0.698668  OLM in SO layer\n",
       "283.0          4.0    0.5    1.041509  OLM in SO layer\n",
       "320.0          4.0    0.5    0.232621  OLM in SO layer\n",
       "456.0          4.0    0.5    0.574402  OLM in SO layer\n",
       "511.0          4.0    0.5    0.737191  OLM in SO layer\n",
       "515.0          4.0    0.5    0.374454  OLM in SO layer\n",
       "559.0          4.0    0.5    0.327357  OLM in SO layer\n",
       "572.0          4.0    0.5    0.576832  OLM in SO layer\n",
       "652.0          4.0    0.5    0.261170  OLM in SO layer\n",
       "756.0          4.0    0.5    0.407679  OLM in SO layer"
      ]
     },
     "execution_count": 30,
     "metadata": {},
     "output_type": "execute_result"
    }
   ],
   "source": [
    "TargetPropsDF"
   ]
  },
  {
   "cell_type": "markdown",
   "id": "518538ee-ce78-4f61-8659-0acf5d2fa642",
   "metadata": {},
   "source": [
    "### get the spike times from the sources and save"
   ]
  },
  {
   "cell_type": "code",
   "execution_count": 168,
   "id": "7fbbd2ac-c225-4236-9b32-975836a93723",
   "metadata": {},
   "outputs": [],
   "source": [
    "#keep only the source ids which spike during the simulation AND have the target ID of the nodeID\n",
    "allindicies = []\n",
    "for source in srcList:\n",
    "    allindicies.append(spikesDFM[spikesDFM['node_ids']==source].index)\n",
    "allindicies_flattened = np.concatenate([list(item) for item in allindicies])\n",
    "\n",
    "gbDF = spikesDFM.loc[allindicies_flattened]#rows with all the spiking cells which synapse onto the nodeID selected above\n",
    "sources = gbDF['node_ids'].unique()\n",
    "eventTimes = []\n",
    "for group in gbDF.groupby('node_ids'):\n",
    "    eventTimes.append(group[1]['timestamps'].values)\n",
    "maxlen = max(map(len, eventTimes))\n",
    "np.savetxt('ETs.txt',np.array(list((map(lambda x: np.hstack((x,np.zeros(maxlen- len(x)))),eventTimes)))))"
   ]
  },
  {
   "cell_type": "markdown",
   "id": "a3a857a7-9a83-4f78-9e9e-79669bb0e88d",
   "metadata": {},
   "source": [
    "# find the node ids of sources and targets of a particular type"
   ]
  },
  {
   "cell_type": "code",
   "execution_count": 71,
   "id": "a8919463-0b9f-4bf5-9716-c39fce92634d",
   "metadata": {},
   "outputs": [],
   "source": [
    "f = h5py.File(os.path.join('updated_conns','biophysical_biophysical_edges.h5'))\n",
    "synapsesDF = SaveDataToDF(f)\n",
    "srcs = nodesDF.iloc[synapsesDF['source_node_id']]\n",
    "trgts = nodesDF.iloc[synapsesDF['target_node_id']]\n",
    "PyrIDs = list(set(trgts[trgts['node_type_id'].str.contains('Pyr')]['node_id']))\n",
    "PVIDs = list(set(srcs[srcs['node_type_id'].str.contains('PV')]['node_id']))\n",
    "PV2Pyr = synapsesDF[(synapsesDF['source_node_id'].isin(PVIDs)) & (synapsesDF['target_node_id'].isin(PyrIDs))]"
   ]
  },
  {
   "cell_type": "code",
   "execution_count": 256,
   "id": "eecc63a3-4fd8-45fb-ac17-39ab5d7bf5b4",
   "metadata": {},
   "outputs": [],
   "source": [
    "specific_targets = PV2Pyr[PV2Pyr['source_node_id'] == 721]['target_node_id']"
   ]
  },
  {
   "cell_type": "code",
   "execution_count": 67,
   "id": "9ce29541-3d61-4006-9441-65efb38fa780",
   "metadata": {},
   "outputs": [
    {
     "data": {
      "text/plain": [
       "26730       5000.0\n",
       "35764      10350.0\n",
       "38539      11900.0\n",
       "40633      13150.0\n",
       "40730      13200.0\n",
       "42679      14400.0\n",
       "47055      16900.0\n",
       "47709      17300.0\n",
       "49120      18200.0\n",
       "79323       1251.0\n",
       "79423       1301.0\n",
       "81301       2451.0\n",
       "83641       3801.0\n",
       "86880       5601.0\n",
       "90883       7951.0\n",
       "93931       9701.0\n",
       "94461      10051.0\n",
       "95425      10651.0\n",
       "103945     15651.0\n",
       "109019     18651.0\n",
       "140645      3252.0\n",
       "145850      6252.0\n",
       "151016      9252.0\n",
       "153050     10302.0\n",
       "153233     10402.0\n",
       "154247     10952.0\n",
       "154635     11152.0\n",
       "157016     12602.0\n",
       "159144     13752.0\n",
       "162422     15702.0\n",
       "            ...   \n",
       "2716459    15447.0\n",
       "2717378    15997.0\n",
       "2717536    16097.0\n",
       "2718216    16447.0\n",
       "2718925    16847.0\n",
       "2720036    17447.0\n",
       "2722183    18697.0\n",
       "2751915     2848.0\n",
       "2753926     4048.0\n",
       "2755491     5048.0\n",
       "2760153     7798.0\n",
       "2762368     9048.0\n",
       "2762437     9098.0\n",
       "2762947     9398.0\n",
       "2763539     9748.0\n",
       "2764238    10148.0\n",
       "2764964    10548.0\n",
       "2765215    10698.0\n",
       "2767145    11898.0\n",
       "2771780    14648.0\n",
       "2771881    14698.0\n",
       "2773863    15948.0\n",
       "2775470    16848.0\n",
       "2805132     1049.0\n",
       "2809014     3299.0\n",
       "2815798     7299.0\n",
       "2816925     7999.0\n",
       "2823315    11749.0\n",
       "2826694    13749.0\n",
       "2830131    15749.0\n",
       "Name: target_node_id, Length: 593, dtype: float64"
      ]
     },
     "execution_count": 67,
     "metadata": {},
     "output_type": "execute_result"
    }
   ],
   "source": [
    "PV2Pyr[PV2Pyr['source_node_id'] == 19608]['target_node_id']"
   ]
  },
  {
   "cell_type": "code",
   "execution_count": 77,
   "id": "1afe3b6d-0c5a-45aa-82cd-bed25ddb0815",
   "metadata": {},
   "outputs": [],
   "source": [
    "f = h5py.File(os.path.join(\"output\",'v_report.h5'), 'r')\n",
    "vreports = SaveDataToDF(f)"
   ]
  },
  {
   "cell_type": "code",
   "execution_count": 79,
   "id": "a70eef55-48ac-40b8-a32b-d1f243a99d9f",
   "metadata": {},
   "outputs": [
    {
     "data": {
      "image/png": "[encoded data removed]",
      "text/plain": [
       "<Figure size 432x288 with 1 Axes>"
      ]
     },
     "metadata": {
      "needs_background": "light"
     },
     "output_type": "display_data"
    }
   ],
   "source": [
    "plt.plot(vreports[f\"data{vreports[vreports['node_ids'] == 19608].index[0]}\"],label='PV source')\n",
    "plt.plot(vreports[f\"data{vreports[vreports['node_ids'] == 14698].index[0]}\"],label = 'Pyr target')\n",
    "plt.ylim([-80,-40])\n",
    "plt.legend()\n",
    "plt.show()"
   ]
  },
  {
   "cell_type": "code",
   "execution_count": 201,
   "id": "5061a700-2b5f-4d52-a796-984cede8e451",
   "metadata": {},
   "outputs": [
    {
     "data": {
      "text/plain": [
       "[<matplotlib.lines.Line2D at 0x7f2ee6bb64e0>]"
      ]
     },
     "execution_count": 201,
     "metadata": {},
     "output_type": "execute_result"
    },
    {
     "data": {
      "image/png": "[encoded data removed]",
      "text/plain": [
       "<Figure size 432x288 with 1 Axes>"
      ]
     },
     "metadata": {
      "needs_background": "light"
     },
     "output_type": "display_data"
    }
   ],
   "source": [
    "plt.plot(vreports['source_node_id'])\n",
    "#plt.plot(vreports[f\"data{PyrIDs[0]}\"])"
   ]
  },
  {
   "cell_type": "markdown",
   "id": "1edb4253-6938-4337-8f1b-e37f74014f0f",
   "metadata": {},
   "source": [
    "# view synaptic weights"
   ]
  },
  {
   "cell_type": "code",
   "execution_count": 77,
   "id": "85d5c06b-9f1c-4483-a47a-35a8051a6dc9",
   "metadata": {},
   "outputs": [],
   "source": [
    "f = h5py.File(os.path.join('updated_conns','biophysical_biophysical_edges.h5'))\n",
    "synapsesDF = SaveDataToDF(f)"
   ]
  },
  {
   "cell_type": "code",
   "execution_count": 130,
   "id": "d4f36d64-e89c-4c14-9bc9-31593031ea40",
   "metadata": {},
   "outputs": [],
   "source": [
    "srcs = nodesDF.iloc[synapsesDF['source_node_id']]\n",
    "\n",
    "#srcs.columns = ['source_node_id', 'node_type_id']\n",
    "trgts = nodesDF.iloc[synapsesDF['target_node_id']]"
   ]
  },
  {
   "cell_type": "code",
   "execution_count": 80,
   "id": "77239664-2288-420e-a755-5816d39a8349",
   "metadata": {},
   "outputs": [
    {
     "data": {
      "text/plain": [
       "node_type_id\n",
       "AAC in SO layer     112338\n",
       "AAC in SP layer     339035\n",
       "AAC in SR layer      25253\n",
       "OLM in SO layer     616065\n",
       "PV in SO layer      137405\n",
       "PV in SP layer      418956\n",
       "PV in SR layer       34947\n",
       "Pyr in SP layer    1158225\n",
       "dtype: int64"
      ]
     },
     "execution_count": 80,
     "metadata": {},
     "output_type": "execute_result"
    }
   ],
   "source": [
    "srcs.groupby('node_type_id').apply(len)\n"
   ]
  },
  {
   "cell_type": "code",
   "execution_count": 143,
   "id": "1e7b7944-02cb-4129-8863-37025adda3c0",
   "metadata": {},
   "outputs": [],
   "source": [
    "newNP = np.concatenate((np.array(srcs['node_type_id']).reshape(-1,1),np.array(trgts['node_type_id']).reshape(-1,1)),axis=1)\n"
   ]
  },
  {
   "cell_type": "code",
   "execution_count": null,
   "id": "9c521cf2-acda-4c9e-97f2-b21ea92ff43c",
   "metadata": {},
   "outputs": [],
   "source": [
    "newNP = np.hstack((newNP,np.array(synweightsDF['syn_weight']).reshape(-1,1)))\n",
    "newNP = np.hstack((newNP,np.array(synweightsDF)))\n",
    "newDF = pd.DataFrame(newNP,columns = ['source','target','weight'])"
   ]
  },
  {
   "cell_type": "code",
   "execution_count": 132,
   "id": "ad54be60-299f-4e98-b3c7-932cde98b39b",
   "metadata": {},
   "outputs": [],
   "source": [
    "df = synapsesDF['syn_weight']\n",
    "df.columns = ['syn_weight','Nans']\n",
    "df = df.drop(['Nans'],axis=1)\n",
    "synweightsDF = df"
   ]
  },
  {
   "cell_type": "code",
   "execution_count": 133,
   "id": "74f64d9b-06dd-4163-affd-61bf65aaa556",
   "metadata": {},
   "outputs": [],
   "source": [
    "newNP = np.concatenate((np.array(srcs['node_type_id']).reshape(-1,1),np.array(trgts['node_type_id']).reshape(-1,1)),axis=1)\n",
    "newNP = np.hstack((newNP,np.array(synweightsDF['syn_weight']).reshape(-1,1)))\n",
    "newDF = pd.DataFrame(newNP,columns = ['source','target','weight'])\n"
   ]
  },
  {
   "cell_type": "code",
   "execution_count": 137,
   "id": "7acada25-8680-484e-972f-1b9bb1493bdd",
   "metadata": {},
   "outputs": [],
   "source": [
    "mean,std,Range = np.mean(Pyr2Chn['weight']), np.std(Pyr2Chn['weight']), max(Pyr2Chn['weight']) -  min(Pyr2Chn['weight'])"
   ]
  },
  {
   "cell_type": "code",
   "execution_count": 141,
   "id": "99bfc54e-4cc3-4cc6-afb1-7ee7837da996",
   "metadata": {},
   "outputs": [
    {
     "data": {
      "text/plain": [
       "(4.990641210202031, 1.1980464516967435, 10.749603458872677)"
      ]
     },
     "execution_count": 141,
     "metadata": {},
     "output_type": "execute_result"
    },
    {
     "data": {
      "image/png": "[encoded data removed]",
      "text/plain": [
       "<Figure size 432x288 with 1 Axes>"
      ]
     },
     "metadata": {
      "needs_background": "light"
     },
     "output_type": "display_data"
    }
   ],
   "source": [
    "plt.hist(Pyr2Chn['weight'])\n",
    "plt.title('Pyr->AAC')\n",
    "mean,std,Range"
   ]
  },
  {
   "cell_type": "code",
   "execution_count": null,
   "id": "88a2832c-c932-431d-a4e6-d96448825868",
   "metadata": {},
   "outputs": [],
   "source": [
    "Pyr2Chn = newDF[newDF['source'].str.contains('Pyr') & newDF['target'].str.contains('AAC')]"
   ]
  },
  {
   "cell_type": "code",
   "execution_count": 223,
   "id": "c26963b4-4f2f-4791-af65-9140d7830477",
   "metadata": {},
   "outputs": [
    {
     "ename": "NameError",
     "evalue": "name 'newDF' is not defined",
     "output_type": "error",
     "traceback": [
      "\u001b[0;31m---------------------------------------------------------------------------\u001b[0m",
      "\u001b[0;31mNameError\u001b[0m                                 Traceback (most recent call last)",
      "\u001b[0;32m<ipython-input-223-451a2cf12dab>\u001b[0m in \u001b[0;36m<module>\u001b[0;34m\u001b[0m\n\u001b[0;32m----> 1\u001b[0;31m \u001b[0mnewDF\u001b[0m\u001b[0;34m.\u001b[0m\u001b[0mgroupby\u001b[0m\u001b[0;34m(\u001b[0m\u001b[0;34m[\u001b[0m\u001b[0;34m'source'\u001b[0m\u001b[0;34m,\u001b[0m\u001b[0;34m'target'\u001b[0m\u001b[0;34m]\u001b[0m\u001b[0;34m)\u001b[0m\u001b[0;34m.\u001b[0m\u001b[0mapply\u001b[0m\u001b[0;34m(\u001b[0m\u001b[0mnp\u001b[0m\u001b[0;34m.\u001b[0m\u001b[0mmean\u001b[0m\u001b[0;34m)\u001b[0m\u001b[0;34m\u001b[0m\u001b[0;34m\u001b[0m\u001b[0m\n\u001b[0m",
      "\u001b[0;31mNameError\u001b[0m: name 'newDF' is not defined"
     ]
    }
   ],
   "source": [
    "newDF.groupby(['source','target']).apply(np.mean)"
   ]
  },
  {
   "cell_type": "code",
   "execution_count": null,
   "id": "582fa685-fe6e-45b0-9626-7cef5624d6ae",
   "metadata": {},
   "outputs": [],
   "source": [
    "newDF['source'].contains('Pyr')"
   ]
  },
  {
   "cell_type": "markdown",
   "id": "ff27d012-b20c-483b-82a9-d1f78f21a659",
   "metadata": {},
   "source": [
    "# view synaptic currents"
   ]
  },
  {
   "cell_type": "code",
   "execution_count": 227,
   "id": "58639f30-efff-4962-ab1c-bda892b9fc0b",
   "metadata": {},
   "outputs": [
    {
     "name": "stdout",
     "output_type": "stream",
     "text": [
      "report\n",
      "report/biophysical\n",
      "report/biophysical/data\n",
      "report/biophysical/mapping\n",
      "report/biophysical/mapping/element_ids\n",
      "report/biophysical/mapping/element_pos\n",
      "report/biophysical/mapping/index_pointer\n",
      "report/biophysical/mapping/node_ids\n",
      "report/biophysical/mapping/src_ids\n",
      "report/biophysical/mapping/time\n",
      "report/biophysical/mapping/trg_ids\n"
     ]
    }
   ],
   "source": [
    "f = h5py.File(os.path.join('output','syns_chn2pyr.h5'))\n",
    "data = f['report/biophysical/data'][()]\n",
    "sids = f['report/biophysical/mapping/src_ids'][()]\n",
    "tids = f['report/biophysical/mapping/trg_ids'][()]\n",
    "f.visit(print)\n",
    "f.close()"
   ]
  },
  {
   "cell_type": "code",
   "execution_count": 232,
   "id": "30bdd8a1-c8bd-490f-ada2-d9c26aa67e22",
   "metadata": {},
   "outputs": [],
   "source": [
    "sidsIdxs = np.array(np.where(sids == 18905)[0])\n",
    "tidsIdxs = np.array(np.where(tids == 1050)[0])"
   ]
  },
  {
   "cell_type": "code",
   "execution_count": 237,
   "id": "0bf2be18-682f-453b-9b7e-91b2d2deb634",
   "metadata": {},
   "outputs": [
    {
     "name": "stdout",
     "output_type": "stream",
     "text": [
      "4778\n"
     ]
    }
   ],
   "source": [
    "for sid in sidsIdxs:\n",
    "    if sid in  tidsIdxs:\n",
    "        print(sid)"
   ]
  },
  {
   "cell_type": "code",
   "execution_count": 238,
   "id": "a43545b8-c7fc-4697-aaf9-fafc38814f35",
   "metadata": {},
   "outputs": [
    {
     "data": {
      "text/plain": [
       "[<matplotlib.lines.Line2D at 0x7f8782117a58>]"
      ]
     },
     "execution_count": 238,
     "metadata": {},
     "output_type": "execute_result"
    },
    {
     "data": {
      "image/png": "[encoded data removed]",
      "text/plain": [
       "<Figure size 432x288 with 1 Axes>"
      ]
     },
     "metadata": {
      "needs_background": "light"
     },
     "output_type": "display_data"
    }
   ],
   "source": [
    "plt.plot(data[:,4778])"
   ]
  },
  {
   "cell_type": "markdown",
   "id": "9b3a4232-93fd-4bcc-b65a-7e94956a760b",
   "metadata": {},
   "source": [
    "# raster "
   ]
  },
  {
   "cell_type": "code",
   "execution_count": 104,
   "id": "d5736298-8ff6-4365-9c79-cd895e8d4578",
   "metadata": {},
   "outputs": [],
   "source": [
    "f = h5py.File(os.path.join('network','biophysical_nodes.h5'), 'r')\n",
    "nodesDF = SaveDataToDF(f)\n",
    "cellLocations = pd.read_csv('cell_locations.csv')#this was for the old build, i'm just reading it instead of writing the list coz lazy\n",
    "idNames = np.unique(nodesDF['node_type_id'])\n",
    "cellNames = np.unique(cellLocations['Cell type'])\n",
    "array = cellLocations['Cell type']\n",
    "idxs = np.unique(cellLocations['Cell type'],return_index=True)[1]\n",
    "cellNames = [array[index] for index in sorted(idxs)]#use the names in the order in which the id's appear\n",
    "\n",
    "nodesDF = nodesDF.replace({'node_type_id':idNames},{'node_type_id':cellNames})"
   ]
  },
  {
   "cell_type": "code",
   "execution_count": 105,
   "id": "2a9ffe81-a43c-46d1-8ad6-634a0010b16c",
   "metadata": {},
   "outputs": [],
   "source": [
    "f = h5py.File(os.path.join('output','spikes.h5'), 'r')\n",
    "spikesDF = SaveDataToDF(f) \n",
    "\n",
    "namesList = []\n",
    "for i in range(len(spikesDF['node_ids'])):\n",
    "    namesList.append(nodesDF['node_type_id'][spikesDF['node_ids'][i]])\n",
    "spikesDFM = pd.concat([spikesDF,pd.Series(namesList)],axis=1)\n",
    "spikesDFM.columns = ['node_ids','timestamps','node_type_id']"
   ]
  },
  {
   "cell_type": "code",
   "execution_count": 245,
   "id": "8e357c48-7ce8-488f-9e8e-4c26ba2c5b46",
   "metadata": {},
   "outputs": [],
   "source": [
    "spikesDFM.to_csv('spikesDFM.csv')"
   ]
  },
  {
   "cell_type": "code",
   "execution_count": 71,
   "id": "3275fbb8-e77e-4e35-aebb-8d6d1d43575c",
   "metadata": {},
   "outputs": [],
   "source": [
    "#if a node spikes more than once, draw a line\n",
    "counts = []\n",
    "for cells in spikesDFM['node_ids']:\n",
    "    if sum(spikesDFM['node_ids'] == cells) > 1:\n",
    "        counts.append(cells)\n",
    "    "
   ]
  },
  {
   "cell_type": "code",
   "execution_count": 114,
   "id": "dbcf8219-ceaa-4980-93a7-b95b3661e7a1",
   "metadata": {},
   "outputs": [
    {
     "data": {
      "image/png": "[encoded data removed]",
      "text/plain": [
       "<Figure size 1440x720 with 1 Axes>"
      ]
     },
     "metadata": {
      "needs_background": "light"
     },
     "output_type": "display_data"
    }
   ],
   "source": [
    "\n",
    "plt.figure(figsize=(20,10))\n",
    "groups = spikesDFM.groupby('node_type_id')\n",
    "for name, group in groups:\n",
    "    plt.plot(group.timestamps, group.node_ids,marker='o',linestyle=\"\",markersize=4, label=name)\n",
    "plt.legend(loc='upper right')\n",
    "plt.xlim([0,300])\n",
    "#plt.hlines(counts,xmin=0, xmax = max(spikesDFM['timestamps']))\n",
    "#plt.savefig('raster.png',dpi=400)\n",
    "plt.show()"
   ]
  },
  {
   "cell_type": "markdown",
   "id": "eb3dd116-f303-473e-9951-96f5c2e0a642",
   "metadata": {},
   "source": [
    "# get a sample of vreports from each type of spiking cell"
   ]
  },
  {
   "cell_type": "code",
   "execution_count": 132,
   "id": "e1ad7417-eac9-4845-9132-882be9b94aaa",
   "metadata": {},
   "outputs": [],
   "source": [
    "f = h5py.File(os.path.join('network','biophysical_nodes.h5'), 'r')\n",
    "nodesDF = SaveDataToDF(f)\n",
    "cellLocations = pd.read_csv('cell_locations.csv')#this was for the old build, i'm just reading it instead of writing the list coz lazy\n",
    "idNames = np.unique(nodesDF['node_type_id'])\n",
    "cellNames = np.unique(cellLocations['Cell type'])\n",
    "array = cellLocations['Cell type']\n",
    "idxs = np.unique(cellLocations['Cell type'],return_index=True)[1]\n",
    "cellNames = [array[index] for index in sorted(idxs)]#use the names in the order in which the id's appear\n",
    "\n",
    "nodesDF = nodesDF.replace({'node_type_id':idNames},{'node_type_id':cellNames})\n",
    "\n",
    "f = h5py.File(os.path.join('output','spikes.h5'), 'r')\n",
    "\n",
    "spikesDF = SaveDataToDF(f) \n",
    "\n",
    "namesList = []\n",
    "for i in range(len(spikesDF['node_ids'])):\n",
    "    namesList.append(nodesDF['node_type_id'][spikesDF['node_ids'][i]])\n",
    "spikesDFM = pd.concat([spikesDF,pd.Series(namesList)],axis=1)\n",
    "spikesDFM.columns = ['node_ids','timestamps','node_type_id']\n",
    "\n",
    "f = h5py.File(os.path.join(\"output\",'v_report.h5'), 'r')\n",
    "vreports = SaveDataToDF(f)"
   ]
  },
  {
   "cell_type": "code",
   "execution_count": 133,
   "id": "555bda6a-b3cf-458e-8c1a-bad9717979d1",
   "metadata": {},
   "outputs": [],
   "source": [
    "AAC_ids = np.array(spikesDFM[spikesDFM['node_type_id'].str.contains('AAC')]['node_ids'])\n",
    "OLM_ids = np.array(spikesDFM[spikesDFM['node_type_id'].str.contains('OLM')]['node_ids'])\n",
    "PV_ids = np.array(spikesDFM[spikesDFM['node_type_id'].str.contains('PV')]['node_ids'])\n",
    "Pyr_ids = np.array(spikesDFM[spikesDFM['node_type_id'].str.contains('Pyr')]['node_ids'])"
   ]
  },
  {
   "cell_type": "code",
   "execution_count": 134,
   "id": "04c97971-0b12-4fb2-9529-f08456b950f8",
   "metadata": {},
   "outputs": [],
   "source": [
    "\n",
    "def plot_cells(vreports,vreport_keys,title):\n",
    "    if len(vreport_keys) < 3:\n",
    "        print(f\"fewer than 3 spiking {title} cells\")\n",
    "        return None\n",
    "    rng = np.random.default_rng()\n",
    "    random_keys = rng.choice(vreport_keys,size=3,replace=False)\n",
    "    idxs = vreports['node_ids'][vreports['node_ids'].isin(random_keys)].index\n",
    "    vreport_keys = [f\"data{str(int(idxs[i]))}\" for i in range(len(idxs))]\n",
    "        \n",
    "    subtype_vreports = vreports[vreport_keys]\n",
    "    fig,axs = plt.subplots(1,3,figsize=(10,2))\n",
    "    for j in range(0,3):\n",
    "        ax = axs[j]\n",
    "        ax.plot(subtype_vreports[subtype_vreports.keys()[j]],label= subtype_vreports.keys()[j])\n",
    "        ax.set_ylim([-70,20])\n",
    "        ax.legend()\n",
    "\n",
    "    fig.suptitle(title)\n",
    "    plt.show()"
   ]
  },
  {
   "cell_type": "code",
   "execution_count": 135,
   "id": "a9666605-a2a1-409f-94bc-c3a9028595c4",
   "metadata": {},
   "outputs": [
    {
     "data": {
      "image/png": "[encoded data removed]",
      "text/plain": [
       "<Figure size 720x144 with 3 Axes>"
      ]
     },
     "metadata": {
      "needs_background": "light"
     },
     "output_type": "display_data"
    },
    {
     "data": {
      "image/png": "[encoded data removed]",
      "text/plain": [
       "<Figure size 720x144 with 3 Axes>"
      ]
     },
     "metadata": {
      "needs_background": "light"
     },
     "output_type": "display_data"
    },
    {
     "data": {
      "image/png": "[encoded data removed]",
      "text/plain": [
       "<Figure size 720x144 with 3 Axes>"
      ]
     },
     "metadata": {
      "needs_background": "light"
     },
     "output_type": "display_data"
    },
    {
     "data": {
      "image/png": "[encoded data removed]",
      "text/plain": [
       "<Figure size 720x144 with 3 Axes>"
      ]
     },
     "metadata": {
      "needs_background": "light"
     },
     "output_type": "display_data"
    }
   ],
   "source": [
    "plot_cells(vreports,AAC_ids,'AAC')\n",
    "plot_cells(vreports,PV_ids,'PV')\n",
    "plot_cells(vreports,OLM_ids,'OLM')\n",
    "plot_cells(vreports,Pyr_ids,'Pyr')"
   ]
  },
  {
   "cell_type": "code",
   "execution_count": 138,
   "id": "8c24863e-52ad-49a7-9ce0-f68fb8c1963b",
   "metadata": {},
   "outputs": [
    {
     "data": {
      "image/png": "[encoded data removed]",
      "text/plain": [
       "<Figure size 720x144 with 3 Axes>"
      ]
     },
     "metadata": {
      "needs_background": "light"
     },
     "output_type": "display_data"
    }
   ],
   "source": [
    "plot_cells(vreports,AAC_ids,'AAC')"
   ]
  },
  {
   "cell_type": "markdown",
   "id": "2368335b-d4fd-4dbc-91ad-8030277e3f4e",
   "metadata": {},
   "source": [
    "# edit the h5 network synapses directly"
   ]
  },
  {
   "cell_type": "code",
   "execution_count": 293,
   "id": "009ea451-c022-4342-a90f-f474eefb5158",
   "metadata": {},
   "outputs": [],
   "source": [
    "from bmtk.simulator import bionet\n",
    "config_file = 'simulation_configLFP.json'\n",
    "conf = bionet.Config.from_json(config_file, validate=True)\n",
    "graph = bionet.BioNetwork.from_config(conf)"
   ]
  },
  {
   "cell_type": "code",
   "execution_count": 517,
   "id": "fb1729ce-7d92-470b-891c-168e838b222c",
   "metadata": {},
   "outputs": [],
   "source": [
    "edges = graph._edge_populations"
   ]
  },
  {
   "cell_type": "code",
   "execution_count": 536,
   "id": "914953fd-e709-42fb-ba1c-5313171def05",
   "metadata": {},
   "outputs": [
    {
     "data": {
      "text/plain": [
       "{'sonata': bmtk.simulator.bionet.sonata_adaptors.BioEdgeAdaptor}"
      ]
     },
     "execution_count": 536,
     "metadata": {},
     "output_type": "execute_result"
    }
   ],
   "source": [
    "graph._edge_adaptors"
   ]
  },
  {
   "cell_type": "code",
   "execution_count": 429,
   "id": "e1fa6979-1286-4abe-a6e3-421956d9a4a7",
   "metadata": {},
   "outputs": [
    {
     "data": {
      "text/plain": [
       "node_type_id\n",
       "AAC in SO layer       20\n",
       "AAC in SP layer       59\n",
       "AAC in SR layer        6\n",
       "OLM in SO layer       95\n",
       "PV in SO layer        76\n",
       "PV in SP layer       223\n",
       "PV in SR layer        19\n",
       "Pyr in SP layer    17800\n",
       "dtype: int64"
      ]
     },
     "execution_count": 429,
     "metadata": {},
     "output_type": "execute_result"
    }
   ],
   "source": [
    "nodesDF.groupby('node_type_id').apply(len)"
   ]
  },
  {
   "cell_type": "code",
   "execution_count": 421,
   "id": "ae9fdb86-943a-4cf0-ac49-3ab639cf5deb",
   "metadata": {},
   "outputs": [],
   "source": [
    "from math import ceil\n",
    "# amount of cells\n",
    "NetNo = 20000\n",
    "#NetNo = 5000\n",
    "IN_num = NetNo*.11#about 11% of all neurons are interneurons in this network (Bezaire 2013). We are only modeling 2, so omit the others, or substitute PV and OLM for all\n",
    "PN_num = NetNo -  IN_num\n",
    "\n",
    "\n",
    "numOLM = .043*IN_num # 4% of all INs are OLMs\n",
    "numPV = .144*IN_num\n",
    "numPyr = PN_num\n",
    "numAAC = 0.038*IN_num\n",
    "\n",
    "\n",
    "# amount of cells per layer\n",
    "numAAC_inSO = int(ceil(numAAC*0.238))  # sometimes the num will be <1 so always round up so there is at least one.\n",
    "numPV_inSO = int(ceil(numPV*0.238))\n",
    "numOLM_inSO = int(ceil(numOLM))\n",
    "\n",
    "numAAC_inSP = int(ceil(numAAC*0.7))\n",
    "numPV_inSP = int(ceil(numPV*0.702))\n",
    "numPyr_inSP = int(ceil(numPyr))\n",
    "\n",
    "numAAC_inSR = int(ceil(numAAC*0.061))\n",
    "numPV_inSR = int(ceil(numPV*0.0597))"
   ]
  },
  {
   "cell_type": "code",
   "execution_count": 422,
   "id": "59adeaf8-b473-4a0e-bffc-28fb86609e32",
   "metadata": {},
   "outputs": [
    {
     "data": {
      "text/plain": [
       "20"
      ]
     },
     "execution_count": 422,
     "metadata": {},
     "output_type": "execute_result"
    }
   ],
   "source": [
    "numAAC_inSO"
   ]
  },
  {
   "cell_type": "code",
   "execution_count": 423,
   "id": "b57d9adc-4771-4746-b791-e0bceb4db345",
   "metadata": {},
   "outputs": [
    {
     "data": {
      "text/plain": [
       "76"
      ]
     },
     "execution_count": 423,
     "metadata": {},
     "output_type": "execute_result"
    }
   ],
   "source": [
    "numPV_inSO"
   ]
  },
  {
   "cell_type": "code",
   "execution_count": 424,
   "id": "2c001389-0fe5-4611-9780-0b60a68af082",
   "metadata": {},
   "outputs": [
    {
     "data": {
      "text/plain": [
       "95"
      ]
     },
     "execution_count": 424,
     "metadata": {},
     "output_type": "execute_result"
    }
   ],
   "source": [
    "numOLM_inSO"
   ]
  },
  {
   "cell_type": "code",
   "execution_count": 425,
   "id": "1ac81e63-82ff-471f-bf94-067fbfadeaa0",
   "metadata": {},
   "outputs": [
    {
     "data": {
      "text/plain": [
       "59"
      ]
     },
     "execution_count": 425,
     "metadata": {},
     "output_type": "execute_result"
    }
   ],
   "source": [
    "numAAC_inSP"
   ]
  },
  {
   "cell_type": "code",
   "execution_count": null,
   "id": "f280bee3-8208-49c3-8a5d-7d64821389f7",
   "metadata": {},
   "outputs": [],
   "source": []
  },
  {
   "cell_type": "code",
   "execution_count": 495,
   "id": "ae6236e4-8399-4eef-97ac-2d2d20f73f2d",
   "metadata": {},
   "outputs": [
    {
     "data": {
      "text/plain": [
       "<bmtk.simulator.core.sonata_reader.network_reader.SonataNodes at 0x2b31a3c236a0>"
      ]
     },
     "execution_count": 495,
     "metadata": {},
     "output_type": "execute_result"
    }
   ],
   "source": [
    "pop"
   ]
  },
  {
   "cell_type": "code",
   "execution_count": 44,
   "id": "ccaaeed3-b42d-42fa-bb9e-1f490e257a2e",
   "metadata": {},
   "outputs": [],
   "source": [
    "f = h5py.File(os.path.join('network','biophysical_biophysical_edges.h5'), 'r')\n",
    "edgesDF = SaveDataToDF(f)"
   ]
  },
  {
   "cell_type": "code",
   "execution_count": 240,
   "id": "39e0f689-8ee3-43c8-9411-8f61df760994",
   "metadata": {},
   "outputs": [],
   "source": [
    "source = 'Pyr'\n",
    "target = 'PV'"
   ]
  },
  {
   "cell_type": "code",
   "execution_count": 241,
   "id": "6848800b-a069-45c9-b031-ca833e6f4b85",
   "metadata": {},
   "outputs": [],
   "source": [
    "SIDXS = nodesDF['node_id'][nodesDF['node_type_id'].str.contains(source)]#the node number is also the index in the NODES df, not the EDGES\n",
    "TIDXS = nodesDF['node_id'][nodesDF['node_type_id'].str.contains(target)]"
   ]
  },
  {
   "cell_type": "code",
   "execution_count": 242,
   "id": "68ca5025-ec06-46db-ae2c-8b2febd7026c",
   "metadata": {},
   "outputs": [],
   "source": [
    "sourcesList = []\n",
    "for i in range(len(SIDXS.values)):\n",
    "    sourcesList.append(edgesDF['source_node_id'][edgesDF['source_node_id']==[SIDXS.values[i]]].index)\n",
    "sourcesArray = np.concatenate(sourcesList)\n",
    "\n",
    "edgesDFSources = edgesDF.iloc[sourcesArray]\n",
    "\n",
    "targetsList = []\n",
    "for i in range(len(TIDXS.values)):\n",
    "    targetsList.append(edgesDFSources['target_node_id'][edgesDFSources['target_node_id']==[TIDXS.values[i]]].index)\n",
    "targetsArray = np.concatenate(targetsList)\n",
    "\n",
    "\"\"\"\n",
    "targetsList = []\n",
    "for i in range(len(TIDXS.values)):\n",
    "    targetsList.append(edgesDF['target_node_id'][edgesDF['target_node_id']==[TIDXS.values[i]]].index)\n",
    "targetsArray = np.concatenate(targetsList)\n",
    "\"\"\"\n",
    "sharedArray = np.intersect1d(sourcesArray, targetsArray)#these are all the indices with source == source and target == target. These are what need modified"
   ]
  },
  {
   "cell_type": "code",
   "execution_count": 243,
   "id": "3fc87d0e-57e2-495d-a8fe-e279978a38bd",
   "metadata": {},
   "outputs": [
    {
     "data": {
      "image/png": "[encoded data removed]",
      "text/plain": [
       "<Figure size 432x288 with 1 Axes>"
      ]
     },
     "metadata": {
      "needs_background": "light"
     },
     "output_type": "display_data"
    }
   ],
   "source": [
    "plt.hist(edgesDF.iloc[sharedArray]['syn_weight'],bins=100)\n",
    "plt.show()"
   ]
  },
  {
   "cell_type": "code",
   "execution_count": 211,
   "id": "c50011f0-230a-4c41-b150-58a9e69f6c03",
   "metadata": {},
   "outputs": [],
   "source": [
    "TIDXS = nodesDF['node_id'][nodesDF['node_type_id'].str.contains('PV')]\n",
    "targetsList = []\n",
    "for i in range(len(TIDXS.values)):\n",
    "    targetsList.append(edgesDF['target_node_id'][edgesDF['target_node_id']==[TIDXS.values[i]]].index)\n",
    "targetsArray = np.concatenate(targetsList)\n",
    "\n",
    "edgesDFTargets = edgesDF.iloc[targetsArray]"
   ]
  },
  {
   "cell_type": "code",
   "execution_count": 218,
   "id": "6051ace2-6334-4ac7-9885-e95864587172",
   "metadata": {},
   "outputs": [
    {
     "data": {
      "text/plain": [
       "array([  115.,   116.,   117.,   118.,   119.,   120.,   121.,   122.,\n",
       "         123.,   124.,   125.,   126.,   127.,   128.,   129.,   130.,\n",
       "         131.,   132.,   133.,   134.,   135.,   136.,   137.,   138.,\n",
       "         139.,   140.,   141.,   142.,   143.,   144.,   145.,   146.,\n",
       "         147.,   148.,   149.,   150.,   151.,   152.,   153.,   154.,\n",
       "         155.,   156.,   157.,   158.,   159.,   160.,   161.,   162.,\n",
       "         163.,   164.,   165.,   166.,   167.,   168.,   169.,   170.,\n",
       "         171.,   172.,   173.,   174.,   175.,   176.,   177.,   178.,\n",
       "         179.,   180.,   181.,   182.,   183.,   184.,   185.,   186.,\n",
       "         187.,   188.,   189.,   190., 18050., 18051., 18052., 18053.,\n",
       "       18054., 18055., 18056., 18057., 18058., 18059., 18060., 18061.,\n",
       "       18062., 18063., 18064., 18065., 18066., 18067., 18068., 18069.,\n",
       "       18070., 18071., 18072., 18073., 18074., 18075., 18076., 18077.,\n",
       "       18078., 18079., 18080., 18081., 18082., 18083., 18084., 18085.,\n",
       "       18086., 18087., 18088., 18089., 18090., 18091., 18092., 18093.,\n",
       "       18094., 18095., 18096., 18097., 18098., 18099., 18100., 18101.,\n",
       "       18102., 18103., 18104., 18105., 18106., 18107., 18108., 18109.,\n",
       "       18110., 18111., 18112., 18113., 18114., 18115., 18116., 18117.,\n",
       "       18118., 18119., 18120., 18121., 18122., 18123., 18124., 18125.,\n",
       "       18126., 18127., 18128., 18129., 18130., 18131., 18132., 18133.,\n",
       "       18134., 18135., 18136., 18137., 18138., 18139., 18140., 18141.,\n",
       "       18142., 18143., 18144., 18145., 18146., 18147., 18148., 18149.,\n",
       "       18150., 18151., 18152., 18153., 18154., 18155., 18156., 18157.,\n",
       "       18158., 18159., 18160., 18161., 18162., 18163., 18164., 18165.,\n",
       "       18166., 18167., 18168., 18169., 18170., 18171., 18172., 18173.,\n",
       "       18174., 18175., 18176., 18177., 18178., 18179., 18180., 18181.,\n",
       "       18182., 18183., 18184., 18185., 18186., 18187., 18188., 18189.,\n",
       "       18190., 18191., 18192., 18193., 18194., 18195., 18196., 18197.,\n",
       "       18198., 18199., 18200., 18201., 18202., 18203., 18204., 18205.,\n",
       "       18206., 18207., 18208., 18209., 18210., 18211., 18212., 18213.,\n",
       "       18214., 18215., 18216., 18217., 18218., 18219., 18220., 18221.,\n",
       "       18222., 18223., 18224., 18225., 18226., 18227., 18228., 18229.,\n",
       "       18230., 18231., 18232., 18233., 18234., 18235., 18236., 18237.,\n",
       "       18238., 18239., 18240., 18241., 18242., 18243., 18244., 18245.,\n",
       "       18246., 18247., 18248., 18249., 18250., 18251., 18252., 18253.,\n",
       "       18254., 18255., 18256., 18257., 18258., 18259., 18260., 18261.,\n",
       "       18262., 18263., 18264., 18265., 18266., 18267., 18268., 18269.,\n",
       "       18270., 18271., 18272., 18279., 18280., 18281., 18282., 18283.,\n",
       "       18284., 18285., 18286., 18287., 18288., 18289., 18290., 18291.,\n",
       "       18292., 18293., 18294., 18295., 18296., 18297.])"
      ]
     },
     "execution_count": 218,
     "metadata": {},
     "output_type": "execute_result"
    }
   ],
   "source": [
    "np.unique(edgesDFTargets['target_node_id'])"
   ]
  },
  {
   "cell_type": "code",
   "execution_count": 27,
   "id": "26765b58-2136-49cf-af7b-4b07335e71cd",
   "metadata": {},
   "outputs": [],
   "source": [
    "simTime = np.arange(0,300,0.1)"
   ]
  },
  {
   "cell_type": "code",
   "execution_count": 30,
   "id": "4fb0a5c6-2930-4730-8429-681dbae7853c",
   "metadata": {},
   "outputs": [
    {
     "data": {
      "image/png": "[encoded data removed]",
      "text/plain": [
       "<Figure size 432x288 with 1 Axes>"
      ]
     },
     "metadata": {
      "needs_background": "light"
     },
     "output_type": "display_data"
    }
   ],
   "source": []
  },
  {
   "cell_type": "code",
   "execution_count": null,
   "id": "14a8adf1-70c9-4555-82f7-19b31bec7a37",
   "metadata": {},
   "outputs": [],
   "source": []
  },
  {
   "cell_type": "code",
   "execution_count": 93,
   "id": "c9320b8a-7b99-493a-92fe-b0a06313bcf5",
   "metadata": {},
   "outputs": [],
   "source": [
    "f = h5py.File(os.path.join(\"output\",'v_report_axon.h5'), 'r')\n",
    "vreportsA = SaveDataToDF(f)"
   ]
  },
  {
   "cell_type": "code",
   "execution_count": 45,
   "id": "ced66699-9e86-4cac-8618-524e116df8c6",
   "metadata": {},
   "outputs": [],
   "source": [
    "f = h5py.File(os.path.join('network','biophysical_biophysical_edges.h5'), 'r')\n",
    "sourceID = f['edges/biophysical_to_biophysical/source_node_id'][()]\n",
    "targetID = f['edges/biophysical_to_biophysical/target_node_id'][()]\n",
    "f.close()\n",
    "sourceID[targetID == 50]"
   ]
  },
  {
   "cell_type": "code",
   "execution_count": 196,
   "id": "e4db4cbd-4827-4223-ba22-23ba3c8e5c9b",
   "metadata": {},
   "outputs": [
    {
     "data": {
      "text/plain": [
       "array([   36,    41,    48, ..., 17902, 17906, 17921], dtype=uint64)"
      ]
     },
     "execution_count": 196,
     "metadata": {},
     "output_type": "execute_result"
    }
   ],
   "source": [
    "sourceID[targetID == 50]"
   ]
  },
  {
   "cell_type": "code",
   "execution_count": 146,
   "id": "9447a5ca-65dc-4c01-9644-c2d9786c47af",
   "metadata": {},
   "outputs": [],
   "source": [
    "f = h5py.File(os.path.join(\"output\",'v_report_axon.h5'), 'r')\n",
    "res = f['report/biophysical/data'][()]\n",
    "f.close()\n",
    "allStuff = []\n",
    "for i in range(1,11):\n",
    "    allStuff.append(res[:,i])"
   ]
  },
  {
   "cell_type": "code",
   "execution_count": 147,
   "id": "394da72e-8828-4a21-9fe7-6ff86d6a3ad5",
   "metadata": {},
   "outputs": [],
   "source": [
    "allStuff = np.concatenate(allStuff)"
   ]
  },
  {
   "cell_type": "code",
   "execution_count": 148,
   "id": "b5d2ac0b-afed-4cf8-93f6-d285ac3b59b1",
   "metadata": {},
   "outputs": [
    {
     "data": {
      "image/png": "[encoded data removed]",
      "text/plain": [
       "<Figure size 432x288 with 1 Axes>"
      ]
     },
     "metadata": {
      "needs_background": "light"
     },
     "output_type": "display_data"
    }
   ],
   "source": [
    "plt.plot(allStuff)\n",
    "plt.show()"
   ]
  },
  {
   "cell_type": "code",
   "execution_count": 14,
   "id": "be1c366c-c176-4369-8103-288482f962e4",
   "metadata": {},
   "outputs": [
    {
     "ename": "NameError",
     "evalue": "name 'simTime' is not defined",
     "output_type": "error",
     "traceback": [
      "\u001b[0;31m---------------------------------------------------------------------------\u001b[0m",
      "\u001b[0;31mNameError\u001b[0m                                 Traceback (most recent call last)",
      "\u001b[0;32m<ipython-input-14-439cb26c90ec>\u001b[0m in \u001b[0;36m<module>\u001b[0;34m\u001b[0m\n\u001b[1;32m      2\u001b[0m \u001b[0mplt\u001b[0m\u001b[0;34m.\u001b[0m\u001b[0mfigure\u001b[0m\u001b[0;34m(\u001b[0m\u001b[0mfigsize\u001b[0m\u001b[0;34m=\u001b[0m\u001b[0;34m(\u001b[0m\u001b[0;36m15\u001b[0m\u001b[0;34m,\u001b[0m\u001b[0;36m10\u001b[0m\u001b[0;34m)\u001b[0m\u001b[0;34m)\u001b[0m\u001b[0;34m\u001b[0m\u001b[0;34m\u001b[0m\u001b[0m\n\u001b[1;32m      3\u001b[0m \u001b[0mcellNo\u001b[0m \u001b[0;34m=\u001b[0m \u001b[0mvreports\u001b[0m\u001b[0;34m[\u001b[0m\u001b[0;34m'node_ids'\u001b[0m\u001b[0;34m]\u001b[0m\u001b[0;34m[\u001b[0m\u001b[0mvreports\u001b[0m\u001b[0;34m[\u001b[0m\u001b[0;34m'node_ids'\u001b[0m\u001b[0;34m]\u001b[0m \u001b[0;34m==\u001b[0m \u001b[0mgid\u001b[0m\u001b[0;34m]\u001b[0m\u001b[0;34m.\u001b[0m\u001b[0mkeys\u001b[0m\u001b[0;34m(\u001b[0m\u001b[0;34m)\u001b[0m\u001b[0;34m[\u001b[0m\u001b[0;36m0\u001b[0m\u001b[0;34m]\u001b[0m\u001b[0;34m\u001b[0m\u001b[0;34m\u001b[0m\u001b[0m\n\u001b[0;32m----> 4\u001b[0;31m \u001b[0mplt\u001b[0m\u001b[0;34m.\u001b[0m\u001b[0mplot\u001b[0m\u001b[0;34m(\u001b[0m\u001b[0msimTime\u001b[0m\u001b[0;34m,\u001b[0m\u001b[0mvreports\u001b[0m\u001b[0;34m[\u001b[0m\u001b[0;34m'data'\u001b[0m\u001b[0;34m+\u001b[0m\u001b[0mstr\u001b[0m\u001b[0;34m(\u001b[0m\u001b[0mcellNo\u001b[0m\u001b[0;34m)\u001b[0m\u001b[0;34m]\u001b[0m\u001b[0;34m[\u001b[0m\u001b[0mvreports\u001b[0m\u001b[0;34m[\u001b[0m\u001b[0;34m'data'\u001b[0m\u001b[0;34m+\u001b[0m\u001b[0mstr\u001b[0m\u001b[0;34m(\u001b[0m\u001b[0mcellNo\u001b[0m\u001b[0;34m)\u001b[0m\u001b[0;34m]\u001b[0m\u001b[0;34m.\u001b[0m\u001b[0misna\u001b[0m\u001b[0;34m(\u001b[0m\u001b[0;34m)\u001b[0m\u001b[0;34m==\u001b[0m\u001b[0;32mFalse\u001b[0m\u001b[0;34m]\u001b[0m\u001b[0;34m,\u001b[0m\u001b[0mlabel\u001b[0m\u001b[0;34m=\u001b[0m\u001b[0;34m'soma'\u001b[0m\u001b[0;34m)\u001b[0m\u001b[0;34m\u001b[0m\u001b[0;34m\u001b[0m\u001b[0m\n\u001b[0m\u001b[1;32m      5\u001b[0m \u001b[0;31m#plt.plot(simTime,axonsDF['data6'][axonsDF['data6'].isna()==False],label='axon')\u001b[0m\u001b[0;34m\u001b[0m\u001b[0;34m\u001b[0m\u001b[0;34m\u001b[0m\u001b[0m\n\u001b[1;32m      6\u001b[0m \u001b[0mplt\u001b[0m\u001b[0;34m.\u001b[0m\u001b[0mlegend\u001b[0m\u001b[0;34m(\u001b[0m\u001b[0;34m)\u001b[0m\u001b[0;34m\u001b[0m\u001b[0;34m\u001b[0m\u001b[0m\n",
      "\u001b[0;31mNameError\u001b[0m: name 'simTime' is not defined"
     ]
    },
    {
     "data": {
      "text/plain": [
       "<Figure size 1080x720 with 0 Axes>"
      ]
     },
     "metadata": {},
     "output_type": "display_data"
    }
   ],
   "source": [
    "gid = 5\n",
    "plt.figure(figsize=(15,10))\n",
    "cellNo = vreports['node_ids'][vreports['node_ids'] == gid].keys()[0]\n",
    "plt.plot(simTime,vreports['data'+str(cellNo)][vreports['data'+str(cellNo)].isna()==False],label='soma')\n",
    "#plt.plot(simTime,axonsDF['data6'][axonsDF['data6'].isna()==False],label='axon')\n",
    "plt.legend()\n",
    "plt.ylim([-80,60])\n",
    "print(nodesDF['node_type_id'][vreports['node_ids'][cellNo]])\n",
    "print(cellNo)"
   ]
  },
  {
   "cell_type": "markdown",
   "id": "b87b85f6-a28c-43d4-895b-5f49b28a2e4e",
   "metadata": {},
   "source": [
    "### Connectivity"
   ]
  },
  {
   "cell_type": "code",
   "execution_count": 81,
   "id": "aec66295-6250-49dd-8ba1-1605b4212b29",
   "metadata": {},
   "outputs": [],
   "source": [
    "from math import ceil\n",
    "NetNo = 3000\n",
    "IN_num = NetNo*.11#about 11% of all neurons are interneurons in this network (Bezaire 2013). We are only modeling 2, so omit the others, or substitute PV and OLM for all\n",
    "PN_num = NetNo -  IN_num\n",
    "\n",
    "\n",
    "numOLM = .043*IN_num # 4% of all INs are OLMs\n",
    "numPV = .144*IN_num\n",
    "numPyr = PN_num\n",
    "numAAC = 0.038*IN_num\n",
    "\n",
    "\n",
    "# amount of cells per layer\n",
    "numAAC_inSO = int(ceil(numAAC*0.238))  # sometimes the num will be <1 so always round up so there is at least one.\n",
    "numPV_inSO = int(ceil(numPV*0.238))\n",
    "numOLM_inSO = int(ceil(numOLM))\n",
    "\n",
    "numAAC_inSP = int(ceil(numAAC*0.7))\n",
    "numPV_inSP = int(ceil(numPV*0.702))\n",
    "numPyr_inSP = int(ceil(numPyr))\n",
    "\n",
    "numAAC_inSR = int(ceil(numAAC*0.061))\n",
    "numPV_inSR = int(ceil(numPV*0.0597))\n",
    "\n",
    "numDict = {\"AAC in SO layer\":numAAC_inSO,\n",
    "           \"PV in SO layer\":numPV_inSO,\n",
    "           \"OLM in SO layer\":numOLM_inSO,\n",
    "           \"AAC in SP layer\":numAAC_inSP,\n",
    "           \"PV in SP layer\":numPV_inSP,\n",
    "           \"Pyr in SP layer\":numPyr_inSP,\n",
    "           \"AAC in SR layer\":numAAC_inSR,\n",
    "           \"PV in SR layer\":numPV_inSR,\n",
    "          }"
   ]
  },
  {
   "cell_type": "code",
   "execution_count": 88,
   "id": "7fce9772-2020-404a-a192-c94cdadf53c2",
   "metadata": {},
   "outputs": [
    {
     "data": {
      "text/plain": [
       "2747"
      ]
     },
     "execution_count": 88,
     "metadata": {},
     "output_type": "execute_result"
    }
   ],
   "source": [
    "total = 0\n",
    "for key in numDict.keys():\n",
    "    total+=numDict[key]\n",
    "total"
   ]
  },
  {
   "cell_type": "code",
   "execution_count": 15,
   "id": "f6c422f8-acb0-431d-bd15-cb4e2c6769ef",
   "metadata": {},
   "outputs": [],
   "source": [
    "f = h5py.File(os.path.join('updated_conns','biophysical_biophysical_edges.h5'), 'r')\n",
    "synsDF = SaveDataToDF(f) "
   ]
  },
  {
   "cell_type": "code",
   "execution_count": 16,
   "id": "54f64f32-a7c7-4135-bbf9-e3da76e007a8",
   "metadata": {},
   "outputs": [],
   "source": [
    "def percent(item):\n",
    "    length = len(item)\n",
    "    \n",
    "    for key in numDict:\n",
    "        #print(str(item['source'].iloc[0]))\n",
    "        #print('{0} {1} = {2}'.format(key,str(item['source'].iloc[0]),key == str(item['source'].iloc[0])))\n",
    "        if str(key) == str(item['source'].iloc[0]):\n",
    "            \n",
    "            return length/numDict[key]\n"
   ]
  },
  {
   "cell_type": "code",
   "execution_count": 22,
   "id": "db2419fe-3188-45ca-9ce8-6a0007e7c170",
   "metadata": {},
   "outputs": [],
   "source": [
    "conns = pd.concat([pd.DataFrame(np.array(nodesDF['node_type_id'][synsDF['source_node_id']])), pd.DataFrame(np.array(nodesDF['node_type_id'][synsDF['target_node_id']]))],axis=1)\n",
    "conns.columns = ['source','target']\n",
    "#groupConns = conns.groupby(['source','target']).agg(len)\n",
    "groupConns = conns.groupby([\"source\",\"target\"]).agg(len)\n",
    "groupConnspercent = conns.groupby([\"source\",\"target\"]).agg(percent)\n"
   ]
  },
  {
   "cell_type": "code",
   "execution_count": 23,
   "id": "0732bcd7-e9c2-40c8-95af-552a3cd8aabf",
   "metadata": {},
   "outputs": [
    {
     "data": {
      "text/plain": [
       "source           target         \n",
       "AAC in SO layer  PV in SP layer         4\n",
       "                 Pyr in SP layer      267\n",
       "AAC in SP layer  OLM in SO layer        1\n",
       "                 PV in SO layer         6\n",
       "                 Pyr in SP layer       61\n",
       "AAC in SR layer  PV in SO layer         1\n",
       "                 Pyr in SP layer       10\n",
       "OLM in SO layer  AAC in SP layer        3\n",
       "                 PV in SP layer        23\n",
       "                 Pyr in SP layer     1519\n",
       "PV in SO layer   AAC in SP layer        5\n",
       "                 AAC in SR layer        2\n",
       "                 OLM in SO layer        3\n",
       "                 PV in SO layer         3\n",
       "                 PV in SP layer        15\n",
       "                 PV in SR layer         2\n",
       "                 Pyr in SP layer     1469\n",
       "PV in SP layer   OLM in SO layer        5\n",
       "                 PV in SO layer        29\n",
       "                 Pyr in SP layer      250\n",
       "PV in SR layer   PV in SO layer         6\n",
       "                 Pyr in SP layer       15\n",
       "Pyr in SP layer  AAC in SO layer       61\n",
       "                 AAC in SP layer       72\n",
       "                 AAC in SR layer        8\n",
       "                 OLM in SO layer      371\n",
       "                 PV in SO layer      1982\n",
       "                 PV in SP layer       200\n",
       "                 PV in SR layer        10\n",
       "                 Pyr in SP layer    34611\n",
       "dtype: int64"
      ]
     },
     "execution_count": 23,
     "metadata": {},
     "output_type": "execute_result"
    }
   ],
   "source": [
    "groupConns"
   ]
  },
  {
   "cell_type": "code",
   "execution_count": 481,
   "id": "d65ec7c4-6147-46cf-af01-589fe4687d52",
   "metadata": {},
   "outputs": [
    {
     "data": {
      "text/plain": [
       "source           target         \n",
       "AAC in SO layer  Pyr in SP layer    681.450000\n",
       "AAC in SP layer  Pyr in SP layer    769.864407\n",
       "AAC in SR layer  Pyr in SP layer    664.833333\n",
       "OLM in SO layer  AAC in SO layer      0.684211\n",
       "                 AAC in SP layer      2.873684\n",
       "                 AAC in SR layer      0.189474\n",
       "                 OLM in SO layer      4.463158\n",
       "                 PV in SO layer       3.178947\n",
       "                 PV in SP layer       9.768421\n",
       "                 PV in SR layer       0.757895\n",
       "                 Pyr in SP layer    822.926316\n",
       "PV in SO layer   AAC in SO layer      1.552632\n",
       "                 AAC in SP layer      4.710526\n",
       "                 AAC in SR layer      0.355263\n",
       "                 PV in SO layer       5.881579\n",
       "                 PV in SP layer      16.815789\n",
       "                 PV in SR layer       1.355263\n",
       "                 Pyr in SP layer    538.250000\n",
       "PV in SP layer   AAC in SO layer      1.408072\n",
       "                 AAC in SP layer      4.704036\n",
       "                 AAC in SR layer      0.466368\n",
       "                 PV in SO layer       5.488789\n",
       "                 PV in SP layer      17.255605\n",
       "                 PV in SR layer       1.560538\n",
       "                 Pyr in SP layer    552.923767\n",
       "PV in SR layer   AAC in SO layer      1.368421\n",
       "                 AAC in SP layer      5.526316\n",
       "                 AAC in SR layer      0.105263\n",
       "                 PV in SO layer       5.157895\n",
       "                 PV in SP layer      16.947368\n",
       "                 PV in SR layer       2.105263\n",
       "                 Pyr in SP layer    582.157895\n",
       "Pyr in SP layer  AAC in SO layer      0.103146\n",
       "                 AAC in SP layer      0.342191\n",
       "                 AAC in SR layer      0.029270\n",
       "                 OLM in SO layer      6.960506\n",
       "                 PV in SO layer       1.008371\n",
       "                 PV in SP layer       3.074438\n",
       "                 PV in SR layer       0.272809\n",
       "dtype: float64"
      ]
     },
     "execution_count": 481,
     "metadata": {},
     "output_type": "execute_result"
    }
   ],
   "source": [
    "groupConnspercent"
   ]
  },
  {
   "cell_type": "code",
   "execution_count": 82,
   "id": "14dade16-c60b-4b43-b4a6-dffa8be9ba31",
   "metadata": {},
   "outputs": [
    {
     "data": {
      "text/plain": [
       "{'numAAC_inSO': 20,\n",
       " 'numPV_inSO': 76,\n",
       " 'numOLM_inSO': 95,\n",
       " 'numAAC_inSP': 59,\n",
       " 'numPV_inSP': 223,\n",
       " 'numPyr_inSP': 17800,\n",
       " 'numAAC_inSR': 6,\n",
       " 'numPV_inSR': 19}"
      ]
     },
     "execution_count": 82,
     "metadata": {},
     "output_type": "execute_result"
    }
   ],
   "source": [
    "numDict"
   ]
  },
  {
   "cell_type": "code",
   "execution_count": null,
   "id": "fb677973-8353-4a59-b6df-3add76189028",
   "metadata": {},
   "outputs": [],
   "source": [
    "groupConns['']"
   ]
  },
  {
   "cell_type": "code",
   "execution_count": 270,
   "id": "5ed082ca-ad40-42b2-b570-42a0a487988a",
   "metadata": {},
   "outputs": [
    {
     "data": {
      "text/html": [
       "<div>\n",
       "<style scoped>\n",
       "    .dataframe tbody tr th:only-of-type {\n",
       "        vertical-align: middle;\n",
       "    }\n",
       "\n",
       "    .dataframe tbody tr th {\n",
       "        vertical-align: top;\n",
       "    }\n",
       "\n",
       "    .dataframe thead th {\n",
       "        text-align: right;\n",
       "    }\n",
       "</style>\n",
       "<table border=\"1\" class=\"dataframe\">\n",
       "  <thead>\n",
       "    <tr style=\"text-align: right;\">\n",
       "      <th></th>\n",
       "      <th>source</th>\n",
       "      <th>target</th>\n",
       "      <th>#conns</th>\n",
       "    </tr>\n",
       "  </thead>\n",
       "  <tbody>\n",
       "    <tr>\n",
       "      <th>0</th>\n",
       "      <td>AAC in SO layer</td>\n",
       "      <td>Pyr in SP layer</td>\n",
       "      <td>13629</td>\n",
       "    </tr>\n",
       "    <tr>\n",
       "      <th>1</th>\n",
       "      <td>AAC in SP layer</td>\n",
       "      <td>Pyr in SP layer</td>\n",
       "      <td>45422</td>\n",
       "    </tr>\n",
       "    <tr>\n",
       "      <th>2</th>\n",
       "      <td>AAC in SR layer</td>\n",
       "      <td>Pyr in SP layer</td>\n",
       "      <td>3989</td>\n",
       "    </tr>\n",
       "    <tr>\n",
       "      <th>3</th>\n",
       "      <td>OLM in SO layer</td>\n",
       "      <td>AAC in SO layer</td>\n",
       "      <td>65</td>\n",
       "    </tr>\n",
       "    <tr>\n",
       "      <th>4</th>\n",
       "      <td>OLM in SO layer</td>\n",
       "      <td>AAC in SP layer</td>\n",
       "      <td>273</td>\n",
       "    </tr>\n",
       "    <tr>\n",
       "      <th>5</th>\n",
       "      <td>OLM in SO layer</td>\n",
       "      <td>AAC in SR layer</td>\n",
       "      <td>18</td>\n",
       "    </tr>\n",
       "    <tr>\n",
       "      <th>6</th>\n",
       "      <td>OLM in SO layer</td>\n",
       "      <td>OLM in SO layer</td>\n",
       "      <td>424</td>\n",
       "    </tr>\n",
       "    <tr>\n",
       "      <th>7</th>\n",
       "      <td>OLM in SO layer</td>\n",
       "      <td>PV in SO layer</td>\n",
       "      <td>302</td>\n",
       "    </tr>\n",
       "    <tr>\n",
       "      <th>8</th>\n",
       "      <td>OLM in SO layer</td>\n",
       "      <td>PV in SP layer</td>\n",
       "      <td>928</td>\n",
       "    </tr>\n",
       "    <tr>\n",
       "      <th>9</th>\n",
       "      <td>OLM in SO layer</td>\n",
       "      <td>PV in SR layer</td>\n",
       "      <td>72</td>\n",
       "    </tr>\n",
       "    <tr>\n",
       "      <th>10</th>\n",
       "      <td>OLM in SO layer</td>\n",
       "      <td>Pyr in SP layer</td>\n",
       "      <td>78178</td>\n",
       "    </tr>\n",
       "    <tr>\n",
       "      <th>11</th>\n",
       "      <td>PV in SO layer</td>\n",
       "      <td>AAC in SO layer</td>\n",
       "      <td>118</td>\n",
       "    </tr>\n",
       "    <tr>\n",
       "      <th>12</th>\n",
       "      <td>PV in SO layer</td>\n",
       "      <td>AAC in SP layer</td>\n",
       "      <td>358</td>\n",
       "    </tr>\n",
       "    <tr>\n",
       "      <th>13</th>\n",
       "      <td>PV in SO layer</td>\n",
       "      <td>AAC in SR layer</td>\n",
       "      <td>27</td>\n",
       "    </tr>\n",
       "    <tr>\n",
       "      <th>14</th>\n",
       "      <td>PV in SO layer</td>\n",
       "      <td>PV in SO layer</td>\n",
       "      <td>447</td>\n",
       "    </tr>\n",
       "    <tr>\n",
       "      <th>15</th>\n",
       "      <td>PV in SO layer</td>\n",
       "      <td>PV in SP layer</td>\n",
       "      <td>1278</td>\n",
       "    </tr>\n",
       "    <tr>\n",
       "      <th>16</th>\n",
       "      <td>PV in SO layer</td>\n",
       "      <td>PV in SR layer</td>\n",
       "      <td>103</td>\n",
       "    </tr>\n",
       "    <tr>\n",
       "      <th>17</th>\n",
       "      <td>PV in SO layer</td>\n",
       "      <td>Pyr in SP layer</td>\n",
       "      <td>40907</td>\n",
       "    </tr>\n",
       "    <tr>\n",
       "      <th>18</th>\n",
       "      <td>PV in SP layer</td>\n",
       "      <td>AAC in SO layer</td>\n",
       "      <td>314</td>\n",
       "    </tr>\n",
       "    <tr>\n",
       "      <th>19</th>\n",
       "      <td>PV in SP layer</td>\n",
       "      <td>AAC in SP layer</td>\n",
       "      <td>1049</td>\n",
       "    </tr>\n",
       "    <tr>\n",
       "      <th>20</th>\n",
       "      <td>PV in SP layer</td>\n",
       "      <td>AAC in SR layer</td>\n",
       "      <td>104</td>\n",
       "    </tr>\n",
       "    <tr>\n",
       "      <th>21</th>\n",
       "      <td>PV in SP layer</td>\n",
       "      <td>PV in SO layer</td>\n",
       "      <td>1224</td>\n",
       "    </tr>\n",
       "    <tr>\n",
       "      <th>22</th>\n",
       "      <td>PV in SP layer</td>\n",
       "      <td>PV in SP layer</td>\n",
       "      <td>3848</td>\n",
       "    </tr>\n",
       "    <tr>\n",
       "      <th>23</th>\n",
       "      <td>PV in SP layer</td>\n",
       "      <td>PV in SR layer</td>\n",
       "      <td>348</td>\n",
       "    </tr>\n",
       "    <tr>\n",
       "      <th>24</th>\n",
       "      <td>PV in SP layer</td>\n",
       "      <td>Pyr in SP layer</td>\n",
       "      <td>123302</td>\n",
       "    </tr>\n",
       "    <tr>\n",
       "      <th>25</th>\n",
       "      <td>PV in SR layer</td>\n",
       "      <td>AAC in SO layer</td>\n",
       "      <td>26</td>\n",
       "    </tr>\n",
       "    <tr>\n",
       "      <th>26</th>\n",
       "      <td>PV in SR layer</td>\n",
       "      <td>AAC in SP layer</td>\n",
       "      <td>105</td>\n",
       "    </tr>\n",
       "    <tr>\n",
       "      <th>27</th>\n",
       "      <td>PV in SR layer</td>\n",
       "      <td>AAC in SR layer</td>\n",
       "      <td>2</td>\n",
       "    </tr>\n",
       "    <tr>\n",
       "      <th>28</th>\n",
       "      <td>PV in SR layer</td>\n",
       "      <td>PV in SO layer</td>\n",
       "      <td>98</td>\n",
       "    </tr>\n",
       "    <tr>\n",
       "      <th>29</th>\n",
       "      <td>PV in SR layer</td>\n",
       "      <td>PV in SP layer</td>\n",
       "      <td>322</td>\n",
       "    </tr>\n",
       "    <tr>\n",
       "      <th>30</th>\n",
       "      <td>PV in SR layer</td>\n",
       "      <td>PV in SR layer</td>\n",
       "      <td>40</td>\n",
       "    </tr>\n",
       "    <tr>\n",
       "      <th>31</th>\n",
       "      <td>PV in SR layer</td>\n",
       "      <td>Pyr in SP layer</td>\n",
       "      <td>11061</td>\n",
       "    </tr>\n",
       "    <tr>\n",
       "      <th>32</th>\n",
       "      <td>Pyr in SP layer</td>\n",
       "      <td>AAC in SO layer</td>\n",
       "      <td>1836</td>\n",
       "    </tr>\n",
       "    <tr>\n",
       "      <th>33</th>\n",
       "      <td>Pyr in SP layer</td>\n",
       "      <td>AAC in SP layer</td>\n",
       "      <td>6091</td>\n",
       "    </tr>\n",
       "    <tr>\n",
       "      <th>34</th>\n",
       "      <td>Pyr in SP layer</td>\n",
       "      <td>AAC in SR layer</td>\n",
       "      <td>521</td>\n",
       "    </tr>\n",
       "    <tr>\n",
       "      <th>35</th>\n",
       "      <td>Pyr in SP layer</td>\n",
       "      <td>OLM in SO layer</td>\n",
       "      <td>123897</td>\n",
       "    </tr>\n",
       "    <tr>\n",
       "      <th>36</th>\n",
       "      <td>Pyr in SP layer</td>\n",
       "      <td>PV in SO layer</td>\n",
       "      <td>17949</td>\n",
       "    </tr>\n",
       "    <tr>\n",
       "      <th>37</th>\n",
       "      <td>Pyr in SP layer</td>\n",
       "      <td>PV in SP layer</td>\n",
       "      <td>54725</td>\n",
       "    </tr>\n",
       "    <tr>\n",
       "      <th>38</th>\n",
       "      <td>Pyr in SP layer</td>\n",
       "      <td>PV in SR layer</td>\n",
       "      <td>4856</td>\n",
       "    </tr>\n",
       "  </tbody>\n",
       "</table>\n",
       "</div>"
      ],
      "text/plain": [
       "             source           target  #conns\n",
       "0   AAC in SO layer  Pyr in SP layer   13629\n",
       "1   AAC in SP layer  Pyr in SP layer   45422\n",
       "2   AAC in SR layer  Pyr in SP layer    3989\n",
       "3   OLM in SO layer  AAC in SO layer      65\n",
       "4   OLM in SO layer  AAC in SP layer     273\n",
       "5   OLM in SO layer  AAC in SR layer      18\n",
       "6   OLM in SO layer  OLM in SO layer     424\n",
       "7   OLM in SO layer   PV in SO layer     302\n",
       "8   OLM in SO layer   PV in SP layer     928\n",
       "9   OLM in SO layer   PV in SR layer      72\n",
       "10  OLM in SO layer  Pyr in SP layer   78178\n",
       "11   PV in SO layer  AAC in SO layer     118\n",
       "12   PV in SO layer  AAC in SP layer     358\n",
       "13   PV in SO layer  AAC in SR layer      27\n",
       "14   PV in SO layer   PV in SO layer     447\n",
       "15   PV in SO layer   PV in SP layer    1278\n",
       "16   PV in SO layer   PV in SR layer     103\n",
       "17   PV in SO layer  Pyr in SP layer   40907\n",
       "18   PV in SP layer  AAC in SO layer     314\n",
       "19   PV in SP layer  AAC in SP layer    1049\n",
       "20   PV in SP layer  AAC in SR layer     104\n",
       "21   PV in SP layer   PV in SO layer    1224\n",
       "22   PV in SP layer   PV in SP layer    3848\n",
       "23   PV in SP layer   PV in SR layer     348\n",
       "24   PV in SP layer  Pyr in SP layer  123302\n",
       "25   PV in SR layer  AAC in SO layer      26\n",
       "26   PV in SR layer  AAC in SP layer     105\n",
       "27   PV in SR layer  AAC in SR layer       2\n",
       "28   PV in SR layer   PV in SO layer      98\n",
       "29   PV in SR layer   PV in SP layer     322\n",
       "30   PV in SR layer   PV in SR layer      40\n",
       "31   PV in SR layer  Pyr in SP layer   11061\n",
       "32  Pyr in SP layer  AAC in SO layer    1836\n",
       "33  Pyr in SP layer  AAC in SP layer    6091\n",
       "34  Pyr in SP layer  AAC in SR layer     521\n",
       "35  Pyr in SP layer  OLM in SO layer  123897\n",
       "36  Pyr in SP layer   PV in SO layer   17949\n",
       "37  Pyr in SP layer   PV in SP layer   54725\n",
       "38  Pyr in SP layer   PV in SR layer    4856"
      ]
     },
     "execution_count": 270,
     "metadata": {},
     "output_type": "execute_result"
    }
   ],
   "source": [
    "conns = pd.concat([pd.DataFrame(np.array(nodesDF['node_type_id'][synsDF['source_node_id']])), pd.DataFrame(np.array(nodesDF['node_type_id'][synsDF['target_node_id']]))],axis=1)\n",
    "conns.columns = ['source','target']\n",
    "groupConns = conns.groupby(['source','target']).apply(len).reset_index(name='#conns')\n",
    "groupConns"
   ]
  },
  {
   "cell_type": "code",
   "execution_count": 71,
   "id": "34031faa-f914-481e-ae74-5ed1193ae9cd",
   "metadata": {},
   "outputs": [
    {
     "data": {
      "text/plain": [
       "0      13629\n",
       "1      45422\n",
       "2       3989\n",
       "3         65\n",
       "4        273\n",
       "5         18\n",
       "6        424\n",
       "7        302\n",
       "8        928\n",
       "9         72\n",
       "10     78178\n",
       "11       118\n",
       "12       358\n",
       "13        27\n",
       "14       447\n",
       "15      1278\n",
       "16       103\n",
       "17     40907\n",
       "18       314\n",
       "19      1049\n",
       "20       104\n",
       "21      1224\n",
       "22      3848\n",
       "23       348\n",
       "24    123302\n",
       "25        26\n",
       "26       105\n",
       "27         2\n",
       "28        98\n",
       "29       322\n",
       "30        40\n",
       "31     11061\n",
       "32      1836\n",
       "33      6091\n",
       "34       521\n",
       "35    123897\n",
       "36     17949\n",
       "37     54725\n",
       "38      4856\n",
       "Name: #conns, dtype: int64"
      ]
     },
     "execution_count": 71,
     "metadata": {},
     "output_type": "execute_result"
    }
   ],
   "source": [
    "for source in groupConns['source']:\n",
    "    if "
   ]
  },
  {
   "cell_type": "code",
   "execution_count": 43,
   "id": "d1f5d91b-3441-47bf-87ec-e6aa43dc27d8",
   "metadata": {},
   "outputs": [
    {
     "data": {
      "text/plain": [
       "MultiIndex(levels=[['AAC in SO layer', 'AAC in SP layer', 'AAC in SR layer', 'OLM in SO layer', 'PV in SO layer', 'PV in SP layer', 'PV in SR layer', 'Pyr in SP layer'], ['AAC in SO layer', 'AAC in SP layer', 'AAC in SR layer', 'OLM in SO layer', 'PV in SO layer', 'PV in SP layer', 'PV in SR layer', 'Pyr in SP layer']],\n",
       "           labels=[[0, 1, 2, 3, 3, 3, 3, 3, 3, 3, 3, 4, 4, 4, 4, 4, 4, 4, 5, 5, 5, 5, 5, 5, 5, 6, 6, 6, 6, 6, 6, 6, 7, 7, 7, 7, 7, 7, 7], [7, 7, 7, 0, 1, 2, 3, 4, 5, 6, 7, 0, 1, 2, 4, 5, 6, 7, 0, 1, 2, 4, 5, 6, 7, 0, 1, 2, 4, 5, 6, 7, 0, 1, 2, 3, 4, 5, 6]],\n",
       "           names=['source', 'target'])"
      ]
     },
     "execution_count": 43,
     "metadata": {},
     "output_type": "execute_result"
    }
   ],
   "source": [
    "groupConns.keys()"
   ]
  },
  {
   "cell_type": "code",
   "execution_count": 47,
   "id": "df98a3bf-6563-473a-81a1-6c815a0ce11f",
   "metadata": {},
   "outputs": [
    {
     "data": {
      "text/plain": [
       "array([ 13629,  45422,   3989,     65,    273,     18,    424,    302,\n",
       "          928,     72,  78178,    118,    358,     27,    447,   1278,\n",
       "          103,  40907,    314,   1049,    104,   1224,   3848,    348,\n",
       "       123302,     26,    105,      2,     98,    322,     40,  11061,\n",
       "         1836,   6091,    521, 123897,  17949,  54725,   4856])"
      ]
     },
     "execution_count": 47,
     "metadata": {},
     "output_type": "execute_result"
    }
   ],
   "source": [
    "groupConns.values"
   ]
  },
  {
   "cell_type": "code",
   "execution_count": 61,
   "id": "dfc71e76-8a46-4a40-8da0-c2080f3e06d1",
   "metadata": {},
   "outputs": [
    {
     "data": {
      "text/plain": [
       "<bound method Series.keys of source           target         \n",
       "AAC in SO layer  Pyr in SP layer     13629\n",
       "AAC in SP layer  Pyr in SP layer     45422\n",
       "AAC in SR layer  Pyr in SP layer      3989\n",
       "OLM in SO layer  AAC in SO layer        65\n",
       "                 AAC in SP layer       273\n",
       "                 AAC in SR layer        18\n",
       "                 OLM in SO layer       424\n",
       "                 PV in SO layer        302\n",
       "                 PV in SP layer        928\n",
       "                 PV in SR layer         72\n",
       "                 Pyr in SP layer     78178\n",
       "PV in SO layer   AAC in SO layer       118\n",
       "                 AAC in SP layer       358\n",
       "                 AAC in SR layer        27\n",
       "                 PV in SO layer        447\n",
       "                 PV in SP layer       1278\n",
       "                 PV in SR layer        103\n",
       "                 Pyr in SP layer     40907\n",
       "PV in SP layer   AAC in SO layer       314\n",
       "                 AAC in SP layer      1049\n",
       "                 AAC in SR layer       104\n",
       "                 PV in SO layer       1224\n",
       "                 PV in SP layer       3848\n",
       "                 PV in SR layer        348\n",
       "                 Pyr in SP layer    123302\n",
       "PV in SR layer   AAC in SO layer        26\n",
       "                 AAC in SP layer       105\n",
       "                 AAC in SR layer         2\n",
       "                 PV in SO layer         98\n",
       "                 PV in SP layer        322\n",
       "                 PV in SR layer         40\n",
       "                 Pyr in SP layer     11061\n",
       "Pyr in SP layer  AAC in SO layer      1836\n",
       "                 AAC in SP layer      6091\n",
       "                 AAC in SR layer       521\n",
       "                 OLM in SO layer    123897\n",
       "                 PV in SO layer      17949\n",
       "                 PV in SP layer      54725\n",
       "                 PV in SR layer       4856\n",
       "dtype: int64>"
      ]
     },
     "execution_count": 61,
     "metadata": {},
     "output_type": "execute_result"
    }
   ],
   "source": [
    "groupConns.keys"
   ]
  },
  {
   "cell_type": "code",
   "execution_count": 252,
   "id": "a14b2c84-7fb1-4c5c-9b8a-b98b0738a719",
   "metadata": {},
   "outputs": [
    {
     "data": {
      "text/plain": [
       "0"
      ]
     },
     "execution_count": 252,
     "metadata": {},
     "output_type": "execute_result"
    }
   ],
   "source": [
    "sum(conns['source']=='AAC in SP layer')"
   ]
  },
  {
   "cell_type": "code",
   "execution_count": 80,
   "id": "99beda95-bbb8-46d2-b463-62d0d3fdcb2d",
   "metadata": {},
   "outputs": [
    {
     "ename": "NameError",
     "evalue": "name 'AACIDXS' is not defined",
     "output_type": "error",
     "traceback": [
      "\u001b[0;31m---------------------------------------------------------------------------\u001b[0m",
      "\u001b[0;31mNameError\u001b[0m                                 Traceback (most recent call last)",
      "\u001b[0;32m<ipython-input-80-78165c396c3e>\u001b[0m in \u001b[0;36m<module>\u001b[0;34m\u001b[0m\n\u001b[1;32m      1\u001b[0m \u001b[0mi\u001b[0m \u001b[0;34m=\u001b[0m \u001b[0;36m2\u001b[0m\u001b[0;34m\u001b[0m\u001b[0;34m\u001b[0m\u001b[0m\n\u001b[0;32m----> 2\u001b[0;31m \u001b[0mnodesDF\u001b[0m\u001b[0;34m[\u001b[0m\u001b[0;34m'node_type_id'\u001b[0m\u001b[0;34m]\u001b[0m\u001b[0;34m[\u001b[0m\u001b[0mnodesDF\u001b[0m\u001b[0;34m[\u001b[0m\u001b[0;34m'node_id'\u001b[0m\u001b[0;34m]\u001b[0m\u001b[0;34m[\u001b[0m\u001b[0msourceID\u001b[0m\u001b[0;34m[\u001b[0m\u001b[0mtargetID\u001b[0m \u001b[0;34m==\u001b[0m \u001b[0mAACIDXS\u001b[0m\u001b[0;34m.\u001b[0m\u001b[0miloc\u001b[0m\u001b[0;34m[\u001b[0m\u001b[0mi\u001b[0m\u001b[0;34m]\u001b[0m\u001b[0;34m]\u001b[0m\u001b[0;34m]\u001b[0m\u001b[0;34m]\u001b[0m\u001b[0;34m\u001b[0m\u001b[0;34m\u001b[0m\u001b[0m\n\u001b[0m",
      "\u001b[0;31mNameError\u001b[0m: name 'AACIDXS' is not defined"
     ]
    }
   ],
   "source": [
    "i = 2\n",
    "nodesDF['node_type_id'][nodesDF['node_id'][sourceID[targetID == AACIDXS.iloc[i]]]]"
   ]
  },
  {
   "cell_type": "code",
   "execution_count": 158,
   "id": "ed89c7ac-6f3a-4f2d-b797-9d5270061fe7",
   "metadata": {},
   "outputs": [],
   "source": [
    "f = h5py.File(os.path.join(pathname,'biophysical_biophysical_edges.h5'), 'r')\n",
    "edgesDF = SaveDataToDF(f) "
   ]
  },
  {
   "cell_type": "markdown",
   "id": "a843a2c1-baeb-4aa0-87ab-a9443f85afff",
   "metadata": {},
   "source": [
    "# LFP Processing"
   ]
  },
  {
   "cell_type": "code",
   "execution_count": 55,
   "id": "f226b401-ceaa-495e-b1e8-1617e4a13f70",
   "metadata": {},
   "outputs": [],
   "source": [
    "from scipy.signal import butter, lfilter, resample, filtfilt\n",
    "from scipy.stats import zscore\n",
    "from scipy.fft import fft, fftfreq, fftshift"
   ]
  },
  {
   "cell_type": "code",
   "execution_count": 40,
   "id": "2e60e218-7d51-4e54-bfad-e242cf892b96",
   "metadata": {},
   "outputs": [
    {
     "data": {
      "image/png": "[encoded data removed]",
      "text/plain": [
       "<Figure size 432x288 with 1 Axes>"
      ]
     },
     "metadata": {
      "needs_background": "light"
     },
     "output_type": "display_data"
    }
   ],
   "source": [
    "tsim = 300\n",
    "lfp_file = \"output/ecp.h5\"\n",
    "f = h5py.File(lfp_file,'r')\n",
    "lfp = list(f['ecp']['data'])\n",
    "lfp_arr = np.asarray(lfp)\n",
    "lfp = [0, 1, 2, 3, 4, 5, 6, 7, 8, 9, 10, 11, 12]\n",
    "for i in range(13):\n",
    "    lfp[i] = lfp_arr[:,i]\n",
    "    lfp[i] = [(x*10)+i for x in lfp[i]]\n",
    "    temp = lfp[i]\n",
    "    temp = temp[1500:2500]\n",
    "    plt.plot(np.arange(0,100,0.1),temp)\n",
    "plt.xlabel('time (ms)')\n",
    "plt.ylabel('channels')\n",
    "plt.title(\"raw lfp for CA1\")\n",
    "plt.show()"
   ]
  },
  {
   "cell_type": "code",
   "execution_count": 42,
   "id": "88e04703-e247-4e9f-885d-fb7757de6931",
   "metadata": {},
   "outputs": [],
   "source": [
    "def butter_lowpass(cutoff, fs, order=5):\n",
    "    nyq = 0.5 * fs\n",
    "    normal_cutoff = cutoff / nyq\n",
    "    b, a = butter(order, normal_cutoff, btype='low', analog=False)\n",
    "    return b, a\n",
    "\n",
    "def butter_lowpass_filter(data, cutoff, fs, order=5):\n",
    "    b, a = butter_lowpass(cutoff, fs, order=order)\n",
    "    y = filtfilt(b, a, data)\n",
    "    return y"
   ]
  },
  {
   "cell_type": "code",
   "execution_count": 47,
   "id": "1a672b06-114a-4861-b5c6-a9b6cc2bca25",
   "metadata": {},
   "outputs": [
    {
     "data": {
      "image/png": "[encoded data removed]",
      "text/plain": [
       "<Figure size 432x288 with 1 Axes>"
      ]
     },
     "metadata": {
      "needs_background": "light"
     },
     "output_type": "display_data"
    }
   ],
   "source": [
    "# Filter requirements.\n",
    "order = 6\n",
    "fs = 10000       # sample rate, Hz\n",
    "cutoff = 500  # desired cutoff frequency of the filter, Hz\n",
    "\n",
    "# Get the filter coefficients so we can check its frequency response.\n",
    "data=lfp[0]\n",
    "\n",
    "y = butter_lowpass_filter(data, cutoff, fs, order)\n",
    "filtered= resample(y, 1000)\n",
    "filtered = zscore(filtered)\n",
    "\n",
    "data = resample(data, 1000)\n",
    "raw = zscore(data)\n",
    "\n",
    "plt.plot(np.arange(0,1000, 1), filtered, label='filtered')\n",
    "plt.plot(np.arange(0,1000, 1), raw, label='raw')\n",
    "\n",
    "plt.legend()\n",
    "plt.show()"
   ]
  },
  {
   "cell_type": "code",
   "execution_count": 52,
   "id": "08609370-2f88-44d9-9db8-3484412cf856",
   "metadata": {},
   "outputs": [],
   "source": [
    "t = np.arange(len(filtered))"
   ]
  },
  {
   "cell_type": "code",
   "execution_count": 53,
   "id": "5ae33094-dd1c-4b4a-8c23-c436f674a4a5",
   "metadata": {},
   "outputs": [
    {
     "data": {
      "text/plain": [
       "[<matplotlib.lines.Line2D at 0x17bca351ac0>]"
      ]
     },
     "execution_count": 53,
     "metadata": {},
     "output_type": "execute_result"
    },
    {
     "data": {
      "image/png": "[encoded data removed]",
      "text/plain": [
       "<Figure size 432x288 with 1 Axes>"
      ]
     },
     "metadata": {
      "needs_background": "light"
     },
     "output_type": "display_data"
    }
   ],
   "source": [
    "fftRes = scipy.fft.fft(filtered)\n",
    "plt.plot(t,fftRes.real)"
   ]
  },
  {
   "cell_type": "code",
   "execution_count": 113,
   "id": "a1740bdb-ce9f-4f4b-b462-0f132840b20e",
   "metadata": {},
   "outputs": [],
   "source": [
    "hist, bin_edges = np.histogram(fftRes.real/max(fftRes.real), bins=200)"
   ]
  },
  {
   "cell_type": "code",
   "execution_count": 57,
   "id": "d0c6e4e8-d120-4d78-9f97-98685f9bb7ee",
   "metadata": {},
   "outputs": [],
   "source": [
    "\n",
    "sp = fftshift(fft(filtered))\n",
    "freq = fftshift(fftfreq(t.shape[-1]))"
   ]
  },
  {
   "cell_type": "code",
   "execution_count": 68,
   "id": "e1580553-9033-478d-aa7f-5319102f1b11",
   "metadata": {},
   "outputs": [
    {
     "data": {
      "text/plain": [
       "[<matplotlib.lines.Line2D at 0x17bcb7d0d60>]"
      ]
     },
     "execution_count": 68,
     "metadata": {},
     "output_type": "execute_result"
    },
    {
     "data": {
      "image/png": "[encoded data removed]",
      "text/plain": [
       "<Figure size 432x288 with 1 Axes>"
      ]
     },
     "metadata": {
      "needs_background": "light"
     },
     "output_type": "display_data"
    }
   ],
   "source": [
    "plt.plot(freq,sp.real)"
   ]
  },
  {
   "cell_type": "code",
   "execution_count": 201,
   "id": "d83b83dd-7d56-4b69-bd52-611de6b59c16",
   "metadata": {},
   "outputs": [],
   "source": [
    "nonzeros = np.array([r for r in fftRes if r != 0])"
   ]
  },
  {
   "cell_type": "code",
   "execution_count": 122,
   "id": "dfa52f73-aa31-4224-a320-79d3e6b4e50f",
   "metadata": {},
   "outputs": [],
   "source": [
    "hist, bin_edges = np.histogram(fftRes.real,bins=200)"
   ]
  },
  {
   "cell_type": "code",
   "execution_count": 203,
   "id": "c63bf6cb-6dd5-48f5-b0eb-ad0573e80de7",
   "metadata": {},
   "outputs": [
    {
     "data": {
      "image/png": "[encoded data removed]",
      "text/plain": [
       "<Figure size 720x360 with 1 Axes>"
      ]
     },
     "metadata": {
      "needs_background": "light"
     },
     "output_type": "display_data"
    }
   ],
   "source": [
    "plt.figure(figsize=(10,5))\n",
    "plt.hist(nonzeros.real,bins=200)\n",
    "plt.show()"
   ]
  },
  {
   "cell_type": "markdown",
   "id": "34dfa6b4-3e1b-4daf-8005-ad9577c9d239",
   "metadata": {},
   "source": [
    "# TESTING"
   ]
  },
  {
   "cell_type": "code",
   "execution_count": 336,
   "id": "a1e16abb-366b-4c43-9824-eca483b238b0",
   "metadata": {},
   "outputs": [],
   "source": [
    "from bmtk.utils.reports.spike_trains import PoissonSpikeGenerator"
   ]
  },
  {
   "cell_type": "code",
   "execution_count": 30,
   "id": "cb306848-fcc3-4472-9d70-58d4cd352d38",
   "metadata": {},
   "outputs": [],
   "source": [
    "psg = PoissonSpikeGenerator(population='bgpn')\n",
    "\n",
    "psg.add(node_ids=1,  # need same number as cells\n",
    "        firing_rate=50000,    # 1 spike every 5 seconds Hz\n",
    "        times=(1/1000, 2/1000))  # time is in seconds for some reason\n"
   ]
  },
  {
   "cell_type": "code",
   "execution_count": 21,
   "id": "625e80c8-222f-4d66-92a9-3cbc68632958",
   "metadata": {},
   "outputs": [],
   "source": [
    "psg.to_sonata('CA1_inputs/bg_pn_spikes.h5')"
   ]
  },
  {
   "cell_type": "code",
   "execution_count": 31,
   "id": "baf6a34c-d7c7-42e7-ac54-006a820e7a91",
   "metadata": {},
   "outputs": [
    {
     "name": "stdout",
     "output_type": "stream",
     "text": [
      "Number of spikes: 52\n",
      "Units: ms\n"
     ]
    },
    {
     "data": {
      "text/html": [
       "<div>\n",
       "<style scoped>\n",
       "    .dataframe tbody tr th:only-of-type {\n",
       "        vertical-align: middle;\n",
       "    }\n",
       "\n",
       "    .dataframe tbody tr th {\n",
       "        vertical-align: top;\n",
       "    }\n",
       "\n",
       "    .dataframe thead th {\n",
       "        text-align: right;\n",
       "    }\n",
       "</style>\n",
       "<table border=\"1\" class=\"dataframe\">\n",
       "  <thead>\n",
       "    <tr style=\"text-align: right;\">\n",
       "      <th></th>\n",
       "      <th>node_ids</th>\n",
       "      <th>timestamps</th>\n",
       "      <th>population</th>\n",
       "    </tr>\n",
       "  </thead>\n",
       "  <tbody>\n",
       "    <tr>\n",
       "      <th>0</th>\n",
       "      <td>1</td>\n",
       "      <td>1.054939</td>\n",
       "      <td>bgpn</td>\n",
       "    </tr>\n",
       "    <tr>\n",
       "      <th>1</th>\n",
       "      <td>1</td>\n",
       "      <td>1.063110</td>\n",
       "      <td>bgpn</td>\n",
       "    </tr>\n",
       "    <tr>\n",
       "      <th>2</th>\n",
       "      <td>1</td>\n",
       "      <td>1.106914</td>\n",
       "      <td>bgpn</td>\n",
       "    </tr>\n",
       "    <tr>\n",
       "      <th>3</th>\n",
       "      <td>1</td>\n",
       "      <td>1.144070</td>\n",
       "      <td>bgpn</td>\n",
       "    </tr>\n",
       "    <tr>\n",
       "      <th>4</th>\n",
       "      <td>1</td>\n",
       "      <td>1.155733</td>\n",
       "      <td>bgpn</td>\n",
       "    </tr>\n",
       "    <tr>\n",
       "      <th>5</th>\n",
       "      <td>1</td>\n",
       "      <td>1.193693</td>\n",
       "      <td>bgpn</td>\n",
       "    </tr>\n",
       "    <tr>\n",
       "      <th>6</th>\n",
       "      <td>1</td>\n",
       "      <td>1.194066</td>\n",
       "      <td>bgpn</td>\n",
       "    </tr>\n",
       "    <tr>\n",
       "      <th>7</th>\n",
       "      <td>1</td>\n",
       "      <td>1.198494</td>\n",
       "      <td>bgpn</td>\n",
       "    </tr>\n",
       "    <tr>\n",
       "      <th>8</th>\n",
       "      <td>1</td>\n",
       "      <td>1.210716</td>\n",
       "      <td>bgpn</td>\n",
       "    </tr>\n",
       "    <tr>\n",
       "      <th>9</th>\n",
       "      <td>1</td>\n",
       "      <td>1.216851</td>\n",
       "      <td>bgpn</td>\n",
       "    </tr>\n",
       "    <tr>\n",
       "      <th>10</th>\n",
       "      <td>1</td>\n",
       "      <td>1.244928</td>\n",
       "      <td>bgpn</td>\n",
       "    </tr>\n",
       "    <tr>\n",
       "      <th>11</th>\n",
       "      <td>1</td>\n",
       "      <td>1.284238</td>\n",
       "      <td>bgpn</td>\n",
       "    </tr>\n",
       "    <tr>\n",
       "      <th>12</th>\n",
       "      <td>1</td>\n",
       "      <td>1.288486</td>\n",
       "      <td>bgpn</td>\n",
       "    </tr>\n",
       "    <tr>\n",
       "      <th>13</th>\n",
       "      <td>1</td>\n",
       "      <td>1.315656</td>\n",
       "      <td>bgpn</td>\n",
       "    </tr>\n",
       "    <tr>\n",
       "      <th>14</th>\n",
       "      <td>1</td>\n",
       "      <td>1.321589</td>\n",
       "      <td>bgpn</td>\n",
       "    </tr>\n",
       "    <tr>\n",
       "      <th>15</th>\n",
       "      <td>1</td>\n",
       "      <td>1.350744</td>\n",
       "      <td>bgpn</td>\n",
       "    </tr>\n",
       "    <tr>\n",
       "      <th>16</th>\n",
       "      <td>1</td>\n",
       "      <td>1.356710</td>\n",
       "      <td>bgpn</td>\n",
       "    </tr>\n",
       "    <tr>\n",
       "      <th>17</th>\n",
       "      <td>1</td>\n",
       "      <td>1.394461</td>\n",
       "      <td>bgpn</td>\n",
       "    </tr>\n",
       "    <tr>\n",
       "      <th>18</th>\n",
       "      <td>1</td>\n",
       "      <td>1.401901</td>\n",
       "      <td>bgpn</td>\n",
       "    </tr>\n",
       "    <tr>\n",
       "      <th>19</th>\n",
       "      <td>1</td>\n",
       "      <td>1.412751</td>\n",
       "      <td>bgpn</td>\n",
       "    </tr>\n",
       "    <tr>\n",
       "      <th>20</th>\n",
       "      <td>1</td>\n",
       "      <td>1.415266</td>\n",
       "      <td>bgpn</td>\n",
       "    </tr>\n",
       "    <tr>\n",
       "      <th>21</th>\n",
       "      <td>1</td>\n",
       "      <td>1.425348</td>\n",
       "      <td>bgpn</td>\n",
       "    </tr>\n",
       "    <tr>\n",
       "      <th>22</th>\n",
       "      <td>1</td>\n",
       "      <td>1.425564</td>\n",
       "      <td>bgpn</td>\n",
       "    </tr>\n",
       "    <tr>\n",
       "      <th>23</th>\n",
       "      <td>1</td>\n",
       "      <td>1.431935</td>\n",
       "      <td>bgpn</td>\n",
       "    </tr>\n",
       "    <tr>\n",
       "      <th>24</th>\n",
       "      <td>1</td>\n",
       "      <td>1.434909</td>\n",
       "      <td>bgpn</td>\n",
       "    </tr>\n",
       "    <tr>\n",
       "      <th>25</th>\n",
       "      <td>1</td>\n",
       "      <td>1.438203</td>\n",
       "      <td>bgpn</td>\n",
       "    </tr>\n",
       "    <tr>\n",
       "      <th>26</th>\n",
       "      <td>1</td>\n",
       "      <td>1.467052</td>\n",
       "      <td>bgpn</td>\n",
       "    </tr>\n",
       "    <tr>\n",
       "      <th>27</th>\n",
       "      <td>1</td>\n",
       "      <td>1.508198</td>\n",
       "      <td>bgpn</td>\n",
       "    </tr>\n",
       "    <tr>\n",
       "      <th>28</th>\n",
       "      <td>1</td>\n",
       "      <td>1.547608</td>\n",
       "      <td>bgpn</td>\n",
       "    </tr>\n",
       "    <tr>\n",
       "      <th>29</th>\n",
       "      <td>1</td>\n",
       "      <td>1.593423</td>\n",
       "      <td>bgpn</td>\n",
       "    </tr>\n",
       "    <tr>\n",
       "      <th>30</th>\n",
       "      <td>1</td>\n",
       "      <td>1.596664</td>\n",
       "      <td>bgpn</td>\n",
       "    </tr>\n",
       "    <tr>\n",
       "      <th>31</th>\n",
       "      <td>1</td>\n",
       "      <td>1.602667</td>\n",
       "      <td>bgpn</td>\n",
       "    </tr>\n",
       "    <tr>\n",
       "      <th>32</th>\n",
       "      <td>1</td>\n",
       "      <td>1.659989</td>\n",
       "      <td>bgpn</td>\n",
       "    </tr>\n",
       "    <tr>\n",
       "      <th>33</th>\n",
       "      <td>1</td>\n",
       "      <td>1.662932</td>\n",
       "      <td>bgpn</td>\n",
       "    </tr>\n",
       "    <tr>\n",
       "      <th>34</th>\n",
       "      <td>1</td>\n",
       "      <td>1.775436</td>\n",
       "      <td>bgpn</td>\n",
       "    </tr>\n",
       "    <tr>\n",
       "      <th>35</th>\n",
       "      <td>1</td>\n",
       "      <td>1.782922</td>\n",
       "      <td>bgpn</td>\n",
       "    </tr>\n",
       "    <tr>\n",
       "      <th>36</th>\n",
       "      <td>1</td>\n",
       "      <td>1.796122</td>\n",
       "      <td>bgpn</td>\n",
       "    </tr>\n",
       "    <tr>\n",
       "      <th>37</th>\n",
       "      <td>1</td>\n",
       "      <td>1.808017</td>\n",
       "      <td>bgpn</td>\n",
       "    </tr>\n",
       "    <tr>\n",
       "      <th>38</th>\n",
       "      <td>1</td>\n",
       "      <td>1.809684</td>\n",
       "      <td>bgpn</td>\n",
       "    </tr>\n",
       "    <tr>\n",
       "      <th>39</th>\n",
       "      <td>1</td>\n",
       "      <td>1.822352</td>\n",
       "      <td>bgpn</td>\n",
       "    </tr>\n",
       "    <tr>\n",
       "      <th>40</th>\n",
       "      <td>1</td>\n",
       "      <td>1.828384</td>\n",
       "      <td>bgpn</td>\n",
       "    </tr>\n",
       "    <tr>\n",
       "      <th>41</th>\n",
       "      <td>1</td>\n",
       "      <td>1.854461</td>\n",
       "      <td>bgpn</td>\n",
       "    </tr>\n",
       "    <tr>\n",
       "      <th>42</th>\n",
       "      <td>1</td>\n",
       "      <td>1.854949</td>\n",
       "      <td>bgpn</td>\n",
       "    </tr>\n",
       "    <tr>\n",
       "      <th>43</th>\n",
       "      <td>1</td>\n",
       "      <td>1.867702</td>\n",
       "      <td>bgpn</td>\n",
       "    </tr>\n",
       "    <tr>\n",
       "      <th>44</th>\n",
       "      <td>1</td>\n",
       "      <td>1.883061</td>\n",
       "      <td>bgpn</td>\n",
       "    </tr>\n",
       "    <tr>\n",
       "      <th>45</th>\n",
       "      <td>1</td>\n",
       "      <td>1.896479</td>\n",
       "      <td>bgpn</td>\n",
       "    </tr>\n",
       "    <tr>\n",
       "      <th>46</th>\n",
       "      <td>1</td>\n",
       "      <td>1.898043</td>\n",
       "      <td>bgpn</td>\n",
       "    </tr>\n",
       "    <tr>\n",
       "      <th>47</th>\n",
       "      <td>1</td>\n",
       "      <td>1.906451</td>\n",
       "      <td>bgpn</td>\n",
       "    </tr>\n",
       "    <tr>\n",
       "      <th>48</th>\n",
       "      <td>1</td>\n",
       "      <td>1.908370</td>\n",
       "      <td>bgpn</td>\n",
       "    </tr>\n",
       "    <tr>\n",
       "      <th>49</th>\n",
       "      <td>1</td>\n",
       "      <td>1.921370</td>\n",
       "      <td>bgpn</td>\n",
       "    </tr>\n",
       "    <tr>\n",
       "      <th>50</th>\n",
       "      <td>1</td>\n",
       "      <td>1.930501</td>\n",
       "      <td>bgpn</td>\n",
       "    </tr>\n",
       "    <tr>\n",
       "      <th>51</th>\n",
       "      <td>1</td>\n",
       "      <td>1.999521</td>\n",
       "      <td>bgpn</td>\n",
       "    </tr>\n",
       "  </tbody>\n",
       "</table>\n",
       "</div>"
      ],
      "text/plain": [
       "    node_ids  timestamps population\n",
       "0          1    1.054939       bgpn\n",
       "1          1    1.063110       bgpn\n",
       "2          1    1.106914       bgpn\n",
       "3          1    1.144070       bgpn\n",
       "4          1    1.155733       bgpn\n",
       "5          1    1.193693       bgpn\n",
       "6          1    1.194066       bgpn\n",
       "7          1    1.198494       bgpn\n",
       "8          1    1.210716       bgpn\n",
       "9          1    1.216851       bgpn\n",
       "10         1    1.244928       bgpn\n",
       "11         1    1.284238       bgpn\n",
       "12         1    1.288486       bgpn\n",
       "13         1    1.315656       bgpn\n",
       "14         1    1.321589       bgpn\n",
       "15         1    1.350744       bgpn\n",
       "16         1    1.356710       bgpn\n",
       "17         1    1.394461       bgpn\n",
       "18         1    1.401901       bgpn\n",
       "19         1    1.412751       bgpn\n",
       "20         1    1.415266       bgpn\n",
       "21         1    1.425348       bgpn\n",
       "22         1    1.425564       bgpn\n",
       "23         1    1.431935       bgpn\n",
       "24         1    1.434909       bgpn\n",
       "25         1    1.438203       bgpn\n",
       "26         1    1.467052       bgpn\n",
       "27         1    1.508198       bgpn\n",
       "28         1    1.547608       bgpn\n",
       "29         1    1.593423       bgpn\n",
       "30         1    1.596664       bgpn\n",
       "31         1    1.602667       bgpn\n",
       "32         1    1.659989       bgpn\n",
       "33         1    1.662932       bgpn\n",
       "34         1    1.775436       bgpn\n",
       "35         1    1.782922       bgpn\n",
       "36         1    1.796122       bgpn\n",
       "37         1    1.808017       bgpn\n",
       "38         1    1.809684       bgpn\n",
       "39         1    1.822352       bgpn\n",
       "40         1    1.828384       bgpn\n",
       "41         1    1.854461       bgpn\n",
       "42         1    1.854949       bgpn\n",
       "43         1    1.867702       bgpn\n",
       "44         1    1.883061       bgpn\n",
       "45         1    1.896479       bgpn\n",
       "46         1    1.898043       bgpn\n",
       "47         1    1.906451       bgpn\n",
       "48         1    1.908370       bgpn\n",
       "49         1    1.921370       bgpn\n",
       "50         1    1.930501       bgpn\n",
       "51         1    1.999521       bgpn"
      ]
     },
     "execution_count": 31,
     "metadata": {},
     "output_type": "execute_result"
    }
   ],
   "source": [
    "print('Number of spikes: {}'.format(psg.n_spikes()))\n",
    "print('Units: {}'.format(psg.units()))\n",
    "\n",
    "psg.to_dataframe()"
   ]
  },
  {
   "cell_type": "code",
   "execution_count": 30,
   "id": "3caaa0d7-0769-49fd-bca8-2596f4ebb7f9",
   "metadata": {},
   "outputs": [
    {
     "data": {
      "text/plain": [
       "node_ids              1\n",
       "timestamps    19.309215\n",
       "population         bgpn\n",
       "Name: 10, dtype: object"
      ]
     },
     "execution_count": 30,
     "metadata": {},
     "output_type": "execute_result"
    }
   ],
   "source": [
    "tst = psg.to_dataframe()\n",
    "tst.iloc[10]"
   ]
  },
  {
   "cell_type": "code",
   "execution_count": 32,
   "id": "2c71c3a3-296f-4339-a7f0-5d07ca2d3d3e",
   "metadata": {},
   "outputs": [
    {
     "name": "stdout",
     "output_type": "stream",
     "text": [
      "spikes\n",
      "spikes/bgpn\n",
      "spikes/bgpn/node_ids\n",
      "spikes/bgpn/timestamps\n"
     ]
    }
   ],
   "source": [
    "pathname = 'CA1_inputs'\n",
    "f = h5py.File(os.path.join(pathname,'bg_pn_spikes.h5'), 'r')\n",
    "f.visit(print)"
   ]
  },
  {
   "cell_type": "code",
   "execution_count": 37,
   "id": "4dac44c4-c599-4871-839a-b5e3bd1aa8a1",
   "metadata": {},
   "outputs": [],
   "source": [
    "tst = SaveDataToDF(f)"
   ]
  },
  {
   "cell_type": "code",
   "execution_count": 44,
   "id": "f786d81c-4ec3-4efd-aef5-d1d29383be8a",
   "metadata": {},
   "outputs": [
    {
     "data": {
      "text/html": [
       "<div>\n",
       "<style scoped>\n",
       "    .dataframe tbody tr th:only-of-type {\n",
       "        vertical-align: middle;\n",
       "    }\n",
       "\n",
       "    .dataframe tbody tr th {\n",
       "        vertical-align: top;\n",
       "    }\n",
       "\n",
       "    .dataframe thead th {\n",
       "        text-align: right;\n",
       "    }\n",
       "</style>\n",
       "<table border=\"1\" class=\"dataframe\">\n",
       "  <thead>\n",
       "    <tr style=\"text-align: right;\">\n",
       "      <th></th>\n",
       "      <th>node_ids</th>\n",
       "      <th>timestamps</th>\n",
       "    </tr>\n",
       "  </thead>\n",
       "  <tbody>\n",
       "    <tr>\n",
       "      <th>0</th>\n",
       "      <td>0.0</td>\n",
       "      <td>81.784365</td>\n",
       "    </tr>\n",
       "    <tr>\n",
       "      <th>1</th>\n",
       "      <td>0.0</td>\n",
       "      <td>93.590084</td>\n",
       "    </tr>\n",
       "    <tr>\n",
       "      <th>2</th>\n",
       "      <td>0.0</td>\n",
       "      <td>139.894619</td>\n",
       "    </tr>\n",
       "    <tr>\n",
       "      <th>3</th>\n",
       "      <td>0.0</td>\n",
       "      <td>144.310465</td>\n",
       "    </tr>\n",
       "    <tr>\n",
       "      <th>4</th>\n",
       "      <td>0.0</td>\n",
       "      <td>147.109625</td>\n",
       "    </tr>\n",
       "    <tr>\n",
       "      <th>5</th>\n",
       "      <td>0.0</td>\n",
       "      <td>159.124039</td>\n",
       "    </tr>\n",
       "    <tr>\n",
       "      <th>6</th>\n",
       "      <td>0.0</td>\n",
       "      <td>159.366370</td>\n",
       "    </tr>\n",
       "    <tr>\n",
       "      <th>7</th>\n",
       "      <td>0.0</td>\n",
       "      <td>180.782293</td>\n",
       "    </tr>\n",
       "    <tr>\n",
       "      <th>8</th>\n",
       "      <td>0.0</td>\n",
       "      <td>186.320028</td>\n",
       "    </tr>\n",
       "    <tr>\n",
       "      <th>9</th>\n",
       "      <td>1.0</td>\n",
       "      <td>3.910261</td>\n",
       "    </tr>\n",
       "    <tr>\n",
       "      <th>10</th>\n",
       "      <td>1.0</td>\n",
       "      <td>19.309215</td>\n",
       "    </tr>\n",
       "    <tr>\n",
       "      <th>11</th>\n",
       "      <td>1.0</td>\n",
       "      <td>62.059356</td>\n",
       "    </tr>\n",
       "    <tr>\n",
       "      <th>12</th>\n",
       "      <td>1.0</td>\n",
       "      <td>63.721657</td>\n",
       "    </tr>\n",
       "    <tr>\n",
       "      <th>13</th>\n",
       "      <td>1.0</td>\n",
       "      <td>65.574703</td>\n",
       "    </tr>\n",
       "    <tr>\n",
       "      <th>14</th>\n",
       "      <td>1.0</td>\n",
       "      <td>73.324418</td>\n",
       "    </tr>\n",
       "    <tr>\n",
       "      <th>15</th>\n",
       "      <td>1.0</td>\n",
       "      <td>92.899901</td>\n",
       "    </tr>\n",
       "    <tr>\n",
       "      <th>16</th>\n",
       "      <td>1.0</td>\n",
       "      <td>130.637568</td>\n",
       "    </tr>\n",
       "    <tr>\n",
       "      <th>17</th>\n",
       "      <td>1.0</td>\n",
       "      <td>147.156126</td>\n",
       "    </tr>\n",
       "    <tr>\n",
       "      <th>18</th>\n",
       "      <td>1.0</td>\n",
       "      <td>155.528450</td>\n",
       "    </tr>\n",
       "    <tr>\n",
       "      <th>19</th>\n",
       "      <td>1.0</td>\n",
       "      <td>170.673776</td>\n",
       "    </tr>\n",
       "  </tbody>\n",
       "</table>\n",
       "</div>"
      ],
      "text/plain": [
       "    node_ids  timestamps\n",
       "0        0.0   81.784365\n",
       "1        0.0   93.590084\n",
       "2        0.0  139.894619\n",
       "3        0.0  144.310465\n",
       "4        0.0  147.109625\n",
       "5        0.0  159.124039\n",
       "6        0.0  159.366370\n",
       "7        0.0  180.782293\n",
       "8        0.0  186.320028\n",
       "9        1.0    3.910261\n",
       "10       1.0   19.309215\n",
       "11       1.0   62.059356\n",
       "12       1.0   63.721657\n",
       "13       1.0   65.574703\n",
       "14       1.0   73.324418\n",
       "15       1.0   92.899901\n",
       "16       1.0  130.637568\n",
       "17       1.0  147.156126\n",
       "18       1.0  155.528450\n",
       "19       1.0  170.673776"
      ]
     },
     "execution_count": 44,
     "metadata": {},
     "output_type": "execute_result"
    }
   ],
   "source": [
    "tst.head(20)"
   ]
  },
  {
   "cell_type": "code",
   "execution_count": 3,
   "id": "d2ead6c6-1fb8-4aa8-9abb-b01d60110b33",
   "metadata": {},
   "outputs": [
    {
     "data": {
      "text/plain": [
       "array([ 1,  7,  7,  7,  8,  9, 10, 12, 15, 15, 16, 18, 19, 23, 23, 29, 29,\n",
       "       29, 30, 30, 34, 38, 46, 52, 53, 54, 55, 57, 57, 60, 62, 62, 63],\n",
       "      dtype=int64)"
      ]
     },
     "execution_count": 3,
     "metadata": {},
     "output_type": "execute_result"
    }
   ],
   "source": [
    "f['spikes/bgpn//node_ids'][()]"
   ]
  },
  {
   "cell_type": "code",
   "execution_count": 40,
   "id": "499285cd-6584-47a4-99a4-fbe5da17c6fb",
   "metadata": {},
   "outputs": [
    {
     "data": {
      "text/plain": [
       "['__class__',\n",
       " '__delattr__',\n",
       " '__dict__',\n",
       " '__dir__',\n",
       " '__doc__',\n",
       " '__eq__',\n",
       " '__format__',\n",
       " '__ge__',\n",
       " '__getattr__',\n",
       " '__getattribute__',\n",
       " '__gt__',\n",
       " '__hash__',\n",
       " '__init__',\n",
       " '__init_subclass__',\n",
       " '__le__',\n",
       " '__len__',\n",
       " '__lt__',\n",
       " '__module__',\n",
       " '__ne__',\n",
       " '__new__',\n",
       " '__reduce__',\n",
       " '__reduce_ex__',\n",
       " '__repr__',\n",
       " '__setattr__',\n",
       " '__sizeof__',\n",
       " '__str__',\n",
       " '__subclasshook__',\n",
       " '__weakref__',\n",
       " '_build_fixed_fr',\n",
       " '_build_inhomegeous_fr',\n",
       " 'adaptor',\n",
       " 'add',\n",
       " 'from_csv',\n",
       " 'from_nwb',\n",
       " 'from_sonata',\n",
       " 'load',\n",
       " 'max_spikes_per_node',\n",
       " 'time_range']"
      ]
     },
     "execution_count": 40,
     "metadata": {},
     "output_type": "execute_result"
    }
   ],
   "source": [
    "dir(psg)"
   ]
  },
  {
   "cell_type": "code",
   "execution_count": 41,
   "id": "273359bd-0849-4167-bc72-1bbeb982e18a",
   "metadata": {},
   "outputs": [
    {
     "data": {
      "text/plain": [
       "(200.10935571208424, 295.10472372879343)"
      ]
     },
     "execution_count": 41,
     "metadata": {},
     "output_type": "execute_result"
    }
   ],
   "source": [
    "psg.time_range()"
   ]
  },
  {
   "cell_type": "code",
   "execution_count": 124,
   "id": "48a83def-1d6d-4c6e-874d-c4c4bc621817",
   "metadata": {},
   "outputs": [],
   "source": [
    "f.close()"
   ]
  },
  {
   "cell_type": "code",
   "execution_count": 20,
   "id": "0748f1b1-ea4b-491f-9d1e-d7a08606269e",
   "metadata": {},
   "outputs": [],
   "source": [
    "psg.to_csv('CA1_inputs/bg_pn_spikes.txt')"
   ]
  },
  {
   "cell_type": "code",
   "execution_count": 3,
   "id": "26c28374-f117-4754-997d-636423f911ed",
   "metadata": {},
   "outputs": [],
   "source": [
    "pathname = 'CA1_inputs'"
   ]
  },
  {
   "cell_type": "code",
   "execution_count": 24,
   "id": "b4bcb88c-2592-4c75-aef8-adfda9d03f4b",
   "metadata": {},
   "outputs": [
    {
     "ename": "ValueError",
     "evalue": "could not convert string to float: 'timestamps'",
     "output_type": "error",
     "traceback": [
      "\u001b[1;31m---------------------------------------------------------------------------\u001b[0m",
      "\u001b[1;31mValueError\u001b[0m                                Traceback (most recent call last)",
      "Input \u001b[1;32mIn [24]\u001b[0m, in \u001b[0;36m<cell line: 1>\u001b[1;34m()\u001b[0m\n\u001b[1;32m----> 1\u001b[0m tst \u001b[38;5;241m=\u001b[39m \u001b[43mnp\u001b[49m\u001b[38;5;241;43m.\u001b[39;49m\u001b[43mloadtxt\u001b[49m\u001b[43m(\u001b[49m\u001b[38;5;124;43m'\u001b[39;49m\u001b[38;5;124;43mCA1_inputs/bg_pn_spikes.txt\u001b[39;49m\u001b[38;5;124;43m'\u001b[39;49m\u001b[43m)\u001b[49m\n",
      "File \u001b[1;32m~\\source\\repos\\CA1_model\\CA1_model_env\\lib\\site-packages\\numpy\\lib\\npyio.py:1163\u001b[0m, in \u001b[0;36mloadtxt\u001b[1;34m(fname, dtype, comments, delimiter, converters, skiprows, usecols, unpack, ndmin, encoding, max_rows, like)\u001b[0m\n\u001b[0;32m   1159\u001b[0m         \u001b[38;5;28;01mraise\u001b[39;00m \u001b[38;5;167;01mValueError\u001b[39;00m(\n\u001b[0;32m   1160\u001b[0m             \u001b[38;5;124mf\u001b[39m\u001b[38;5;124m\"\u001b[39m\u001b[38;5;124mWrong number of columns at line \u001b[39m\u001b[38;5;132;01m{\u001b[39;00mlineno\u001b[38;5;132;01m}\u001b[39;00m\u001b[38;5;124m\"\u001b[39m)\n\u001b[0;32m   1161\u001b[0m     \u001b[38;5;66;03m# Convert each value according to its column, then pack it\u001b[39;00m\n\u001b[0;32m   1162\u001b[0m     \u001b[38;5;66;03m# according to the dtype's nesting, and store it.\u001b[39;00m\n\u001b[1;32m-> 1163\u001b[0m     chunk\u001b[38;5;241m.\u001b[39mappend(packer(\u001b[43mconvert_row\u001b[49m\u001b[43m(\u001b[49m\u001b[43mwords\u001b[49m\u001b[43m)\u001b[49m))\n\u001b[0;32m   1164\u001b[0m \u001b[38;5;28;01mif\u001b[39;00m \u001b[38;5;129;01mnot\u001b[39;00m chunk:  \u001b[38;5;66;03m# The islice is empty, i.e. we're done.\u001b[39;00m\n\u001b[0;32m   1165\u001b[0m     \u001b[38;5;28;01mbreak\u001b[39;00m\n",
      "File \u001b[1;32m~\\source\\repos\\CA1_model\\CA1_model_env\\lib\\site-packages\\numpy\\lib\\npyio.py:1142\u001b[0m, in \u001b[0;36mloadtxt.<locals>.convert_row\u001b[1;34m(vals, _conv)\u001b[0m\n\u001b[0;32m   1141\u001b[0m \u001b[38;5;28;01mdef\u001b[39;00m \u001b[38;5;21mconvert_row\u001b[39m(vals, _conv\u001b[38;5;241m=\u001b[39mconverters[\u001b[38;5;241m0\u001b[39m]):\n\u001b[1;32m-> 1142\u001b[0m     \u001b[38;5;28;01mreturn\u001b[39;00m [\u001b[38;5;241m*\u001b[39m\u001b[38;5;28mmap\u001b[39m(_conv, vals)]\n",
      "File \u001b[1;32m~\\source\\repos\\CA1_model\\CA1_model_env\\lib\\site-packages\\numpy\\lib\\npyio.py:725\u001b[0m, in \u001b[0;36m_floatconv\u001b[1;34m(x)\u001b[0m\n\u001b[0;32m    723\u001b[0m \u001b[38;5;28;01mdef\u001b[39;00m \u001b[38;5;21m_floatconv\u001b[39m(x):\n\u001b[0;32m    724\u001b[0m     \u001b[38;5;28;01mtry\u001b[39;00m:\n\u001b[1;32m--> 725\u001b[0m         \u001b[38;5;28;01mreturn\u001b[39;00m \u001b[38;5;28;43mfloat\u001b[39;49m\u001b[43m(\u001b[49m\u001b[43mx\u001b[49m\u001b[43m)\u001b[49m  \u001b[38;5;66;03m# The fastest path.\u001b[39;00m\n\u001b[0;32m    726\u001b[0m     \u001b[38;5;28;01mexcept\u001b[39;00m \u001b[38;5;167;01mValueError\u001b[39;00m:\n\u001b[0;32m    727\u001b[0m         \u001b[38;5;28;01mif\u001b[39;00m \u001b[38;5;124m'\u001b[39m\u001b[38;5;124m0x\u001b[39m\u001b[38;5;124m'\u001b[39m \u001b[38;5;129;01min\u001b[39;00m x:  \u001b[38;5;66;03m# Don't accidentally convert \"a\" (\"0xa\") to 10.\u001b[39;00m\n",
      "\u001b[1;31mValueError\u001b[0m: could not convert string to float: 'timestamps'"
     ]
    }
   ],
   "source": [
    "tst = np.loadtxt('CA1_inputs/bg_pn_spikes.txt')"
   ]
  },
  {
   "cell_type": "code",
   "execution_count": 6,
   "id": "b1dfe70a-4e18-4e2c-ba2e-f770ebb003d2",
   "metadata": {},
   "outputs": [],
   "source": [
    "tst = pd.read_csv('CA1_inputs/bg_pn_spikes.txt')\n",
    "test = np.array(tst)"
   ]
  },
  {
   "cell_type": "code",
   "execution_count": 7,
   "id": "26fd64de-0d4e-4ab3-bfe8-dacd3de89a13",
   "metadata": {},
   "outputs": [],
   "source": [
    "with h5py.File('bg_pn_spikes.hdf5','w') as f:\n",
    "    f['bg_pn'] = test\n"
   ]
  },
  {
   "cell_type": "code",
   "execution_count": 5,
   "id": "153d3bed-e33e-499f-9dc1-0b46f594e9e9",
   "metadata": {},
   "outputs": [
    {
     "name": "stdout",
     "output_type": "stream",
     "text": [
      "dataset\n"
     ]
    }
   ],
   "source": [
    "f = h5py.File(os.path.join(pathname,'bg_pn_spikes.hdf5'), 'r')\n",
    "f.visit(print)"
   ]
  },
  {
   "cell_type": "markdown",
   "id": "7045171a-d759-4861-8427-4dca01b57b71",
   "metadata": {},
   "source": [
    "# run testing"
   ]
  },
  {
   "cell_type": "code",
   "execution_count": 428,
   "id": "25d63178-78fb-4964-ab7e-b72a51f5c7fa",
   "metadata": {},
   "outputs": [],
   "source": [
    "import random\n",
    "#from bmtk.builder import NetworkBuild\n",
    "seed = 999\n",
    "random.seed(seed)\n",
    "np.random.seed(seed)\n",
    "\n",
    "#net = NetworkBuilder(\"biophysical\")\n",
    "# amount of cells\n",
    "numAAC = 50  # 147\n",
    "numCCK = 10  # 360\n",
    "numNGF = 10  # 580\n",
    "numOLM = 10 # 164\n",
    "numPV = 10  # 553\n",
    "numPyr = 10  # 31150\n",
    "\n",
    "# arrays for cell location csv\n",
    "cell_name = []\n",
    "cell_x = []\n",
    "cell_y = []\n",
    "cell_z = []\n",
    "# amount of cells per layer\n",
    "numAAC_inSO = int(round(numAAC*0.238))\n",
    "numAAC_inSP = int(round(numAAC*0.7))\n",
    "numAAC_inSR = int(round(numAAC*0.062))\n",
    "numCCK_inSO = int(round(numCCK*0.217))\n",
    "numCCK_inSP = int(round(numCCK*0.261))\n",
    "numCCK_inSR = int(round(numCCK*0.325))\n",
    "numCCK_inSLM = int(round(numCCK*0.197))\n",
    "numNGF_inSR = int(round(numNGF*0.17))\n",
    "numNGF_inSLM = int(round(numNGF*0.83))\n",
    "numPV_inSO = int(round(numPV*0.238))\n",
    "numPV_inSP = int(round(numPV*0.701))\n",
    "numPV_inSR = int(round(numPV*0.0596))\n",
    "\n",
    "totalCellNum = numAAC_inSO + numAAC_inSP + numAAC_inSR + numCCK_inSO + numCCK_inSP + numCCK_inSR + numCCK_inSLM + numNGF_inSR + numNGF_inSLM + numPV_inSO + numPV_inSP + numPV_inSR\n",
    "\n",
    "\n",
    "# total 400x1000x450\n",
    "# Order from top to bottom is SO,SP,SR,SLM total\n",
    "# SO layer\n",
    "xside_length = 400; yside_length = 1000; height = 450; min_dist = 20\n",
    "x_grid = np.arange(0, xside_length+min_dist, min_dist)\n",
    "y_grid = np.arange(0, yside_length+min_dist, min_dist)\n",
    "z_grid = np.arange(320, height+min_dist, min_dist)\n",
    "xx, yy, zz = np.meshgrid(x_grid, y_grid, z_grid)\n",
    "pos_list_SO = np.vstack([xx.ravel(), yy.ravel(), zz.ravel()]).T\n",
    "\n",
    "# SP layer\n",
    "xside_length = 400; yside_length = 1000; height = 320; min_dist = 8\n",
    "x_grid = np.arange(0, xside_length+min_dist, min_dist)\n",
    "y_grid = np.arange(0, yside_length+min_dist, min_dist)\n",
    "z_grid = np.arange(290, height+min_dist, min_dist)\n",
    "xx, yy, zz = np.meshgrid(x_grid, y_grid, z_grid)\n",
    "pos_list_SP = np.vstack([xx.ravel(), yy.ravel(), zz.ravel()]).T\n",
    "\n",
    "# SR\n",
    "xside_length = 400; yside_length = 1000; height = 290; min_dist = 20\n",
    "x_grid = np.arange(0, xside_length+min_dist, min_dist)\n",
    "y_grid = np.arange(0, yside_length+min_dist, min_dist)\n",
    "z_grid = np.arange(80, height+min_dist, min_dist)\n",
    "xx, yy, zz = np.meshgrid(x_grid, y_grid, z_grid)\n",
    "pos_list_SR = np.vstack([xx.ravel(), yy.ravel(), zz.ravel()]).T\n",
    "\n",
    "# SLM\n",
    "xside_length = 400; yside_length = 1000; height = 79; min_dist = 20\n",
    "x_grid = np.arange(0, xside_length+min_dist, min_dist)\n",
    "y_grid = np.arange(0, yside_length+min_dist, min_dist)\n",
    "z_grid = np.arange(0, height+min_dist, min_dist)\n",
    "xx, yy, zz = np.meshgrid(x_grid, y_grid, z_grid)\n",
    "pos_list_SLM = np.vstack([xx.ravel(), yy.ravel(), zz.ravel()]).T\n",
    "\n",
    "# ############ SO LAYER ############ #\n",
    "# AAC\n",
    "# Pick location\n",
    "inds = np.random.choice(np.arange(0, np.size(pos_list_SO, 0)), numAAC_inSO, replace=False)\n",
    "pos = pos_list_SO[inds, :]\n",
    "\n"
   ]
  },
  {
   "cell_type": "code",
   "execution_count": 429,
   "id": "e6a9a47b-3f54-45ab-9edd-55bc8e499f3d",
   "metadata": {},
   "outputs": [
    {
     "data": {
      "text/plain": [
       "array([4018, 7531, 2256, 1764, 7771, 1294, 7433, 4930, 1049, 8500, 7073,\n",
       "       3594])"
      ]
     },
     "execution_count": 429,
     "metadata": {},
     "output_type": "execute_result"
    }
   ],
   "source": [
    "inds"
   ]
  },
  {
   "cell_type": "code",
   "execution_count": 461,
   "id": "820d8cd1-1c4d-4d40-ad74-0efceb85de3a",
   "metadata": {},
   "outputs": [
    {
     "data": {
      "text/plain": [
       "<matplotlib.collections.PathCollection at 0x1e992326ee0>"
      ]
     },
     "execution_count": 461,
     "metadata": {},
     "output_type": "execute_result"
    },
    {
     "data": {
      "image/png": "[encoded data removed]",
      "text/plain": [
       "<Figure size 432x288 with 1 Axes>"
      ]
     },
     "metadata": {
      "needs_background": "light"
     },
     "output_type": "display_data"
    }
   ],
   "source": [
    "plt.scatter(np.arange(0,len(inds)),inds)"
   ]
  },
  {
   "cell_type": "code",
   "execution_count": 460,
   "id": "bb6b8246-4ebd-470b-a14c-c790c8d87809",
   "metadata": {},
   "outputs": [
    {
     "data": {
      "text/plain": [
       "<matplotlib.collections.PathCollection at 0x1e990844f40>"
      ]
     },
     "execution_count": 460,
     "metadata": {},
     "output_type": "execute_result"
    },
    {
     "data": {
      "image/png": "[encoded data removed]",
      "text/plain": [
       "<Figure size 432x288 with 1 Axes>"
      ]
     },
     "metadata": {
      "needs_background": "light"
     },
     "output_type": "display_data"
    }
   ],
   "source": [
    "plt.scatter(np.arange(0,len(Idxs)),Idxs)"
   ]
  },
  {
   "cell_type": "code",
   "execution_count": 436,
   "id": "293035fc-749b-40da-8966-46bee1138d28",
   "metadata": {},
   "outputs": [
    {
     "data": {
      "text/plain": [
       "8568"
      ]
     },
     "execution_count": 436,
     "metadata": {},
     "output_type": "execute_result"
    }
   ],
   "source": [
    "np.size(pos_list_SO, 0)"
   ]
  },
  {
   "cell_type": "code",
   "execution_count": 437,
   "id": "d79adff9-8af8-4e12-8abe-dea96907458c",
   "metadata": {},
   "outputs": [
    {
     "data": {
      "text/plain": [
       "8568"
      ]
     },
     "execution_count": 437,
     "metadata": {},
     "output_type": "execute_result"
    }
   ],
   "source": [
    "pos_list_SO.shape[0]"
   ]
  },
  {
   "cell_type": "code",
   "execution_count": 462,
   "id": "d40904c1-eba3-428f-90a8-3d06e9a0de03",
   "metadata": {},
   "outputs": [],
   "source": []
  },
  {
   "cell_type": "code",
   "execution_count": 467,
   "id": "5b266c10-937f-4909-a26c-72b9ad40bfd4",
   "metadata": {},
   "outputs": [],
   "source": [
    "rng = np.random.default_rng(999)\n",
    "Idxs = rng.choice(np.arange(0, pos_list_SO.shape[0]), numAAC_inSO, replace=False)"
   ]
  },
  {
   "cell_type": "code",
   "execution_count": 455,
   "id": "1b51a43a-5f34-412b-8322-695d18a52b3e",
   "metadata": {},
   "outputs": [],
   "source": [
    "inds = np.random.choice(np.arange(0, np.size(pos_list_SO, 0)), numAAC_inSO, replace=False)\n",
    "pos = pos_list_SO[inds, :]"
   ]
  },
  {
   "cell_type": "code",
   "execution_count": 468,
   "id": "927a182b-24cb-4ba3-8e65-c5428feb38be",
   "metadata": {},
   "outputs": [
    {
     "data": {
      "text/plain": [
       "array([1465, 1491, 1448, 6425, 6964, 1474,  878, 1548, 6109, 1317, 7727,\n",
       "       6665])"
      ]
     },
     "execution_count": 468,
     "metadata": {},
     "output_type": "execute_result"
    }
   ],
   "source": [
    "Idxs"
   ]
  },
  {
   "cell_type": "code",
   "execution_count": 457,
   "id": "f7c5f2e7-bdce-40c4-a951-65b51a7b56ae",
   "metadata": {},
   "outputs": [
    {
     "data": {
      "text/plain": [
       "array([8190, 5169,  919, 3644, 7372, 3808, 3216, 8096, 3523, 2994, 8429,\n",
       "       5927])"
      ]
     },
     "execution_count": 457,
     "metadata": {},
     "output_type": "execute_result"
    }
   ],
   "source": [
    "inds"
   ]
  },
  {
   "cell_type": "code",
   "execution_count": 458,
   "id": "4a9f6aa3-fd2f-4893-ae1b-02d3d9324532",
   "metadata": {},
   "outputs": [
    {
     "data": {
      "text/plain": [
       "2366.396385681542"
      ]
     },
     "execution_count": 458,
     "metadata": {},
     "output_type": "execute_result"
    }
   ],
   "source": [
    "np.std(inds)"
   ]
  },
  {
   "cell_type": "code",
   "execution_count": 459,
   "id": "ea62fce0-95df-454d-bfd7-f9e2d26b8a08",
   "metadata": {},
   "outputs": [
    {
     "data": {
      "text/plain": [
       "2805.8984140061493"
      ]
     },
     "execution_count": 459,
     "metadata": {},
     "output_type": "execute_result"
    }
   ],
   "source": [
    "np.std(Idxs)"
   ]
  },
  {
   "cell_type": "code",
   "execution_count": 387,
   "id": "f80c9c0b-adef-4daa-82f5-b4689c5090b9",
   "metadata": {},
   "outputs": [],
   "source": [
    "gParams = np.array([0,0,320,400,1000,450])\n",
    "def make_layer_grid(xstart,ystart,zstart,x_length,y_length,z_length,min_dist):\n",
    "    x_grid = np.arange(xstart, x_length+min_dist, min_dist)\n",
    "    y_grid = np.arange(ystart, y_length+min_dist, min_dist)\n",
    "    z_grid = np.arange(zstart, z_length+min_dist, min_dist)\n",
    "    xx, yy, zz = np.meshgrid(x_grid, y_grid, z_grid)\n",
    "    return np.vstack([xx.ravel(), yy.ravel(), zz.ravel()]).T\n",
    "    "
   ]
  },
  {
   "cell_type": "code",
   "execution_count": 389,
   "id": "7dd7f134-9dde-4bea-b61f-53d2433ab9c4",
   "metadata": {},
   "outputs": [],
   "source": [
    "pos_list_SO_test = make_layer_grid(0,0,320,400,1000,450,20)"
   ]
  },
  {
   "cell_type": "code",
   "execution_count": 8,
   "id": "036a781e-86d5-4f4a-8604-817c50d87800",
   "metadata": {},
   "outputs": [],
   "source": [
    "import h5py\n",
    "import os\n",
    "import matplotlib.pyplot as plt\n",
    "import numpy as np\n",
    "import pandas as pd\n"
   ]
  },
  {
   "cell_type": "code",
   "execution_count": 9,
   "id": "531bd35a-c31e-455b-9197-1a737b4e4b70",
   "metadata": {},
   "outputs": [],
   "source": [
    "import os, sys\n",
    "from bmtk.simulator import bionet\n",
    "import numpy as np\n",
    "import synapses\n",
    "import warnings\n",
    "from bmtk.simulator.core import simulation_config\n",
    "from bmtk.simulator.bionet.pyfunction_cache import add_weight_function"
   ]
  },
  {
   "cell_type": "code",
   "execution_count": 10,
   "id": "6e62d2cb-567c-434e-a0d3-ba1f022b7a18",
   "metadata": {},
   "outputs": [],
   "source": [
    "def gaussianBL(edge_props, source, target):\n",
    "    w0 = edge_props[\"syn_weight\"]\n",
    "    sigma = edge_props[\"weight_sigma\"]\n",
    "    return np.random.normal(w0, sigma, 1)\n",
    "\n",
    "def lognormal(edge_props, source, target):\n",
    "    m = edge_props[\"syn_weight\"]\n",
    "    s = edge_props[\"weight_sigma\"]\n",
    "    mean = np.log(m) - 0.5 * np.log((s / m) ** 2 + 1)\n",
    "    std = np.sqrt(np.log((s / m) ** 2 + 1))\n",
    "    return np.random.lognormal(mean, std, 1)"
   ]
  },
  {
   "cell_type": "code",
   "execution_count": 11,
   "id": "39d950de-a927-4db6-88b8-eb21ad388b44",
   "metadata": {},
   "outputs": [],
   "source": [
    "synapses.load()"
   ]
  },
  {
   "cell_type": "code",
   "execution_count": 12,
   "id": "6654254b-7345-4438-902c-65bea507fc87",
   "metadata": {},
   "outputs": [],
   "source": [
    "add_weight_function(lognormal)\n",
    "add_weight_function(gaussianBL)"
   ]
  },
  {
   "cell_type": "code",
   "execution_count": 13,
   "id": "5d1fb811-9cef-4c24-bf2c-714537eb200b",
   "metadata": {},
   "outputs": [],
   "source": [
    "conf = bionet.Config.from_json('simulation_configLFP.json')"
   ]
  },
  {
   "cell_type": "code",
   "execution_count": 14,
   "id": "d835c800-51a3-4529-9e12-98d769bdf97e",
   "metadata": {},
   "outputs": [
    {
     "name": "stdout",
     "output_type": "stream",
     "text": [
      "2022-06-09 14:34:28,707 [INFO] Created log file\n"
     ]
    }
   ],
   "source": [
    "conf.build_env()"
   ]
  },
  {
   "cell_type": "code",
   "execution_count": 19,
   "id": "5713e114-0f64-4b1b-a33d-ce34355720bb",
   "metadata": {},
   "outputs": [],
   "source": [
    "graph = bionet.BioNetwork.from_config(conf)"
   ]
  },
  {
   "cell_type": "code",
   "execution_count": 22,
   "id": "266cc40e-3a95-47d9-86b6-beaf2667b7f9",
   "metadata": {},
   "outputs": [],
   "source": [
    "from bmtk.builder.networks import NetworkBuilder"
   ]
  },
  {
   "cell_type": "code",
   "execution_count": 23,
   "id": "2250761e-2cbe-4f74-8113-7025598175ab",
   "metadata": {},
   "outputs": [],
   "source": [
    "bgpn = NetworkBuilder('bgpn')\n",
    "bgpn.add_nodes(\n",
    "    N=10,\n",
    "    pop_name='bgpn',\n",
    "    potential='exc',\n",
    "    model_type='virtual'\n",
    ")"
   ]
  },
  {
   "cell_type": "code",
   "execution_count": 27,
   "id": "267c640c-96a7-41be-a707-24ea4753aca9",
   "metadata": {},
   "outputs": [
    {
     "name": "stdout",
     "output_type": "stream",
     "text": [
      "['biophysical']\n"
     ]
    }
   ],
   "source": [
    "print(graph.get_node_set('all').population_names())"
   ]
  },
  {
   "cell_type": "code",
   "execution_count": 9,
   "id": "b7a40cfe-9e59-4efb-95eb-1cb4e1d1b317",
   "metadata": {},
   "outputs": [],
   "source": [
    "pop = graph._node_populations['biophysical']\n",
    "for node in pop.get_nodes():\n",
    "    node._node._node_type_props['morphology'] = node.model_template[1]\n"
   ]
  },
  {
   "cell_type": "code",
   "execution_count": 10,
   "id": "f1b28955-e855-4dbb-8139-b07889367b68",
   "metadata": {},
   "outputs": [],
   "source": [
    "cells = graph.get_local_cells()\n",
    "for cell in cells:\n",
    "    cells[cell].hobj.insert_mechs(cells[cell].gid)\n",
    "    pass"
   ]
  },
  {
   "cell_type": "code",
   "execution_count": 11,
   "id": "b6cd4614-848f-47cf-8325-02069f6feb7c",
   "metadata": {},
   "outputs": [
    {
     "name": "stdout",
     "output_type": "stream",
     "text": [
      "2022-06-09 14:23:15,434 [INFO] Building cells.\n",
      "2022-06-09 14:23:15,722 [INFO] Building recurrent connections\n",
      "2022-06-09 14:23:15,801 [INFO] Building virtual cell stimulations for bgpn\n"
     ]
    }
   ],
   "source": [
    "sim = bionet.BioSimulator.from_config(conf, network=graph)"
   ]
  },
  {
   "cell_type": "code",
   "execution_count": null,
   "id": "cbd59aba-0d96-4e90-bf4c-db1ad250696d",
   "metadata": {},
   "outputs": [],
   "source": [
    "cortex.add_nodes(\n",
    "    cell_name='Scnn1a_473845048',\n",
    "    potental='exc',\n",
    "    model_type='biophysical',\n",
    "    model_template='ctdb:Biophys1.hoc',\n",
    "    model_processing='aibs_perisomatic',\n",
    "    dynamics_params='472363762_fit.json',\n",
    "    morphology='Scnn1a_473845048_m.swc'\n",
    ")"
   ]
  },
  {
   "cell_type": "code",
   "execution_count": null,
   "id": "75d8ce13-1958-4877-a432-7b1b94cb6ef4",
   "metadata": {},
   "outputs": [],
   "source": [
    "thalamus.add_nodes(\n",
    "    N=100,\n",
    "    pop_name='tON',\n",
    "    potential='exc',\n",
    "    model_type='virtual'\n",
    ")"
   ]
  },
  {
   "cell_type": "code",
   "execution_count": 31,
   "id": "3bfd8142-73d4-47a4-806a-855dab402773",
   "metadata": {},
   "outputs": [
    {
     "ename": "AttributeError",
     "evalue": "'DataFrame' object has no attribute 'name'",
     "output_type": "error",
     "traceback": [
      "\u001b[1;31m---------------------------------------------------------------------------\u001b[0m",
      "\u001b[1;31mAttributeError\u001b[0m                            Traceback (most recent call last)",
      "Input \u001b[1;32mIn [31]\u001b[0m, in \u001b[0;36m<cell line: 1>\u001b[1;34m()\u001b[0m\n\u001b[1;32m----> 1\u001b[0m \u001b[43mgraph\u001b[49m\u001b[38;5;241;43m.\u001b[39;49m\u001b[43madd_nodes\u001b[49m\u001b[43m(\u001b[49m\u001b[43mtst\u001b[49m\u001b[43m)\u001b[49m\n",
      "File \u001b[1;32m~\\source\\repos\\CA1_model\\CA1_model_env\\lib\\site-packages\\bmtk\\simulator\\bionet\\bionetwork.py:132\u001b[0m, in \u001b[0;36mBioNetwork.add_nodes\u001b[1;34m(self, node_population)\u001b[0m\n\u001b[0;32m    131\u001b[0m \u001b[38;5;28;01mdef\u001b[39;00m \u001b[38;5;21madd_nodes\u001b[39m(\u001b[38;5;28mself\u001b[39m, node_population):\n\u001b[1;32m--> 132\u001b[0m     \u001b[38;5;28mself\u001b[39m\u001b[38;5;241m.\u001b[39m_gid_pool\u001b[38;5;241m.\u001b[39madd_pool(\u001b[43mnode_population\u001b[49m\u001b[38;5;241;43m.\u001b[39;49m\u001b[43mname\u001b[49m, node_population\u001b[38;5;241m.\u001b[39mn_nodes())\n\u001b[0;32m    133\u001b[0m     \u001b[38;5;28msuper\u001b[39m(BioNetwork, \u001b[38;5;28mself\u001b[39m)\u001b[38;5;241m.\u001b[39madd_nodes(node_population)\n",
      "File \u001b[1;32m~\\source\\repos\\CA1_model\\CA1_model_env\\lib\\site-packages\\pandas\\core\\generic.py:5575\u001b[0m, in \u001b[0;36mNDFrame.__getattr__\u001b[1;34m(self, name)\u001b[0m\n\u001b[0;32m   5568\u001b[0m \u001b[38;5;28;01mif\u001b[39;00m (\n\u001b[0;32m   5569\u001b[0m     name \u001b[38;5;129;01mnot\u001b[39;00m \u001b[38;5;129;01min\u001b[39;00m \u001b[38;5;28mself\u001b[39m\u001b[38;5;241m.\u001b[39m_internal_names_set\n\u001b[0;32m   5570\u001b[0m     \u001b[38;5;129;01mand\u001b[39;00m name \u001b[38;5;129;01mnot\u001b[39;00m \u001b[38;5;129;01min\u001b[39;00m \u001b[38;5;28mself\u001b[39m\u001b[38;5;241m.\u001b[39m_metadata\n\u001b[0;32m   5571\u001b[0m     \u001b[38;5;129;01mand\u001b[39;00m name \u001b[38;5;129;01mnot\u001b[39;00m \u001b[38;5;129;01min\u001b[39;00m \u001b[38;5;28mself\u001b[39m\u001b[38;5;241m.\u001b[39m_accessors\n\u001b[0;32m   5572\u001b[0m     \u001b[38;5;129;01mand\u001b[39;00m \u001b[38;5;28mself\u001b[39m\u001b[38;5;241m.\u001b[39m_info_axis\u001b[38;5;241m.\u001b[39m_can_hold_identifiers_and_holds_name(name)\n\u001b[0;32m   5573\u001b[0m ):\n\u001b[0;32m   5574\u001b[0m     \u001b[38;5;28;01mreturn\u001b[39;00m \u001b[38;5;28mself\u001b[39m[name]\n\u001b[1;32m-> 5575\u001b[0m \u001b[38;5;28;01mreturn\u001b[39;00m \u001b[38;5;28;43mobject\u001b[39;49m\u001b[38;5;241;43m.\u001b[39;49m\u001b[38;5;21;43m__getattribute__\u001b[39;49m\u001b[43m(\u001b[49m\u001b[38;5;28;43mself\u001b[39;49m\u001b[43m,\u001b[49m\u001b[43m \u001b[49m\u001b[43mname\u001b[49m\u001b[43m)\u001b[49m\n",
      "\u001b[1;31mAttributeError\u001b[0m: 'DataFrame' object has no attribute 'name'"
     ]
    }
   ],
   "source": [
    "graph.add_nodes(tst)"
   ]
  },
  {
   "cell_type": "code",
   "execution_count": 20,
   "id": "2d66b838-5bc6-4361-a511-61a9083f3559",
   "metadata": {},
   "outputs": [
    {
     "data": {
      "text/plain": [
       "['__class__',\n",
       " '__delattr__',\n",
       " '__dict__',\n",
       " '__dir__',\n",
       " '__doc__',\n",
       " '__eq__',\n",
       " '__format__',\n",
       " '__ge__',\n",
       " '__getattribute__',\n",
       " '__gt__',\n",
       " '__hash__',\n",
       " '__init__',\n",
       " '__init_subclass__',\n",
       " '__le__',\n",
       " '__lt__',\n",
       " '__module__',\n",
       " '__ne__',\n",
       " '__new__',\n",
       " '__reduce__',\n",
       " '__reduce_ex__',\n",
       " '__repr__',\n",
       " '__setattr__',\n",
       " '__sizeof__',\n",
       " '__str__',\n",
       " '__subclasshook__',\n",
       " '__weakref__',\n",
       " '_build_cell',\n",
       " '_cells_built',\n",
       " '_components',\n",
       " '_connections_initialized',\n",
       " '_edge_adaptors',\n",
       " '_edge_populations',\n",
       " '_gap_juncs',\n",
       " '_gid_pool',\n",
       " '_init_connections',\n",
       " '_io',\n",
       " '_model_type_map',\n",
       " '_morphologies_cache',\n",
       " '_morphology_lookup',\n",
       " '_node_adaptors',\n",
       " '_node_populations',\n",
       " '_node_sets',\n",
       " '_rank_node_gids',\n",
       " '_rank_node_ids',\n",
       " '_rank_nodes_by_model',\n",
       " '_register_adaptors',\n",
       " '_remote_node_cache',\n",
       " '_virtual_nodes',\n",
       " 'add_component',\n",
       " 'add_edges',\n",
       " 'add_node_set',\n",
       " 'add_nodes',\n",
       " 'add_spike_trains',\n",
       " 'build',\n",
       " 'build_nodes',\n",
       " 'build_recurrent_edges',\n",
       " 'build_virtual_connections',\n",
       " 'calc_seg_coords',\n",
       " 'cell_type_maps',\n",
       " 'dL',\n",
       " 'find_edges',\n",
       " 'from_builder',\n",
       " 'from_config',\n",
       " 'from_manifest',\n",
       " 'get_cell_gid',\n",
       " 'get_cell_node_id',\n",
       " 'get_component',\n",
       " 'get_edge_adaptor',\n",
       " 'get_gj_id',\n",
       " 'get_local_cells',\n",
       " 'get_node_adaptor',\n",
       " 'get_node_groups',\n",
       " 'get_node_id',\n",
       " 'get_node_population',\n",
       " 'get_node_populations',\n",
       " 'get_node_set',\n",
       " 'get_node_sets',\n",
       " 'get_virtual_cells',\n",
       " 'gid_pool',\n",
       " 'has_component',\n",
       " 'has_spont_syns',\n",
       " 'io',\n",
       " 'load_gap_junc_files',\n",
       " 'local_gids',\n",
       " 'make_morphologies',\n",
       " 'model_type_col',\n",
       " 'node_populations',\n",
       " 'node_properties',\n",
       " 'py_function_caches',\n",
       " 'recurrent_edges',\n",
       " 'set_seg_props',\n",
       " 'set_spont_syn_activity',\n",
       " 'spike_threshold',\n",
       " 'spont_syns_filter',\n",
       " 'spont_syns_times']"
      ]
     },
     "execution_count": 20,
     "metadata": {},
     "output_type": "execute_result"
    }
   ],
   "source": [
    "dir(graph)"
   ]
  },
  {
   "cell_type": "code",
   "execution_count": 20,
   "id": "f7cd3a4d-aec2-4d30-be18-eb0040cc9366",
   "metadata": {},
   "outputs": [
    {
     "data": {
      "text/plain": [
       "{}"
      ]
     },
     "execution_count": 20,
     "metadata": {},
     "output_type": "execute_result"
    }
   ],
   "source": [
    "graph._virtual_nodes"
   ]
  },
  {
   "cell_type": "code",
   "execution_count": 19,
   "id": "86903b58-bc85-4c45-b58f-686f80b47e7e",
   "metadata": {},
   "outputs": [
    {
     "data": {
      "text/plain": [
       "['__class__',\n",
       " '__delattr__',\n",
       " '__dict__',\n",
       " '__dir__',\n",
       " '__doc__',\n",
       " '__eq__',\n",
       " '__format__',\n",
       " '__ge__',\n",
       " '__getattribute__',\n",
       " '__gt__',\n",
       " '__hash__',\n",
       " '__init__',\n",
       " '__init_subclass__',\n",
       " '__le__',\n",
       " '__lt__',\n",
       " '__module__',\n",
       " '__ne__',\n",
       " '__new__',\n",
       " '__reduce__',\n",
       " '__reduce_ex__',\n",
       " '__repr__',\n",
       " '__setattr__',\n",
       " '__sizeof__',\n",
       " '__str__',\n",
       " '__subclasshook__',\n",
       " '__weakref__',\n",
       " '_build_cell',\n",
       " '_cells_built',\n",
       " '_components',\n",
       " '_connections_initialized',\n",
       " '_edge_adaptors',\n",
       " '_edge_populations',\n",
       " '_gap_juncs',\n",
       " '_gid_pool',\n",
       " '_init_connections',\n",
       " '_io',\n",
       " '_model_type_map',\n",
       " '_morphologies_cache',\n",
       " '_morphology_lookup',\n",
       " '_node_adaptors',\n",
       " '_node_populations',\n",
       " '_node_sets',\n",
       " '_rank_node_gids',\n",
       " '_rank_node_ids',\n",
       " '_rank_nodes_by_model',\n",
       " '_register_adaptors',\n",
       " '_remote_node_cache',\n",
       " '_virtual_nodes',\n",
       " 'add_component',\n",
       " 'add_edges',\n",
       " 'add_node_set',\n",
       " 'add_nodes',\n",
       " 'add_spike_trains',\n",
       " 'build',\n",
       " 'build_nodes',\n",
       " 'build_recurrent_edges',\n",
       " 'build_virtual_connections',\n",
       " 'calc_seg_coords',\n",
       " 'cell_type_maps',\n",
       " 'dL',\n",
       " 'find_edges',\n",
       " 'from_builder',\n",
       " 'from_config',\n",
       " 'from_manifest',\n",
       " 'get_cell_gid',\n",
       " 'get_cell_node_id',\n",
       " 'get_component',\n",
       " 'get_edge_adaptor',\n",
       " 'get_gj_id',\n",
       " 'get_local_cells',\n",
       " 'get_node_adaptor',\n",
       " 'get_node_groups',\n",
       " 'get_node_id',\n",
       " 'get_node_population',\n",
       " 'get_node_populations',\n",
       " 'get_node_set',\n",
       " 'get_node_sets',\n",
       " 'get_virtual_cells',\n",
       " 'gid_pool',\n",
       " 'has_component',\n",
       " 'has_spont_syns',\n",
       " 'io',\n",
       " 'load_gap_junc_files',\n",
       " 'local_gids',\n",
       " 'make_morphologies',\n",
       " 'model_type_col',\n",
       " 'node_populations',\n",
       " 'node_properties',\n",
       " 'py_function_caches',\n",
       " 'recurrent_edges',\n",
       " 'set_seg_props',\n",
       " 'set_spont_syn_activity',\n",
       " 'spike_threshold',\n",
       " 'spont_syns_filter',\n",
       " 'spont_syns_times']"
      ]
     },
     "execution_count": 19,
     "metadata": {},
     "output_type": "execute_result"
    }
   ],
   "source": [
    "dir(graph)"
   ]
  },
  {
   "cell_type": "code",
   "execution_count": 12,
   "id": "f4627b31-9af0-4045-a930-f2273b2d916b",
   "metadata": {},
   "outputs": [
    {
     "data": {
      "text/plain": [
       "['_BioSimulator__elapsed_time',\n",
       " '_BioSimulator__tstep_end_block',\n",
       " '_BioSimulator__tstep_start_block',\n",
       " '__class__',\n",
       " '__delattr__',\n",
       " '__dict__',\n",
       " '__dir__',\n",
       " '__doc__',\n",
       " '__eq__',\n",
       " '__format__',\n",
       " '__ge__',\n",
       " '__getattribute__',\n",
       " '__gt__',\n",
       " '__hash__',\n",
       " '__init__',\n",
       " '__init_subclass__',\n",
       " '__le__',\n",
       " '__lt__',\n",
       " '__module__',\n",
       " '__ne__',\n",
       " '__new__',\n",
       " '__reduce__',\n",
       " '__reduce_ex__',\n",
       " '__repr__',\n",
       " '__setattr__',\n",
       " '__sizeof__',\n",
       " '__str__',\n",
       " '__subclasshook__',\n",
       " '__weakref__',\n",
       " '_cell_variables',\n",
       " '_cell_vars_dir',\n",
       " '_celsius',\n",
       " '_f_iclamps',\n",
       " '_h',\n",
       " '_iclamps',\n",
       " '_log_file',\n",
       " '_nsteps_block',\n",
       " '_output_dir',\n",
       " '_seclamps',\n",
       " '_set_init_conditions',\n",
       " '_sim_mods',\n",
       " '_spikes',\n",
       " '_start_from_state',\n",
       " '_v_init',\n",
       " 'add_mod',\n",
       " 'attach_current_clamp',\n",
       " 'attach_file_current_clamp',\n",
       " 'attach_se_voltage_clamp',\n",
       " 'biophysical_gids',\n",
       " 'cell_var_output',\n",
       " 'cell_variables',\n",
       " 'celsius',\n",
       " 'dt',\n",
       " 'from_config',\n",
       " 'h',\n",
       " 'local_gids',\n",
       " 'n_steps',\n",
       " 'net',\n",
       " 'nsteps',\n",
       " 'nsteps_block',\n",
       " 'post_fadvance',\n",
       " 'report_load_balance',\n",
       " 'run',\n",
       " 'set_spikes_recording',\n",
       " 'simulation_time',\n",
       " 'spikes_table',\n",
       " 'tstart',\n",
       " 'tstep',\n",
       " 'tstep_start_block',\n",
       " 'tstop',\n",
       " 'v_init']"
      ]
     },
     "execution_count": 12,
     "metadata": {},
     "output_type": "execute_result"
    }
   ],
   "source": [
    "dir(sim)"
   ]
  },
  {
   "cell_type": "code",
   "execution_count": 122,
   "id": "682c8140-7d64-403d-8d8d-9eeb36b81030",
   "metadata": {},
   "outputs": [
    {
     "name": "stdout",
     "output_type": "stream",
     "text": [
      "2022-06-09 13:34:27,797 [INFO] Running simulation for 300.000 ms with the time step 0.100 ms\n",
      "2022-06-09 13:34:27,798 [INFO] Starting timestep: 0 at t_sim: 0.000 ms\n",
      "2022-06-09 13:34:27,799 [INFO] Block save every 3000 steps\n"
     ]
    },
    {
     "ename": "ValueError",
     "evalue": "shapes (13,89) and (34,) not aligned: 89 (dim 1) != 34 (dim 0)",
     "output_type": "error",
     "traceback": [
      "\u001b[1;31m---------------------------------------------------------------------------\u001b[0m",
      "\u001b[1;31mValueError\u001b[0m                                Traceback (most recent call last)",
      "File \u001b[1;32m~\\source\\repos\\CA1_model\\CA1_model_env\\lib\\site-packages\\bmtk\\simulator\\bionet\\biosimulator.py:372\u001b[0m, in \u001b[0;36mBioSimulator.post_fadvance\u001b[1;34m(self)\u001b[0m\n\u001b[0;32m    366\u001b[0m \u001b[38;5;124;03m\"\"\"\u001b[39;00m\n\u001b[0;32m    367\u001b[0m \u001b[38;5;124;03mRuns after every execution of fadvance (see advance.hoc)\u001b[39;00m\n\u001b[0;32m    368\u001b[0m \u001b[38;5;124;03mCalled after every time step to perform computation and save data to memory block or to disk.\u001b[39;00m\n\u001b[0;32m    369\u001b[0m \u001b[38;5;124;03mThe initial condition tstep=0 is not being saved \u001b[39;00m\n\u001b[0;32m    370\u001b[0m \u001b[38;5;124;03m\"\"\"\u001b[39;00m\n\u001b[0;32m    371\u001b[0m \u001b[38;5;28;01mfor\u001b[39;00m mod \u001b[38;5;129;01min\u001b[39;00m \u001b[38;5;28mself\u001b[39m\u001b[38;5;241m.\u001b[39m_sim_mods:\n\u001b[1;32m--> 372\u001b[0m     \u001b[43mmod\u001b[49m\u001b[38;5;241;43m.\u001b[39;49m\u001b[43mstep\u001b[49m\u001b[43m(\u001b[49m\u001b[38;5;28;43mself\u001b[39;49m\u001b[43m,\u001b[49m\u001b[43m \u001b[49m\u001b[38;5;28;43mself\u001b[39;49m\u001b[38;5;241;43m.\u001b[39;49m\u001b[43mtstep\u001b[49m\u001b[43m)\u001b[49m\n\u001b[0;32m    374\u001b[0m \u001b[38;5;28mself\u001b[39m\u001b[38;5;241m.\u001b[39mtstep \u001b[38;5;241m+\u001b[39m\u001b[38;5;241m=\u001b[39m \u001b[38;5;241m1\u001b[39m\n\u001b[0;32m    376\u001b[0m \u001b[38;5;28;01mif\u001b[39;00m (\u001b[38;5;28mself\u001b[39m\u001b[38;5;241m.\u001b[39mtstep \u001b[38;5;241m%\u001b[39m \u001b[38;5;28mself\u001b[39m\u001b[38;5;241m.\u001b[39mnsteps_block \u001b[38;5;241m==\u001b[39m \u001b[38;5;241m0\u001b[39m) \u001b[38;5;129;01mor\u001b[39;00m \u001b[38;5;28mself\u001b[39m\u001b[38;5;241m.\u001b[39mtstep \u001b[38;5;241m==\u001b[39m \u001b[38;5;28mself\u001b[39m\u001b[38;5;241m.\u001b[39mnsteps:\n",
      "File \u001b[1;32m~\\source\\repos\\CA1_model\\CA1_model_env\\lib\\site-packages\\bmtk\\simulator\\bionet\\modules\\ecp.py:208\u001b[0m, in \u001b[0;36mEcpMod.step\u001b[1;34m(self, sim, tstep)\u001b[0m\n\u001b[0;32m    206\u001b[0m im \u001b[38;5;241m=\u001b[39m cell\u001b[38;5;241m.\u001b[39mget_im()\n\u001b[0;32m    207\u001b[0m tr \u001b[38;5;241m=\u001b[39m \u001b[38;5;28mself\u001b[39m\u001b[38;5;241m.\u001b[39m_rel\u001b[38;5;241m.\u001b[39mget_transfer_resistance(gid)\n\u001b[1;32m--> 208\u001b[0m ecp \u001b[38;5;241m=\u001b[39m \u001b[43mnp\u001b[49m\u001b[38;5;241;43m.\u001b[39;49m\u001b[43mdot\u001b[49m\u001b[43m(\u001b[49m\u001b[43mtr\u001b[49m\u001b[43m,\u001b[49m\u001b[43m \u001b[49m\u001b[43mim\u001b[49m\u001b[43m)\u001b[49m\n\u001b[0;32m    210\u001b[0m \u001b[38;5;28;01mif\u001b[39;00m gid \u001b[38;5;129;01min\u001b[39;00m \u001b[38;5;28mself\u001b[39m\u001b[38;5;241m.\u001b[39m_saved_gids\u001b[38;5;241m.\u001b[39mkeys():\n\u001b[0;32m    211\u001b[0m     \u001b[38;5;66;03m# save individual contribution\u001b[39;00m\n\u001b[0;32m    212\u001b[0m     \u001b[38;5;28mself\u001b[39m\u001b[38;5;241m.\u001b[39m_saved_gids[gid][\u001b[38;5;28mself\u001b[39m\u001b[38;5;241m.\u001b[39m_block_step, :] \u001b[38;5;241m=\u001b[39m ecp\n",
      "File \u001b[1;32m<__array_function__ internals>:180\u001b[0m, in \u001b[0;36mdot\u001b[1;34m(*args, **kwargs)\u001b[0m\n",
      "\u001b[1;31mValueError\u001b[0m: shapes (13,89) and (34,) not aligned: 89 (dim 1) != 34 (dim 0)"
     ]
    },
    {
     "name": "stderr",
     "output_type": "stream",
     "text": [
      "NEURON: PyObject method call failed: post_fadvance\n",
      " near line 0\n",
      " ^\n",
      "        advance()\n",
      "      step()\n",
      "    continuerun(300)\n",
      "  run(300)\n"
     ]
    },
    {
     "ename": "RuntimeError",
     "evalue": "hoc error",
     "output_type": "error",
     "traceback": [
      "\u001b[1;31m---------------------------------------------------------------------------\u001b[0m",
      "\u001b[1;31mRuntimeError\u001b[0m                              Traceback (most recent call last)",
      "Input \u001b[1;32mIn [122]\u001b[0m, in \u001b[0;36m<cell line: 1>\u001b[1;34m()\u001b[0m\n\u001b[1;32m----> 1\u001b[0m \u001b[43msim\u001b[49m\u001b[38;5;241;43m.\u001b[39;49m\u001b[43mrun\u001b[49m\u001b[43m(\u001b[49m\u001b[43m)\u001b[49m\n",
      "File \u001b[1;32m~\\source\\repos\\CA1_model\\CA1_model_env\\lib\\site-packages\\bmtk\\simulator\\bionet\\biosimulator.py:343\u001b[0m, in \u001b[0;36mBioSimulator.run\u001b[1;34m(self)\u001b[0m\n\u001b[0;32m    341\u001b[0m     h\u001b[38;5;241m.\u001b[39mcontinuerun(h\u001b[38;5;241m.\u001b[39mtstop)\n\u001b[0;32m    342\u001b[0m \u001b[38;5;28;01melse\u001b[39;00m:\n\u001b[1;32m--> 343\u001b[0m     \u001b[43mh\u001b[49m\u001b[38;5;241;43m.\u001b[39;49m\u001b[43mrun\u001b[49m\u001b[43m(\u001b[49m\u001b[43mh\u001b[49m\u001b[38;5;241;43m.\u001b[39;49m\u001b[43mtstop\u001b[49m\u001b[43m)\u001b[49m        \u001b[38;5;66;03m# <- runs simuation: works in parallel\u001b[39;00m\n\u001b[0;32m    345\u001b[0m pc\u001b[38;5;241m.\u001b[39mbarrier()\n\u001b[0;32m    347\u001b[0m \u001b[38;5;28;01mfor\u001b[39;00m mod \u001b[38;5;129;01min\u001b[39;00m \u001b[38;5;28mself\u001b[39m\u001b[38;5;241m.\u001b[39m_sim_mods:\n",
      "\u001b[1;31mRuntimeError\u001b[0m: hoc error"
     ]
    }
   ],
   "source": [
    "sim.run()"
   ]
  },
  {
   "cell_type": "code",
   "execution_count": 14,
   "id": "00800cd8-3512-43fd-9ff9-c2fa1fd8461f",
   "metadata": {},
   "outputs": [
    {
     "data": {
      "text/plain": [
       "['_BioSimulator__elapsed_time',\n",
       " '_BioSimulator__tstep_end_block',\n",
       " '_BioSimulator__tstep_start_block',\n",
       " '__class__',\n",
       " '__delattr__',\n",
       " '__dict__',\n",
       " '__dir__',\n",
       " '__doc__',\n",
       " '__eq__',\n",
       " '__format__',\n",
       " '__ge__',\n",
       " '__getattribute__',\n",
       " '__gt__',\n",
       " '__hash__',\n",
       " '__init__',\n",
       " '__init_subclass__',\n",
       " '__le__',\n",
       " '__lt__',\n",
       " '__module__',\n",
       " '__ne__',\n",
       " '__new__',\n",
       " '__reduce__',\n",
       " '__reduce_ex__',\n",
       " '__repr__',\n",
       " '__setattr__',\n",
       " '__sizeof__',\n",
       " '__str__',\n",
       " '__subclasshook__',\n",
       " '__weakref__',\n",
       " '_cell_variables',\n",
       " '_cell_vars_dir',\n",
       " '_celsius',\n",
       " '_f_iclamps',\n",
       " '_h',\n",
       " '_iclamps',\n",
       " '_log_file',\n",
       " '_nsteps_block',\n",
       " '_output_dir',\n",
       " '_seclamps',\n",
       " '_set_init_conditions',\n",
       " '_sim_mods',\n",
       " '_spikes',\n",
       " '_start_from_state',\n",
       " '_v_init',\n",
       " 'add_mod',\n",
       " 'attach_current_clamp',\n",
       " 'attach_file_current_clamp',\n",
       " 'attach_se_voltage_clamp',\n",
       " 'biophysical_gids',\n",
       " 'cell_var_output',\n",
       " 'cell_variables',\n",
       " 'celsius',\n",
       " 'dt',\n",
       " 'from_config',\n",
       " 'h',\n",
       " 'local_gids',\n",
       " 'n_steps',\n",
       " 'net',\n",
       " 'nsteps',\n",
       " 'nsteps_block',\n",
       " 'post_fadvance',\n",
       " 'report_load_balance',\n",
       " 'run',\n",
       " 'set_spikes_recording',\n",
       " 'simulation_time',\n",
       " 'spikes_table',\n",
       " 'start_time',\n",
       " 'tstart',\n",
       " 'tstep',\n",
       " 'tstep_start_block',\n",
       " 'tstop',\n",
       " 'v_init']"
      ]
     },
     "execution_count": 14,
     "metadata": {},
     "output_type": "execute_result"
    }
   ],
   "source": [
    "dir(sim)"
   ]
  }
 ],
 "metadata": {
  "kernelspec": {
   "display_name": "Python 3",
   "language": "python",
   "name": "python3"
  },
  "language_info": {
   "codemirror_mode": {
    "name": "ipython",
    "version": 3
   },
   "file_extension": ".py",
   "mimetype": "text/x-python",
   "name": "python",
   "nbconvert_exporter": "python",
   "pygments_lexer": "ipython3",
   "version": "3.6.8"
  }
 },
 "nbformat": 4,
 "nbformat_minor": 5
}
