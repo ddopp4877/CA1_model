{
 "cells": [
  {
   "cell_type": "code",
   "execution_count": 1,
   "id": "79215a13-4816-4dda-8292-da71d74543c2",
   "metadata": {},
   "outputs": [],
   "source": [
    "import h5py\n",
    "import os\n",
    "import matplotlib.pyplot as plt\n",
    "import numpy as np\n",
    "import pandas as pd\n"
   ]
  },
  {
   "cell_type": "markdown",
   "id": "11e28390-c2f3-4cef-a6f8-ef56f67c7b1e",
   "metadata": {},
   "source": [
    "# Read all data from the nodes and edges file saved by build_network.py"
   ]
  },
  {
   "cell_type": "code",
   "execution_count": 2,
   "id": "e1bd492c-e2c9-4118-8572-d20bf6092a04",
   "metadata": {},
   "outputs": [],
   "source": [
    "def SaveDataToDF(f):\n",
    "    myData = []\n",
    "    myDataNames = []\n",
    "    def saveDat(item):\n",
    "        if 'Data' in str(f[item].id):\n",
    "            data2use = f[item][()]\n",
    "            if data2use.ndim == 2:#some groups have multiple columns and this messes up the translation to a df at the end of this function\n",
    "                [a,b] = data2use.shape\n",
    "                for col in np.arange(0,b):\n",
    "                    myData.append(data2use[:,col])\n",
    "                    dataName = (f[item].name).split('/')[-1] + str(col)\n",
    "                    myDataNames.append(dataName)\n",
    "            else:\n",
    "                myData.append(f[item][()])\n",
    "                dataName = (f[item].name).split('/')[-1]\n",
    "                myDataNames.append(dataName)\n",
    "        \n",
    "    f.visit(saveDat)\n",
    "    allData = pd.DataFrame(myData).T\n",
    "    allData.columns = myDataNames\n",
    "    f.close()\n",
    "    return allData"
   ]
  },
  {
   "cell_type": "code",
   "execution_count": 3,
   "id": "99bef7d7-8999-4078-afdc-bc2ed07fd2c7",
   "metadata": {},
   "outputs": [],
   "source": [
    "pathname = 'network'"
   ]
  },
  {
   "cell_type": "code",
   "execution_count": 71,
   "id": "a666d5a1-d652-4d67-b0c5-45bf97923ff8",
   "metadata": {},
   "outputs": [],
   "source": [
    "f = h5py.File(os.path.join(pathname,'biophysical_biophysical_edges.h5'), 'r')\n",
    "edgesDF = SaveDataToDF(f) \n",
    "f = h5py.File(os.path.join(pathname,'biophysical_nodes.h5'), 'r')\n",
    "nodesDF = SaveDataToDF(f)"
   ]
  },
  {
   "cell_type": "markdown",
   "id": "07845175-5621-4a36-8358-34c553e8fa86",
   "metadata": {},
   "source": [
    "# using bmtools"
   ]
  },
  {
   "cell_type": "code",
   "execution_count": 9,
   "id": "ec991a0e-03d9-4f9a-b888-40b1dec969a9",
   "metadata": {},
   "outputs": [],
   "source": [
    "cmd = 'bmtools plot --config simulation_configLFP.json positions'"
   ]
  },
  {
   "cell_type": "code",
   "execution_count": 17,
   "id": "1118dc5e-5f58-430b-a8bb-8d1f2b9a84ad",
   "metadata": {},
   "outputs": [],
   "source": [
    "cmd = 'bmtools plot --config simulation_configLFP.json  connection total'"
   ]
  },
  {
   "cell_type": "code",
   "execution_count": 18,
   "id": "ec7f3fbe-0f7d-4d5b-8158-0a557df57e70",
   "metadata": {},
   "outputs": [],
   "source": [
    "cmd = 'bmtools plot --config simulation_configLFP.json  connection --sids pop_name --tids pop_name total'"
   ]
  },
  {
   "cell_type": "code",
   "execution_count": 22,
   "id": "6d29c398-568b-4187-8a0d-dd4ac79c2dd9",
   "metadata": {},
   "outputs": [],
   "source": [
    "node_types = pd.read_csv(os.path.join('network','biophysical_node_types.csv'))"
   ]
  },
  {
   "cell_type": "code",
   "execution_count": 21,
   "id": "1e7639bd-7b69-4631-89e9-7e2143b90726",
   "metadata": {},
   "outputs": [],
   "source": [
    "nodeNames = ['AAC_SO','OLM_SO','PV_SO','Pyr_SP','AAC_SP','PV_SP','AAC_SR','PV_SR']"
   ]
  },
  {
   "cell_type": "code",
   "execution_count": 31,
   "id": "0f3e8e20-b561-4feb-ae4d-7fe42c23913d",
   "metadata": {},
   "outputs": [
    {
     "data": {
      "text/plain": [
       "node_type_id model_template pop_name model_type rotation_angle_zaxis morphology mem_potential    101 hoc:olmcell OLM biophysical 1.570796326794...\n",
       "Name: 1, dtype: object"
      ]
     },
     "execution_count": 31,
     "metadata": {},
     "output_type": "execute_result"
    }
   ],
   "source": [
    "node_types.iloc[1]"
   ]
  },
  {
   "cell_type": "markdown",
   "id": "75f15141-82fe-4c9b-964f-9d5d8481fbe6",
   "metadata": {},
   "source": [
    "# change the node ids to node names"
   ]
  },
  {
   "cell_type": "code",
   "execution_count": 93,
   "id": "3864a7d0-7fca-4867-91aa-66b69c58d2ef",
   "metadata": {},
   "outputs": [],
   "source": [
    "cellLocations = pd.read_csv('cell_locations.csv')\n",
    "idNames = np.unique(nodesDF['node_type_id'])\n",
    "cellNames = np.unique(cellLocations['Cell type'])\n",
    "array = cellLocations['Cell type']\n",
    "idxs = np.unique(cellLocations['Cell type'],return_index=True)[1]\n",
    "cellNames = [array[index] for index in sorted(idxs)]#use the names in the order in which the id's appear\n",
    "nodesDF = nodesDF.replace({'node_type_id':idNames},{'node_type_id':cellNames})"
   ]
  },
  {
   "cell_type": "code",
   "execution_count": null,
   "id": "0b9aafb4-d2ce-4cc8-bbec-a9cfed85cd43",
   "metadata": {},
   "outputs": [],
   "source": [
    "import plotly.express as px\n",
    "fig = px.scatter_3d(nodesDF,x ='positions0', y='positions1', z='positions2',\n",
    "                    color = 'node_type_id',\n",
    "                    opacity = 0.7)\n",
    "fig.update_traces(marker_size = 6)\n",
    "fig.write_html('networkNodes2.html',auto_open=True)"
   ]
  },
  {
   "cell_type": "markdown",
   "id": "8ca9b518-f9f2-4ea6-bc8b-6ba6ac34d88b",
   "metadata": {},
   "source": [
    "# plot nodes edges - wip"
   ]
  },
  {
   "cell_type": "code",
   "execution_count": null,
   "id": "07089378-f71b-4d33-96c4-67b6021ace92",
   "metadata": {},
   "outputs": [],
   "source": [
    "#find the node source id and get its position, then find the destination node id, and get its position\n",
    "#there will be a -1 x 6 array of the source to target connections"
   ]
  },
  {
   "cell_type": "code",
   "execution_count": 315,
   "id": "fa576865-dfa1-4af1-81b4-e7447842020d",
   "metadata": {},
   "outputs": [],
   "source": [
    "xlocofEdgeSource = nodesDF['positions0'][np.array(edgesDF['source_node_id'])]\n",
    "YlocofEdgeSource = nodesDF['positions1'][np.array(edgesDF['source_node_id'])]\n",
    "ZlocofEdgeSource = nodesDF['positions2'][np.array(edgesDF['source_node_id'])]\n",
    "xlocofEdgedest = nodesDF['positions0'][np.array(edgesDF['target_node_id'])]\n",
    "YlocofEdgedest = nodesDF['positions1'][np.array(edgesDF['target_node_id'])]\n",
    "ZlocofEdgedest = nodesDF['positions2'][np.array(edgesDF['target_node_id'])]\n",
    "locsList = [xlocofEdgeSource,YlocofEdgeSource,ZlocofEdgeSource,xlocofEdgedest,YlocofEdgedest,ZlocofEdgedest]\n",
    "locsList = [np.array(item).reshape(1,-1) for item in locsList]\n",
    "df = pd.DataFrame(np.concatenate(locsList)).T\n",
    "fig = px.line_3d(df, x=0, y=1,z=2)\n",
    "fig.write_html('testfig.html',auto_open=True)\n"
   ]
  },
  {
   "cell_type": "code",
   "execution_count": 316,
   "id": "21f1a014-e050-473b-8716-8f37fff0ea1b",
   "metadata": {},
   "outputs": [],
   "source": [
    "source,dest = np.array(edgesDF['source_node_id']),np.array(edgesDF['target_node_id'])\n",
    "pairs = np.vstack((source,dest)).T\n",
    "pairs = pairs.astype(int)\n",
    "X,Y,Z = np.array(nodesDF['positions0']),np.array(nodesDF['positions1']),np.array(nodesDF['positions2'])"
   ]
  },
  {
   "cell_type": "code",
   "execution_count": 317,
   "id": "6ab0eaa4-d8e1-4f1d-8a5f-36ebdcd5bca1",
   "metadata": {},
   "outputs": [],
   "source": [
    "import plotly.graph_objects as go\n",
    "x_lines = []\n",
    "y_lines = []\n",
    "z_lines = []\n",
    "nameList = list(set(nodesDF['node_type_id']))\n",
    "\n",
    "#create the coordinate list for the lines\n",
    "for p in pairs:\n",
    "    for i in range(2):\n",
    "        x_lines.append(X[p[i]])\n",
    "        y_lines.append(Y[p[i]])\n",
    "        z_lines.append(Z[p[i]])\n",
    "    x_lines.append(None)\n",
    "    y_lines.append(None)\n",
    "    z_lines.append(None)\n",
    "\n",
    "trace2 = go.Scatter3d(\n",
    "    x=x_lines,\n",
    "    y=y_lines,\n",
    "    z=z_lines,\n",
    "    mode='lines',\n",
    "    name='lines'\n",
    ")\n",
    "\n",
    "Name2Use = nameList[0]\n",
    "trace1 = go.Scatter3d(\n",
    "    x = np.array(nodesDF[nodesDF['node_type_id'] == Name2Use]['positions0']),\n",
    "    y=np.array(nodesDF[nodesDF['node_type_id'] == Name2Use]['positions1']),\n",
    "    z=np.array(nodesDF[nodesDF['node_type_id'] == Name2Use]['positions2']),\n",
    "    mode='markers',\n",
    "    name = Name2Use\n",
    "    \n",
    ")\n",
    "Name2Use = nameList[1]\n",
    "trace3 = go.Scatter3d(\n",
    "    x = np.array(nodesDF[nodesDF['node_type_id'] == Name2Use]['positions0']),\n",
    "    y=np.array(nodesDF[nodesDF['node_type_id'] == Name2Use]['positions1']),\n",
    "    z=np.array(nodesDF[nodesDF['node_type_id'] == Name2Use]['positions2']),\n",
    "    mode='markers',\n",
    "    name = Name2Use\n",
    "    \n",
    ")\n",
    "Name2Use = nameList[2]\n",
    "trace4 = go.Scatter3d(\n",
    "    x = np.array(nodesDF[nodesDF['node_type_id'] == Name2Use]['positions0']),\n",
    "    y=np.array(nodesDF[nodesDF['node_type_id'] == Name2Use]['positions1']),\n",
    "    z=np.array(nodesDF[nodesDF['node_type_id'] == Name2Use]['positions2']),\n",
    "    mode='markers',\n",
    "    name = Name2Use\n",
    "    \n",
    ")\n",
    "\n",
    "Name2Use = nameList[3]\n",
    "trace5 = go.Scatter3d(\n",
    "    x = np.array(nodesDF[nodesDF['node_type_id'] == Name2Use]['positions0']),\n",
    "    y=np.array(nodesDF[nodesDF['node_type_id'] == Name2Use]['positions1']),\n",
    "    z=np.array(nodesDF[nodesDF['node_type_id'] == Name2Use]['positions2']),\n",
    "    mode='markers',\n",
    "    name = Name2Use\n",
    "    \n",
    ")\n",
    "\n",
    "Name2Use = nameList[4]\n",
    "trace6 = go.Scatter3d(\n",
    "    x = np.array(nodesDF[nodesDF['node_type_id'] == Name2Use]['positions0']),\n",
    "    y=np.array(nodesDF[nodesDF['node_type_id'] == Name2Use]['positions1']),\n",
    "    z=np.array(nodesDF[nodesDF['node_type_id'] == Name2Use]['positions2']),\n",
    "    mode='markers',\n",
    "    name = Name2Use\n",
    "    \n",
    ")\n",
    "\n",
    "Name2Use = nameList[5]\n",
    "trace7 = go.Scatter3d(\n",
    "    x = np.array(nodesDF[nodesDF['node_type_id'] == Name2Use]['positions0']),\n",
    "    y=np.array(nodesDF[nodesDF['node_type_id'] == Name2Use]['positions1']),\n",
    "    z=np.array(nodesDF[nodesDF['node_type_id'] == Name2Use]['positions2']),\n",
    "    mode='markers',\n",
    "    name = Name2Use\n",
    "    \n",
    ")\n",
    "\n",
    "Name2Use = nameList[6]\n",
    "trace8 = go.Scatter3d(\n",
    "    x = np.array(nodesDF[nodesDF['node_type_id'] == Name2Use]['positions0']),\n",
    "    y=np.array(nodesDF[nodesDF['node_type_id'] == Name2Use]['positions1']),\n",
    "    z=np.array(nodesDF[nodesDF['node_type_id'] == Name2Use]['positions2']),\n",
    "    mode='markers',\n",
    "    name = Name2Use\n",
    "    \n",
    ")\n",
    "\n",
    "Name2Use = nameList[7]\n",
    "trace9 = go.Scatter3d(\n",
    "    x = np.array(nodesDF[nodesDF['node_type_id'] == Name2Use]['positions0']),\n",
    "    y=np.array(nodesDF[nodesDF['node_type_id'] == Name2Use]['positions1']),\n",
    "    z=np.array(nodesDF[nodesDF['node_type_id'] == Name2Use]['positions2']),\n",
    "    mode='markers',\n",
    "    name = Name2Use\n",
    "    \n",
    ")\n",
    "\n",
    "\n",
    "\n",
    "figlines = go.Figure(data=[trace1, trace2,trace3,trace4,trace5,trace6,trace7,trace8,trace9])\n"
   ]
  },
  {
   "cell_type": "code",
   "execution_count": 372,
   "id": "a9f89686-fcb3-49e5-9ba6-1ed34ea63060",
   "metadata": {},
   "outputs": [],
   "source": [
    "figlines.write_html('testfig.html',auto_open=True)"
   ]
  },
  {
   "cell_type": "markdown",
   "id": "19d19244-cffe-44d3-ae28-937fd2bdf5fd",
   "metadata": {},
   "source": [
    "### construct adjacency matrix of the directed graph"
   ]
  },
  {
   "cell_type": "code",
   "execution_count": null,
   "id": "706b71d8-b7a6-4580-8a84-04c6f2eeb6a3",
   "metadata": {},
   "outputs": [],
   "source": [
    "# nxn nodeids\n",
    "#each row is the number of outgoing connections to nodeids in the columns"
   ]
  },
  {
   "cell_type": "code",
   "execution_count": 15,
   "id": "11559fc6-e36c-449d-8b7b-f73c5e91036c",
   "metadata": {},
   "outputs": [],
   "source": [
    "targetIDs = np.array(edgesDF['target_node_id'])\n",
    "sourceIDs = np.array(edgesDF['source_node_id'])\n",
    "source2targetIDs = pd.DataFrame(np.vstack((sourceIDs,targetIDs))).T\n",
    "source2targetIDs.columns = ['source','target']\n",
    "df = source2targetIDs\n",
    "nodeArray = np.array(df)# nice to have a df for viewing and array for computing"
   ]
  },
  {
   "cell_type": "code",
   "execution_count": 16,
   "id": "fcca4915-76e6-4b04-bb82-339467406692",
   "metadata": {},
   "outputs": [],
   "source": [
    "#get the counts of source to target"
   ]
  },
  {
   "cell_type": "code",
   "execution_count": 17,
   "id": "55524a81-a230-4e21-b0d9-d1b125a15dc9",
   "metadata": {},
   "outputs": [],
   "source": [
    "IDS = np.arange(0,len(np.unique(df['source'])))\n",
    "adj = np.zeros((len(IDS),len(IDS)))#nxn matrix\n"
   ]
  },
  {
   "cell_type": "code",
   "execution_count": 18,
   "id": "86ff2480-02ab-46f8-8a28-5fb9a355fd0b",
   "metadata": {},
   "outputs": [],
   "source": [
    "for i in range(0,len(IDS)):\n",
    "    idxs = nodeArray[nodeArray[:,0]==i][:,1]#grab the targets for which the source id is i...\n",
    "    #add something for checking unique, or rate of messages, or something to add as the values instead of just 1 for a connection.\n",
    "    adj[i][idxs.astype(int)] = 1#... and place a 1 in that location. ideally this is the count of connections to this target, but for now it is only 1 connection in the model"
   ]
  },
  {
   "cell_type": "code",
   "execution_count": 23,
   "id": "32a80ea6-5d59-4e78-86c7-1fa46c3d79a7",
   "metadata": {},
   "outputs": [],
   "source": [
    "np.save('adjacencyMatrix',adj)"
   ]
  },
  {
   "cell_type": "markdown",
   "id": "4ac56656-9a17-4c83-bcf2-6bd1bd084507",
   "metadata": {},
   "source": [
    "# use the adjacency matrix to calculate summary statistics about the network"
   ]
  },
  {
   "cell_type": "code",
   "execution_count": 7,
   "id": "fe3ab3d1-e9b6-476c-9022-073383b079b6",
   "metadata": {},
   "outputs": [],
   "source": [
    "import networkx as nx"
   ]
  },
  {
   "cell_type": "code",
   "execution_count": 6,
   "id": "468b0e3c-2b04-4e17-becf-72e6a8ad8b93",
   "metadata": {},
   "outputs": [],
   "source": [
    "adj = np.load('adjacencyMatrix.npy')\n",
    "cellLocations = pd.read_csv('cell_locations.csv')\n"
   ]
  },
  {
   "cell_type": "code",
   "execution_count": 131,
   "id": "89415401-b016-41fa-b3e3-4a1c4ab3ad11",
   "metadata": {},
   "outputs": [],
   "source": [
    "#get a list of the layer names in order of \n",
    "layerList = cellLocations['Cell type']\n",
    "idxs = np.unique(cellLocations['Cell type'],return_index=True)[1]\n",
    "layerNames = [array[index] for index in sorted(idxs)]#use the names in the order in which the id's appear\n"
   ]
  },
  {
   "cell_type": "code",
   "execution_count": 68,
   "id": "80b7a71e-de92-4362-b09c-5710e1fcb36e",
   "metadata": {},
   "outputs": [],
   "source": [
    "# first get a df of the cell layers and their index boundaries"
   ]
  },
  {
   "cell_type": "code",
   "execution_count": 41,
   "id": "d080ebfa-d257-435e-8fd2-42abf33baab8",
   "metadata": {},
   "outputs": [],
   "source": [
    "def getSectionBeginEnd(layerNames,name):\n",
    "    group = np.where(layerNames == name)[0]\n",
    "    begin = group[0]\n",
    "    end = group[len(group)-1]\n",
    "    return begin,end"
   ]
  },
  {
   "cell_type": "code",
   "execution_count": 141,
   "id": "7fb645bc-f9a3-4c39-bb6f-82039eeb06a5",
   "metadata": {},
   "outputs": [],
   "source": [
    "starts,ends = [], []\n",
    "\n",
    "nameSet = list(set(layerNames))\n",
    "for name in layerNames:\n",
    "    begin, end = getSectionBeginEnd(layerList,name)\n",
    "    starts.append(begin)\n",
    "    ends.append(end)\n"
   ]
  },
  {
   "cell_type": "code",
   "execution_count": 142,
   "id": "1a06b647-b82d-4e23-a2d3-45dc7169d3f7",
   "metadata": {},
   "outputs": [
    {
     "data": {
      "text/html": [
       "<div>\n",
       "<style scoped>\n",
       "    .dataframe tbody tr th:only-of-type {\n",
       "        vertical-align: middle;\n",
       "    }\n",
       "\n",
       "    .dataframe tbody tr th {\n",
       "        vertical-align: top;\n",
       "    }\n",
       "\n",
       "    .dataframe thead th {\n",
       "        text-align: right;\n",
       "    }\n",
       "</style>\n",
       "<table border=\"1\" class=\"dataframe\">\n",
       "  <thead>\n",
       "    <tr style=\"text-align: right;\">\n",
       "      <th></th>\n",
       "      <th>start</th>\n",
       "      <th>end</th>\n",
       "    </tr>\n",
       "  </thead>\n",
       "  <tbody>\n",
       "    <tr>\n",
       "      <th>AAC in SP layer</th>\n",
       "      <td>0</td>\n",
       "      <td>34</td>\n",
       "    </tr>\n",
       "    <tr>\n",
       "      <th>Pyr in SP layer</th>\n",
       "      <td>35</td>\n",
       "      <td>198</td>\n",
       "    </tr>\n",
       "    <tr>\n",
       "      <th>AAC in SO layer</th>\n",
       "      <td>199</td>\n",
       "      <td>330</td>\n",
       "    </tr>\n",
       "    <tr>\n",
       "      <th>PV in SO layer</th>\n",
       "      <td>331</td>\n",
       "      <td>31480</td>\n",
       "    </tr>\n",
       "    <tr>\n",
       "      <th>OLM in SO layer</th>\n",
       "      <td>31481</td>\n",
       "      <td>31583</td>\n",
       "    </tr>\n",
       "    <tr>\n",
       "      <th>PV in SR layer</th>\n",
       "      <td>31584</td>\n",
       "      <td>31971</td>\n",
       "    </tr>\n",
       "    <tr>\n",
       "      <th>PV in SP layer</th>\n",
       "      <td>31972</td>\n",
       "      <td>31980</td>\n",
       "    </tr>\n",
       "    <tr>\n",
       "      <th>AAC in SR layer</th>\n",
       "      <td>31981</td>\n",
       "      <td>32013</td>\n",
       "    </tr>\n",
       "  </tbody>\n",
       "</table>\n",
       "</div>"
      ],
      "text/plain": [
       "                 start    end\n",
       "AAC in SP layer      0     34\n",
       "Pyr in SP layer     35    198\n",
       "AAC in SO layer    199    330\n",
       "PV in SO layer     331  31480\n",
       "OLM in SO layer  31481  31583\n",
       "PV in SR layer   31584  31971\n",
       "PV in SP layer   31972  31980\n",
       "AAC in SR layer  31981  32013"
      ]
     },
     "execution_count": 142,
     "metadata": {},
     "output_type": "execute_result"
    }
   ],
   "source": [
    "df1 = pd.DataFrame(starts,index = nameSet, columns = ['start'])\n",
    "df2 = pd.DataFrame(ends,index = nameSet, columns = ['end'])\n",
    "layerIdxsDF = pd.concat([df1,df2],axis=1)\n",
    "layerIdxsDF"
   ]
  },
  {
   "cell_type": "code",
   "execution_count": 78,
   "id": "dc819f25-5c8d-43ce-ab69-fe74c9bfcec7",
   "metadata": {},
   "outputs": [],
   "source": [
    "G = nx.from_numpy_array(adj,create_using=nx.DiGraph)#directed graph of the network, recall rows are senders, columns are recievers"
   ]
  },
  {
   "cell_type": "code",
   "execution_count": 237,
   "id": "886fed84-7364-4d4d-b075-07b4dabd2012",
   "metadata": {},
   "outputs": [],
   "source": [
    "def groupSumStats(G,IDS):\n",
    "    out_degree_centrality = nx.group_out_degree_centrality(G,IDS)\n",
    "    in_degree_centrality = nx.group_in_degree_centrality(G,IDS)\n",
    "    clusterDict = nx.clustering(G, IDS)\n",
    "    avgClustering = np.mean([clusterDict[key] for key in clusterDict])\n",
    "    return [in_degree_centrality,out_degree_centrality,avgClustering]"
   ]
  },
  {
   "cell_type": "code",
   "execution_count": 209,
   "id": "78a6d74f-3997-46fa-9c9c-86d6c8e32a59",
   "metadata": {},
   "outputs": [],
   "source": [
    "def calcNetStats(G,layerList,layerNames):\n",
    "    AllStats = []\n",
    "    for name in layerNames:\n",
    "        IDS = np.where(layerList == name)[0]\n",
    "        AllStats.append(groupSumStats(G,IDS))\n",
    "    return AllStats"
   ]
  },
  {
   "cell_type": "code",
   "execution_count": 238,
   "id": "8a649546-0dd7-4331-b792-21a8c568e781",
   "metadata": {},
   "outputs": [],
   "source": [
    "netStats = calcNetStats(G,layerList,layerNames)"
   ]
  },
  {
   "cell_type": "code",
   "execution_count": 221,
   "id": "b7efb770-2f67-4a80-9e29-8cd54a947be0",
   "metadata": {},
   "outputs": [
    {
     "name": "stdout",
     "output_type": "stream",
     "text": [
      "[0, 13732, 4]\n"
     ]
    }
   ],
   "source": []
  },
  {
   "cell_type": "code",
   "execution_count": 242,
   "id": "4097e9b4-1a3e-4adb-8f29-b7a95195b93a",
   "metadata": {},
   "outputs": [],
   "source": [
    "results.to_csv('networkStats.csv')"
   ]
  },
  {
   "cell_type": "code",
   "execution_count": 175,
   "id": "a301421e-9dcd-467e-a0aa-c9702a505b45",
   "metadata": {},
   "outputs": [],
   "source": [
    "# make a dataframe with rows are layer names, and columns with the given metric's summary stats"
   ]
  },
  {
   "cell_type": "code",
   "execution_count": 241,
   "id": "27f83811-c0fa-42b0-a187-b0308d290cd4",
   "metadata": {},
   "outputs": [
    {
     "data": {
      "text/html": [
       "<div>\n",
       "<style scoped>\n",
       "    .dataframe tbody tr th:only-of-type {\n",
       "        vertical-align: middle;\n",
       "    }\n",
       "\n",
       "    .dataframe tbody tr th {\n",
       "        vertical-align: top;\n",
       "    }\n",
       "\n",
       "    .dataframe thead th {\n",
       "        text-align: right;\n",
       "    }\n",
       "</style>\n",
       "<table border=\"1\" class=\"dataframe\">\n",
       "  <thead>\n",
       "    <tr style=\"text-align: right;\">\n",
       "      <th></th>\n",
       "      <th>inDeg_cent</th>\n",
       "      <th>outDeg_cent</th>\n",
       "      <th>avgClustering</th>\n",
       "    </tr>\n",
       "  </thead>\n",
       "  <tbody>\n",
       "    <tr>\n",
       "      <th>AAC in SO layer</th>\n",
       "      <td>0.176178</td>\n",
       "      <td>0.712812</td>\n",
       "      <td>0.002812</td>\n",
       "    </tr>\n",
       "    <tr>\n",
       "      <th>OLM in SO layer</th>\n",
       "      <td>0.977991</td>\n",
       "      <td>0.998619</td>\n",
       "      <td>0.001232</td>\n",
       "    </tr>\n",
       "    <tr>\n",
       "      <th>PV in SO layer</th>\n",
       "      <td>0.817013</td>\n",
       "      <td>0.969418</td>\n",
       "      <td>0.005264</td>\n",
       "    </tr>\n",
       "    <tr>\n",
       "      <th>Pyr in SP layer</th>\n",
       "      <td>1.000000</td>\n",
       "      <td>1.000000</td>\n",
       "      <td>0.057975</td>\n",
       "    </tr>\n",
       "    <tr>\n",
       "      <th>AAC in SP layer</th>\n",
       "      <td>0.450158</td>\n",
       "      <td>0.960014</td>\n",
       "      <td>0.002537</td>\n",
       "    </tr>\n",
       "    <tr>\n",
       "      <th>PV in SP layer</th>\n",
       "      <td>0.986688</td>\n",
       "      <td>0.994720</td>\n",
       "      <td>0.005061</td>\n",
       "    </tr>\n",
       "    <tr>\n",
       "      <th>AAC in SR layer</th>\n",
       "      <td>0.054460</td>\n",
       "      <td>0.290267</td>\n",
       "      <td>0.002830</td>\n",
       "    </tr>\n",
       "    <tr>\n",
       "      <th>PV in SR layer</th>\n",
       "      <td>0.353960</td>\n",
       "      <td>0.608955</td>\n",
       "      <td>0.005015</td>\n",
       "    </tr>\n",
       "  </tbody>\n",
       "</table>\n",
       "</div>"
      ],
      "text/plain": [
       "                 inDeg_cent  outDeg_cent  avgClustering\n",
       "AAC in SO layer    0.176178     0.712812       0.002812\n",
       "OLM in SO layer    0.977991     0.998619       0.001232\n",
       "PV in SO layer     0.817013     0.969418       0.005264\n",
       "Pyr in SP layer    1.000000     1.000000       0.057975\n",
       "AAC in SP layer    0.450158     0.960014       0.002537\n",
       "PV in SP layer     0.986688     0.994720       0.005061\n",
       "AAC in SR layer    0.054460     0.290267       0.002830\n",
       "PV in SR layer     0.353960     0.608955       0.005015"
      ]
     },
     "execution_count": 241,
     "metadata": {},
     "output_type": "execute_result"
    }
   ],
   "source": [
    "\n",
    "netStatNames = [\"inDeg_cent\",\"outDeg_cent\",\"avgClustering\"]\n",
    "results = pd.DataFrame(netStats,columns = netStatNames,index = layerNames)\n",
    "results"
   ]
  },
  {
   "cell_type": "code",
   "execution_count": 240,
   "id": "376ef401-107c-4012-8611-3eb34659bacb",
   "metadata": {},
   "outputs": [
    {
     "name": "stdout",
     "output_type": "stream",
     "text": [
      "[0, 13732, 4]\n"
     ]
    }
   ],
   "source": [
    "#other metrics to explore:\n",
    "print(nx.shortest_path(G, source=0, target=4))"
   ]
  },
  {
   "cell_type": "code",
   "execution_count": 114,
   "id": "986c85a8-0971-417d-a276-8e4a9897f2d6",
   "metadata": {},
   "outputs": [
    {
     "data": {
      "text/plain": [
       "RangeIndex(start=0, stop=1, step=1)"
      ]
     },
     "execution_count": 114,
     "metadata": {},
     "output_type": "execute_result"
    }
   ],
   "source": [
    "test.index"
   ]
  },
  {
   "cell_type": "code",
   "execution_count": null,
   "id": "f60f8eeb-c0b4-4aa5-a618-032bba02bc74",
   "metadata": {},
   "outputs": [],
   "source": [
    "#just get the indices of the layer ranges, and comput the sum stats over that in the adj matrix"
   ]
  },
  {
   "cell_type": "code",
   "execution_count": 42,
   "id": "8cccd2ea-eaac-4c16-98f4-69d4f3902341",
   "metadata": {},
   "outputs": [
    {
     "data": {
      "text/plain": [
       "(array([93], dtype=int64),)"
      ]
     },
     "execution_count": 42,
     "metadata": {},
     "output_type": "execute_result"
    }
   ],
   "source": [
    "np.where(cent==max(cent))"
   ]
  },
  {
   "cell_type": "code",
   "execution_count": 46,
   "id": "60e4b3d6-9fd0-421a-bc3c-52f6f31703c7",
   "metadata": {},
   "outputs": [
    {
     "data": {
      "text/plain": [
       "93    OLM in SO layer\n",
       "Name: node_type_id, dtype: object"
      ]
     },
     "execution_count": 46,
     "metadata": {},
     "output_type": "execute_result"
    }
   ],
   "source": [
    "layerNames[np.where(cent==max(cent))[0]]"
   ]
  },
  {
   "cell_type": "code",
   "execution_count": 43,
   "id": "e1032faf-beed-436f-a65d-14a3f1786448",
   "metadata": {},
   "outputs": [],
   "source": []
  },
  {
   "cell_type": "code",
   "execution_count": 29,
   "id": "66d6f160-4cf1-4cf0-9d0b-92c74361b19b",
   "metadata": {},
   "outputs": [
    {
     "data": {
      "text/plain": [
       "32014"
      ]
     },
     "execution_count": 29,
     "metadata": {},
     "output_type": "execute_result"
    }
   ],
   "source": [
    "adjacencyDF = pd.DataFrame(adj,columns = IDS,index=IDS)"
   ]
  },
  {
   "cell_type": "markdown",
   "id": "e53555f7-12e9-4f8c-bbe6-8c69fcea0515",
   "metadata": {},
   "source": [
    "import h5py\n",
    "import os\n",
    "import matplotlib.pyplot as plt\n",
    "import numpy as np\n",
    "import pandas as pd# model output results"
   ]
  },
  {
   "cell_type": "code",
   "execution_count": 125,
   "id": "ef4ceb3c-c141-4c8d-8388-ae1704bbb3af",
   "metadata": {},
   "outputs": [],
   "source": [
    "f = h5py.File(os.path.join('output','spikes.h5'), 'r')\n",
    "spikesDF = SaveDataToDF(f) "
   ]
  },
  {
   "cell_type": "code",
   "execution_count": 126,
   "id": "df4a1653-aaab-4a8e-b5d0-c5ef768bfe6b",
   "metadata": {},
   "outputs": [],
   "source": [
    "f = h5py.File(os.path.join('output','v_report.h5'), 'r')\n",
    "traces = f['report/biophysical/data'][()]\n",
    "f.close()"
   ]
  },
  {
   "cell_type": "code",
   "execution_count": 134,
   "id": "9728bc78-0a11-42c2-8aa5-18882bd1f035",
   "metadata": {},
   "outputs": [
    {
     "data": {
      "text/plain": [
       "array([   1, 1519, 2918])"
      ]
     },
     "execution_count": 134,
     "metadata": {},
     "output_type": "execute_result"
    }
   ],
   "source": [
    "spikingCellIDs"
   ]
  },
  {
   "cell_type": "code",
   "execution_count": 141,
   "id": "081e212a-a30c-476b-bcd9-3f91d4eebfe3",
   "metadata": {},
   "outputs": [
    {
     "data": {
      "text/html": [
       "<div>\n",
       "<style scoped>\n",
       "    .dataframe tbody tr th:only-of-type {\n",
       "        vertical-align: middle;\n",
       "    }\n",
       "\n",
       "    .dataframe tbody tr th {\n",
       "        vertical-align: top;\n",
       "    }\n",
       "\n",
       "    .dataframe thead th {\n",
       "        text-align: right;\n",
       "    }\n",
       "</style>\n",
       "<table border=\"1\" class=\"dataframe\">\n",
       "  <thead>\n",
       "    <tr style=\"text-align: right;\">\n",
       "      <th></th>\n",
       "      <th>node_ids</th>\n",
       "      <th>timestamps</th>\n",
       "    </tr>\n",
       "  </thead>\n",
       "  <tbody>\n",
       "    <tr>\n",
       "      <th>0</th>\n",
       "      <td>1.0</td>\n",
       "      <td>115.3</td>\n",
       "    </tr>\n",
       "    <tr>\n",
       "      <th>1</th>\n",
       "      <td>1519.0</td>\n",
       "      <td>122.3</td>\n",
       "    </tr>\n",
       "    <tr>\n",
       "      <th>2</th>\n",
       "      <td>1519.0</td>\n",
       "      <td>160.6</td>\n",
       "    </tr>\n",
       "    <tr>\n",
       "      <th>3</th>\n",
       "      <td>2918.0</td>\n",
       "      <td>122.5</td>\n",
       "    </tr>\n",
       "    <tr>\n",
       "      <th>4</th>\n",
       "      <td>2918.0</td>\n",
       "      <td>160.8</td>\n",
       "    </tr>\n",
       "  </tbody>\n",
       "</table>\n",
       "</div>"
      ],
      "text/plain": [
       "   node_ids  timestamps\n",
       "0       1.0       115.3\n",
       "1    1519.0       122.3\n",
       "2    1519.0       160.6\n",
       "3    2918.0       122.5\n",
       "4    2918.0       160.8"
      ]
     },
     "execution_count": 141,
     "metadata": {},
     "output_type": "execute_result"
    }
   ],
   "source": [
    "spikesDF"
   ]
  },
  {
   "cell_type": "code",
   "execution_count": 138,
   "id": "acab7c7a-dce4-4e19-a59b-ec15fd2b1af2",
   "metadata": {},
   "outputs": [
    {
     "data": {
      "text/plain": [
       "[<matplotlib.lines.Line2D at 0x2b5b2f6e4a90>]"
      ]
     },
     "execution_count": 138,
     "metadata": {},
     "output_type": "execute_result"
    },
    {
     "data": {
      "image/png": "[encoded data removed]",
      "text/plain": [
       "<Figure size 432x288 with 1 Axes>"
      ]
     },
     "metadata": {
      "needs_background": "light"
     },
     "output_type": "display_data"
    }
   ],
   "source": [
    "plt.plot(traces[:,1519])"
   ]
  },
  {
   "cell_type": "code",
   "execution_count": 135,
   "id": "515c4f78-6235-4326-8390-fe5729d0b813",
   "metadata": {},
   "outputs": [
    {
     "data": {
      "text/plain": [
       "0"
      ]
     },
     "execution_count": 135,
     "metadata": {},
     "output_type": "execute_result"
    }
   ],
   "source": [
    "spikesDF['node_ids'][spikesDF['node_ids'] == 1].keys()[0]"
   ]
  },
  {
   "cell_type": "code",
   "execution_count": 144,
   "id": "e35eb0ed-5a97-4d3f-9a42-a6e3b6490f30",
   "metadata": {},
   "outputs": [
    {
     "data": {
      "text/plain": [
       "array([   1, 1519, 2918])"
      ]
     },
     "execution_count": 144,
     "metadata": {},
     "output_type": "execute_result"
    }
   ],
   "source": [
    "spikingCellIDs = np.unique(np.array(spikesDF['node_ids'],dtype=int))\n",
    "spikingCellIDs"
   ]
  },
  {
   "cell_type": "code",
   "execution_count": 128,
   "id": "f3db7356-d098-4d54-96cc-a78421f6c24d",
   "metadata": {},
   "outputs": [
    {
     "name": "stdout",
     "output_type": "stream",
     "text": [
      "[   1 1519 2918]\n"
     ]
    },
    {
     "data": {
      "image/png": "[encoded data removed]",
      "text/plain": [
       "<Figure size 360x360 with 3 Axes>"
      ]
     },
     "metadata": {
      "needs_background": "light"
     },
     "output_type": "display_data"
    }
   ],
   "source": [
    "spikingCellIDs = np.unique(np.array(spikesDF['node_ids'],dtype=int))\n",
    "if len(spikingCellIDs) <=1:\n",
    "    print('only 1 spiking cell')\n",
    "    plt.plot(traces)\n",
    "else:\n",
    "    \n",
    "    fig,ax = plt.subplots(len(spikingCellIDs),figsize=(5,5))\n",
    "    i = 0\n",
    "    for cell in spikingCellIDs:\n",
    "        ax[i].plot(traces[:,cell])\n",
    "        i+=1\n",
    "    print(spikingCellIDs)\n"
   ]
  },
  {
   "cell_type": "markdown",
   "id": "db543e61-52ae-49d7-ae37-75640e8ffc4f",
   "metadata": {},
   "source": [
    "# ECP plotting"
   ]
  },
  {
   "cell_type": "code",
   "execution_count": 286,
   "id": "2dc88d0e-23de-42a1-b30f-9bd6e84ccaae",
   "metadata": {},
   "outputs": [],
   "source": [
    "f = h5py.File('output/ecp.h5', 'r')\n",
    "data = f['ecp/data'][()]\n",
    "time = f['ecp/time'][()]\n",
    "f.close()"
   ]
  },
  {
   "cell_type": "code",
   "execution_count": 292,
   "id": "13e09459-5045-4cbb-8b02-a6f0996d6c06",
   "metadata": {},
   "outputs": [
    {
     "data": {
      "image/png": "[encoded data removed]",
      "text/plain": [
       "<Figure size 1440x360 with 1 Axes>"
      ]
     },
     "metadata": {
      "needs_background": "light"
     },
     "output_type": "display_data"
    }
   ],
   "source": [
    "start,end = 1000, 1500\n",
    "plt.figure(figsize=(20,5))\n",
    "plt.plot(np.arange(time[0],time[1],time[2])[start:end],data[start:end])\n",
    "plt.xlabel('ms')\n",
    "plt.ylabel('voltage(?)')\n",
    "#plt.savefig('ecp.png',dpi=400,background='w')\n",
    "plt.show()"
   ]
  },
  {
   "cell_type": "code",
   "execution_count": 14,
   "id": "7f4623eb-7778-4bf9-942c-2165c8ced689",
   "metadata": {},
   "outputs": [],
   "source": [
    "vclampfile = np.ones((3000))*-63\n",
    "np.save(\"vclamp_input_file.csv\",vclampfile)"
   ]
  },
  {
   "cell_type": "code",
   "execution_count": 22,
   "id": "052732e3-342e-4008-bcb4-cc139ec223fd",
   "metadata": {},
   "outputs": [],
   "source": [
    "from scipy import signal"
   ]
  },
  {
   "cell_type": "code",
   "execution_count": 23,
   "id": "383ae5b1-fa98-49f4-826c-7c5d4b72f454",
   "metadata": {},
   "outputs": [
    {
     "data": {
      "image/png": "[encoded data removed]",
      "text/plain": [
       "<Figure size 1080x360 with 1 Axes>"
      ]
     },
     "metadata": {
      "needs_background": "light"
     },
     "output_type": "display_data"
    }
   ],
   "source": [
    "fs = 10000 \n",
    "f, Pxx_den = signal.periodogram(data[:,8], fs)\n",
    "plt.figure(figsize=(15,5))\n",
    "plt.semilogy(f, Pxx_den)\n",
    "plt.xlim([0,500])\n",
    "#plt.ylim([10e-10,10-4])\n",
    "plt.show()"
   ]
  },
  {
   "cell_type": "code",
   "execution_count": 24,
   "id": "e3de6f6b-01b5-4d90-af3d-fc9fb98792ca",
   "metadata": {},
   "outputs": [
    {
     "data": {
      "image/png": "[encoded data removed]",
      "text/plain": [
       "<Figure size 1080x360 with 1 Axes>"
      ]
     },
     "metadata": {
      "needs_background": "light"
     },
     "output_type": "display_data"
    }
   ],
   "source": [
    "plt.figure(figsize=(15,5))\n",
    "Pxx,freqs = plt.psd(data,NFFT = fs,noverlap=True)"
   ]
  },
  {
   "cell_type": "code",
   "execution_count": 172,
   "id": "f6a62a6b-be92-4007-ad9a-131fdb95a340",
   "metadata": {},
   "outputs": [],
   "source": [
    "f = h5py.File(os.path.join('output','spikes.h5'), 'r')\n",
    "spikesDF = SaveDataToDF(f) "
   ]
  },
  {
   "cell_type": "code",
   "execution_count": 173,
   "id": "bb4cc7cd-b26d-44be-84ea-f1e56cba00ee",
   "metadata": {},
   "outputs": [
    {
     "data": {
      "text/plain": [
       "array(['AAC in SO layer', 'Pyr in SP layer'], dtype=object)"
      ]
     },
     "execution_count": 173,
     "metadata": {},
     "output_type": "execute_result"
    }
   ],
   "source": [
    "np.unique(nodesDF['node_type_id'][spikingCellIDs])"
   ]
  },
  {
   "cell_type": "code",
   "execution_count": null,
   "id": "c4b6dc42-6083-4896-ab5f-f02475933442",
   "metadata": {},
   "outputs": [],
   "source": [
    "f = h5py.File(os.path.join('output','spikes.h5'), 'r')"
   ]
  },
  {
   "cell_type": "code",
   "execution_count": 269,
   "id": "0572b90d-c4b6-4baf-94ed-1c9e2d9c6140",
   "metadata": {},
   "outputs": [],
   "source": [
    "f = h5py.File(os.path.join('output','voltage_clamp.h5'), 'r')\n",
    "vclampDat = SaveDataToDF(f)"
   ]
  },
  {
   "cell_type": "code",
   "execution_count": 270,
   "id": "4ff142f7-2afb-432a-8e7c-b163bfeb3a86",
   "metadata": {},
   "outputs": [
    {
     "data": {
      "text/plain": [
       "[<matplotlib.lines.Line2D at 0x2b8bbad264e0>]"
      ]
     },
     "execution_count": 270,
     "metadata": {},
     "output_type": "execute_result"
    },
    {
     "data": {
      "image/png": "[encoded data removed]",
      "text/plain": [
       "<Figure size 432x288 with 1 Axes>"
      ]
     },
     "metadata": {
      "needs_background": "light"
     },
     "output_type": "display_data"
    }
   ],
   "source": [
    "plt.plot(vclampDat['data0'][1000:3000])"
   ]
  },
  {
   "cell_type": "markdown",
   "id": "a500d445-6833-48cd-ad1a-55dba01d8b47",
   "metadata": {},
   "source": [
    "# plot individual voltage responses"
   ]
  },
  {
   "cell_type": "code",
   "execution_count": 280,
   "id": "159a3f4b-994a-422b-90bf-e66f6ccf99e2",
   "metadata": {},
   "outputs": [
    {
     "name": "stdout",
     "output_type": "stream",
     "text": [
      "[   2    3   47   66   81   82   99  101  120  148  156  185  287  298\n",
      "  305  312  326  336  358  385  420  430  456  460  480  488  495  509\n",
      "  518  531  536  541  562  565  596  612  616  624  642  674  704  712\n",
      "  732  738  752  764  789  826  832  834  836  840  841  842  849  865\n",
      "  889  898  900  976 1030 1115 1118 1122 1131 1138 1140 1141 1184 1186\n",
      " 1194 1199 1214 1252 1263 1266 1312 1337 1353 1361 1372 1394 1403 1416\n",
      " 1429 1453 1455 1476 1500 1512 1545 1557 1569 1603 1615 1633 1642 1646\n",
      " 1650 1651 1658 1674 1681 1709 1730 1792 1795 1808 1817 1825 1841 1847\n",
      " 1859 1868 1924 1928 1966 1985 2051 2056 2082 2095 2119 2129 2148 2149\n",
      " 2214 2222 2233 2271 2284 2296 2309 2320 2329 2332 2333 2334 2338 2394\n",
      " 2417 2425 2435 2450 2461 2467 2472 2493 2505 2569 2570 2573 2611 2616\n",
      " 2623 2628 2647 2648 2668 2681 2696 2730 2736 2740 2747 2767 2771 2775\n",
      " 2805 2815 2819 2885 2899 2900 2901 2903 2906 2948 2955 2963 2976 3001\n",
      " 3019 3035 3037 3062 3118 3138 3155 3164 3169 3183 3199 3244 3246 3255\n",
      " 3267 3275 3290 3317 3405 3424 3491 3500 3510 3523 3548 3570 3572 3580\n",
      " 3596 3618 3626 3640 3650 3652 3722 3732 3757 3777 3810 3818 3858 3887\n",
      " 3925 3931 3955 3993 3995 4056 4057 4074 4104 4105 4125 4144 4187 4207\n",
      " 4219 4244 4276 4301 4314 4322 4324 4360 4366 4385 4412 4417 4422 4439\n",
      " 4442 4456 4464 4475 4491 4492]\n",
      "258\n"
     ]
    }
   ],
   "source": [
    "f = h5py.File(os.path.join(\"output\",'v_report.h5'), 'r')\n",
    "vreports = SaveDataToDF(f)\n",
    "\n",
    "f = h5py.File(os.path.join('network','biophysical_nodes.h5'), 'r')\n",
    "nodesDF = SaveDataToDF(f)\n",
    "f = h5py.File(os.path.join('output','spikes.h5'), 'r')\n",
    "spikesDF = SaveDataToDF(f) \n",
    "\n",
    "f = h5py.File(os.path.join(\"output\",'v_report_axon.h5'), 'r')\n",
    "axonsDF = SaveDataToDF(f)\n",
    "\n",
    "\n",
    "spikingCellIDs = np.unique(np.array(spikesDF['node_ids'],dtype=int))\n",
    "print(spikingCellIDs)\n",
    "print(len(spikingCellIDs))\n",
    "\n",
    "\n",
    "cellLocations = pd.read_csv('cell_locations.csv')\n",
    "idNames = np.unique(nodesDF['node_type_id'])\n",
    "cellNames = np.unique(cellLocations['Cell type'])\n",
    "array = cellLocations['Cell type']\n",
    "idxs = np.unique(cellLocations['Cell type'],return_index=True)[1]\n",
    "cellNames = [array[index] for index in sorted(idxs)]#use the names in the order in which the id's appear\n",
    "\n",
    "nodesDF = nodesDF.replace({'node_type_id':idNames},{'node_type_id':cellNames})"
   ]
  },
  {
   "cell_type": "code",
   "execution_count": 273,
   "id": "111e985c-a9a1-4e9f-b7d3-61b5812e2604",
   "metadata": {},
   "outputs": [
    {
     "data": {
      "text/plain": [
       "['AAC in SO layer',\n",
       " 'OLM in SO layer',\n",
       " 'PV in SO layer',\n",
       " 'Pyr in SP layer',\n",
       " 'AAC in SP layer',\n",
       " 'PV in SP layer',\n",
       " 'AAC in SR layer',\n",
       " 'PV in SR layer']"
      ]
     },
     "execution_count": 273,
     "metadata": {},
     "output_type": "execute_result"
    }
   ],
   "source": [
    "cellNames"
   ]
  },
  {
   "cell_type": "code",
   "execution_count": 281,
   "id": "26765b58-2136-49cf-af7b-4b07335e71cd",
   "metadata": {},
   "outputs": [],
   "source": [
    "simTime = np.arange(0,300,0.1)"
   ]
  },
  {
   "cell_type": "code",
   "execution_count": 285,
   "id": "4fb0a5c6-2930-4730-8429-681dbae7853c",
   "metadata": {},
   "outputs": [
    {
     "data": {
      "image/png": "[encoded data removed]",
      "text/plain": [
       "<Figure size 432x288 with 1 Axes>"
      ]
     },
     "metadata": {
      "needs_background": "light"
     },
     "output_type": "display_data"
    }
   ],
   "source": [
    "gids = [3290]\n",
    "for gid in gids:\n",
    "    cellNo = vreports['node_ids'][vreports['node_ids'] == gid].keys()[0]\n",
    "    name = nodesDF['node_type_id'][vreports['node_ids'][cellNo]]\n",
    "    plt.plot(simTime,vreports['data'+str(cellNo)][vreports['data'+str(cellNo)].isna()==False],label = name+'_'+str(gid))\n",
    "\n",
    "\n",
    "plt.legend()\n",
    "plt.show()"
   ]
  },
  {
   "cell_type": "code",
   "execution_count": 93,
   "id": "c9320b8a-7b99-493a-92fe-b0a06313bcf5",
   "metadata": {},
   "outputs": [],
   "source": [
    "f = h5py.File(os.path.join(\"output\",'v_report_axon.h5'), 'r')\n",
    "vreportsA = SaveDataToDF(f)"
   ]
  },
  {
   "cell_type": "code",
   "execution_count": 28,
   "id": "ced66699-9e86-4cac-8618-524e116df8c6",
   "metadata": {},
   "outputs": [],
   "source": [
    "f = h5py.File(os.path.join('network','biophysical_biophysical_edges.h5'), 'r')\n",
    "sourceID = f['edges/biophysical_to_biophysical/source_node_id'][()]\n",
    "targetID = f['edges/biophysical_to_biophysical/target_node_id'][()]\n",
    "f.close()"
   ]
  },
  {
   "cell_type": "code",
   "execution_count": 30,
   "id": "e4db4cbd-4827-4223-ba22-23ba3c8e5c9b",
   "metadata": {},
   "outputs": [
    {
     "data": {
      "text/plain": [
       "array([   74,   137,   235,   241,   421,   875,  1216,  1224,  1623,\n",
       "        1840,  2359,  2598,  2841,  2878,  3506,  3750,  4065,  4097,\n",
       "        4139,  4162,  4263,  4268,  4382,  4415,  4616,  4769,  5041,\n",
       "        5221,  5549,  5631,  5680,  5821,  6303,  6680,  6696,  7306,\n",
       "        7426,  7521,  8148,  8520,  8523,  8736,  8786,  9018,  9145,\n",
       "        9245,  9387,  9409,  9646,  9728, 10077, 10157, 10172, 10229,\n",
       "       10234, 10313, 10329, 11009, 11772, 11903, 12005, 12079, 12580,\n",
       "       13603, 13644, 14016, 14506, 14661, 15247, 15362, 16081, 16138,\n",
       "       17164, 17301, 17303, 17362, 17402, 17783, 18228, 18361, 18428,\n",
       "       19258, 19345, 19402, 19766, 19786,    26,    28,    31, 20043,\n",
       "       20045, 20055, 20067, 20070, 20072, 20077], dtype=uint64)"
      ]
     },
     "execution_count": 30,
     "metadata": {},
     "output_type": "execute_result"
    }
   ],
   "source": [
    "sourceID[targetID == 1]"
   ]
  },
  {
   "cell_type": "code",
   "execution_count": 146,
   "id": "9447a5ca-65dc-4c01-9644-c2d9786c47af",
   "metadata": {},
   "outputs": [],
   "source": [
    "f = h5py.File(os.path.join(\"output\",'v_report_axon.h5'), 'r')\n",
    "res = f['report/biophysical/data'][()]\n",
    "f.close()\n",
    "allStuff = []\n",
    "for i in range(1,11):\n",
    "    allStuff.append(res[:,i])"
   ]
  },
  {
   "cell_type": "code",
   "execution_count": 147,
   "id": "394da72e-8828-4a21-9fe7-6ff86d6a3ad5",
   "metadata": {},
   "outputs": [],
   "source": [
    "allStuff = np.concatenate(allStuff)"
   ]
  },
  {
   "cell_type": "code",
   "execution_count": 148,
   "id": "b5d2ac0b-afed-4cf8-93f6-d285ac3b59b1",
   "metadata": {},
   "outputs": [
    {
     "data": {
      "image/png": "[encoded data removed]",
      "text/plain": [
       "<Figure size 432x288 with 1 Axes>"
      ]
     },
     "metadata": {
      "needs_background": "light"
     },
     "output_type": "display_data"
    }
   ],
   "source": [
    "plt.plot(allStuff)\n",
    "plt.show()"
   ]
  },
  {
   "cell_type": "code",
   "execution_count": 289,
   "id": "be1c366c-c176-4369-8103-288482f962e4",
   "metadata": {},
   "outputs": [
    {
     "name": "stdout",
     "output_type": "stream",
     "text": [
      "Pyr in SP layer\n",
      "3698\n"
     ]
    },
    {
     "data": {
      "image/png": "[encoded data removed]",
      "text/plain": [
       "<Figure size 1080x720 with 1 Axes>"
      ]
     },
     "metadata": {
      "needs_background": "light"
     },
     "output_type": "display_data"
    }
   ],
   "source": [
    "gid = 3290\n",
    "plt.figure(figsize=(15,10))\n",
    "cellNo = vreports['node_ids'][vreports['node_ids'] == gid].keys()[0]\n",
    "plt.plot(simTime,vreports['data'+str(cellNo)][vreports['data'+str(cellNo)].isna()==False],label='soma')\n",
    "#plt.plot(simTime,axonsDF['data6'][axonsDF['data6'].isna()==False],label='axon')\n",
    "plt.legend()\n",
    "plt.ylim([-80,60])\n",
    "print(nodesDF['node_type_id'][vreports['node_ids'][cellNo]])\n",
    "print(cellNo)"
   ]
  },
  {
   "cell_type": "markdown",
   "id": "b87b85f6-a28c-43d4-895b-5f49b28a2e4e",
   "metadata": {},
   "source": [
    "### Connectivity"
   ]
  },
  {
   "cell_type": "code",
   "execution_count": 290,
   "id": "f6c422f8-acb0-431d-bd15-cb4e2c6769ef",
   "metadata": {},
   "outputs": [],
   "source": [
    "f = h5py.File(os.path.join('updated_conns','biophysical_biophysical_edges.h5'), 'r')\n",
    "synsDF = SaveDataToDF(f) "
   ]
  },
  {
   "cell_type": "code",
   "execution_count": 291,
   "id": "5ed082ca-ad40-42b2-b570-42a0a487988a",
   "metadata": {},
   "outputs": [
    {
     "data": {
      "text/plain": [
       "source           target         \n",
       "AAC in SO layer  Pyr in SP layer     688\n",
       "AAC in SP layer  Pyr in SP layer    2737\n",
       "AAC in SR layer  Pyr in SP layer     173\n",
       "OLM in SO layer  AAC in SO layer       4\n",
       "                 AAC in SP layer      28\n",
       "                 AAC in SR layer       1\n",
       "                 OLM in SO layer      18\n",
       "                 PV in SO layer       20\n",
       "                 PV in SP layer       61\n",
       "                 PV in SR layer        4\n",
       "                 Pyr in SP layer    4785\n",
       "PV in SO layer   AAC in SO layer       6\n",
       "                 AAC in SP layer      18\n",
       "                 AAC in SR layer       4\n",
       "                 PV in SO layer       33\n",
       "                 PV in SP layer       94\n",
       "                 PV in SR layer        4\n",
       "                 Pyr in SP layer    2521\n",
       "PV in SP layer   AAC in SO layer      18\n",
       "                 AAC in SP layer      72\n",
       "                 AAC in SR layer       5\n",
       "                 PV in SO layer       79\n",
       "                 PV in SP layer      280\n",
       "                 PV in SR layer       14\n",
       "                 Pyr in SP layer    8059\n",
       "PV in SR layer   AAC in SO layer       1\n",
       "                 AAC in SP layer       5\n",
       "                 PV in SO layer        5\n",
       "                 PV in SP layer       15\n",
       "                 PV in SR layer        3\n",
       "                 Pyr in SP layer     522\n",
       "Pyr in SP layer  AAC in SO layer     104\n",
       "                 AAC in SP layer     381\n",
       "                 AAC in SR layer      19\n",
       "                 OLM in SO layer    7485\n",
       "                 PV in SO layer     1115\n",
       "                 PV in SP layer     3471\n",
       "                 PV in SR layer      241\n",
       "dtype: int64"
      ]
     },
     "execution_count": 291,
     "metadata": {},
     "output_type": "execute_result"
    }
   ],
   "source": [
    "conns = pd.concat([pd.DataFrame(np.array(nodesDF['node_type_id'][synsDF['source_node_id']])), pd.DataFrame(np.array(nodesDF['node_type_id'][synsDF['target_node_id']]))],axis=1)\n",
    "conns.columns = ['source','target']\n",
    "groupConns = conns.groupby(['source','target']).apply(len)\n",
    "groupConns"
   ]
  },
  {
   "cell_type": "code",
   "execution_count": 246,
   "id": "34031faa-f914-481e-ae74-5ed1193ae9cd",
   "metadata": {},
   "outputs": [
    {
     "data": {
      "text/plain": [
       "['AAC in SO layer',\n",
       " 'OLM in SO layer',\n",
       " 'PV in SO layer',\n",
       " 'Pyr in SP layer',\n",
       " 'AAC in SP layer',\n",
       " 'PV in SP layer',\n",
       " 'AAC in SR layer',\n",
       " 'PV in SR layer']"
      ]
     },
     "execution_count": 246,
     "metadata": {},
     "output_type": "execute_result"
    }
   ],
   "source": [
    "cellNames"
   ]
  },
  {
   "cell_type": "code",
   "execution_count": 251,
   "id": "7e80c16f-790a-458a-9c7b-106533a9d067",
   "metadata": {},
   "outputs": [
    {
     "data": {
      "text/plain": [
       "494"
      ]
     },
     "execution_count": 251,
     "metadata": {},
     "output_type": "execute_result"
    }
   ],
   "source": [
    "sum(conns['source']=='AAC in SO layer')"
   ]
  },
  {
   "cell_type": "code",
   "execution_count": 252,
   "id": "a14b2c84-7fb1-4c5c-9b8a-b98b0738a719",
   "metadata": {},
   "outputs": [
    {
     "data": {
      "text/plain": [
       "0"
      ]
     },
     "execution_count": 252,
     "metadata": {},
     "output_type": "execute_result"
    }
   ],
   "source": [
    "sum(conns['source']=='AAC in SP layer')"
   ]
  },
  {
   "cell_type": "code",
   "execution_count": 69,
   "id": "99beda95-bbb8-46d2-b463-62d0d3fdcb2d",
   "metadata": {},
   "outputs": [
    {
     "data": {
      "text/plain": [
       "214     Pyr in SP layer\n",
       "422     Pyr in SP layer\n",
       "426     Pyr in SP layer\n",
       "483     Pyr in SP layer\n",
       "798     Pyr in SP layer\n",
       "854     Pyr in SP layer\n",
       "902     Pyr in SP layer\n",
       "1280    Pyr in SP layer\n",
       "1384    Pyr in SP layer\n",
       "1422    Pyr in SP layer\n",
       "1931    Pyr in SP layer\n",
       "1978    Pyr in SP layer\n",
       "2045    Pyr in SP layer\n",
       "2272    Pyr in SP layer\n",
       "2651    Pyr in SP layer\n",
       "2707    Pyr in SP layer\n",
       "2845    Pyr in SP layer\n",
       "28       PV in SO layer\n",
       "29       PV in SO layer\n",
       "3160     PV in SP layer\n",
       "17      OLM in SO layer\n",
       "Name: node_type_id, dtype: object"
      ]
     },
     "execution_count": 69,
     "metadata": {},
     "output_type": "execute_result"
    }
   ],
   "source": [
    "i = 0\n",
    "nodesDF['node_type_id'][nodesDF['node_id'][sourceID[targetID == AACIDXS.iloc[i]]]]"
   ]
  },
  {
   "cell_type": "code",
   "execution_count": 158,
   "id": "ed89c7ac-6f3a-4f2d-b797-9d5270061fe7",
   "metadata": {},
   "outputs": [],
   "source": [
    "f = h5py.File(os.path.join(pathname,'biophysical_biophysical_edges.h5'), 'r')\n",
    "edgesDF = SaveDataToDF(f) "
   ]
  },
  {
   "cell_type": "markdown",
   "id": "a843a2c1-baeb-4aa0-87ab-a9443f85afff",
   "metadata": {},
   "source": [
    "# LFP Processing"
   ]
  },
  {
   "cell_type": "code",
   "execution_count": 55,
   "id": "f226b401-ceaa-495e-b1e8-1617e4a13f70",
   "metadata": {},
   "outputs": [],
   "source": [
    "from scipy.signal import butter, lfilter, resample, filtfilt\n",
    "from scipy.stats import zscore\n",
    "from scipy.fft import fft, fftfreq, fftshift"
   ]
  },
  {
   "cell_type": "code",
   "execution_count": 40,
   "id": "2e60e218-7d51-4e54-bfad-e242cf892b96",
   "metadata": {},
   "outputs": [
    {
     "data": {
      "image/png": "[encoded data removed]",
      "text/plain": [
       "<Figure size 432x288 with 1 Axes>"
      ]
     },
     "metadata": {
      "needs_background": "light"
     },
     "output_type": "display_data"
    }
   ],
   "source": [
    "tsim = 300\n",
    "lfp_file = \"output/ecp.h5\"\n",
    "f = h5py.File(lfp_file,'r')\n",
    "lfp = list(f['ecp']['data'])\n",
    "lfp_arr = np.asarray(lfp)\n",
    "lfp = [0, 1, 2, 3, 4, 5, 6, 7, 8, 9, 10, 11, 12]\n",
    "for i in range(13):\n",
    "    lfp[i] = lfp_arr[:,i]\n",
    "    lfp[i] = [(x*10)+i for x in lfp[i]]\n",
    "    temp = lfp[i]\n",
    "    temp = temp[1500:2500]\n",
    "    plt.plot(np.arange(0,100,0.1),temp)\n",
    "plt.xlabel('time (ms)')\n",
    "plt.ylabel('channels')\n",
    "plt.title(\"raw lfp for CA1\")\n",
    "plt.show()"
   ]
  },
  {
   "cell_type": "code",
   "execution_count": 42,
   "id": "88e04703-e247-4e9f-885d-fb7757de6931",
   "metadata": {},
   "outputs": [],
   "source": [
    "def butter_lowpass(cutoff, fs, order=5):\n",
    "    nyq = 0.5 * fs\n",
    "    normal_cutoff = cutoff / nyq\n",
    "    b, a = butter(order, normal_cutoff, btype='low', analog=False)\n",
    "    return b, a\n",
    "\n",
    "def butter_lowpass_filter(data, cutoff, fs, order=5):\n",
    "    b, a = butter_lowpass(cutoff, fs, order=order)\n",
    "    y = filtfilt(b, a, data)\n",
    "    return y"
   ]
  },
  {
   "cell_type": "code",
   "execution_count": 47,
   "id": "1a672b06-114a-4861-b5c6-a9b6cc2bca25",
   "metadata": {},
   "outputs": [
    {
     "data": {
      "image/png": "[encoded data removed]",
      "text/plain": [
       "<Figure size 432x288 with 1 Axes>"
      ]
     },
     "metadata": {
      "needs_background": "light"
     },
     "output_type": "display_data"
    }
   ],
   "source": [
    "# Filter requirements.\n",
    "order = 6\n",
    "fs = 10000       # sample rate, Hz\n",
    "cutoff = 500  # desired cutoff frequency of the filter, Hz\n",
    "\n",
    "# Get the filter coefficients so we can check its frequency response.\n",
    "data=lfp[0]\n",
    "\n",
    "y = butter_lowpass_filter(data, cutoff, fs, order)\n",
    "filtered= resample(y, 1000)\n",
    "filtered = zscore(filtered)\n",
    "\n",
    "data = resample(data, 1000)\n",
    "raw = zscore(data)\n",
    "\n",
    "plt.plot(np.arange(0,1000, 1), filtered, label='filtered')\n",
    "plt.plot(np.arange(0,1000, 1), raw, label='raw')\n",
    "\n",
    "plt.legend()\n",
    "plt.show()"
   ]
  },
  {
   "cell_type": "code",
   "execution_count": 52,
   "id": "08609370-2f88-44d9-9db8-3484412cf856",
   "metadata": {},
   "outputs": [],
   "source": [
    "t = np.arange(len(filtered))"
   ]
  },
  {
   "cell_type": "code",
   "execution_count": 53,
   "id": "5ae33094-dd1c-4b4a-8c23-c436f674a4a5",
   "metadata": {},
   "outputs": [
    {
     "data": {
      "text/plain": [
       "[<matplotlib.lines.Line2D at 0x17bca351ac0>]"
      ]
     },
     "execution_count": 53,
     "metadata": {},
     "output_type": "execute_result"
    },
    {
     "data": {
      "image/png": "[encoded data removed]",
      "text/plain": [
       "<Figure size 432x288 with 1 Axes>"
      ]
     },
     "metadata": {
      "needs_background": "light"
     },
     "output_type": "display_data"
    }
   ],
   "source": [
    "fftRes = scipy.fft.fft(filtered)\n",
    "plt.plot(t,fftRes.real)"
   ]
  },
  {
   "cell_type": "code",
   "execution_count": 113,
   "id": "a1740bdb-ce9f-4f4b-b462-0f132840b20e",
   "metadata": {},
   "outputs": [],
   "source": [
    "hist, bin_edges = np.histogram(fftRes.real/max(fftRes.real), bins=200)"
   ]
  },
  {
   "cell_type": "code",
   "execution_count": 57,
   "id": "d0c6e4e8-d120-4d78-9f97-98685f9bb7ee",
   "metadata": {},
   "outputs": [],
   "source": [
    "\n",
    "sp = fftshift(fft(filtered))\n",
    "freq = fftshift(fftfreq(t.shape[-1]))"
   ]
  },
  {
   "cell_type": "code",
   "execution_count": 68,
   "id": "e1580553-9033-478d-aa7f-5319102f1b11",
   "metadata": {},
   "outputs": [
    {
     "data": {
      "text/plain": [
       "[<matplotlib.lines.Line2D at 0x17bcb7d0d60>]"
      ]
     },
     "execution_count": 68,
     "metadata": {},
     "output_type": "execute_result"
    },
    {
     "data": {
      "image/png": "[encoded data removed]",
      "text/plain": [
       "<Figure size 432x288 with 1 Axes>"
      ]
     },
     "metadata": {
      "needs_background": "light"
     },
     "output_type": "display_data"
    }
   ],
   "source": [
    "plt.plot(freq,sp.real)"
   ]
  },
  {
   "cell_type": "code",
   "execution_count": 201,
   "id": "d83b83dd-7d56-4b69-bd52-611de6b59c16",
   "metadata": {},
   "outputs": [],
   "source": [
    "nonzeros = np.array([r for r in fftRes if r != 0])"
   ]
  },
  {
   "cell_type": "code",
   "execution_count": 122,
   "id": "dfa52f73-aa31-4224-a320-79d3e6b4e50f",
   "metadata": {},
   "outputs": [],
   "source": [
    "hist, bin_edges = np.histogram(fftRes.real,bins=200)"
   ]
  },
  {
   "cell_type": "code",
   "execution_count": 203,
   "id": "c63bf6cb-6dd5-48f5-b0eb-ad0573e80de7",
   "metadata": {},
   "outputs": [
    {
     "data": {
      "image/png": "[encoded data removed]",
      "text/plain": [
       "<Figure size 720x360 with 1 Axes>"
      ]
     },
     "metadata": {
      "needs_background": "light"
     },
     "output_type": "display_data"
    }
   ],
   "source": [
    "plt.figure(figsize=(10,5))\n",
    "plt.hist(nonzeros.real,bins=200)\n",
    "plt.show()"
   ]
  },
  {
   "cell_type": "markdown",
   "id": "34dfa6b4-3e1b-4daf-8005-ad9577c9d239",
   "metadata": {},
   "source": [
    "# TESTING"
   ]
  },
  {
   "cell_type": "code",
   "execution_count": 336,
   "id": "a1e16abb-366b-4c43-9824-eca483b238b0",
   "metadata": {},
   "outputs": [],
   "source": [
    "from bmtk.utils.reports.spike_trains import PoissonSpikeGenerator"
   ]
  },
  {
   "cell_type": "code",
   "execution_count": 30,
   "id": "cb306848-fcc3-4472-9d70-58d4cd352d38",
   "metadata": {},
   "outputs": [],
   "source": [
    "psg = PoissonSpikeGenerator(population='bgpn')\n",
    "\n",
    "psg.add(node_ids=1,  # need same number as cells\n",
    "        firing_rate=50000,    # 1 spike every 5 seconds Hz\n",
    "        times=(1/1000, 2/1000))  # time is in seconds for some reason\n"
   ]
  },
  {
   "cell_type": "code",
   "execution_count": 21,
   "id": "625e80c8-222f-4d66-92a9-3cbc68632958",
   "metadata": {},
   "outputs": [],
   "source": [
    "psg.to_sonata('CA1_inputs/bg_pn_spikes.h5')"
   ]
  },
  {
   "cell_type": "code",
   "execution_count": 31,
   "id": "baf6a34c-d7c7-42e7-ac54-006a820e7a91",
   "metadata": {},
   "outputs": [
    {
     "name": "stdout",
     "output_type": "stream",
     "text": [
      "Number of spikes: 52\n",
      "Units: ms\n"
     ]
    },
    {
     "data": {
      "text/html": [
       "<div>\n",
       "<style scoped>\n",
       "    .dataframe tbody tr th:only-of-type {\n",
       "        vertical-align: middle;\n",
       "    }\n",
       "\n",
       "    .dataframe tbody tr th {\n",
       "        vertical-align: top;\n",
       "    }\n",
       "\n",
       "    .dataframe thead th {\n",
       "        text-align: right;\n",
       "    }\n",
       "</style>\n",
       "<table border=\"1\" class=\"dataframe\">\n",
       "  <thead>\n",
       "    <tr style=\"text-align: right;\">\n",
       "      <th></th>\n",
       "      <th>node_ids</th>\n",
       "      <th>timestamps</th>\n",
       "      <th>population</th>\n",
       "    </tr>\n",
       "  </thead>\n",
       "  <tbody>\n",
       "    <tr>\n",
       "      <th>0</th>\n",
       "      <td>1</td>\n",
       "      <td>1.054939</td>\n",
       "      <td>bgpn</td>\n",
       "    </tr>\n",
       "    <tr>\n",
       "      <th>1</th>\n",
       "      <td>1</td>\n",
       "      <td>1.063110</td>\n",
       "      <td>bgpn</td>\n",
       "    </tr>\n",
       "    <tr>\n",
       "      <th>2</th>\n",
       "      <td>1</td>\n",
       "      <td>1.106914</td>\n",
       "      <td>bgpn</td>\n",
       "    </tr>\n",
       "    <tr>\n",
       "      <th>3</th>\n",
       "      <td>1</td>\n",
       "      <td>1.144070</td>\n",
       "      <td>bgpn</td>\n",
       "    </tr>\n",
       "    <tr>\n",
       "      <th>4</th>\n",
       "      <td>1</td>\n",
       "      <td>1.155733</td>\n",
       "      <td>bgpn</td>\n",
       "    </tr>\n",
       "    <tr>\n",
       "      <th>5</th>\n",
       "      <td>1</td>\n",
       "      <td>1.193693</td>\n",
       "      <td>bgpn</td>\n",
       "    </tr>\n",
       "    <tr>\n",
       "      <th>6</th>\n",
       "      <td>1</td>\n",
       "      <td>1.194066</td>\n",
       "      <td>bgpn</td>\n",
       "    </tr>\n",
       "    <tr>\n",
       "      <th>7</th>\n",
       "      <td>1</td>\n",
       "      <td>1.198494</td>\n",
       "      <td>bgpn</td>\n",
       "    </tr>\n",
       "    <tr>\n",
       "      <th>8</th>\n",
       "      <td>1</td>\n",
       "      <td>1.210716</td>\n",
       "      <td>bgpn</td>\n",
       "    </tr>\n",
       "    <tr>\n",
       "      <th>9</th>\n",
       "      <td>1</td>\n",
       "      <td>1.216851</td>\n",
       "      <td>bgpn</td>\n",
       "    </tr>\n",
       "    <tr>\n",
       "      <th>10</th>\n",
       "      <td>1</td>\n",
       "      <td>1.244928</td>\n",
       "      <td>bgpn</td>\n",
       "    </tr>\n",
       "    <tr>\n",
       "      <th>11</th>\n",
       "      <td>1</td>\n",
       "      <td>1.284238</td>\n",
       "      <td>bgpn</td>\n",
       "    </tr>\n",
       "    <tr>\n",
       "      <th>12</th>\n",
       "      <td>1</td>\n",
       "      <td>1.288486</td>\n",
       "      <td>bgpn</td>\n",
       "    </tr>\n",
       "    <tr>\n",
       "      <th>13</th>\n",
       "      <td>1</td>\n",
       "      <td>1.315656</td>\n",
       "      <td>bgpn</td>\n",
       "    </tr>\n",
       "    <tr>\n",
       "      <th>14</th>\n",
       "      <td>1</td>\n",
       "      <td>1.321589</td>\n",
       "      <td>bgpn</td>\n",
       "    </tr>\n",
       "    <tr>\n",
       "      <th>15</th>\n",
       "      <td>1</td>\n",
       "      <td>1.350744</td>\n",
       "      <td>bgpn</td>\n",
       "    </tr>\n",
       "    <tr>\n",
       "      <th>16</th>\n",
       "      <td>1</td>\n",
       "      <td>1.356710</td>\n",
       "      <td>bgpn</td>\n",
       "    </tr>\n",
       "    <tr>\n",
       "      <th>17</th>\n",
       "      <td>1</td>\n",
       "      <td>1.394461</td>\n",
       "      <td>bgpn</td>\n",
       "    </tr>\n",
       "    <tr>\n",
       "      <th>18</th>\n",
       "      <td>1</td>\n",
       "      <td>1.401901</td>\n",
       "      <td>bgpn</td>\n",
       "    </tr>\n",
       "    <tr>\n",
       "      <th>19</th>\n",
       "      <td>1</td>\n",
       "      <td>1.412751</td>\n",
       "      <td>bgpn</td>\n",
       "    </tr>\n",
       "    <tr>\n",
       "      <th>20</th>\n",
       "      <td>1</td>\n",
       "      <td>1.415266</td>\n",
       "      <td>bgpn</td>\n",
       "    </tr>\n",
       "    <tr>\n",
       "      <th>21</th>\n",
       "      <td>1</td>\n",
       "      <td>1.425348</td>\n",
       "      <td>bgpn</td>\n",
       "    </tr>\n",
       "    <tr>\n",
       "      <th>22</th>\n",
       "      <td>1</td>\n",
       "      <td>1.425564</td>\n",
       "      <td>bgpn</td>\n",
       "    </tr>\n",
       "    <tr>\n",
       "      <th>23</th>\n",
       "      <td>1</td>\n",
       "      <td>1.431935</td>\n",
       "      <td>bgpn</td>\n",
       "    </tr>\n",
       "    <tr>\n",
       "      <th>24</th>\n",
       "      <td>1</td>\n",
       "      <td>1.434909</td>\n",
       "      <td>bgpn</td>\n",
       "    </tr>\n",
       "    <tr>\n",
       "      <th>25</th>\n",
       "      <td>1</td>\n",
       "      <td>1.438203</td>\n",
       "      <td>bgpn</td>\n",
       "    </tr>\n",
       "    <tr>\n",
       "      <th>26</th>\n",
       "      <td>1</td>\n",
       "      <td>1.467052</td>\n",
       "      <td>bgpn</td>\n",
       "    </tr>\n",
       "    <tr>\n",
       "      <th>27</th>\n",
       "      <td>1</td>\n",
       "      <td>1.508198</td>\n",
       "      <td>bgpn</td>\n",
       "    </tr>\n",
       "    <tr>\n",
       "      <th>28</th>\n",
       "      <td>1</td>\n",
       "      <td>1.547608</td>\n",
       "      <td>bgpn</td>\n",
       "    </tr>\n",
       "    <tr>\n",
       "      <th>29</th>\n",
       "      <td>1</td>\n",
       "      <td>1.593423</td>\n",
       "      <td>bgpn</td>\n",
       "    </tr>\n",
       "    <tr>\n",
       "      <th>30</th>\n",
       "      <td>1</td>\n",
       "      <td>1.596664</td>\n",
       "      <td>bgpn</td>\n",
       "    </tr>\n",
       "    <tr>\n",
       "      <th>31</th>\n",
       "      <td>1</td>\n",
       "      <td>1.602667</td>\n",
       "      <td>bgpn</td>\n",
       "    </tr>\n",
       "    <tr>\n",
       "      <th>32</th>\n",
       "      <td>1</td>\n",
       "      <td>1.659989</td>\n",
       "      <td>bgpn</td>\n",
       "    </tr>\n",
       "    <tr>\n",
       "      <th>33</th>\n",
       "      <td>1</td>\n",
       "      <td>1.662932</td>\n",
       "      <td>bgpn</td>\n",
       "    </tr>\n",
       "    <tr>\n",
       "      <th>34</th>\n",
       "      <td>1</td>\n",
       "      <td>1.775436</td>\n",
       "      <td>bgpn</td>\n",
       "    </tr>\n",
       "    <tr>\n",
       "      <th>35</th>\n",
       "      <td>1</td>\n",
       "      <td>1.782922</td>\n",
       "      <td>bgpn</td>\n",
       "    </tr>\n",
       "    <tr>\n",
       "      <th>36</th>\n",
       "      <td>1</td>\n",
       "      <td>1.796122</td>\n",
       "      <td>bgpn</td>\n",
       "    </tr>\n",
       "    <tr>\n",
       "      <th>37</th>\n",
       "      <td>1</td>\n",
       "      <td>1.808017</td>\n",
       "      <td>bgpn</td>\n",
       "    </tr>\n",
       "    <tr>\n",
       "      <th>38</th>\n",
       "      <td>1</td>\n",
       "      <td>1.809684</td>\n",
       "      <td>bgpn</td>\n",
       "    </tr>\n",
       "    <tr>\n",
       "      <th>39</th>\n",
       "      <td>1</td>\n",
       "      <td>1.822352</td>\n",
       "      <td>bgpn</td>\n",
       "    </tr>\n",
       "    <tr>\n",
       "      <th>40</th>\n",
       "      <td>1</td>\n",
       "      <td>1.828384</td>\n",
       "      <td>bgpn</td>\n",
       "    </tr>\n",
       "    <tr>\n",
       "      <th>41</th>\n",
       "      <td>1</td>\n",
       "      <td>1.854461</td>\n",
       "      <td>bgpn</td>\n",
       "    </tr>\n",
       "    <tr>\n",
       "      <th>42</th>\n",
       "      <td>1</td>\n",
       "      <td>1.854949</td>\n",
       "      <td>bgpn</td>\n",
       "    </tr>\n",
       "    <tr>\n",
       "      <th>43</th>\n",
       "      <td>1</td>\n",
       "      <td>1.867702</td>\n",
       "      <td>bgpn</td>\n",
       "    </tr>\n",
       "    <tr>\n",
       "      <th>44</th>\n",
       "      <td>1</td>\n",
       "      <td>1.883061</td>\n",
       "      <td>bgpn</td>\n",
       "    </tr>\n",
       "    <tr>\n",
       "      <th>45</th>\n",
       "      <td>1</td>\n",
       "      <td>1.896479</td>\n",
       "      <td>bgpn</td>\n",
       "    </tr>\n",
       "    <tr>\n",
       "      <th>46</th>\n",
       "      <td>1</td>\n",
       "      <td>1.898043</td>\n",
       "      <td>bgpn</td>\n",
       "    </tr>\n",
       "    <tr>\n",
       "      <th>47</th>\n",
       "      <td>1</td>\n",
       "      <td>1.906451</td>\n",
       "      <td>bgpn</td>\n",
       "    </tr>\n",
       "    <tr>\n",
       "      <th>48</th>\n",
       "      <td>1</td>\n",
       "      <td>1.908370</td>\n",
       "      <td>bgpn</td>\n",
       "    </tr>\n",
       "    <tr>\n",
       "      <th>49</th>\n",
       "      <td>1</td>\n",
       "      <td>1.921370</td>\n",
       "      <td>bgpn</td>\n",
       "    </tr>\n",
       "    <tr>\n",
       "      <th>50</th>\n",
       "      <td>1</td>\n",
       "      <td>1.930501</td>\n",
       "      <td>bgpn</td>\n",
       "    </tr>\n",
       "    <tr>\n",
       "      <th>51</th>\n",
       "      <td>1</td>\n",
       "      <td>1.999521</td>\n",
       "      <td>bgpn</td>\n",
       "    </tr>\n",
       "  </tbody>\n",
       "</table>\n",
       "</div>"
      ],
      "text/plain": [
       "    node_ids  timestamps population\n",
       "0          1    1.054939       bgpn\n",
       "1          1    1.063110       bgpn\n",
       "2          1    1.106914       bgpn\n",
       "3          1    1.144070       bgpn\n",
       "4          1    1.155733       bgpn\n",
       "5          1    1.193693       bgpn\n",
       "6          1    1.194066       bgpn\n",
       "7          1    1.198494       bgpn\n",
       "8          1    1.210716       bgpn\n",
       "9          1    1.216851       bgpn\n",
       "10         1    1.244928       bgpn\n",
       "11         1    1.284238       bgpn\n",
       "12         1    1.288486       bgpn\n",
       "13         1    1.315656       bgpn\n",
       "14         1    1.321589       bgpn\n",
       "15         1    1.350744       bgpn\n",
       "16         1    1.356710       bgpn\n",
       "17         1    1.394461       bgpn\n",
       "18         1    1.401901       bgpn\n",
       "19         1    1.412751       bgpn\n",
       "20         1    1.415266       bgpn\n",
       "21         1    1.425348       bgpn\n",
       "22         1    1.425564       bgpn\n",
       "23         1    1.431935       bgpn\n",
       "24         1    1.434909       bgpn\n",
       "25         1    1.438203       bgpn\n",
       "26         1    1.467052       bgpn\n",
       "27         1    1.508198       bgpn\n",
       "28         1    1.547608       bgpn\n",
       "29         1    1.593423       bgpn\n",
       "30         1    1.596664       bgpn\n",
       "31         1    1.602667       bgpn\n",
       "32         1    1.659989       bgpn\n",
       "33         1    1.662932       bgpn\n",
       "34         1    1.775436       bgpn\n",
       "35         1    1.782922       bgpn\n",
       "36         1    1.796122       bgpn\n",
       "37         1    1.808017       bgpn\n",
       "38         1    1.809684       bgpn\n",
       "39         1    1.822352       bgpn\n",
       "40         1    1.828384       bgpn\n",
       "41         1    1.854461       bgpn\n",
       "42         1    1.854949       bgpn\n",
       "43         1    1.867702       bgpn\n",
       "44         1    1.883061       bgpn\n",
       "45         1    1.896479       bgpn\n",
       "46         1    1.898043       bgpn\n",
       "47         1    1.906451       bgpn\n",
       "48         1    1.908370       bgpn\n",
       "49         1    1.921370       bgpn\n",
       "50         1    1.930501       bgpn\n",
       "51         1    1.999521       bgpn"
      ]
     },
     "execution_count": 31,
     "metadata": {},
     "output_type": "execute_result"
    }
   ],
   "source": [
    "print('Number of spikes: {}'.format(psg.n_spikes()))\n",
    "print('Units: {}'.format(psg.units()))\n",
    "\n",
    "psg.to_dataframe()"
   ]
  },
  {
   "cell_type": "code",
   "execution_count": 30,
   "id": "3caaa0d7-0769-49fd-bca8-2596f4ebb7f9",
   "metadata": {},
   "outputs": [
    {
     "data": {
      "text/plain": [
       "node_ids              1\n",
       "timestamps    19.309215\n",
       "population         bgpn\n",
       "Name: 10, dtype: object"
      ]
     },
     "execution_count": 30,
     "metadata": {},
     "output_type": "execute_result"
    }
   ],
   "source": [
    "tst = psg.to_dataframe()\n",
    "tst.iloc[10]"
   ]
  },
  {
   "cell_type": "code",
   "execution_count": 32,
   "id": "2c71c3a3-296f-4339-a7f0-5d07ca2d3d3e",
   "metadata": {},
   "outputs": [
    {
     "name": "stdout",
     "output_type": "stream",
     "text": [
      "spikes\n",
      "spikes/bgpn\n",
      "spikes/bgpn/node_ids\n",
      "spikes/bgpn/timestamps\n"
     ]
    }
   ],
   "source": [
    "pathname = 'CA1_inputs'\n",
    "f = h5py.File(os.path.join(pathname,'bg_pn_spikes.h5'), 'r')\n",
    "f.visit(print)"
   ]
  },
  {
   "cell_type": "code",
   "execution_count": 37,
   "id": "4dac44c4-c599-4871-839a-b5e3bd1aa8a1",
   "metadata": {},
   "outputs": [],
   "source": [
    "tst = SaveDataToDF(f)"
   ]
  },
  {
   "cell_type": "code",
   "execution_count": 44,
   "id": "f786d81c-4ec3-4efd-aef5-d1d29383be8a",
   "metadata": {},
   "outputs": [
    {
     "data": {
      "text/html": [
       "<div>\n",
       "<style scoped>\n",
       "    .dataframe tbody tr th:only-of-type {\n",
       "        vertical-align: middle;\n",
       "    }\n",
       "\n",
       "    .dataframe tbody tr th {\n",
       "        vertical-align: top;\n",
       "    }\n",
       "\n",
       "    .dataframe thead th {\n",
       "        text-align: right;\n",
       "    }\n",
       "</style>\n",
       "<table border=\"1\" class=\"dataframe\">\n",
       "  <thead>\n",
       "    <tr style=\"text-align: right;\">\n",
       "      <th></th>\n",
       "      <th>node_ids</th>\n",
       "      <th>timestamps</th>\n",
       "    </tr>\n",
       "  </thead>\n",
       "  <tbody>\n",
       "    <tr>\n",
       "      <th>0</th>\n",
       "      <td>0.0</td>\n",
       "      <td>81.784365</td>\n",
       "    </tr>\n",
       "    <tr>\n",
       "      <th>1</th>\n",
       "      <td>0.0</td>\n",
       "      <td>93.590084</td>\n",
       "    </tr>\n",
       "    <tr>\n",
       "      <th>2</th>\n",
       "      <td>0.0</td>\n",
       "      <td>139.894619</td>\n",
       "    </tr>\n",
       "    <tr>\n",
       "      <th>3</th>\n",
       "      <td>0.0</td>\n",
       "      <td>144.310465</td>\n",
       "    </tr>\n",
       "    <tr>\n",
       "      <th>4</th>\n",
       "      <td>0.0</td>\n",
       "      <td>147.109625</td>\n",
       "    </tr>\n",
       "    <tr>\n",
       "      <th>5</th>\n",
       "      <td>0.0</td>\n",
       "      <td>159.124039</td>\n",
       "    </tr>\n",
       "    <tr>\n",
       "      <th>6</th>\n",
       "      <td>0.0</td>\n",
       "      <td>159.366370</td>\n",
       "    </tr>\n",
       "    <tr>\n",
       "      <th>7</th>\n",
       "      <td>0.0</td>\n",
       "      <td>180.782293</td>\n",
       "    </tr>\n",
       "    <tr>\n",
       "      <th>8</th>\n",
       "      <td>0.0</td>\n",
       "      <td>186.320028</td>\n",
       "    </tr>\n",
       "    <tr>\n",
       "      <th>9</th>\n",
       "      <td>1.0</td>\n",
       "      <td>3.910261</td>\n",
       "    </tr>\n",
       "    <tr>\n",
       "      <th>10</th>\n",
       "      <td>1.0</td>\n",
       "      <td>19.309215</td>\n",
       "    </tr>\n",
       "    <tr>\n",
       "      <th>11</th>\n",
       "      <td>1.0</td>\n",
       "      <td>62.059356</td>\n",
       "    </tr>\n",
       "    <tr>\n",
       "      <th>12</th>\n",
       "      <td>1.0</td>\n",
       "      <td>63.721657</td>\n",
       "    </tr>\n",
       "    <tr>\n",
       "      <th>13</th>\n",
       "      <td>1.0</td>\n",
       "      <td>65.574703</td>\n",
       "    </tr>\n",
       "    <tr>\n",
       "      <th>14</th>\n",
       "      <td>1.0</td>\n",
       "      <td>73.324418</td>\n",
       "    </tr>\n",
       "    <tr>\n",
       "      <th>15</th>\n",
       "      <td>1.0</td>\n",
       "      <td>92.899901</td>\n",
       "    </tr>\n",
       "    <tr>\n",
       "      <th>16</th>\n",
       "      <td>1.0</td>\n",
       "      <td>130.637568</td>\n",
       "    </tr>\n",
       "    <tr>\n",
       "      <th>17</th>\n",
       "      <td>1.0</td>\n",
       "      <td>147.156126</td>\n",
       "    </tr>\n",
       "    <tr>\n",
       "      <th>18</th>\n",
       "      <td>1.0</td>\n",
       "      <td>155.528450</td>\n",
       "    </tr>\n",
       "    <tr>\n",
       "      <th>19</th>\n",
       "      <td>1.0</td>\n",
       "      <td>170.673776</td>\n",
       "    </tr>\n",
       "  </tbody>\n",
       "</table>\n",
       "</div>"
      ],
      "text/plain": [
       "    node_ids  timestamps\n",
       "0        0.0   81.784365\n",
       "1        0.0   93.590084\n",
       "2        0.0  139.894619\n",
       "3        0.0  144.310465\n",
       "4        0.0  147.109625\n",
       "5        0.0  159.124039\n",
       "6        0.0  159.366370\n",
       "7        0.0  180.782293\n",
       "8        0.0  186.320028\n",
       "9        1.0    3.910261\n",
       "10       1.0   19.309215\n",
       "11       1.0   62.059356\n",
       "12       1.0   63.721657\n",
       "13       1.0   65.574703\n",
       "14       1.0   73.324418\n",
       "15       1.0   92.899901\n",
       "16       1.0  130.637568\n",
       "17       1.0  147.156126\n",
       "18       1.0  155.528450\n",
       "19       1.0  170.673776"
      ]
     },
     "execution_count": 44,
     "metadata": {},
     "output_type": "execute_result"
    }
   ],
   "source": [
    "tst.head(20)"
   ]
  },
  {
   "cell_type": "code",
   "execution_count": 3,
   "id": "d2ead6c6-1fb8-4aa8-9abb-b01d60110b33",
   "metadata": {},
   "outputs": [
    {
     "data": {
      "text/plain": [
       "array([ 1,  7,  7,  7,  8,  9, 10, 12, 15, 15, 16, 18, 19, 23, 23, 29, 29,\n",
       "       29, 30, 30, 34, 38, 46, 52, 53, 54, 55, 57, 57, 60, 62, 62, 63],\n",
       "      dtype=int64)"
      ]
     },
     "execution_count": 3,
     "metadata": {},
     "output_type": "execute_result"
    }
   ],
   "source": [
    "f['spikes/bgpn//node_ids'][()]"
   ]
  },
  {
   "cell_type": "code",
   "execution_count": 40,
   "id": "499285cd-6584-47a4-99a4-fbe5da17c6fb",
   "metadata": {},
   "outputs": [
    {
     "data": {
      "text/plain": [
       "['__class__',\n",
       " '__delattr__',\n",
       " '__dict__',\n",
       " '__dir__',\n",
       " '__doc__',\n",
       " '__eq__',\n",
       " '__format__',\n",
       " '__ge__',\n",
       " '__getattr__',\n",
       " '__getattribute__',\n",
       " '__gt__',\n",
       " '__hash__',\n",
       " '__init__',\n",
       " '__init_subclass__',\n",
       " '__le__',\n",
       " '__len__',\n",
       " '__lt__',\n",
       " '__module__',\n",
       " '__ne__',\n",
       " '__new__',\n",
       " '__reduce__',\n",
       " '__reduce_ex__',\n",
       " '__repr__',\n",
       " '__setattr__',\n",
       " '__sizeof__',\n",
       " '__str__',\n",
       " '__subclasshook__',\n",
       " '__weakref__',\n",
       " '_build_fixed_fr',\n",
       " '_build_inhomegeous_fr',\n",
       " 'adaptor',\n",
       " 'add',\n",
       " 'from_csv',\n",
       " 'from_nwb',\n",
       " 'from_sonata',\n",
       " 'load',\n",
       " 'max_spikes_per_node',\n",
       " 'time_range']"
      ]
     },
     "execution_count": 40,
     "metadata": {},
     "output_type": "execute_result"
    }
   ],
   "source": [
    "dir(psg)"
   ]
  },
  {
   "cell_type": "code",
   "execution_count": 41,
   "id": "273359bd-0849-4167-bc72-1bbeb982e18a",
   "metadata": {},
   "outputs": [
    {
     "data": {
      "text/plain": [
       "(200.10935571208424, 295.10472372879343)"
      ]
     },
     "execution_count": 41,
     "metadata": {},
     "output_type": "execute_result"
    }
   ],
   "source": [
    "psg.time_range()"
   ]
  },
  {
   "cell_type": "code",
   "execution_count": 124,
   "id": "48a83def-1d6d-4c6e-874d-c4c4bc621817",
   "metadata": {},
   "outputs": [],
   "source": [
    "f.close()"
   ]
  },
  {
   "cell_type": "code",
   "execution_count": 20,
   "id": "0748f1b1-ea4b-491f-9d1e-d7a08606269e",
   "metadata": {},
   "outputs": [],
   "source": [
    "psg.to_csv('CA1_inputs/bg_pn_spikes.txt')"
   ]
  },
  {
   "cell_type": "code",
   "execution_count": 3,
   "id": "26c28374-f117-4754-997d-636423f911ed",
   "metadata": {},
   "outputs": [],
   "source": [
    "pathname = 'CA1_inputs'"
   ]
  },
  {
   "cell_type": "code",
   "execution_count": 24,
   "id": "b4bcb88c-2592-4c75-aef8-adfda9d03f4b",
   "metadata": {},
   "outputs": [
    {
     "ename": "ValueError",
     "evalue": "could not convert string to float: 'timestamps'",
     "output_type": "error",
     "traceback": [
      "\u001b[1;31m---------------------------------------------------------------------------\u001b[0m",
      "\u001b[1;31mValueError\u001b[0m                                Traceback (most recent call last)",
      "Input \u001b[1;32mIn [24]\u001b[0m, in \u001b[0;36m<cell line: 1>\u001b[1;34m()\u001b[0m\n\u001b[1;32m----> 1\u001b[0m tst \u001b[38;5;241m=\u001b[39m \u001b[43mnp\u001b[49m\u001b[38;5;241;43m.\u001b[39;49m\u001b[43mloadtxt\u001b[49m\u001b[43m(\u001b[49m\u001b[38;5;124;43m'\u001b[39;49m\u001b[38;5;124;43mCA1_inputs/bg_pn_spikes.txt\u001b[39;49m\u001b[38;5;124;43m'\u001b[39;49m\u001b[43m)\u001b[49m\n",
      "File \u001b[1;32m~\\source\\repos\\CA1_model\\CA1_model_env\\lib\\site-packages\\numpy\\lib\\npyio.py:1163\u001b[0m, in \u001b[0;36mloadtxt\u001b[1;34m(fname, dtype, comments, delimiter, converters, skiprows, usecols, unpack, ndmin, encoding, max_rows, like)\u001b[0m\n\u001b[0;32m   1159\u001b[0m         \u001b[38;5;28;01mraise\u001b[39;00m \u001b[38;5;167;01mValueError\u001b[39;00m(\n\u001b[0;32m   1160\u001b[0m             \u001b[38;5;124mf\u001b[39m\u001b[38;5;124m\"\u001b[39m\u001b[38;5;124mWrong number of columns at line \u001b[39m\u001b[38;5;132;01m{\u001b[39;00mlineno\u001b[38;5;132;01m}\u001b[39;00m\u001b[38;5;124m\"\u001b[39m)\n\u001b[0;32m   1161\u001b[0m     \u001b[38;5;66;03m# Convert each value according to its column, then pack it\u001b[39;00m\n\u001b[0;32m   1162\u001b[0m     \u001b[38;5;66;03m# according to the dtype's nesting, and store it.\u001b[39;00m\n\u001b[1;32m-> 1163\u001b[0m     chunk\u001b[38;5;241m.\u001b[39mappend(packer(\u001b[43mconvert_row\u001b[49m\u001b[43m(\u001b[49m\u001b[43mwords\u001b[49m\u001b[43m)\u001b[49m))\n\u001b[0;32m   1164\u001b[0m \u001b[38;5;28;01mif\u001b[39;00m \u001b[38;5;129;01mnot\u001b[39;00m chunk:  \u001b[38;5;66;03m# The islice is empty, i.e. we're done.\u001b[39;00m\n\u001b[0;32m   1165\u001b[0m     \u001b[38;5;28;01mbreak\u001b[39;00m\n",
      "File \u001b[1;32m~\\source\\repos\\CA1_model\\CA1_model_env\\lib\\site-packages\\numpy\\lib\\npyio.py:1142\u001b[0m, in \u001b[0;36mloadtxt.<locals>.convert_row\u001b[1;34m(vals, _conv)\u001b[0m\n\u001b[0;32m   1141\u001b[0m \u001b[38;5;28;01mdef\u001b[39;00m \u001b[38;5;21mconvert_row\u001b[39m(vals, _conv\u001b[38;5;241m=\u001b[39mconverters[\u001b[38;5;241m0\u001b[39m]):\n\u001b[1;32m-> 1142\u001b[0m     \u001b[38;5;28;01mreturn\u001b[39;00m [\u001b[38;5;241m*\u001b[39m\u001b[38;5;28mmap\u001b[39m(_conv, vals)]\n",
      "File \u001b[1;32m~\\source\\repos\\CA1_model\\CA1_model_env\\lib\\site-packages\\numpy\\lib\\npyio.py:725\u001b[0m, in \u001b[0;36m_floatconv\u001b[1;34m(x)\u001b[0m\n\u001b[0;32m    723\u001b[0m \u001b[38;5;28;01mdef\u001b[39;00m \u001b[38;5;21m_floatconv\u001b[39m(x):\n\u001b[0;32m    724\u001b[0m     \u001b[38;5;28;01mtry\u001b[39;00m:\n\u001b[1;32m--> 725\u001b[0m         \u001b[38;5;28;01mreturn\u001b[39;00m \u001b[38;5;28;43mfloat\u001b[39;49m\u001b[43m(\u001b[49m\u001b[43mx\u001b[49m\u001b[43m)\u001b[49m  \u001b[38;5;66;03m# The fastest path.\u001b[39;00m\n\u001b[0;32m    726\u001b[0m     \u001b[38;5;28;01mexcept\u001b[39;00m \u001b[38;5;167;01mValueError\u001b[39;00m:\n\u001b[0;32m    727\u001b[0m         \u001b[38;5;28;01mif\u001b[39;00m \u001b[38;5;124m'\u001b[39m\u001b[38;5;124m0x\u001b[39m\u001b[38;5;124m'\u001b[39m \u001b[38;5;129;01min\u001b[39;00m x:  \u001b[38;5;66;03m# Don't accidentally convert \"a\" (\"0xa\") to 10.\u001b[39;00m\n",
      "\u001b[1;31mValueError\u001b[0m: could not convert string to float: 'timestamps'"
     ]
    }
   ],
   "source": [
    "tst = np.loadtxt('CA1_inputs/bg_pn_spikes.txt')"
   ]
  },
  {
   "cell_type": "code",
   "execution_count": 6,
   "id": "b1dfe70a-4e18-4e2c-ba2e-f770ebb003d2",
   "metadata": {},
   "outputs": [],
   "source": [
    "tst = pd.read_csv('CA1_inputs/bg_pn_spikes.txt')\n",
    "test = np.array(tst)"
   ]
  },
  {
   "cell_type": "code",
   "execution_count": 7,
   "id": "26fd64de-0d4e-4ab3-bfe8-dacd3de89a13",
   "metadata": {},
   "outputs": [],
   "source": [
    "with h5py.File('bg_pn_spikes.hdf5','w') as f:\n",
    "    f['bg_pn'] = test\n"
   ]
  },
  {
   "cell_type": "code",
   "execution_count": 5,
   "id": "153d3bed-e33e-499f-9dc1-0b46f594e9e9",
   "metadata": {},
   "outputs": [
    {
     "name": "stdout",
     "output_type": "stream",
     "text": [
      "dataset\n"
     ]
    }
   ],
   "source": [
    "f = h5py.File(os.path.join(pathname,'bg_pn_spikes.hdf5'), 'r')\n",
    "f.visit(print)"
   ]
  },
  {
   "cell_type": "markdown",
   "id": "7045171a-d759-4861-8427-4dca01b57b71",
   "metadata": {},
   "source": [
    "# run testing"
   ]
  },
  {
   "cell_type": "code",
   "execution_count": 428,
   "id": "25d63178-78fb-4964-ab7e-b72a51f5c7fa",
   "metadata": {},
   "outputs": [],
   "source": [
    "import random\n",
    "#from bmtk.builder import NetworkBuild\n",
    "seed = 999\n",
    "random.seed(seed)\n",
    "np.random.seed(seed)\n",
    "\n",
    "#net = NetworkBuilder(\"biophysical\")\n",
    "# amount of cells\n",
    "numAAC = 50  # 147\n",
    "numCCK = 10  # 360\n",
    "numNGF = 10  # 580\n",
    "numOLM = 10 # 164\n",
    "numPV = 10  # 553\n",
    "numPyr = 10  # 31150\n",
    "\n",
    "# arrays for cell location csv\n",
    "cell_name = []\n",
    "cell_x = []\n",
    "cell_y = []\n",
    "cell_z = []\n",
    "# amount of cells per layer\n",
    "numAAC_inSO = int(round(numAAC*0.238))\n",
    "numAAC_inSP = int(round(numAAC*0.7))\n",
    "numAAC_inSR = int(round(numAAC*0.062))\n",
    "numCCK_inSO = int(round(numCCK*0.217))\n",
    "numCCK_inSP = int(round(numCCK*0.261))\n",
    "numCCK_inSR = int(round(numCCK*0.325))\n",
    "numCCK_inSLM = int(round(numCCK*0.197))\n",
    "numNGF_inSR = int(round(numNGF*0.17))\n",
    "numNGF_inSLM = int(round(numNGF*0.83))\n",
    "numPV_inSO = int(round(numPV*0.238))\n",
    "numPV_inSP = int(round(numPV*0.701))\n",
    "numPV_inSR = int(round(numPV*0.0596))\n",
    "\n",
    "totalCellNum = numAAC_inSO + numAAC_inSP + numAAC_inSR + numCCK_inSO + numCCK_inSP + numCCK_inSR + numCCK_inSLM + numNGF_inSR + numNGF_inSLM + numPV_inSO + numPV_inSP + numPV_inSR\n",
    "\n",
    "\n",
    "# total 400x1000x450\n",
    "# Order from top to bottom is SO,SP,SR,SLM total\n",
    "# SO layer\n",
    "xside_length = 400; yside_length = 1000; height = 450; min_dist = 20\n",
    "x_grid = np.arange(0, xside_length+min_dist, min_dist)\n",
    "y_grid = np.arange(0, yside_length+min_dist, min_dist)\n",
    "z_grid = np.arange(320, height+min_dist, min_dist)\n",
    "xx, yy, zz = np.meshgrid(x_grid, y_grid, z_grid)\n",
    "pos_list_SO = np.vstack([xx.ravel(), yy.ravel(), zz.ravel()]).T\n",
    "\n",
    "# SP layer\n",
    "xside_length = 400; yside_length = 1000; height = 320; min_dist = 8\n",
    "x_grid = np.arange(0, xside_length+min_dist, min_dist)\n",
    "y_grid = np.arange(0, yside_length+min_dist, min_dist)\n",
    "z_grid = np.arange(290, height+min_dist, min_dist)\n",
    "xx, yy, zz = np.meshgrid(x_grid, y_grid, z_grid)\n",
    "pos_list_SP = np.vstack([xx.ravel(), yy.ravel(), zz.ravel()]).T\n",
    "\n",
    "# SR\n",
    "xside_length = 400; yside_length = 1000; height = 290; min_dist = 20\n",
    "x_grid = np.arange(0, xside_length+min_dist, min_dist)\n",
    "y_grid = np.arange(0, yside_length+min_dist, min_dist)\n",
    "z_grid = np.arange(80, height+min_dist, min_dist)\n",
    "xx, yy, zz = np.meshgrid(x_grid, y_grid, z_grid)\n",
    "pos_list_SR = np.vstack([xx.ravel(), yy.ravel(), zz.ravel()]).T\n",
    "\n",
    "# SLM\n",
    "xside_length = 400; yside_length = 1000; height = 79; min_dist = 20\n",
    "x_grid = np.arange(0, xside_length+min_dist, min_dist)\n",
    "y_grid = np.arange(0, yside_length+min_dist, min_dist)\n",
    "z_grid = np.arange(0, height+min_dist, min_dist)\n",
    "xx, yy, zz = np.meshgrid(x_grid, y_grid, z_grid)\n",
    "pos_list_SLM = np.vstack([xx.ravel(), yy.ravel(), zz.ravel()]).T\n",
    "\n",
    "# ############ SO LAYER ############ #\n",
    "# AAC\n",
    "# Pick location\n",
    "inds = np.random.choice(np.arange(0, np.size(pos_list_SO, 0)), numAAC_inSO, replace=False)\n",
    "pos = pos_list_SO[inds, :]\n",
    "\n"
   ]
  },
  {
   "cell_type": "code",
   "execution_count": 429,
   "id": "e6a9a47b-3f54-45ab-9edd-55bc8e499f3d",
   "metadata": {},
   "outputs": [
    {
     "data": {
      "text/plain": [
       "array([4018, 7531, 2256, 1764, 7771, 1294, 7433, 4930, 1049, 8500, 7073,\n",
       "       3594])"
      ]
     },
     "execution_count": 429,
     "metadata": {},
     "output_type": "execute_result"
    }
   ],
   "source": [
    "inds"
   ]
  },
  {
   "cell_type": "code",
   "execution_count": 461,
   "id": "820d8cd1-1c4d-4d40-ad74-0efceb85de3a",
   "metadata": {},
   "outputs": [
    {
     "data": {
      "text/plain": [
       "<matplotlib.collections.PathCollection at 0x1e992326ee0>"
      ]
     },
     "execution_count": 461,
     "metadata": {},
     "output_type": "execute_result"
    },
    {
     "data": {
      "image/png": "[encoded data removed]",
      "text/plain": [
       "<Figure size 432x288 with 1 Axes>"
      ]
     },
     "metadata": {
      "needs_background": "light"
     },
     "output_type": "display_data"
    }
   ],
   "source": [
    "plt.scatter(np.arange(0,len(inds)),inds)"
   ]
  },
  {
   "cell_type": "code",
   "execution_count": 460,
   "id": "bb6b8246-4ebd-470b-a14c-c790c8d87809",
   "metadata": {},
   "outputs": [
    {
     "data": {
      "text/plain": [
       "<matplotlib.collections.PathCollection at 0x1e990844f40>"
      ]
     },
     "execution_count": 460,
     "metadata": {},
     "output_type": "execute_result"
    },
    {
     "data": {
      "image/png": "[encoded data removed]",
      "text/plain": [
       "<Figure size 432x288 with 1 Axes>"
      ]
     },
     "metadata": {
      "needs_background": "light"
     },
     "output_type": "display_data"
    }
   ],
   "source": [
    "plt.scatter(np.arange(0,len(Idxs)),Idxs)"
   ]
  },
  {
   "cell_type": "code",
   "execution_count": 436,
   "id": "293035fc-749b-40da-8966-46bee1138d28",
   "metadata": {},
   "outputs": [
    {
     "data": {
      "text/plain": [
       "8568"
      ]
     },
     "execution_count": 436,
     "metadata": {},
     "output_type": "execute_result"
    }
   ],
   "source": [
    "np.size(pos_list_SO, 0)"
   ]
  },
  {
   "cell_type": "code",
   "execution_count": 437,
   "id": "d79adff9-8af8-4e12-8abe-dea96907458c",
   "metadata": {},
   "outputs": [
    {
     "data": {
      "text/plain": [
       "8568"
      ]
     },
     "execution_count": 437,
     "metadata": {},
     "output_type": "execute_result"
    }
   ],
   "source": [
    "pos_list_SO.shape[0]"
   ]
  },
  {
   "cell_type": "code",
   "execution_count": 462,
   "id": "d40904c1-eba3-428f-90a8-3d06e9a0de03",
   "metadata": {},
   "outputs": [],
   "source": []
  },
  {
   "cell_type": "code",
   "execution_count": 467,
   "id": "5b266c10-937f-4909-a26c-72b9ad40bfd4",
   "metadata": {},
   "outputs": [],
   "source": [
    "rng = np.random.default_rng(999)\n",
    "Idxs = rng.choice(np.arange(0, pos_list_SO.shape[0]), numAAC_inSO, replace=False)"
   ]
  },
  {
   "cell_type": "code",
   "execution_count": 455,
   "id": "1b51a43a-5f34-412b-8322-695d18a52b3e",
   "metadata": {},
   "outputs": [],
   "source": [
    "inds = np.random.choice(np.arange(0, np.size(pos_list_SO, 0)), numAAC_inSO, replace=False)\n",
    "pos = pos_list_SO[inds, :]"
   ]
  },
  {
   "cell_type": "code",
   "execution_count": 468,
   "id": "927a182b-24cb-4ba3-8e65-c5428feb38be",
   "metadata": {},
   "outputs": [
    {
     "data": {
      "text/plain": [
       "array([1465, 1491, 1448, 6425, 6964, 1474,  878, 1548, 6109, 1317, 7727,\n",
       "       6665])"
      ]
     },
     "execution_count": 468,
     "metadata": {},
     "output_type": "execute_result"
    }
   ],
   "source": [
    "Idxs"
   ]
  },
  {
   "cell_type": "code",
   "execution_count": 457,
   "id": "f7c5f2e7-bdce-40c4-a951-65b51a7b56ae",
   "metadata": {},
   "outputs": [
    {
     "data": {
      "text/plain": [
       "array([8190, 5169,  919, 3644, 7372, 3808, 3216, 8096, 3523, 2994, 8429,\n",
       "       5927])"
      ]
     },
     "execution_count": 457,
     "metadata": {},
     "output_type": "execute_result"
    }
   ],
   "source": [
    "inds"
   ]
  },
  {
   "cell_type": "code",
   "execution_count": 458,
   "id": "4a9f6aa3-fd2f-4893-ae1b-02d3d9324532",
   "metadata": {},
   "outputs": [
    {
     "data": {
      "text/plain": [
       "2366.396385681542"
      ]
     },
     "execution_count": 458,
     "metadata": {},
     "output_type": "execute_result"
    }
   ],
   "source": [
    "np.std(inds)"
   ]
  },
  {
   "cell_type": "code",
   "execution_count": 459,
   "id": "ea62fce0-95df-454d-bfd7-f9e2d26b8a08",
   "metadata": {},
   "outputs": [
    {
     "data": {
      "text/plain": [
       "2805.8984140061493"
      ]
     },
     "execution_count": 459,
     "metadata": {},
     "output_type": "execute_result"
    }
   ],
   "source": [
    "np.std(Idxs)"
   ]
  },
  {
   "cell_type": "code",
   "execution_count": 387,
   "id": "f80c9c0b-adef-4daa-82f5-b4689c5090b9",
   "metadata": {},
   "outputs": [],
   "source": [
    "gParams = np.array([0,0,320,400,1000,450])\n",
    "def make_layer_grid(xstart,ystart,zstart,x_length,y_length,z_length,min_dist):\n",
    "    x_grid = np.arange(xstart, x_length+min_dist, min_dist)\n",
    "    y_grid = np.arange(ystart, y_length+min_dist, min_dist)\n",
    "    z_grid = np.arange(zstart, z_length+min_dist, min_dist)\n",
    "    xx, yy, zz = np.meshgrid(x_grid, y_grid, z_grid)\n",
    "    return np.vstack([xx.ravel(), yy.ravel(), zz.ravel()]).T\n",
    "    "
   ]
  },
  {
   "cell_type": "code",
   "execution_count": 389,
   "id": "7dd7f134-9dde-4bea-b61f-53d2433ab9c4",
   "metadata": {},
   "outputs": [],
   "source": [
    "pos_list_SO_test = make_layer_grid(0,0,320,400,1000,450,20)"
   ]
  },
  {
   "cell_type": "code",
   "execution_count": 8,
   "id": "036a781e-86d5-4f4a-8604-817c50d87800",
   "metadata": {},
   "outputs": [],
   "source": [
    "import h5py\n",
    "import os\n",
    "import matplotlib.pyplot as plt\n",
    "import numpy as np\n",
    "import pandas as pd\n"
   ]
  },
  {
   "cell_type": "code",
   "execution_count": 9,
   "id": "531bd35a-c31e-455b-9197-1a737b4e4b70",
   "metadata": {},
   "outputs": [],
   "source": [
    "import os, sys\n",
    "from bmtk.simulator import bionet\n",
    "import numpy as np\n",
    "import synapses\n",
    "import warnings\n",
    "from bmtk.simulator.core import simulation_config\n",
    "from bmtk.simulator.bionet.pyfunction_cache import add_weight_function"
   ]
  },
  {
   "cell_type": "code",
   "execution_count": 10,
   "id": "6e62d2cb-567c-434e-a0d3-ba1f022b7a18",
   "metadata": {},
   "outputs": [],
   "source": [
    "def gaussianBL(edge_props, source, target):\n",
    "    w0 = edge_props[\"syn_weight\"]\n",
    "    sigma = edge_props[\"weight_sigma\"]\n",
    "    return np.random.normal(w0, sigma, 1)\n",
    "\n",
    "def lognormal(edge_props, source, target):\n",
    "    m = edge_props[\"syn_weight\"]\n",
    "    s = edge_props[\"weight_sigma\"]\n",
    "    mean = np.log(m) - 0.5 * np.log((s / m) ** 2 + 1)\n",
    "    std = np.sqrt(np.log((s / m) ** 2 + 1))\n",
    "    return np.random.lognormal(mean, std, 1)"
   ]
  },
  {
   "cell_type": "code",
   "execution_count": 11,
   "id": "39d950de-a927-4db6-88b8-eb21ad388b44",
   "metadata": {},
   "outputs": [],
   "source": [
    "synapses.load()"
   ]
  },
  {
   "cell_type": "code",
   "execution_count": 12,
   "id": "6654254b-7345-4438-902c-65bea507fc87",
   "metadata": {},
   "outputs": [],
   "source": [
    "add_weight_function(lognormal)\n",
    "add_weight_function(gaussianBL)"
   ]
  },
  {
   "cell_type": "code",
   "execution_count": 13,
   "id": "5d1fb811-9cef-4c24-bf2c-714537eb200b",
   "metadata": {},
   "outputs": [],
   "source": [
    "conf = bionet.Config.from_json('simulation_configLFP.json')"
   ]
  },
  {
   "cell_type": "code",
   "execution_count": 14,
   "id": "d835c800-51a3-4529-9e12-98d769bdf97e",
   "metadata": {},
   "outputs": [
    {
     "name": "stdout",
     "output_type": "stream",
     "text": [
      "2022-06-09 14:34:28,707 [INFO] Created log file\n"
     ]
    }
   ],
   "source": [
    "conf.build_env()"
   ]
  },
  {
   "cell_type": "code",
   "execution_count": 19,
   "id": "5713e114-0f64-4b1b-a33d-ce34355720bb",
   "metadata": {},
   "outputs": [],
   "source": [
    "graph = bionet.BioNetwork.from_config(conf)"
   ]
  },
  {
   "cell_type": "code",
   "execution_count": 22,
   "id": "266cc40e-3a95-47d9-86b6-beaf2667b7f9",
   "metadata": {},
   "outputs": [],
   "source": [
    "from bmtk.builder.networks import NetworkBuilder"
   ]
  },
  {
   "cell_type": "code",
   "execution_count": 23,
   "id": "2250761e-2cbe-4f74-8113-7025598175ab",
   "metadata": {},
   "outputs": [],
   "source": [
    "bgpn = NetworkBuilder('bgpn')\n",
    "bgpn.add_nodes(\n",
    "    N=10,\n",
    "    pop_name='bgpn',\n",
    "    potential='exc',\n",
    "    model_type='virtual'\n",
    ")"
   ]
  },
  {
   "cell_type": "code",
   "execution_count": 27,
   "id": "267c640c-96a7-41be-a707-24ea4753aca9",
   "metadata": {},
   "outputs": [
    {
     "name": "stdout",
     "output_type": "stream",
     "text": [
      "['biophysical']\n"
     ]
    }
   ],
   "source": [
    "print(graph.get_node_set('all').population_names())"
   ]
  },
  {
   "cell_type": "code",
   "execution_count": 9,
   "id": "b7a40cfe-9e59-4efb-95eb-1cb4e1d1b317",
   "metadata": {},
   "outputs": [],
   "source": [
    "pop = graph._node_populations['biophysical']\n",
    "for node in pop.get_nodes():\n",
    "    node._node._node_type_props['morphology'] = node.model_template[1]\n"
   ]
  },
  {
   "cell_type": "code",
   "execution_count": 10,
   "id": "f1b28955-e855-4dbb-8139-b07889367b68",
   "metadata": {},
   "outputs": [],
   "source": [
    "cells = graph.get_local_cells()\n",
    "for cell in cells:\n",
    "    cells[cell].hobj.insert_mechs(cells[cell].gid)\n",
    "    pass"
   ]
  },
  {
   "cell_type": "code",
   "execution_count": 11,
   "id": "b6cd4614-848f-47cf-8325-02069f6feb7c",
   "metadata": {},
   "outputs": [
    {
     "name": "stdout",
     "output_type": "stream",
     "text": [
      "2022-06-09 14:23:15,434 [INFO] Building cells.\n",
      "2022-06-09 14:23:15,722 [INFO] Building recurrent connections\n",
      "2022-06-09 14:23:15,801 [INFO] Building virtual cell stimulations for bgpn\n"
     ]
    }
   ],
   "source": [
    "sim = bionet.BioSimulator.from_config(conf, network=graph)"
   ]
  },
  {
   "cell_type": "code",
   "execution_count": null,
   "id": "cbd59aba-0d96-4e90-bf4c-db1ad250696d",
   "metadata": {},
   "outputs": [],
   "source": [
    "cortex.add_nodes(\n",
    "    cell_name='Scnn1a_473845048',\n",
    "    potental='exc',\n",
    "    model_type='biophysical',\n",
    "    model_template='ctdb:Biophys1.hoc',\n",
    "    model_processing='aibs_perisomatic',\n",
    "    dynamics_params='472363762_fit.json',\n",
    "    morphology='Scnn1a_473845048_m.swc'\n",
    ")"
   ]
  },
  {
   "cell_type": "code",
   "execution_count": null,
   "id": "75d8ce13-1958-4877-a432-7b1b94cb6ef4",
   "metadata": {},
   "outputs": [],
   "source": [
    "thalamus.add_nodes(\n",
    "    N=100,\n",
    "    pop_name='tON',\n",
    "    potential='exc',\n",
    "    model_type='virtual'\n",
    ")"
   ]
  },
  {
   "cell_type": "code",
   "execution_count": 31,
   "id": "3bfd8142-73d4-47a4-806a-855dab402773",
   "metadata": {},
   "outputs": [
    {
     "ename": "AttributeError",
     "evalue": "'DataFrame' object has no attribute 'name'",
     "output_type": "error",
     "traceback": [
      "\u001b[1;31m---------------------------------------------------------------------------\u001b[0m",
      "\u001b[1;31mAttributeError\u001b[0m                            Traceback (most recent call last)",
      "Input \u001b[1;32mIn [31]\u001b[0m, in \u001b[0;36m<cell line: 1>\u001b[1;34m()\u001b[0m\n\u001b[1;32m----> 1\u001b[0m \u001b[43mgraph\u001b[49m\u001b[38;5;241;43m.\u001b[39;49m\u001b[43madd_nodes\u001b[49m\u001b[43m(\u001b[49m\u001b[43mtst\u001b[49m\u001b[43m)\u001b[49m\n",
      "File \u001b[1;32m~\\source\\repos\\CA1_model\\CA1_model_env\\lib\\site-packages\\bmtk\\simulator\\bionet\\bionetwork.py:132\u001b[0m, in \u001b[0;36mBioNetwork.add_nodes\u001b[1;34m(self, node_population)\u001b[0m\n\u001b[0;32m    131\u001b[0m \u001b[38;5;28;01mdef\u001b[39;00m \u001b[38;5;21madd_nodes\u001b[39m(\u001b[38;5;28mself\u001b[39m, node_population):\n\u001b[1;32m--> 132\u001b[0m     \u001b[38;5;28mself\u001b[39m\u001b[38;5;241m.\u001b[39m_gid_pool\u001b[38;5;241m.\u001b[39madd_pool(\u001b[43mnode_population\u001b[49m\u001b[38;5;241;43m.\u001b[39;49m\u001b[43mname\u001b[49m, node_population\u001b[38;5;241m.\u001b[39mn_nodes())\n\u001b[0;32m    133\u001b[0m     \u001b[38;5;28msuper\u001b[39m(BioNetwork, \u001b[38;5;28mself\u001b[39m)\u001b[38;5;241m.\u001b[39madd_nodes(node_population)\n",
      "File \u001b[1;32m~\\source\\repos\\CA1_model\\CA1_model_env\\lib\\site-packages\\pandas\\core\\generic.py:5575\u001b[0m, in \u001b[0;36mNDFrame.__getattr__\u001b[1;34m(self, name)\u001b[0m\n\u001b[0;32m   5568\u001b[0m \u001b[38;5;28;01mif\u001b[39;00m (\n\u001b[0;32m   5569\u001b[0m     name \u001b[38;5;129;01mnot\u001b[39;00m \u001b[38;5;129;01min\u001b[39;00m \u001b[38;5;28mself\u001b[39m\u001b[38;5;241m.\u001b[39m_internal_names_set\n\u001b[0;32m   5570\u001b[0m     \u001b[38;5;129;01mand\u001b[39;00m name \u001b[38;5;129;01mnot\u001b[39;00m \u001b[38;5;129;01min\u001b[39;00m \u001b[38;5;28mself\u001b[39m\u001b[38;5;241m.\u001b[39m_metadata\n\u001b[0;32m   5571\u001b[0m     \u001b[38;5;129;01mand\u001b[39;00m name \u001b[38;5;129;01mnot\u001b[39;00m \u001b[38;5;129;01min\u001b[39;00m \u001b[38;5;28mself\u001b[39m\u001b[38;5;241m.\u001b[39m_accessors\n\u001b[0;32m   5572\u001b[0m     \u001b[38;5;129;01mand\u001b[39;00m \u001b[38;5;28mself\u001b[39m\u001b[38;5;241m.\u001b[39m_info_axis\u001b[38;5;241m.\u001b[39m_can_hold_identifiers_and_holds_name(name)\n\u001b[0;32m   5573\u001b[0m ):\n\u001b[0;32m   5574\u001b[0m     \u001b[38;5;28;01mreturn\u001b[39;00m \u001b[38;5;28mself\u001b[39m[name]\n\u001b[1;32m-> 5575\u001b[0m \u001b[38;5;28;01mreturn\u001b[39;00m \u001b[38;5;28;43mobject\u001b[39;49m\u001b[38;5;241;43m.\u001b[39;49m\u001b[38;5;21;43m__getattribute__\u001b[39;49m\u001b[43m(\u001b[49m\u001b[38;5;28;43mself\u001b[39;49m\u001b[43m,\u001b[49m\u001b[43m \u001b[49m\u001b[43mname\u001b[49m\u001b[43m)\u001b[49m\n",
      "\u001b[1;31mAttributeError\u001b[0m: 'DataFrame' object has no attribute 'name'"
     ]
    }
   ],
   "source": [
    "graph.add_nodes(tst)"
   ]
  },
  {
   "cell_type": "code",
   "execution_count": 20,
   "id": "2d66b838-5bc6-4361-a511-61a9083f3559",
   "metadata": {},
   "outputs": [
    {
     "data": {
      "text/plain": [
       "['__class__',\n",
       " '__delattr__',\n",
       " '__dict__',\n",
       " '__dir__',\n",
       " '__doc__',\n",
       " '__eq__',\n",
       " '__format__',\n",
       " '__ge__',\n",
       " '__getattribute__',\n",
       " '__gt__',\n",
       " '__hash__',\n",
       " '__init__',\n",
       " '__init_subclass__',\n",
       " '__le__',\n",
       " '__lt__',\n",
       " '__module__',\n",
       " '__ne__',\n",
       " '__new__',\n",
       " '__reduce__',\n",
       " '__reduce_ex__',\n",
       " '__repr__',\n",
       " '__setattr__',\n",
       " '__sizeof__',\n",
       " '__str__',\n",
       " '__subclasshook__',\n",
       " '__weakref__',\n",
       " '_build_cell',\n",
       " '_cells_built',\n",
       " '_components',\n",
       " '_connections_initialized',\n",
       " '_edge_adaptors',\n",
       " '_edge_populations',\n",
       " '_gap_juncs',\n",
       " '_gid_pool',\n",
       " '_init_connections',\n",
       " '_io',\n",
       " '_model_type_map',\n",
       " '_morphologies_cache',\n",
       " '_morphology_lookup',\n",
       " '_node_adaptors',\n",
       " '_node_populations',\n",
       " '_node_sets',\n",
       " '_rank_node_gids',\n",
       " '_rank_node_ids',\n",
       " '_rank_nodes_by_model',\n",
       " '_register_adaptors',\n",
       " '_remote_node_cache',\n",
       " '_virtual_nodes',\n",
       " 'add_component',\n",
       " 'add_edges',\n",
       " 'add_node_set',\n",
       " 'add_nodes',\n",
       " 'add_spike_trains',\n",
       " 'build',\n",
       " 'build_nodes',\n",
       " 'build_recurrent_edges',\n",
       " 'build_virtual_connections',\n",
       " 'calc_seg_coords',\n",
       " 'cell_type_maps',\n",
       " 'dL',\n",
       " 'find_edges',\n",
       " 'from_builder',\n",
       " 'from_config',\n",
       " 'from_manifest',\n",
       " 'get_cell_gid',\n",
       " 'get_cell_node_id',\n",
       " 'get_component',\n",
       " 'get_edge_adaptor',\n",
       " 'get_gj_id',\n",
       " 'get_local_cells',\n",
       " 'get_node_adaptor',\n",
       " 'get_node_groups',\n",
       " 'get_node_id',\n",
       " 'get_node_population',\n",
       " 'get_node_populations',\n",
       " 'get_node_set',\n",
       " 'get_node_sets',\n",
       " 'get_virtual_cells',\n",
       " 'gid_pool',\n",
       " 'has_component',\n",
       " 'has_spont_syns',\n",
       " 'io',\n",
       " 'load_gap_junc_files',\n",
       " 'local_gids',\n",
       " 'make_morphologies',\n",
       " 'model_type_col',\n",
       " 'node_populations',\n",
       " 'node_properties',\n",
       " 'py_function_caches',\n",
       " 'recurrent_edges',\n",
       " 'set_seg_props',\n",
       " 'set_spont_syn_activity',\n",
       " 'spike_threshold',\n",
       " 'spont_syns_filter',\n",
       " 'spont_syns_times']"
      ]
     },
     "execution_count": 20,
     "metadata": {},
     "output_type": "execute_result"
    }
   ],
   "source": [
    "dir(graph)"
   ]
  },
  {
   "cell_type": "code",
   "execution_count": 20,
   "id": "f7cd3a4d-aec2-4d30-be18-eb0040cc9366",
   "metadata": {},
   "outputs": [
    {
     "data": {
      "text/plain": [
       "{}"
      ]
     },
     "execution_count": 20,
     "metadata": {},
     "output_type": "execute_result"
    }
   ],
   "source": [
    "graph._virtual_nodes"
   ]
  },
  {
   "cell_type": "code",
   "execution_count": 19,
   "id": "86903b58-bc85-4c45-b58f-686f80b47e7e",
   "metadata": {},
   "outputs": [
    {
     "data": {
      "text/plain": [
       "['__class__',\n",
       " '__delattr__',\n",
       " '__dict__',\n",
       " '__dir__',\n",
       " '__doc__',\n",
       " '__eq__',\n",
       " '__format__',\n",
       " '__ge__',\n",
       " '__getattribute__',\n",
       " '__gt__',\n",
       " '__hash__',\n",
       " '__init__',\n",
       " '__init_subclass__',\n",
       " '__le__',\n",
       " '__lt__',\n",
       " '__module__',\n",
       " '__ne__',\n",
       " '__new__',\n",
       " '__reduce__',\n",
       " '__reduce_ex__',\n",
       " '__repr__',\n",
       " '__setattr__',\n",
       " '__sizeof__',\n",
       " '__str__',\n",
       " '__subclasshook__',\n",
       " '__weakref__',\n",
       " '_build_cell',\n",
       " '_cells_built',\n",
       " '_components',\n",
       " '_connections_initialized',\n",
       " '_edge_adaptors',\n",
       " '_edge_populations',\n",
       " '_gap_juncs',\n",
       " '_gid_pool',\n",
       " '_init_connections',\n",
       " '_io',\n",
       " '_model_type_map',\n",
       " '_morphologies_cache',\n",
       " '_morphology_lookup',\n",
       " '_node_adaptors',\n",
       " '_node_populations',\n",
       " '_node_sets',\n",
       " '_rank_node_gids',\n",
       " '_rank_node_ids',\n",
       " '_rank_nodes_by_model',\n",
       " '_register_adaptors',\n",
       " '_remote_node_cache',\n",
       " '_virtual_nodes',\n",
       " 'add_component',\n",
       " 'add_edges',\n",
       " 'add_node_set',\n",
       " 'add_nodes',\n",
       " 'add_spike_trains',\n",
       " 'build',\n",
       " 'build_nodes',\n",
       " 'build_recurrent_edges',\n",
       " 'build_virtual_connections',\n",
       " 'calc_seg_coords',\n",
       " 'cell_type_maps',\n",
       " 'dL',\n",
       " 'find_edges',\n",
       " 'from_builder',\n",
       " 'from_config',\n",
       " 'from_manifest',\n",
       " 'get_cell_gid',\n",
       " 'get_cell_node_id',\n",
       " 'get_component',\n",
       " 'get_edge_adaptor',\n",
       " 'get_gj_id',\n",
       " 'get_local_cells',\n",
       " 'get_node_adaptor',\n",
       " 'get_node_groups',\n",
       " 'get_node_id',\n",
       " 'get_node_population',\n",
       " 'get_node_populations',\n",
       " 'get_node_set',\n",
       " 'get_node_sets',\n",
       " 'get_virtual_cells',\n",
       " 'gid_pool',\n",
       " 'has_component',\n",
       " 'has_spont_syns',\n",
       " 'io',\n",
       " 'load_gap_junc_files',\n",
       " 'local_gids',\n",
       " 'make_morphologies',\n",
       " 'model_type_col',\n",
       " 'node_populations',\n",
       " 'node_properties',\n",
       " 'py_function_caches',\n",
       " 'recurrent_edges',\n",
       " 'set_seg_props',\n",
       " 'set_spont_syn_activity',\n",
       " 'spike_threshold',\n",
       " 'spont_syns_filter',\n",
       " 'spont_syns_times']"
      ]
     },
     "execution_count": 19,
     "metadata": {},
     "output_type": "execute_result"
    }
   ],
   "source": [
    "dir(graph)"
   ]
  },
  {
   "cell_type": "code",
   "execution_count": 12,
   "id": "f4627b31-9af0-4045-a930-f2273b2d916b",
   "metadata": {},
   "outputs": [
    {
     "data": {
      "text/plain": [
       "['_BioSimulator__elapsed_time',\n",
       " '_BioSimulator__tstep_end_block',\n",
       " '_BioSimulator__tstep_start_block',\n",
       " '__class__',\n",
       " '__delattr__',\n",
       " '__dict__',\n",
       " '__dir__',\n",
       " '__doc__',\n",
       " '__eq__',\n",
       " '__format__',\n",
       " '__ge__',\n",
       " '__getattribute__',\n",
       " '__gt__',\n",
       " '__hash__',\n",
       " '__init__',\n",
       " '__init_subclass__',\n",
       " '__le__',\n",
       " '__lt__',\n",
       " '__module__',\n",
       " '__ne__',\n",
       " '__new__',\n",
       " '__reduce__',\n",
       " '__reduce_ex__',\n",
       " '__repr__',\n",
       " '__setattr__',\n",
       " '__sizeof__',\n",
       " '__str__',\n",
       " '__subclasshook__',\n",
       " '__weakref__',\n",
       " '_cell_variables',\n",
       " '_cell_vars_dir',\n",
       " '_celsius',\n",
       " '_f_iclamps',\n",
       " '_h',\n",
       " '_iclamps',\n",
       " '_log_file',\n",
       " '_nsteps_block',\n",
       " '_output_dir',\n",
       " '_seclamps',\n",
       " '_set_init_conditions',\n",
       " '_sim_mods',\n",
       " '_spikes',\n",
       " '_start_from_state',\n",
       " '_v_init',\n",
       " 'add_mod',\n",
       " 'attach_current_clamp',\n",
       " 'attach_file_current_clamp',\n",
       " 'attach_se_voltage_clamp',\n",
       " 'biophysical_gids',\n",
       " 'cell_var_output',\n",
       " 'cell_variables',\n",
       " 'celsius',\n",
       " 'dt',\n",
       " 'from_config',\n",
       " 'h',\n",
       " 'local_gids',\n",
       " 'n_steps',\n",
       " 'net',\n",
       " 'nsteps',\n",
       " 'nsteps_block',\n",
       " 'post_fadvance',\n",
       " 'report_load_balance',\n",
       " 'run',\n",
       " 'set_spikes_recording',\n",
       " 'simulation_time',\n",
       " 'spikes_table',\n",
       " 'tstart',\n",
       " 'tstep',\n",
       " 'tstep_start_block',\n",
       " 'tstop',\n",
       " 'v_init']"
      ]
     },
     "execution_count": 12,
     "metadata": {},
     "output_type": "execute_result"
    }
   ],
   "source": [
    "dir(sim)"
   ]
  },
  {
   "cell_type": "code",
   "execution_count": 122,
   "id": "682c8140-7d64-403d-8d8d-9eeb36b81030",
   "metadata": {},
   "outputs": [
    {
     "name": "stdout",
     "output_type": "stream",
     "text": [
      "2022-06-09 13:34:27,797 [INFO] Running simulation for 300.000 ms with the time step 0.100 ms\n",
      "2022-06-09 13:34:27,798 [INFO] Starting timestep: 0 at t_sim: 0.000 ms\n",
      "2022-06-09 13:34:27,799 [INFO] Block save every 3000 steps\n"
     ]
    },
    {
     "ename": "ValueError",
     "evalue": "shapes (13,89) and (34,) not aligned: 89 (dim 1) != 34 (dim 0)",
     "output_type": "error",
     "traceback": [
      "\u001b[1;31m---------------------------------------------------------------------------\u001b[0m",
      "\u001b[1;31mValueError\u001b[0m                                Traceback (most recent call last)",
      "File \u001b[1;32m~\\source\\repos\\CA1_model\\CA1_model_env\\lib\\site-packages\\bmtk\\simulator\\bionet\\biosimulator.py:372\u001b[0m, in \u001b[0;36mBioSimulator.post_fadvance\u001b[1;34m(self)\u001b[0m\n\u001b[0;32m    366\u001b[0m \u001b[38;5;124;03m\"\"\"\u001b[39;00m\n\u001b[0;32m    367\u001b[0m \u001b[38;5;124;03mRuns after every execution of fadvance (see advance.hoc)\u001b[39;00m\n\u001b[0;32m    368\u001b[0m \u001b[38;5;124;03mCalled after every time step to perform computation and save data to memory block or to disk.\u001b[39;00m\n\u001b[0;32m    369\u001b[0m \u001b[38;5;124;03mThe initial condition tstep=0 is not being saved \u001b[39;00m\n\u001b[0;32m    370\u001b[0m \u001b[38;5;124;03m\"\"\"\u001b[39;00m\n\u001b[0;32m    371\u001b[0m \u001b[38;5;28;01mfor\u001b[39;00m mod \u001b[38;5;129;01min\u001b[39;00m \u001b[38;5;28mself\u001b[39m\u001b[38;5;241m.\u001b[39m_sim_mods:\n\u001b[1;32m--> 372\u001b[0m     \u001b[43mmod\u001b[49m\u001b[38;5;241;43m.\u001b[39;49m\u001b[43mstep\u001b[49m\u001b[43m(\u001b[49m\u001b[38;5;28;43mself\u001b[39;49m\u001b[43m,\u001b[49m\u001b[43m \u001b[49m\u001b[38;5;28;43mself\u001b[39;49m\u001b[38;5;241;43m.\u001b[39;49m\u001b[43mtstep\u001b[49m\u001b[43m)\u001b[49m\n\u001b[0;32m    374\u001b[0m \u001b[38;5;28mself\u001b[39m\u001b[38;5;241m.\u001b[39mtstep \u001b[38;5;241m+\u001b[39m\u001b[38;5;241m=\u001b[39m \u001b[38;5;241m1\u001b[39m\n\u001b[0;32m    376\u001b[0m \u001b[38;5;28;01mif\u001b[39;00m (\u001b[38;5;28mself\u001b[39m\u001b[38;5;241m.\u001b[39mtstep \u001b[38;5;241m%\u001b[39m \u001b[38;5;28mself\u001b[39m\u001b[38;5;241m.\u001b[39mnsteps_block \u001b[38;5;241m==\u001b[39m \u001b[38;5;241m0\u001b[39m) \u001b[38;5;129;01mor\u001b[39;00m \u001b[38;5;28mself\u001b[39m\u001b[38;5;241m.\u001b[39mtstep \u001b[38;5;241m==\u001b[39m \u001b[38;5;28mself\u001b[39m\u001b[38;5;241m.\u001b[39mnsteps:\n",
      "File \u001b[1;32m~\\source\\repos\\CA1_model\\CA1_model_env\\lib\\site-packages\\bmtk\\simulator\\bionet\\modules\\ecp.py:208\u001b[0m, in \u001b[0;36mEcpMod.step\u001b[1;34m(self, sim, tstep)\u001b[0m\n\u001b[0;32m    206\u001b[0m im \u001b[38;5;241m=\u001b[39m cell\u001b[38;5;241m.\u001b[39mget_im()\n\u001b[0;32m    207\u001b[0m tr \u001b[38;5;241m=\u001b[39m \u001b[38;5;28mself\u001b[39m\u001b[38;5;241m.\u001b[39m_rel\u001b[38;5;241m.\u001b[39mget_transfer_resistance(gid)\n\u001b[1;32m--> 208\u001b[0m ecp \u001b[38;5;241m=\u001b[39m \u001b[43mnp\u001b[49m\u001b[38;5;241;43m.\u001b[39;49m\u001b[43mdot\u001b[49m\u001b[43m(\u001b[49m\u001b[43mtr\u001b[49m\u001b[43m,\u001b[49m\u001b[43m \u001b[49m\u001b[43mim\u001b[49m\u001b[43m)\u001b[49m\n\u001b[0;32m    210\u001b[0m \u001b[38;5;28;01mif\u001b[39;00m gid \u001b[38;5;129;01min\u001b[39;00m \u001b[38;5;28mself\u001b[39m\u001b[38;5;241m.\u001b[39m_saved_gids\u001b[38;5;241m.\u001b[39mkeys():\n\u001b[0;32m    211\u001b[0m     \u001b[38;5;66;03m# save individual contribution\u001b[39;00m\n\u001b[0;32m    212\u001b[0m     \u001b[38;5;28mself\u001b[39m\u001b[38;5;241m.\u001b[39m_saved_gids[gid][\u001b[38;5;28mself\u001b[39m\u001b[38;5;241m.\u001b[39m_block_step, :] \u001b[38;5;241m=\u001b[39m ecp\n",
      "File \u001b[1;32m<__array_function__ internals>:180\u001b[0m, in \u001b[0;36mdot\u001b[1;34m(*args, **kwargs)\u001b[0m\n",
      "\u001b[1;31mValueError\u001b[0m: shapes (13,89) and (34,) not aligned: 89 (dim 1) != 34 (dim 0)"
     ]
    },
    {
     "name": "stderr",
     "output_type": "stream",
     "text": [
      "NEURON: PyObject method call failed: post_fadvance\n",
      " near line 0\n",
      " ^\n",
      "        advance()\n",
      "      step()\n",
      "    continuerun(300)\n",
      "  run(300)\n"
     ]
    },
    {
     "ename": "RuntimeError",
     "evalue": "hoc error",
     "output_type": "error",
     "traceback": [
      "\u001b[1;31m---------------------------------------------------------------------------\u001b[0m",
      "\u001b[1;31mRuntimeError\u001b[0m                              Traceback (most recent call last)",
      "Input \u001b[1;32mIn [122]\u001b[0m, in \u001b[0;36m<cell line: 1>\u001b[1;34m()\u001b[0m\n\u001b[1;32m----> 1\u001b[0m \u001b[43msim\u001b[49m\u001b[38;5;241;43m.\u001b[39;49m\u001b[43mrun\u001b[49m\u001b[43m(\u001b[49m\u001b[43m)\u001b[49m\n",
      "File \u001b[1;32m~\\source\\repos\\CA1_model\\CA1_model_env\\lib\\site-packages\\bmtk\\simulator\\bionet\\biosimulator.py:343\u001b[0m, in \u001b[0;36mBioSimulator.run\u001b[1;34m(self)\u001b[0m\n\u001b[0;32m    341\u001b[0m     h\u001b[38;5;241m.\u001b[39mcontinuerun(h\u001b[38;5;241m.\u001b[39mtstop)\n\u001b[0;32m    342\u001b[0m \u001b[38;5;28;01melse\u001b[39;00m:\n\u001b[1;32m--> 343\u001b[0m     \u001b[43mh\u001b[49m\u001b[38;5;241;43m.\u001b[39;49m\u001b[43mrun\u001b[49m\u001b[43m(\u001b[49m\u001b[43mh\u001b[49m\u001b[38;5;241;43m.\u001b[39;49m\u001b[43mtstop\u001b[49m\u001b[43m)\u001b[49m        \u001b[38;5;66;03m# <- runs simuation: works in parallel\u001b[39;00m\n\u001b[0;32m    345\u001b[0m pc\u001b[38;5;241m.\u001b[39mbarrier()\n\u001b[0;32m    347\u001b[0m \u001b[38;5;28;01mfor\u001b[39;00m mod \u001b[38;5;129;01min\u001b[39;00m \u001b[38;5;28mself\u001b[39m\u001b[38;5;241m.\u001b[39m_sim_mods:\n",
      "\u001b[1;31mRuntimeError\u001b[0m: hoc error"
     ]
    }
   ],
   "source": [
    "sim.run()"
   ]
  },
  {
   "cell_type": "code",
   "execution_count": 14,
   "id": "00800cd8-3512-43fd-9ff9-c2fa1fd8461f",
   "metadata": {},
   "outputs": [
    {
     "data": {
      "text/plain": [
       "['_BioSimulator__elapsed_time',\n",
       " '_BioSimulator__tstep_end_block',\n",
       " '_BioSimulator__tstep_start_block',\n",
       " '__class__',\n",
       " '__delattr__',\n",
       " '__dict__',\n",
       " '__dir__',\n",
       " '__doc__',\n",
       " '__eq__',\n",
       " '__format__',\n",
       " '__ge__',\n",
       " '__getattribute__',\n",
       " '__gt__',\n",
       " '__hash__',\n",
       " '__init__',\n",
       " '__init_subclass__',\n",
       " '__le__',\n",
       " '__lt__',\n",
       " '__module__',\n",
       " '__ne__',\n",
       " '__new__',\n",
       " '__reduce__',\n",
       " '__reduce_ex__',\n",
       " '__repr__',\n",
       " '__setattr__',\n",
       " '__sizeof__',\n",
       " '__str__',\n",
       " '__subclasshook__',\n",
       " '__weakref__',\n",
       " '_cell_variables',\n",
       " '_cell_vars_dir',\n",
       " '_celsius',\n",
       " '_f_iclamps',\n",
       " '_h',\n",
       " '_iclamps',\n",
       " '_log_file',\n",
       " '_nsteps_block',\n",
       " '_output_dir',\n",
       " '_seclamps',\n",
       " '_set_init_conditions',\n",
       " '_sim_mods',\n",
       " '_spikes',\n",
       " '_start_from_state',\n",
       " '_v_init',\n",
       " 'add_mod',\n",
       " 'attach_current_clamp',\n",
       " 'attach_file_current_clamp',\n",
       " 'attach_se_voltage_clamp',\n",
       " 'biophysical_gids',\n",
       " 'cell_var_output',\n",
       " 'cell_variables',\n",
       " 'celsius',\n",
       " 'dt',\n",
       " 'from_config',\n",
       " 'h',\n",
       " 'local_gids',\n",
       " 'n_steps',\n",
       " 'net',\n",
       " 'nsteps',\n",
       " 'nsteps_block',\n",
       " 'post_fadvance',\n",
       " 'report_load_balance',\n",
       " 'run',\n",
       " 'set_spikes_recording',\n",
       " 'simulation_time',\n",
       " 'spikes_table',\n",
       " 'start_time',\n",
       " 'tstart',\n",
       " 'tstep',\n",
       " 'tstep_start_block',\n",
       " 'tstop',\n",
       " 'v_init']"
      ]
     },
     "execution_count": 14,
     "metadata": {},
     "output_type": "execute_result"
    }
   ],
   "source": [
    "dir(sim)"
   ]
  }
 ],
 "metadata": {
  "kernelspec": {
   "display_name": "Python 3",
   "language": "python",
   "name": "python3"
  },
  "language_info": {
   "codemirror_mode": {
    "name": "ipython",
    "version": 3
   },
   "file_extension": ".py",
   "mimetype": "text/x-python",
   "name": "python",
   "nbconvert_exporter": "python",
   "pygments_lexer": "ipython3",
   "version": "3.6.8"
  }
 },
 "nbformat": 4,
 "nbformat_minor": 5
}
