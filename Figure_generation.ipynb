{
 "cells": [
  {
   "cell_type": "code",
   "execution_count": 1,
   "id": "e40bbad5-be8a-42a4-a909-51b1f15112b0",
   "metadata": {},
   "outputs": [
    {
     "data": {
      "text/plain": [
       "['h.axoaxoniccell()', 'h.olmcell()', 'h.pvbasketcell()', 'h.pyramidalcell()']"
      ]
     },
     "execution_count": 1,
     "metadata": {},
     "output_type": "execute_result"
    }
   ],
   "source": [
    "import numpy as np\n",
    "from neuron import h\n",
    "import os\n",
    "import matplotlib.pyplot as plt\n",
    "import pandas as pd\n",
    "import json\n",
    "from scipy.signal import find_peaks\n",
    "import h5py\n",
    "#do not rerun\n",
    "h.load_file('stdrun.hoc')\n",
    "h.nrn_load_dll(os.path.join(\"biophys_components\",\"mechanisms\",\"modfiles\",\"x86_64\",\".libs\",\"libnrnmech.so\"))\n",
    "fileList = ['class_pyramidalcell.hoc','class_axoaxoniccell.hoc', 'class_pvbasketcell.hoc', 'class_olmcell.hoc']\n",
    "for item in fileList:\n",
    "    h.load_file(os.path.join(\"biophys_components\",\"templates\",item))\n",
    "callNames = [\"h.\" + fileList[i].split('_')[1].split('.')[0] + \"()\" for i in range(len(fileList))]\n",
    "callNames.sort()\n",
    "callNames"
   ]
  },
  {
   "cell_type": "code",
   "execution_count": 3,
   "id": "b7afd4c1-6a33-4104-920c-b4910dc2bfb6",
   "metadata": {},
   "outputs": [
    {
     "data": {
      "image/png": "[encoded data removed]",
      "text/plain": [
       "<Figure size 432x288 with 1 Axes>"
      ]
     },
     "metadata": {
      "needs_background": "light"
     },
     "output_type": "display_data"
    }
   ],
   "source": [
    "tstop = 500\n",
    "iclamp_amp = 0.6\n",
    "\n",
    "Cell1 = h.olmcell()\n",
    "\n",
    "iclamp = h.IClamp(Cell1.soma[0](0.5))\n",
    "iclamp.delay = 100\n",
    "iclamp.dur = 78\n",
    "iclamp.amp =iclamp_amp\n",
    "\n",
    "\n",
    "vCell1 = h.Vector().record(Cell1.soma[0](0.5)._ref_v)\n",
    "\n",
    "\n",
    "h.dt=0.1\n",
    "h.L = 20\n",
    "h.finitialize(-63)\n",
    "h.continuerun(tstop)\n",
    "\n",
    "vCell1 = np.array(vCell1)\n",
    "\n",
    "\n",
    "time = np.linspace(0,tstop,int(tstop/h.dt )+1)#+1 for some reason\n",
    "plt.plot(time,vCell1,label=str(Cell1).split('cell')[0])\n",
    "plt.legend()\n",
    "plt.show()"
   ]
  },
  {
   "cell_type": "code",
   "execution_count": 6,
   "id": "f749c63d-33e3-43be-aa13-cf2cc775677b",
   "metadata": {},
   "outputs": [
    {
     "ename": "NameError",
     "evalue": "name 'syn' is not defined",
     "output_type": "error",
     "traceback": [
      "\u001b[0;31m---------------------------------------------------------------------------\u001b[0m",
      "\u001b[0;31mNameError\u001b[0m                                 Traceback (most recent call last)",
      "\u001b[0;32m<ipython-input-6-7a782a760d33>\u001b[0m in \u001b[0;36m<module>\u001b[0;34m\u001b[0m\n\u001b[0;32m----> 1\u001b[0;31m \u001b[0mdir\u001b[0m\u001b[0;34m(\u001b[0m\u001b[0msyn\u001b[0m\u001b[0;34m)\u001b[0m\u001b[0;34m\u001b[0m\u001b[0;34m\u001b[0m\u001b[0m\n\u001b[0m",
      "\u001b[0;31mNameError\u001b[0m: name 'syn' is not defined"
     ]
    }
   ],
   "source": [
    "dir(syn)"
   ]
  },
  {
   "cell_type": "code",
   "execution_count": 5,
   "id": "e53daaeb-761b-4112-bfb1-489b48ab8e78",
   "metadata": {},
   "outputs": [
    {
     "name": "stdout",
     "output_type": "stream",
     "text": [
      "\n",
      "|-|       olmcell[0].soma[0](0-1)\n",
      "   `--|       olmcell[0].dend[0](0-1)\n",
      "   `--|       olmcell[0].dend[1](0-1)\n",
      " `--|       olmcell[0].axon[0](0-1)\n",
      "\n"
     ]
    },
    {
     "data": {
      "text/plain": [
       "1.0"
      ]
     },
     "execution_count": 5,
     "metadata": {},
     "output_type": "execute_result"
    }
   ],
   "source": [
    "h.topology(Cell1)"
   ]
  }
 ],
 "metadata": {
  "kernelspec": {
   "display_name": "Python 3",
   "language": "python",
   "name": "python3"
  },
  "language_info": {
   "codemirror_mode": {
    "name": "ipython",
    "version": 3
   },
   "file_extension": ".py",
   "mimetype": "text/x-python",
   "name": "python",
   "nbconvert_exporter": "python",
   "pygments_lexer": "ipython3",
   "version": "3.6.8"
  }
 },
 "nbformat": 4,
 "nbformat_minor": 5
}
